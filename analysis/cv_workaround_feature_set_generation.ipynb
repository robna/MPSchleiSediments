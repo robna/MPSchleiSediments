{
 "cells": [
  {
   "cell_type": "code",
   "execution_count": null,
   "metadata": {},
   "outputs": [],
   "source": [
    "%reload_ext autoreload\n",
    "%autoreload 2\n",
    "\n",
    "import pandas as pd\n",
    "import json\n",
    "from hashlib import md5\n",
    "import pickle\n",
    "\n",
    "import prepare_data\n",
    "from components import PCOA\n",
    "#from helpers import PipelineHelper, SMWrapper\n",
    "from settings import Config, shortnames, target, featurelist\n",
    "from cv import generate_feature_sets"
   ]
  },
  {
   "cell_type": "markdown",
   "metadata": {},
   "source": [
    "## Data preparation"
   ]
  },
  {
   "cell_type": "code",
   "execution_count": null,
   "metadata": {
    "pycharm": {
     "name": "#%% loading data\n"
    }
   },
   "outputs": [],
   "source": [
    "#%%capture\n",
    "# cell magic to supress output. Comment it out to see output of this cell.\n",
    "\n",
    "# What happened so far: DB extract and blank procedure. Now import resulting MP data from csv\n",
    "mp_pdd = prepare_data.get_pdd()\n",
    "\n",
    "# Also import sediment data (sediment frequencies per size bin from master sizer export)\n",
    "grainsize_iow, grainsize_cau = prepare_data.get_grainsizes()[0:2]\n",
    "scor_iow = PCOA(grainsize_iow, 2)[0]\n",
    "\n",
    "# ...some data wrangling to prepare particle domain data and sample domain data for MP and combine with certain sediment aggregates.\n",
    "sdd_iow = prepare_data.aggregate_SDD(mp_pdd)\n",
    "sdd_iow = prepare_data.additional_sdd_merging(sdd_iow, how='outer')\n",
    "sdd_iow = sdd_iow.merge(scor_iow, right_index=True, left_on='Sample', how='outer')\n",
    "sdd_iow = sdd_iow.replace({'Sample': shortnames}).sort_values(by='Sample')"
   ]
  },
  {
   "cell_type": "code",
   "execution_count": null,
   "metadata": {
    "tags": []
   },
   "outputs": [],
   "source": [
    "## Split data into samples used for building the model and samples used for predicting.\n",
    "\n",
    "model_data = sdd_iow.loc[~sdd_iow[target].isna()].set_index('Sample')\n",
    "model_X = model_data[featurelist]"
   ]
  },
  {
   "cell_type": "code",
   "execution_count": null,
   "metadata": {},
   "outputs": [],
   "source": [
    "# Workaround for creating long candidate lists faster...\n",
    "\n",
    "featurelist_simplified = [p for p in featurelist if 'WWTP' not in p] + ['WWTP']\n",
    "\n",
    "min_num, max_num = 5, 5\n",
    "feature_candidates_list_simpl = generate_feature_sets(featurelist_simplified, Config.mutual_exclusive, Config.exclusive_keywords, num_feat=(min_num, max_num), n_jobs=1, save=False)\n",
    "\n",
    "new_feature_candidates_list = [l for l in feature_candidates_list_simpl if 'WWTP' not in l]\n",
    "\n",
    "for i, lst in enumerate(feature_candidates_list_simpl):\n",
    "    if 'WWTP' in lst:\n",
    "        # print(i, lst)\n",
    "        for j, feat in enumerate(featurelist):\n",
    "            if 'WWTP' in feat:\n",
    "                lst = lst.copy()\n",
    "                lst[[idx for idx, s in enumerate(lst) if 'WWTP' in s][0]] = feat\n",
    "                new_feature_candidates_list.append(lst)\n",
    "                \n",
    "md5_tail = md5(json.dumps(featurelist, sort_keys=True).encode('utf-8')).hexdigest()[-5:]  # get the hash of featurelist\n",
    "with open(f'../data/exports/feature_candidates_list_min{min_num}_max{max_num}_HASH{md5_tail}.pkl', 'wb') as f:\n",
    "    pickle.dump(new_feature_candidates_list, f)"
   ]
  },
  {
   "cell_type": "code",
   "execution_count": null,
   "metadata": {},
   "outputs": [],
   "source": [
    "len(new_feature_candidates_list)"
   ]
  }
 ],
 "metadata": {
  "kernelspec": {
   "display_name": "MPSchleiSediments-EUESJ6vo",
   "language": "python",
   "name": "mpschleisediments-euesj6vo"
  },
  "language_info": {
   "codemirror_mode": {
    "name": "ipython",
    "version": 3
   },
   "file_extension": ".py",
   "mimetype": "text/x-python",
   "name": "python",
   "nbconvert_exporter": "python",
   "pygments_lexer": "ipython3",
   "version": "3.9.9"
  },
  "vscode": {
   "interpreter": {
    "hash": "9283b71a9fb260974dcb1b3d32e79d34b5da211280b6af559776f5f59ea44de2"
   }
  }
 },
 "nbformat": 4,
 "nbformat_minor": 4
}
