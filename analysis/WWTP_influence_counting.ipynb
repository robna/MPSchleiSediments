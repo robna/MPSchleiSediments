{
 "cells": [
  {
   "cell_type": "code",
   "execution_count": null,
   "metadata": {},
   "outputs": [],
   "source": [
    "import pandas as pd"
   ]
  },
  {
   "cell_type": "code",
   "execution_count": null,
   "metadata": {},
   "outputs": [],
   "source": [
    "# read the 8th column of csv file '/home/rob/ownCloud/microSCHLEI/model_results_pub.csv' and omit all empty rows\n",
    "df = pd.read_csv('/home/my/ownCloud/microSCHLEI/model_results_pub_test.csv', usecols=[7], skip_blank_lines=True, sep=';')\n",
    "df.dropna(inplace=True)\n",
    "df = df.loc[(df!='features').values]\n",
    "df.columns = ['features']"
   ]
  },
  {
   "cell_type": "code",
   "execution_count": null,
   "metadata": {},
   "outputs": [],
   "source": [
    "df['features'] = df['features'].str.replace('[', '')\n",
    "df['features'] = df['features'].str.replace(']', '')\n",
    "df['features'] = df['features'].str.replace(\"'\", '')\n",
    "df['features'] = df['features'].str.replace(' ', '')\n",
    "\n",
    "df['features'] = df['features'].str.split(',')\n",
    "df['features'] = df['features'].apply(lambda x: sorted(x, key=str.casefold))\n",
    "df['features'] = df['features'].apply(lambda x: ', '.join(x))"
   ]
  },
  {
   "cell_type": "code",
   "execution_count": null,
   "metadata": {},
   "outputs": [],
   "source": [
    "## Count unique feature combinations\n",
    "pd.set_option('max_colwidth', 100)\n",
    "df.groupby('features').size().reset_index(name='counts').sort_values(by='counts', ascending=False).head(60)"
   ]
  },
  {
   "cell_type": "code",
   "execution_count": null,
   "metadata": {},
   "outputs": [],
   "source": [
    "# split the feature column into single features\n",
    "df['features'].str.replace(' ', '').str.split(',', expand=True).stack().reset_index(level=1, drop=True).to_frame('features').groupby('features').size().reset_index(name='counts').sort_values(by='counts', ascending=False)"
   ]
  }
 ],
 "metadata": {
  "kernelspec": {
   "display_name": "MPSchleiSediments-EUESJ6vo",
   "language": "python",
   "name": "mpschleisediments-euesj6vo"
  },
  "language_info": {
   "codemirror_mode": {
    "name": "ipython",
    "version": 3
   },
   "file_extension": ".py",
   "mimetype": "text/x-python",
   "name": "python",
   "nbconvert_exporter": "python",
   "pygments_lexer": "ipython3",
   "version": "3.9.9"
  },
  "vscode": {
   "interpreter": {
    "hash": "9283b71a9fb260974dcb1b3d32e79d34b5da211280b6af559776f5f59ea44de2"
   }
  }
 },
 "nbformat": 4,
 "nbformat_minor": 4
}
