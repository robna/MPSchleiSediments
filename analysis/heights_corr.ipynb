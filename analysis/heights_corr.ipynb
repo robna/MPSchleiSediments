{
 "cells": [
  {
   "cell_type": "markdown",
   "metadata": {},
   "source": [
    "## Notebook for finding a regression model for missing particle heights based on 2D-geometric mean"
   ]
  },
  {
   "cell_type": "code",
   "execution_count": null,
   "metadata": {},
   "outputs": [],
   "source": [
    "import pandas as pd\n",
    "from plots import scatter_chart"
   ]
  },
  {
   "cell_type": "code",
   "execution_count": null,
   "metadata": {},
   "outputs": [],
   "source": [
    "df = pd.read_csv('../data/mp_pdd.csv')"
   ]
  },
  {
   "cell_type": "code",
   "execution_count": null,
   "metadata": {
    "tags": []
   },
   "outputs": [],
   "source": [
    "df.dropna(inplace=True)"
   ]
  },
  {
   "cell_type": "code",
   "execution_count": null,
   "metadata": {
    "tags": []
   },
   "outputs": [],
   "source": [
    "df=df.drop(df.loc[df['Size_3_[µm]']==0].index)\n",
    "df=df.drop(df.loc[df['Size_3_[µm]']==20].index)\n",
    "df.rename(columns={'Size_3_[µm]':'Size_3_µm'},inplace=True)\n",
    "df.rename(columns={'Size_2_[µm]':'Size_2_µm'},inplace=True)\n",
    "df.rename(columns={'Size_1_[µm]':'Size_1_µm'},inplace=True)\n",
    "\n",
    "\n",
    "df.loc[df['Size_3_µm'] > df['Size_2_µm'],'Size_3_µm'] = df['Size_2_µm']"
   ]
  },
  {
   "cell_type": "code",
   "execution_count": null,
   "metadata": {},
   "outputs": [],
   "source": [
    "df"
   ]
  },
  {
   "cell_type": "code",
   "execution_count": null,
   "metadata": {},
   "outputs": [],
   "source": [
    "chart = scatter_chart(df, 'size_geom_mean', 'Size_3_µm', 'Shape', reg='pow',reg_groups=True)\n",
    "print(chart[1])\n",
    "chart[0]\n",
    "#def > 500 µm \n",
    "#is L/W = W/H ?? (koelman, solving, proove wrong?)"
   ]
  }
 ],
 "metadata": {
  "kernelspec": {
   "display_name": "Python 3.9.13 ('MPSchleiSediments-z4CtktJ9')",
   "language": "python",
   "name": "python3"
  },
  "language_info": {
   "codemirror_mode": {
    "name": "ipython",
    "version": 3
   },
   "file_extension": ".py",
   "mimetype": "text/x-python",
   "name": "python",
   "nbconvert_exporter": "python",
   "pygments_lexer": "ipython3",
   "version": "3.9.13"
  },
  "vscode": {
   "interpreter": {
    "hash": "82a31816b63c673b7463547b8d8376fc489f1e362f1a21f244a13819d6095661"
   }
  }
 },
 "nbformat": 4,
 "nbformat_minor": 4
}
