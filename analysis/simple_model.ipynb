{
 "cells": [
  {
   "cell_type": "code",
   "execution_count": null,
   "metadata": {},
   "outputs": [],
   "source": [
    "%reload_ext autoreload\n",
    "%autoreload 2\n",
    "\n",
    "import numpy as np\n",
    "import pandas as pd\n",
    "pd.options.plotting.backend = 'holoviews'\n",
    "\n",
    "from sklearn.preprocessing import StandardScaler\n",
    "from sklearn.linear_model import TweedieRegressor\n",
    "from sklearn.metrics import r2_score\n",
    "\n",
    "import prepare_data\n",
    "from components import PCOA\n",
    "from settings import Config, shortnames, target\n",
    "from plots import scatter_chart"
   ]
  },
  {
   "cell_type": "markdown",
   "metadata": {},
   "source": [
    "## Data preparation"
   ]
  },
  {
   "cell_type": "code",
   "execution_count": null,
   "metadata": {
    "collapsed": false,
    "jupyter": {
     "outputs_hidden": false
    },
    "pycharm": {
     "name": "#%% loading data\n"
    }
   },
   "outputs": [],
   "source": [
    "%%capture\n",
    "# cell magic to supress output. Comment it out to see output of this cell.\n",
    "\n",
    "# What happened so far: DB extract and blank procedure. Now import resulting MP data from csv\n",
    "mp_pdd = prepare_data.get_pdd()\n",
    "\n",
    "# Also import sediment data (sediment frequencies per size bin from master sizer export)\n",
    "grainsize_iow, grainsize_cau = prepare_data.get_grainsizes()[0:2]\n",
    "scor_iow = PCOA(grainsize_iow, 2)[0]\n",
    "scor_cau = PCOA(grainsize_cau, 2)[0]\n",
    "\n",
    "# ...some data wrangling to prepare particle domain data and sample domain data for MP and combine with certain sediment aggregates.\n",
    "sdd_iow = prepare_data.aggregate_SDD(mp_pdd)\n",
    "sdd_iow = prepare_data.additional_sdd_merging(sdd_iow, how='outer')\n",
    "sdd_iow = sdd_iow.merge(scor_iow, right_index=True, left_on='Sample', how='outer')\n",
    "sdd_iow = sdd_iow.replace({'Sample': shortnames}).sort_values(by='Sample')\n",
    "\n",
    "sdd_cau = pd.read_csv('../data/Metadata_CAU_sampling_log.csv', index_col=0).join(pd.read_csv('../data/GRADISTAT_CAU_vol_log-cau_closed.csv', index_col=0), how='outer')\n",
    "sdd_cau = sdd_cau.merge(scor_cau, right_index=True, left_on='Sample', how='outer').reset_index()"
   ]
  },
  {
   "cell_type": "code",
   "execution_count": null,
   "metadata": {
    "tags": []
   },
   "outputs": [],
   "source": [
    "## Additional variable generation (e.g. predictor derivatives)\n",
    " \n",
    "# sdd_iow['Dist_WWTP_revsq'] = ((1/sdd_iow['Dist_WWTP'])**3)*10000000000  # calculates the squared of the reversed Distance \n",
    "# sdd_iow['Dist_WWTP_revsq'] = (((sdd_iow['Dist_WWTP'].max()-sdd_iow['Dist_WWTP'])+1)**3)/100000000000  # calculates the squared of the reversed Distance \n",
    "# sdd_iow['Dist_WWTP_revsq'] = ((sdd_iow['Dist_WWTP'].max()/sdd_iow['Dist_WWTP'])**3)/100  # calculates the squared of the reversed Distance\n",
    "# sdd_iow['Dist_WWTP_revsq'] = ((sdd_iow['Dist_WWTP'].max()/sdd_iow['Dist_WWTP'])**2)  # calculates the squared of the reversed Distance\n",
    "\n",
    "# sdd_iow"
   ]
  },
  {
   "cell_type": "code",
   "execution_count": null,
   "metadata": {
    "tags": []
   },
   "outputs": [],
   "source": [
    "## Split data into samples used for building the model and samples used for predicting.\n",
    "\n",
    "model_data = sdd_iow.loc[~sdd_iow.Concentration.isna()].set_index('Sample')\n",
    "pred_data = sdd_iow.loc[sdd_iow.Concentration.isna()]\n",
    "pred_data = pd.concat([pred_data, sdd_cau.drop('Date',axis=1)]).set_index('Sample')"
   ]
  },
  {
   "cell_type": "code",
   "execution_count": null,
   "metadata": {
    "tags": []
   },
   "outputs": [],
   "source": [
    "## Potential outlier exclusion\n",
    "model_data = model_data.drop(['S10d','S32'])"
   ]
  },
  {
   "cell_type": "code",
   "execution_count": null,
   "metadata": {},
   "outputs": [],
   "source": [
    "## List of features (predictors) to be used in the model. Beware: depending on the preprocessing steps not all features might be used.\n",
    "\n",
    "featurelist = [\n",
    "    # 'Depth',\n",
    "    # 'LON', 'LAT',\n",
    "    # 'Dist_Land',\n",
    "    # 'Dist_Marina',\n",
    "    'Dist_WWTP',\n",
    "    # 'WWTP_influence_as_tracer_mean_dist',\n",
    "    # 'WWTP_influence_as_cumulated_residence',\n",
    "    # 'WWTP_influence_as_mean_time_travelled',\n",
    "    # 'Dist_WWTP2',\n",
    "    #'Dist_WWTP_revsq',\n",
    "    # 'MODE 1 (µm)',\n",
    "    # 'D10 (µm)',\n",
    "    # 'D50 (µm)',\n",
    "    # 'D90 (µm)',\n",
    "    # 'perc GRAVEL',\n",
    "    # 'perc SAND',\n",
    "    #'perc MUD',\n",
    "    # 'perc CLAY',\n",
    "    # 'OM_D50',\n",
    "    # 'TOC',\n",
    "    # 'Hg',\n",
    "    # 'TIC',\n",
    "    # 'regio_sep',\n",
    "    'PC1',\n",
    "    #'PC2'\n",
    "    ]\n",
    "model_X = model_data[featurelist]\n",
    "model_y = model_data[target]\n",
    "pred_X = pred_data[featurelist]\n",
    "\n",
    "## Check some basic statistics of the target variable\n",
    "model_y.describe()\n",
    "# model_y.hist()"
   ]
  },
  {
   "cell_type": "code",
   "execution_count": null,
   "metadata": {},
   "outputs": [],
   "source": [
    "# Scale data using StandardScaler\n",
    "\n",
    "scaler = StandardScaler()\n",
    "model_X_scaled = scaler.fit_transform(model_X)\n",
    "pred_X_scaled = scaler.transform(pred_X)"
   ]
  },
  {
   "cell_type": "code",
   "execution_count": null,
   "metadata": {},
   "outputs": [],
   "source": [
    "# build a GLM model with Tweedie distribution\n",
    "\n",
    "model = TweedieRegressor(\n",
    "    power=0,\n",
    "    # alpha=5,\n",
    "    link='log',\n",
    "    # fit_intercept=False,\n",
    "    # warm_start=False,\n",
    "    max_iter=1000,\n",
    "    tol=1e-8,\n",
    "    verbose=1,\n",
    "    )\n",
    "model.fit(model_X, model_y)#, fit_params={'sample_weight': model_data.loc[model_X.index, 'Mass'].to_numpy()})"
   ]
  },
  {
   "cell_type": "code",
   "execution_count": null,
   "metadata": {},
   "outputs": [],
   "source": [
    "model.feature_names_in_"
   ]
  },
  {
   "cell_type": "code",
   "execution_count": null,
   "metadata": {},
   "outputs": [],
   "source": [
    "model_y_pred = model.predict(model_X_scaled)\n",
    "R2 = r2_score(model_y, model_y_pred)  # adjusted R² = 1 - (1 - R²) * (n - 1) / (n - p) with n = number of samples, p = number of features\n",
    "print(f'Training-R2: {R2:.3f}')\n",
    "n, p = model_X.shape\n",
    "adjR2 = 1 - (1 - R2) * (n - 1) / (n - p)\n",
    "print(f'adjusted Training-R2: {adjR2:.3f}')"
   ]
  },
  {
   "cell_type": "code",
   "execution_count": null,
   "metadata": {},
   "outputs": [],
   "source": [
    "# Test different powers of Tweedie distribution\n",
    "\n",
    "power_list = []\n",
    "R2_list = []\n",
    "R2adj_list = []\n",
    "for i in np.linspace(-300,300,10000):\n",
    "    power_list.append(i)\n",
    "    model = TweedieRegressor(power=i, alpha=0.5, link='log', max_iter=10000)\n",
    "    model.fit(model_X_scaled, model_y)\n",
    "    model_y_pred = model.predict(model_X_scaled)\n",
    "    # model_y_pred = np.where(model_y_pred < 0, 0, model_y_pred)\n",
    "    R2 = r2_score(model_y, model_y_pred)\n",
    "    R2_list.append(R2)\n",
    "    n, p = model_X.shape\n",
    "    adjR2 = 1 - (1 - R2) * (n - 1) / (n - p)\n",
    "    R2adj_list.append(adjR2)"
   ]
  },
  {
   "cell_type": "code",
   "execution_count": null,
   "metadata": {},
   "outputs": [],
   "source": [
    "#get the index of where R2_list and R2adj_list is maximum\n",
    "# R2_list.index(max(R2_list))\n",
    "power_list[R2adj_list.index(max(R2adj_list))]"
   ]
  },
  {
   "cell_type": "code",
   "execution_count": null,
   "metadata": {},
   "outputs": [],
   "source": [
    "pd.DataFrame([power_list, R2_list], index=['power', 'R2']).T.plot(x='power', y='R2', kind='line')"
   ]
  },
  {
   "cell_type": "code",
   "execution_count": null,
   "metadata": {},
   "outputs": [],
   "source": [
    "# ## Model fitting\n",
    "\n",
    "# # Define model\n",
    "# model = TweedieRegressor(power=1.5, alpha=0.5, link='log', max_iter=10000, tol=1e-6)\n",
    "\n",
    "# # Define grid search parameters\n",
    "\n",
    "# param_grid = {\n",
    "#     'alpha': [0.1, 0.5, 0.9],\n",
    "#     'power': [1.1, 1.5, 1.9],\n",
    "#     'link': ['log', 'identity'],\n",
    "#     'max_iter': [10000],\n",
    "#     'tol': [1e-6]\n",
    "# }\n",
    "\n",
    "# # Define grid search\n",
    "# grid = GridSearchCV(model, param_grid, cv=5, scoring='r2', n_jobs=-1, verbose=1)\n",
    "\n",
    "# # Fit model\n",
    "# grid.fit(model_X_scaled, model_y)\n",
    "\n",
    "# # Print best parameters\n",
    "# print(grid.best_params_)\n",
    "# print(grid.best_score_)\n",
    "# print(grid.best_estimator_)\n",
    "# print(grid.best_index_)\n",
    "# print(grid.cv_results_)\n",
    "# print(grid.scorer_)\n",
    "# print(grid.refit)\n",
    "\n",
    "# # Save model\n",
    "# joblib.dump(grid.best_estimator_, '../models/MP_model.pkl')\n",
    "\n",
    "# # Load model\n",
    "# model = joblib.load('../models/MP_model.pkl')\n",
    "\n",
    "# ## Model evaluation\n",
    "\n",
    "# # Predictions\n",
    "# model_y_pred = model.predict(model_X_scaled)\n",
    "# pred_y_pred = model.predict(pred_X_scaled)\n",
    "\n",
    "# # Calculate R2\n",
    "# r2 = r2_score(model_y, model_y_pred)\n",
    "# print(r2)\n",
    "\n",
    "# # Calculate RMSE\n",
    "# rmse = np.sqrt(mean_squared_error(model_y, model_y_pred))\n",
    "# print(rmse)\n",
    "\n",
    "# # Calculate MAE\n",
    "# mae = mean_absolute_error(model_y, model_y_pred)\n",
    "# print(mae)\n",
    "\n",
    "# # Calculate MAPE\n",
    "# mape = np.mean(np.abs((model_y - model_y_pred) / model_y)) * 100\n",
    "# print(mape)\n",
    "\n",
    "# # Calculate NSE\n",
    "# nse = 1 - np.sum((model_y - model_y_pred)**2) / np.sum((model_y - np.mean(model_y))**2)\n",
    "# print(nse)"
   ]
  }
 ],
 "metadata": {
  "kernelspec": {
   "display_name": "Python 3.9.13 64-bit ('3.9.13')",
   "language": "python",
   "name": "python3"
  },
  "language_info": {
   "codemirror_mode": {
    "name": "ipython",
    "version": 3
   },
   "file_extension": ".py",
   "mimetype": "text/x-python",
   "name": "python",
   "nbconvert_exporter": "python",
   "pygments_lexer": "ipython3",
   "version": "3.9.13"
  },
  "orig_nbformat": 4,
  "vscode": {
   "interpreter": {
    "hash": "9283b71a9fb260974dcb1b3d32e79d34b5da211280b6af559776f5f59ea44de2"
   }
  }
 },
 "nbformat": 4,
 "nbformat_minor": 2
}
