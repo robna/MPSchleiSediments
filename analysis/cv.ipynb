{
 "cells": [
  {
   "cell_type": "code",
   "execution_count": null,
   "metadata": {},
   "outputs": [],
   "source": [
    "%reload_ext autoreload\n",
    "%autoreload 2\n",
    "\n",
    "import numpy as np\n",
    "import pandas as pd\n",
    "import hvplot.pandas  # noqa\n",
    "pd.options.plotting.backend = 'holoviews'\n",
    "\n",
    "from sklearn.pipeline import Pipeline\n",
    "from sklearn.impute import SimpleImputer\n",
    "# from mlxtend.feature_selection import ExhaustiveFeatureSelector as EFS\n",
    "from sklearn.feature_selection import SelectKBest, mutual_info_regression, f_regression\n",
    "from sklearn.model_selection import GridSearchCV, train_test_split, LeavePOut, LeaveOneOut\n",
    "\n",
    "from sklearn.compose import ColumnTransformer, make_column_selector\n",
    "from sklearn.preprocessing import StandardScaler, MaxAbsScaler, MinMaxScaler, OneHotEncoder, FunctionTransformer\n",
    "\n",
    "\n",
    "from sklearn.dummy import DummyRegressor\n",
    "from sklearn.ensemble import (\n",
    "    RandomForestRegressor,\n",
    "    AdaBoostRegressor,\n",
    "    GradientBoostingRegressor,\n",
    ")\n",
    "from sklearn.naive_bayes import GaussianNB\n",
    "from sklearn.neighbors import KNeighborsRegressor, RadiusNeighborsRegressor\n",
    "from sklearn.svm import SVR\n",
    "\n",
    "from sklearn.metrics import r2_score\n",
    "\n",
    "import prepare_data\n",
    "from components import PCOA\n",
    "from helpers import PipelineHelper, SMWrapper\n",
    "from settings import Config, shortnames, target\n",
    "from plots import scatter_chart"
   ]
  },
  {
   "cell_type": "markdown",
   "metadata": {},
   "source": [
    "## Data preparation"
   ]
  },
  {
   "cell_type": "code",
   "execution_count": null,
   "metadata": {
    "collapsed": false,
    "jupyter": {
     "outputs_hidden": false
    },
    "pycharm": {
     "name": "#%% loading data\n"
    }
   },
   "outputs": [],
   "source": [
    "%%capture\n",
    "# cell magic to supress output. Comment it out to see output of this cell.\n",
    "\n",
    "# What happened so far: DB extract and blank procedure. Now import resulting MP data from csv\n",
    "mp_pdd = prepare_data.get_pdd()\n",
    "\n",
    "# Also import sediment data (sediment frequencies per size bin from master sizer export)\n",
    "grainsize_iow, grainsize_cau = prepare_data.get_grainsizes()[0:2]\n",
    "scor_iow = PCOA(grainsize_iow, 2)[0]\n",
    "scor_cau = PCOA(grainsize_cau, 2)[0]\n",
    "\n",
    "# ...some data wrangling to prepare particle domain data and sample domain data for MP and combine with certain sediment aggregates.\n",
    "sdd_iow = prepare_data.aggregate_SDD(mp_pdd)\n",
    "sdd_iow = prepare_data.additional_sdd_merging(sdd_iow, how='outer')\n",
    "sdd_iow = sdd_iow.merge(scor_iow, right_index=True, left_on='Sample', how='outer')\n",
    "sdd_iow = sdd_iow.replace({'Sample': shortnames}).sort_values(by='Sample')\n",
    "\n",
    "sdd_cau = pd.read_csv('../data/Metadata_CAU_sampling_log.csv', index_col=0).join(pd.read_csv('../data/GRADISTAT_CAU_vol_log-cau_closed.csv', index_col=0), how='outer')\n",
    "sdd_cau = sdd_cau.merge(scor_cau, right_index=True, left_on='Sample', how='outer').reset_index()"
   ]
  },
  {
   "cell_type": "code",
   "execution_count": null,
   "metadata": {
    "tags": []
   },
   "outputs": [],
   "source": [
    "## Additional variable generation (e.g. predictor derivatives)\n",
    " \n",
    "# sdd_iow['Dist_WWTP_revsq'] = ((1/sdd_iow['Dist_WWTP'])**3)*10000000000  # calculates the squared of the reversed Distance \n",
    "# sdd_iow['Dist_WWTP_revsq'] = (((sdd_iow['Dist_WWTP'].max()-sdd_iow['Dist_WWTP'])+1)**3)/100000000000  # calculates the squared of the reversed Distance \n",
    "# sdd_iow['Dist_WWTP_revsq'] = ((sdd_iow['Dist_WWTP'].max()/sdd_iow['Dist_WWTP'])**3)/100  # calculates the squared of the reversed Distance\n",
    "sdd_iow['Dist_WWTP_revsq'] = ((sdd_iow['Dist_WWTP'].max()/sdd_iow['Dist_WWTP'])**2)  # calculates the squared of the reversed Distance\n",
    "\n",
    "# sdd_iow"
   ]
  },
  {
   "cell_type": "code",
   "execution_count": null,
   "metadata": {
    "tags": []
   },
   "outputs": [],
   "source": [
    "## Split data into samples used for building the model and samples used for predicting.\n",
    "\n",
    "model_data = sdd_iow.loc[~sdd_iow.Concentration.isna()].set_index('Sample')\n",
    "pred_data = sdd_iow.loc[sdd_iow.Concentration.isna()]\n",
    "pred_data = pd.concat([pred_data, sdd_cau.drop('Date',axis=1)]).set_index('Sample')"
   ]
  },
  {
   "cell_type": "code",
   "execution_count": null,
   "metadata": {
    "tags": []
   },
   "outputs": [],
   "source": [
    "## Potential outlier exclusion\n",
    "model_data = model_data.drop(['S08','S10d','S05','S32'])"
   ]
  },
  {
   "cell_type": "code",
   "execution_count": null,
   "metadata": {},
   "outputs": [],
   "source": [
    "## List of features (predictors) to be used in the model. Beware: depending on the preprocessing steps not all features might be used.\n",
    "\n",
    "featurelist = [\n",
    "    #'Depth',\n",
    "    # 'LON', 'LAT',\n",
    "    #'Dist_Land',\n",
    "    # 'Dist_Marina',\n",
    "    #'Dist_WWTP',\n",
    "    # 'Dist_WWTP2',\n",
    "    'Dist_WWTP_revsq',\n",
    "    # 'MODE 1 (µm)',\n",
    "    # 'D10 (µm)',\n",
    "    #'D50 (µm)',\n",
    "    # 'D90 (µm)',\n",
    "    # 'perc GRAVEL',\n",
    "    # 'perc SAND',\n",
    "    'perc MUD',\n",
    "    # 'perc CLAY',\n",
    "    # 'OM_D50',\n",
    "    'TOC',\n",
    "    # 'Hg',\n",
    "    # 'TIC',\n",
    "    # 'regio_sep',\n",
    "    # 'PC1', 'PC2'\n",
    "    ]\n",
    "model_X = model_data[featurelist]\n",
    "model_y = model_data[target]\n",
    "pred_X = pred_data[featurelist]"
   ]
  },
  {
   "cell_type": "code",
   "execution_count": null,
   "metadata": {},
   "outputs": [],
   "source": [
    "## Mutual exclusive list (list of lists detailing predictors that are not allowed together in one model candidate)\n",
    "\n",
    "mutual_exclusive = [\n",
    "    ['D50 (µm)','PC1','perc MUD'],\n",
    "    ['Dist_WWTP','Dist_WWTP2'],\n",
    "    ['TOC', 'perc MUD'],\n",
    "]"
   ]
  },
  {
   "cell_type": "code",
   "execution_count": null,
   "metadata": {},
   "outputs": [],
   "source": [
    "## Check some basic statistics of the target variable\n",
    "\n",
    "model_y.describe()\n",
    "# model_y.hist()\n"
   ]
  },
  {
   "cell_type": "markdown",
   "metadata": {},
   "source": [
    "## Model building"
   ]
  },
  {
   "cell_type": "markdown",
   "metadata": {
    "tags": []
   },
   "source": [
    "### Custom preprocessing functions to be used in the model pipeline"
   ]
  },
  {
   "cell_type": "code",
   "execution_count": null,
   "metadata": {},
   "outputs": [],
   "source": [
    "## Create exhaustive feature selector, using leave-p-out on columns labels to generate a boolean matrix.\n",
    "\n",
    "feature_candidates_list = []\n",
    "\n",
    "for i in range(1,len(model_X.columns)):\n",
    "    lpo = LeavePOut(p=i)\n",
    "    # base_index = [False] * len(model_X.columns)\n",
    "    for candidate_indices, _ in lpo.split(model_X.columns):\n",
    "        feature_candidates = model_X.columns[candidate_indices]\n",
    "        if any(all(pd.Series(ex_feats).isin(feature_candidates)) for ex_feats in mutual_exclusive):\n",
    "            continue  # if all entries of any row in mutual_exclusive list are present in the current feature_candidates, then don't put them in the feature_candidates_list\n",
    "        feature_candidates_list.append(feature_candidates)\n",
    "feature_candidates_list.append(model_X.columns)  # also append the set of all possible features\n",
    "\n",
    "def SelectFeatures(model_X, feature_set=0, feature_sets=feature_candidates_list):\n",
    "    return model_X.loc[:, feature_sets[feature_set]]\n",
    "\n",
    "CustomFeatureSelector = FunctionTransformer(SelectFeatures, feature_names_out='one-to-one')"
   ]
  },
  {
   "cell_type": "markdown",
   "metadata": {},
   "source": [
    "### Creating the model pipeline"
   ]
  },
  {
   "cell_type": "code",
   "execution_count": null,
   "metadata": {},
   "outputs": [],
   "source": [
    "## Pipeline and parameter grid for model selection, see here for inspiration: https://towardsdatascience.com/getting-the-most-out-of-scikit-learn-pipelines-c2afc4410f1a\n",
    "\n",
    "PreProcessor = ColumnTransformer([\n",
    "      ('selector', CustomFeatureSelector, model_X.columns),\n",
    "      # ('imputer', SimpleImputer(), make_column_selector(dtype_include=np.number)),\n",
    "      ('scaler', StandardScaler(), make_column_selector(dtype_include=np.number)),\n",
    "      # ('encoder', OneHotEncoder(), make_column_selector(dtype_include=object)),\n",
    "      ])\n",
    "\n",
    "pipe = Pipeline(steps=[\n",
    "    ('preprocessor', PreProcessor),\n",
    "    ('regressor', DummyRegressor())\n",
    "    ])\n",
    "\n",
    "params = [{\n",
    "    'preprocessor__selector': [CustomFeatureSelector],\n",
    "    'preprocessor__selector__kw_args': [{'feature_set':i} for i in range(len(feature_candidates_list))]\n",
    "    },\n",
    "    \n",
    "    {'preprocessor__scaler': [StandardScaler()],\n",
    "       'preprocessor__scaler__with_mean': [True, False],\n",
    "       'preprocessor__scaler__with_std': [True],#, False],\n",
    "    },\n",
    "\n",
    "    {'preprocessor__scaler': [MaxAbsScaler()]\n",
    "    },\n",
    "\n",
    "    {'preprocessor__scaler': [MinMaxScaler()]\n",
    "    },\n",
    "\n",
    "    {'regressor': [DummyRegressor()],\n",
    "        'regressor__strategy': ['mean', 'median']\n",
    "    },\n",
    "    \n",
    "    {'regressor': [SVR()],\n",
    "        'regressor__C': [1], #[0.1, 0.5, 1.0],\n",
    "        'regressor__kernel': ['linear'], #['linear', 'rbf', 'poly'],\n",
    "        'regressor__degree': [1] #[1, 2, 3, 4, 5],\n",
    "    },\n",
    "    \n",
    "    {'regressor': [RandomForestRegressor()],\n",
    "        'regressor__n_estimators': [10, 50], #[20, 50, 100, 150],\n",
    "        'regressor__max_features': [None, 'sqrt', 'log2'],\n",
    "        'regressor__min_samples_split': [2, 5, 10],\n",
    "        'regressor__min_samples_leaf': [1, 2, 5],\n",
    "        'regressor__bootstrap': [True, False],\n",
    "        'regressor__max_depth': [None, 5, 10, 20, 50],\n",
    "        'regressor__warm_start': [True, False]\n",
    "    }\n",
    "    ]"
   ]
  },
  {
   "cell_type": "markdown",
   "metadata": {},
   "source": [
    "### Training the model"
   ]
  },
  {
   "cell_type": "code",
   "execution_count": null,
   "metadata": {},
   "outputs": [],
   "source": [
    "## The pipeline is run by searching the provided paramter space using scorings of a crossvalidation technique to find out how each model candidate performs.\n",
    "\n",
    "scoring = ['neg_mean_absolute_error']  # possibilities: ‘neg_root_mean_squared_error’, ‘neg_mean_squared_error’, 'r2', 'neg_mean_absolute_error', 'neg_mean_squared_log_error'\n",
    "    \n",
    "\n",
    "grid = GridSearchCV(  # TODO: Possible to set random state for all estimators?\n",
    "    pipe,\n",
    "    params,\n",
    "    scoring= scoring,\n",
    "    error_score=np.nan,\n",
    "    refit= scoring[0],\n",
    "    cv=LeaveOneOut(),\n",
    "    verbose=1,\n",
    "    n_jobs=-1\n",
    "    )\n",
    "\n",
    "grid.fit(model_X, model_y)"
   ]
  },
  {
   "cell_type": "markdown",
   "metadata": {},
   "source": [
    "## Evaluating the model"
   ]
  },
  {
   "cell_type": "code",
   "execution_count": null,
   "metadata": {},
   "outputs": [],
   "source": [
    "## Printing score of the best performing model candidate and its parameters.\n",
    "\n",
    "print(f'{scoring}: {grid.best_score_}')\n",
    "print(grid.best_params_)"
   ]
  },
  {
   "cell_type": "code",
   "execution_count": null,
   "metadata": {},
   "outputs": [],
   "source": [
    "[grid.best_estimator_.named_steps['preprocessor'].named_transformers_['selector'].get_feature_names_out(input_features=model_X.columns.tolist())]"
   ]
  },
  {
   "cell_type": "code",
   "execution_count": null,
   "metadata": {},
   "outputs": [],
   "source": [
    "## Show how the model performs on the training data\n",
    "\n",
    "train_pred_y = grid.predict(model_X)  # use the best model to predict the data on the same samples that were used to train the model\n",
    "print(f'R² = {r2_score(model_y, train_pred_y)}')\n",
    "\n",
    "df = pd.concat([\n",
    "    model_data.loc[model_y.index].regio_sep,\n",
    "    model_y,\n",
    "    pd.Series(\n",
    "        train_pred_y,\n",
    "        name='Prediction',\n",
    "        index=model_y.index)\n",
    "        ],\n",
    "    axis=1\n",
    "    ).reset_index()\n",
    "    \n",
    "scatter_chart(df, target, 'Prediction', color='regio_sep', labels='Sample', identity=True, equal_axes=False)[0]"
   ]
  },
  {
   "cell_type": "code",
   "execution_count": null,
   "metadata": {},
   "outputs": [],
   "source": [
    "## Take a look at all model candidates and their performance\n",
    "\n",
    "scores = pd.DataFrame(grid.cv_results_)\n",
    "# scores"
   ]
  }
 ],
 "metadata": {
  "kernelspec": {
   "display_name": "Python 3.9.13 64-bit ('3.9.13')",
   "language": "python",
   "name": "python3"
  },
  "language_info": {
   "codemirror_mode": {
    "name": "ipython",
    "version": 3
   },
   "file_extension": ".py",
   "mimetype": "text/x-python",
   "name": "python",
   "nbconvert_exporter": "python",
   "pygments_lexer": "ipython3",
   "version": "3.9.13"
  },
  "vscode": {
   "interpreter": {
    "hash": "9283b71a9fb260974dcb1b3d32e79d34b5da211280b6af559776f5f59ea44de2"
   }
  }
 },
 "nbformat": 4,
 "nbformat_minor": 4
}
