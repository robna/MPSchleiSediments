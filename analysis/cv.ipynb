{
 "cells": [
  {
   "cell_type": "code",
   "execution_count": null,
   "metadata": {},
   "outputs": [],
   "source": [
    "import pandas as pd\n",
    "\n",
    "from sklearn.pipeline import Pipeline\n",
    "from sklearn.model_selection import GridSearchCV\n",
    "\n",
    "from sklearn.ensemble import (\n",
    "    RandomForestClassifier,\n",
    "    AdaBoostClassifier,\n",
    "    GradientBoostingClassifier,\n",
    ")\n",
    "from sklearn.naive_bayes import MultinomialNB\n",
    "from sklearn.neighbors import KNeighborsClassifier\n",
    "from sklearn.preprocessing import StandardScaler, MaxAbsScaler, MinMaxScaler\n",
    "from sklearn.svm import SVC\n",
    "\n",
    "import prepare_data\n",
    "from components import PCOA\n",
    "from helpers import PipelineHelper\n",
    "import settings"
   ]
  },
  {
   "cell_type": "code",
   "execution_count": null,
   "metadata": {
    "collapsed": false,
    "jupyter": {
     "outputs_hidden": false
    },
    "pycharm": {
     "name": "#%% loading data\n"
    }
   },
   "outputs": [],
   "source": [
    "# What happened so far: DB extract and blank procedure. Now import resulting MP data from csv\n",
    "mp_pdd = prepare_data.get_pdd()\n",
    "\n",
    "# Also import sediment data (sediment frequencies per size bin from master sizer export)\n",
    "grainsize_iow, grainsize_cau = prepare_data.get_grainsizes()[0:2]\n",
    "scor_iow = PCOA(grainsize_iow, 2)[0]\n",
    "scor_cau = PCOA(grainsize_cau, 2)[0]\n",
    "\n",
    "# ...some data wrangling to prepare particle domain data and sample domain data for MP and combine with certain sediment aggregates.\n",
    "sdd_iow = prepare_data.aggregate_SDD(mp_pdd)\n",
    "sdd_iow = prepare_data.additional_sdd_merging(sdd_iow, how='outer')\n",
    "sdd_iow = sdd_iow.merge(scor_iow, right_index=True, left_on='Sample', how='outer')\n",
    "\n",
    "sdd_cau = pd.read_csv('../data/Metadata_CAU_sampling_log.csv', index_col=0).join(pd.read_csv('../data/GRADISTAT_CAU_vol_log-cau_closed.csv', index_col=0), how='outer')\n",
    "sdd_cau = sdd_cau.merge(scor_cau, right_index=True, left_on='Sample', how='outer').reset_index()"
   ]
  },
  {
   "cell_type": "code",
   "execution_count": null,
   "metadata": {},
   "outputs": [],
   "source": [
    "sdd_iow = sdd_iow.replace({'Sample': settings.shortnames}).sort_values(by='Sample')\n",
    "model_data = sdd_iow.loc[~sdd_iow.Concentration.isna()].set_index('Sample')\n",
    "pred_data = sdd_iow.loc[sdd_iow.Concentration.isna()]\n",
    "pred_data = pd.concat([pred_data, sdd_cau.drop('Date',axis=1)]).set_index('Sample')"
   ]
  },
  {
   "cell_type": "code",
   "execution_count": null,
   "metadata": {},
   "outputs": [],
   "source": [
    "model_data.to_csv('../data/model_data.csv')\n",
    "pred_data.to_csv('../data/pred_data.csv')"
   ]
  },
  {
   "cell_type": "code",
   "execution_count": null,
   "metadata": {},
   "outputs": [],
   "source": [
    "dp = round(pd.read_csv('../data/Calc_depth_pred.csv', index_col=0)[['Calc_depth_1']]*-1,2)\n",
    "toc = pd.read_csv('../data/GIS_Greiferproben SHS_ETRS89_UTMZ32N.csv', index_col=1)[['Corg [%]']]\n",
    "meta = pd.read_csv('../data/Metadata_CAU_sampling_log.csv', index_col=0)"
   ]
  },
  {
   "cell_type": "code",
   "execution_count": null,
   "metadata": {},
   "outputs": [],
   "source": [
    "meta.join(dp).drop('Depth',axis=1).join(toc).rename(columns={'Corg [%]':'TOC', 'Calc_depth_1': 'Depth'}).to_csv('../data/Metadata_CAU_sampling_log.csv')"
   ]
  },
  {
   "cell_type": "code",
   "execution_count": null,
   "metadata": {},
   "outputs": [],
   "source": [
    "targetlist = ['Concentration']\n",
    "\n",
    "featurelist = [\n",
    "    'Depth',\n",
    "    'LON', 'LAT',\n",
    "    # 'Dist_Marina', 'Dist_WWTP', 'Dist_WWTP2',\n",
    "    'MODE 1 (µm)',\n",
    "    'D10 (µm)', 'D50 (µm)', 'D90 (µm)',\n",
    "    'perc GRAVEL', 'perc SAND', 'perc MUD', 'perc CLAY',\n",
    "    #'OM_D50', 'TOC', 'Hg', 'TIC', 'regio_sep',\n",
    "    'PC1', 'PC2'\n",
    "    ]\n",
    "model_X = model_data[featurelist]\n",
    "model_y = model_data[targetlist]\n",
    "pred_X = pred_data[featurelist]"
   ]
  },
  {
   "cell_type": "code",
   "execution_count": null,
   "metadata": {},
   "outputs": [],
   "source": [
    "\n",
    "pipe = Pipeline([\n",
    "    ('scaler', PipelineHelper([\n",
    "        ('std', StandardScaler()),\n",
    "        ('max', MaxAbsScaler()),\n",
    "    ], optional=True)),\n",
    "\n",
    "    ('classifier', PipelineHelper([\n",
    "        # ('svm', SVC()),\n",
    "        # ('rf', RandomForestClassifier()),\n",
    "        # ('ada', AdaBoostClassifier()),\n",
    "        # ('gb', GradientBoostingClassifier()),\n",
    "        ('knn', KNeighborsClassifier()),\n",
    "        # ('nb_pipe', Pipeline([\n",
    "        #     # Naivie Bayes needs positive numbers\n",
    "        #     ('scaler', MinMaxScaler()),\n",
    "        #     ('nb', MultinomialNB()),\n",
    "        # ])),\n",
    "    ])),\n",
    "])\n",
    "\n",
    "params = {\n",
    "    'scaler__selected_model': pipe.named_steps['scaler'].generate(\n",
    "        {\n",
    "            'std__with_mean': [True, False],\n",
    "            'std__with_std': [True, False],\n",
    "            # no params for 'max' leads to using standard params\n",
    "        }\n",
    "    ),\n",
    "    'classifier__selected_model': pipe.named_steps['classifier'].generate(\n",
    "        {\n",
    "            # 'svm__C': [0.1, 1.0],\n",
    "            # 'svm__kernel': ['linear', 'rbf'],\n",
    "            # 'rf__n_estimators': [10, 20, 50, 100, 150],\n",
    "            # 'rf__max_features': ['sqrt', 'log2'],\n",
    "            # 'rf__min_samples_split': [2, 5, 10],\n",
    "            # 'rf__min_samples_leaf': [1, 2, 4],\n",
    "            # 'rf__bootstrap': [True, False],\n",
    "            # 'ada__n_estimators': [10, 20, 40, 100],\n",
    "            # 'ada__algorithm': ['SAMME', 'SAMME.R'],\n",
    "            # 'gb__n_estimators': [10, 20, 50, 100],\n",
    "            # 'gb__criterion': ['friedman_mse', 'squared_error'],\n",
    "            # 'gb__max_features': ['sqrt', None],\n",
    "            'knn__n_neighbors': [2, 3, 5, 7, 10],\n",
    "            'knn__leaf_size': [1, 2, 3, 5],\n",
    "            'knn__weights': ['uniform', 'distance'],\n",
    "            'knn__algorithm': ['auto', 'ball_tree', 'kd_tree', 'brute'],\n",
    "            # 'nb_pipe__nb__fit_prior': [True, False],\n",
    "            # 'nb_pipe__nb__alpha': [0.1, 0.2],\n",
    "        }\n",
    "    ),\n",
    "}\n"
   ]
  },
  {
   "cell_type": "code",
   "execution_count": null,
   "metadata": {},
   "outputs": [],
   "source": [
    "grid = GridSearchCV(pipe, params, scoring='accuracy', verbose=1, n_jobs=-1)\n",
    "grid.fit(X, y)\n"
   ]
  },
  {
   "cell_type": "code",
   "execution_count": null,
   "metadata": {},
   "outputs": [],
   "source": [
    "print(grid.best_params_)\n",
    "print(grid.best_score_)"
   ]
  },
  {
   "cell_type": "code",
   "execution_count": null,
   "metadata": {},
   "outputs": [],
   "source": []
  }
 ],
 "metadata": {
  "kernelspec": {
   "display_name": "Python 3.9.13 ('MPSchleiSediments-z4CtktJ9')",
   "language": "python",
   "name": "python3"
  },
  "language_info": {
   "codemirror_mode": {
    "name": "ipython",
    "version": 3
   },
   "file_extension": ".py",
   "mimetype": "text/x-python",
   "name": "python",
   "nbconvert_exporter": "python",
   "pygments_lexer": "ipython3",
   "version": "3.9.13"
  },
  "orig_nbformat": 4,
  "vscode": {
   "interpreter": {
    "hash": "82a31816b63c673b7463547b8d8376fc489f1e362f1a21f244a13819d6095661"
   }
  }
 },
 "nbformat": 4,
 "nbformat_minor": 2
}
