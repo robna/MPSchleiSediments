{
 "cells": [
  {
   "cell_type": "code",
   "execution_count": 8,
   "metadata": {},
   "outputs": [
    {
     "name": "stdout",
     "output_type": "stream",
     "text": [
      "n = 26    --> number of samples\n",
      "k = 3    --> number of folds\n",
      "\n",
      "mod = 2    --> n modulo (a.k.a remainder) k\n",
      "f = 8    --> floor (interger part) of n/k\n",
      "rf = 9    --> floor of n/k raised to the next integer (will be the same as f if n is divisible by k))\n",
      "c_f = 1562275    --> number of combinations of f elements out of n\n",
      "c_rf = 3124550    --> number of combinations of rf elements out of n\n",
      "\n",
      "Number of folds with f elements: 1\n",
      "Number of folds with f+1 elements: 2\n",
      "Total number of folds equal to k: True\n",
      "\n",
      "Number of possible train/test splits in k-fold CV with n=26 and k=3: 4686825\n"
     ]
    }
   ],
   "source": [
    "## Calculate the number of possible train/test splits in k-fold CV\n",
    "# see also: https://stats.stackexchange.com/questions/27730/choice-of-k-in-k-fold-cross-validation\n",
    "# see also: https://stats.stackexchange.com/questions/52274/how-to-choose-a-predictive-model-after-k-fold-cross-validation\n",
    "\n",
    "import math\n",
    "\n",
    "n = 26\n",
    "k = 3\n",
    "\n",
    "print('n =', n, '   --> number of samples')\n",
    "print('k =', k, '   --> number of folds')\n",
    "print('')\n",
    "\n",
    "mod = n%k\n",
    "f = n//k  # floor\n",
    "rf = -(n//-k) # raised floor, ref: https://stackoverflow.com/a/17511341, previously used n//k+1. Check with formula for splits which one is needed / correct!. For testsets formula it both would be valid...\n",
    "c_f = math.comb(n, f)\n",
    "c_rf = math.comb(n, rf)\n",
    "\n",
    "print('mod =', mod, '   --> n modulo (a.k.a remainder) k')\n",
    "print('f =', f, '   --> floor (interger part) of n/k')\n",
    "print('rf =', rf, '   --> floor of n/k raised to the next integer (will be the same as f if n is divisible by k))')\n",
    "print('c_f =', c_f, '   --> number of combinations of f elements out of n')\n",
    "print('c_rf =', c_rf, '   --> number of combinations of rf elements out of n')\n",
    "print('')\n",
    "\n",
    "n_small_folds = k - mod\n",
    "n_large_folds = mod\n",
    "\n",
    "print('Number of folds with f elements:', n_small_folds)\n",
    "print('Number of folds with f+1 elements:', n_large_folds)\n",
    "print('Total number of folds equal to k:', (n_small_folds + n_large_folds) == k)\n",
    "print('')\n",
    "\n",
    "\n",
    "num_splits0 = c_f + (1 - 0**mod) * c_rf  # Eq. correct\n",
    "# num_splits1 = sum([c_f-i for i in range(n_small_folds)]) + sum([c_rf-i for i in range(n_large_folds)])\n",
    "# num_splits2 = n_small_folds * c_f - (n_small_folds**2 - n_small_folds) / 2 + (n_large_folds * c_rf - (n_large_folds**2 - n_large_folds) / 2)  # Eq. not correct for k=n\n",
    "# num_splits3= n_small_folds * c_f + mod * c_rf  + (k - k**2) / 2 + (k - 1) * mod  # neither correct\n",
    "# num_splits4= n_small_folds * c_f + n_large_folds * (c_rf + k -1) - (k**2 + k) / 2\n",
    "print(f'Number of possible train/test splits in k-fold CV with n={n} and k={k}: {num_splits0}')\n",
    "# print(f'Number of possible train/test splits in k-fold CV with n={n} and k={k}: {num_splits1}')\n",
    "# print(f'Number of possible train/test splits in k-fold CV with n={n} and k={k}: {num_splits2}')"
   ]
  },
  {
   "cell_type": "markdown",
   "metadata": {},
   "source": [
    "Number of possible test sets in k-fold cross validation of a dataset with n samples.\n",
    "\n",
    "$$\n",
    "C_{testsets(n, k)} = \\binom{n}{\\lfloor \\frac{n}{k} \\rfloor} + (1 - 0^{n\\%k})  \\cdot \\binom{n}{\\lceil \\frac{n}{k} \\rceil}  \\qquad  \\qquad\\text{for} \\qquad(n \\geq k \\geq 2) \\in \\mathbb{N}\n",
    "$$"
   ]
  },
  {
   "cell_type": "markdown",
   "metadata": {},
   "source": [
    "Number of possible splits of a dataset of size $n$ into $k$ folds.  **NEEDS TO BE CHECKED FOR SPECIAL CASES LIKE n//k=0, or n=k:**\n",
    "\n",
    "$$\n",
    "C_{splits(n, k)} = \\Bigg(\\binom{\\binom{n}{\\lfloor \\frac{n}{k} \\rfloor}}{k-n\\%k} \\cdot \\binom{\\binom{n}{\\lceil \\frac{n}{k} \\rceil}}{n\\%k}\\Bigg)^{\\frac{1}{2 (1-0^{n\\%k})}} % check the exponent term, seems to be wrong! It should equate to 1/2 if n%k=0 and 1 otherwise.\n",
    "$$\n",
    "\n",
    "OLD, probably wrong:\n",
    "$$\n",
    "C_{splits(n, k)} = \\sum_{i=0}^{k-n\\%k-1}(\\binom{n}{\\lfloor \\frac{n}{k} \\rfloor}-i) + \\sum_{i=0}^{n\\%k-1}(\\binom{n}{\\lceil \\frac{n}{k} \\rceil}-i) = (k - n\\%k)  \\cdot \\binom{n}{\\lfloor \\frac{n}{k} \\rfloor} - \\frac{(k - n\\%k)^2 - (k - n\\%k)}{2} + \\Bigg(n\\%k  \\cdot \\binom{n}{\\lceil \\frac{n}{k} \\rceil} - \\frac{(n\\%k)^2 - n\\%k}{2}\\Bigg)\n",
    "$$"
   ]
  },
  {
   "cell_type": "code",
   "execution_count": null,
   "metadata": {},
   "outputs": [],
   "source": []
  }
 ],
 "metadata": {
  "kernelspec": {
   "display_name": "MPSchleiSediments-z4CtktJ9",
   "language": "python",
   "name": "python3"
  },
  "language_info": {
   "codemirror_mode": {
    "name": "ipython",
    "version": 3
   },
   "file_extension": ".py",
   "mimetype": "text/x-python",
   "name": "python",
   "nbconvert_exporter": "python",
   "pygments_lexer": "ipython3",
   "version": "3.9.13"
  },
  "orig_nbformat": 4
 },
 "nbformat": 4,
 "nbformat_minor": 2
}
