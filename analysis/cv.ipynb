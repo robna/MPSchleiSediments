{
 "cells": [
  {
   "cell_type": "code",
   "execution_count": null,
   "metadata": {},
   "outputs": [],
   "source": [
    "%reload_ext autoreload\n",
    "%autoreload 2\n",
    "\n",
    "import pandas as pd\n",
    "import numpy as np\n",
    "\n",
    "from sklearn.pipeline import Pipeline\n",
    "from sklearn.impute import SimpleImputer\n",
    "# from mlxtend.feature_selection import ExhaustiveFeatureSelector as EFS\n",
    "from sklearn.feature_selection import SelectKBest, mutual_info_regression, f_regression\n",
    "from sklearn.model_selection import GridSearchCV, train_test_split, LeavePOut, LeaveOneOut\n",
    "\n",
    "from sklearn.compose import ColumnTransformer, make_column_selector\n",
    "from sklearn.preprocessing import StandardScaler, MaxAbsScaler, MinMaxScaler, OneHotEncoder, FunctionTransformer\n",
    "\n",
    "\n",
    "from sklearn.dummy import DummyRegressor\n",
    "from sklearn.ensemble import (\n",
    "    RandomForestRegressor,\n",
    "    AdaBoostRegressor,\n",
    "    GradientBoostingRegressor,\n",
    ")\n",
    "from sklearn.naive_bayes import GaussianNB\n",
    "from sklearn.neighbors import KNeighborsRegressor, RadiusNeighborsRegressor\n",
    "from sklearn.svm import SVR\n",
    "\n",
    "from sklearn.metrics import r2_score\n",
    "\n",
    "import prepare_data\n",
    "from components import PCOA\n",
    "from helpers import PipelineHelper, SMWrapper\n",
    "from settings import Config, shortnames, target\n",
    "from plots import scatter_chart"
   ]
  },
  {
   "cell_type": "markdown",
   "metadata": {},
   "source": [
    "## Data preparation"
   ]
  },
  {
   "cell_type": "code",
   "execution_count": null,
   "metadata": {
    "collapsed": false,
    "jupyter": {
     "outputs_hidden": false
    },
    "pycharm": {
     "name": "#%% loading data\n"
    }
   },
   "outputs": [],
   "source": [
    "%%capture\n",
    "# cell magic to supress output. Comment it out to see output of this cell.\n",
    "\n",
    "# What happened so far: DB extract and blank procedure. Now import resulting MP data from csv\n",
    "mp_pdd = prepare_data.get_pdd()\n",
    "\n",
    "# Also import sediment data (sediment frequencies per size bin from master sizer export)\n",
    "grainsize_iow, grainsize_cau = prepare_data.get_grainsizes()[0:2]\n",
    "scor_iow = PCOA(grainsize_iow, 2)[0]\n",
    "scor_cau = PCOA(grainsize_cau, 2)[0]\n",
    "\n",
    "# ...some data wrangling to prepare particle domain data and sample domain data for MP and combine with certain sediment aggregates.\n",
    "sdd_iow = prepare_data.aggregate_SDD(mp_pdd)\n",
    "sdd_iow = prepare_data.additional_sdd_merging(sdd_iow, how='outer')\n",
    "sdd_iow = sdd_iow.merge(scor_iow, right_index=True, left_on='Sample', how='outer')\n",
    "sdd_iow = sdd_iow.replace({'Sample': shortnames}).sort_values(by='Sample')\n",
    "\n",
    "sdd_cau = pd.read_csv('../data/Metadata_CAU_sampling_log.csv', index_col=0).join(pd.read_csv('../data/GRADISTAT_CAU_vol_log-cau_closed.csv', index_col=0), how='outer')\n",
    "sdd_cau = sdd_cau.merge(scor_cau, right_index=True, left_on='Sample', how='outer').reset_index()"
   ]
  },
  {
   "cell_type": "code",
   "execution_count": null,
   "metadata": {
    "tags": []
   },
   "outputs": [],
   "source": [
    "# Additional variable generation (e.g. predictor derivatives), \n",
    "\n",
    "sdd_iow['Dist_WWTP_revsq'] = (sdd_iow['Dist_WWTP'].max()-sdd_iow['Dist_WWTP'])**2 #calculates the squared of the reversed Distance "
   ]
  },
  {
   "cell_type": "code",
   "execution_count": null,
   "metadata": {
    "tags": []
   },
   "outputs": [],
   "source": [
    "model_data = sdd_iow.loc[~sdd_iow.Concentration.isna()].set_index('Sample')\n",
    "pred_data = sdd_iow.loc[sdd_iow.Concentration.isna()]\n",
    "pred_data = pd.concat([pred_data, sdd_cau.drop('Date',axis=1)]).set_index('Sample')"
   ]
  },
  {
   "cell_type": "code",
   "execution_count": null,
   "metadata": {
    "tags": []
   },
   "outputs": [],
   "source": [
    "#potential outlier exclusion\n",
    "model_data = model_data.drop(['S08','S10d','S05','S32'])"
   ]
  },
  {
   "cell_type": "code",
   "execution_count": null,
   "metadata": {},
   "outputs": [],
   "source": [
    "featurelist = [\n",
    "    #'Depth',\n",
    "    # 'LON', 'LAT',\n",
    "    #'Dist_Land',\n",
    "    # 'Dist_Marina',\n",
    "    'Dist_WWTP',\n",
    "    # 'Dist_WWTP2',\n",
    "    #'Dist_WWTP_revsq',\n",
    "    # 'MODE 1 (µm)',\n",
    "    # 'D10 (µm)',\n",
    "    # 'D50 (µm)',\n",
    "    # 'D90 (µm)',\n",
    "    # 'perc GRAVEL',\n",
    "    # 'perc SAND',\n",
    "    'perc MUD',\n",
    "    # 'perc CLAY',\n",
    "    # 'OM_D50',\n",
    "    'TOC',\n",
    "    # 'Hg',\n",
    "    # 'TIC',\n",
    "    # 'regio_sep',\n",
    "    # 'PC1', 'PC2'\n",
    "    ]\n",
    "model_X = model_data[featurelist]\n",
    "model_y = model_data[target]\n",
    "pred_X = pred_data[featurelist]"
   ]
  },
  {
   "cell_type": "code",
   "execution_count": null,
   "metadata": {},
   "outputs": [],
   "source": [
    "# mutual exclusive list (list of lists detailing predictors that are not allowed together in one model candidate)\n",
    "\n",
    "mutual_exclusive = [\n",
    "    ['D50 (µm)','PC1','perc MUD'],\n",
    "    ['Dist_WWTP','Dist_WWTP2'],\n",
    "    [],\n",
    "    [],\n",
    "]"
   ]
  },
  {
   "cell_type": "code",
   "execution_count": null,
   "metadata": {},
   "outputs": [],
   "source": [
    "model_y.describe()\n",
    "# model_y.hist()\n"
   ]
  },
  {
   "cell_type": "markdown",
   "metadata": {},
   "source": [
    "## Model building"
   ]
  },
  {
   "cell_type": "markdown",
   "metadata": {
    "tags": []
   },
   "source": [
    "### Preprocessing"
   ]
  },
  {
   "cell_type": "code",
   "execution_count": null,
   "metadata": {},
   "outputs": [],
   "source": [
    "# cat_cols = model_X.select_dtypes(exclude=['number', 'bool']).columns.to_list()  # get categorical columns\n",
    "\n",
    "# transformer = OneHotEncoder()\n",
    "# transformed = transformer.fit_transform(model_X[cat_cols])\n",
    "# columns = transformer.get_feature_names_out(cat_cols)\n",
    "# transformed_df = pd.DataFrame.sparse.from_spmatrix(transformed, columns=columns)\n",
    "\n",
    "# model_X = pd.concat([model_X.reset_index().drop(cat_cols, axis=1), transformed_df], join='inner', axis=1).set_index('Sample')"
   ]
  },
  {
   "cell_type": "code",
   "execution_count": null,
   "metadata": {},
   "outputs": [],
   "source": [
    "# create exhaustive feature selector\n",
    "# using leave-p-out on columns labels to generate a boolean matrix\n",
    "\n",
    "feature_candidates_list = []\n",
    "\n",
    "for i in range(1,len(model_X.columns)):\n",
    "    lpo = LeavePOut(p=i)\n",
    "    # base_index = [False] * len(model_X.columns)\n",
    "    for candidate_indices, _ in lpo.split(model_X.columns):\n",
    "        feature_candidates = model_X.columns[candidate_indices]\n",
    "        # TODO: perhaps provide a list of mutually exclusive features and skip appending when that's the case\n",
    "        feature_candidates_list.append(feature_candidates)\n",
    "\n",
    "def SelectFeatures(model_X, feature_set=0, feature_sets=feature_candidates_list):\n",
    "    return model_X.loc[:, feature_sets[feature_set]]\n",
    "\n",
    "CustomFeatureSelector = FunctionTransformer(SelectFeatures)"
   ]
  },
  {
   "cell_type": "code",
   "execution_count": null,
   "metadata": {},
   "outputs": [],
   "source": [
    "PreProcessor = ColumnTransformer([\n",
    "      ('selector', CustomFeatureSelector, model_X.columns),\n",
    "      # ('imputer', SimpleImputer(), make_column_selector(dtype_include=np.number)),\n",
    "      # ('scaler', StandardScaler(), make_column_selector(dtype_include=np.number)),\n",
    "      # ('encoder', OneHotEncoder(), make_column_selector(dtype_include=object)),\n",
    "      ])"
   ]
  },
  {
   "cell_type": "code",
   "execution_count": null,
   "metadata": {},
   "outputs": [],
   "source": [
    "# Pipeline and parameter grid for model selection, see here for inspiration: https://towardsdatascience.com/getting-the-most-out-of-scikit-learn-pipelines-c2afc4410f1a\n",
    "\n",
    "pipe = Pipeline([\n",
    "    ('preprocessor', PreProcessor),\n",
    "    ('regressor', DummyRegressor())])\n",
    "\n",
    "params = [{\n",
    "    'preprocessor__selector__kw_args': [{'feature_set':i} for i in range(len(feature_candidates_list))],\n",
    "    \n",
    "    # {'preprocessor__scaler': [StandardScaler()],\n",
    "    #     'preprocessor__scaler__with_mean': [True, False],\n",
    "    #     'preprocessor__scaler__with_std': [True, False],\n",
    "    # },\n",
    "\n",
    "    # {'preporcessor__scaler': [MaxAbsScaler()]\n",
    "    # },\n",
    "    # {'preporcessor__scaler': [MinMaxScaler()],\n",
    "    # },\n",
    "\n",
    "    # {'regressor': [DummyRegressor()],\n",
    "    #     'regressor__strategy': ['mean', 'median']\n",
    "    # },\n",
    "    \n",
    "    'regressor': [SVR()],\n",
    "        'regressor__C': [1], #[0.1, 0.5, 1.0],\n",
    "        'regressor__kernel': ['linear'], #['linear', 'rbf', 'poly'],\n",
    "        'regressor__degree': [1], #[1, 2, 3, 4, 5],\n",
    "    },\n",
    "    # {'regressor': [RandomForestRegressor()],\n",
    "    #     'regressor__n_estimators': [10, 20, 50, 100, 150],\n",
    "    #     'regressor__max_features': [None, 'sqrt', 'log2'],\n",
    "    #     'regressor__min_samples_split': [2, 5, 10],\n",
    "    #     'regressor__min_samples_leaf': [1, 2, 5],\n",
    "    #     'regressor__bootstrap': [True, False],\n",
    "    #     'regressor__max_depth': [None, 5, 10, 20, 50],\n",
    "    #     'regressor__warm_start': [True, False]\n",
    "    # },\n",
    "    ]"
   ]
  },
  {
   "cell_type": "markdown",
   "metadata": {},
   "source": [
    "### Pipeline"
   ]
  },
  {
   "cell_type": "code",
   "execution_count": null,
   "metadata": {},
   "outputs": [],
   "source": [
    "\n",
    "# Pipeline and parameter grid for model selection using PipelineHelper\n",
    "\n",
    "# pipe = Pipeline([\n",
    "#     ('scaler', PipelineHelper([\n",
    "#         ('std', StandardScaler()),\n",
    "#         ('max', MaxAbsScaler()),\n",
    "#     #     # ('minmax', MinMaxScaler()),\n",
    "#     ],optional=False)),  # set to True to also try with no scaler activated (i.e. no scaling). Equivalent to using StandardScaler's 'with_mean' and 'with_std' set to False.\n",
    "\n",
    "#     ('selector', PipelineHelper([\n",
    "#         ('selectkbest', SelectKBest()),\n",
    "#         # ('efs', EFS()),\n",
    "#     ])),\n",
    "\n",
    "#     ('regressor', PipelineHelper([\n",
    "#         ('dummy', DummyRegressor()),\n",
    "#         # ('glm', SMWrapper(family=Config.glm_family, formula=Config.glm_formula)),\n",
    "#         ('svm', SVR()),\n",
    "#         # ('rf', RandomForestRegressor()),\n",
    "#         # ('ada', AdaBoostRegressor()),\n",
    "#         # ('gb', GradientBoostingRegressor()),\n",
    "#         # ('knn', KNeighborsRegressor()),\n",
    "#         # ('rnn', RadiusNeighborsRegressor()),\n",
    "#         # ('nb_pipe', Pipeline([\n",
    "#             # ('scaler', MinMaxScaler()),  # Naive Bayes needs positive numbers\n",
    "#             # ('nb', GaussianNB()),\n",
    "#         # ])),\n",
    "#     ])),\n",
    "# ])\n",
    "\n",
    "# params = {\n",
    "#     'scaler__selected_model': pipe.named_steps['scaler'].generate(\n",
    "#         {\n",
    "#             'std__with_mean': [True, False],\n",
    "#             'std__with_std': [True, False],\n",
    "#             # no params for 'max' and 'minmax' leads to using standard params\n",
    "#         }\n",
    "#     ),\n",
    "#     'selector__selected_model': pipe.named_steps['selector'].generate(\n",
    "#         {\n",
    "#             'selectkbest__k': [1, 2, 3, 4, 5],\n",
    "#             'selectkbest__score_func': [mutual_info_regression, f_regression],\n",
    "#             # 'efs__max_features': [model_X.shape[1]],\n",
    "#         }\n",
    "#     ),\n",
    "#     'regressor__selected_model': pipe.named_steps['regressor'].generate(\n",
    "#         {\n",
    "#             'dummy__strategy': ['mean', 'median'],\n",
    "#             # 'glm__alpha': [0.0, 0.1, 0.2, 0.5, 1.0],\n",
    "#             # 'glm__L1_wt': [0.1, 0.5, 1],\n",
    "#             'svm__C': [1], #[0.1, 0.5, 1.0],\n",
    "#             'svm__kernel': ['linear'], #['linear', 'rbf', 'poly'],\n",
    "#             'svm__degree': [1], #[1, 2, 3, 4, 5],\n",
    "#             # 'rf__n_estimators': [10, 20, 50, 100, 150],\n",
    "#             # 'rf__max_features': ['sqrt', 'log2', None],\n",
    "#             # 'rf__min_samples_split': [2, 5, 10],\n",
    "#             # 'rf__min_samples_leaf': [1, 2, 4],\n",
    "#             # 'rf__bootstrap': [True, False],\n",
    "#             # 'rf__max_depth': [None, 2, 5, 10],\n",
    "#             # 'rf__warm_start': [True, False],\n",
    "#             # 'ada__n_estimators': [10, 20, 40, 100],\n",
    "#             # 'ada__learning_rate': [0.1, 0.5, 1.0, 2.0],\n",
    "#             # 'ada__loss': ['linear', 'square', 'exponential'],\n",
    "#             # 'gb__n_estimators': [10, 20, 50, 100],\n",
    "#             # 'gb__criterion': ['friedman_mse', 'squared_error'],\n",
    "#             # 'gb__max_features': ['sqrt', None],\n",
    "#             # 'knn__n_neighbors': [2, 3, 5, 7, 10],\n",
    "#             # 'knn__leaf_size': [1, 2, 3, 5],\n",
    "#             # 'knn__weights': ['uniform', 'distance'],\n",
    "#             # 'knn__algorithm': ['auto', 'ball_tree', 'kd_tree', 'brute'],\n",
    "#             # 'rnn__radius': [1000, 5, 2, 1, 0.5],\n",
    "#             # 'rnn__weights': [\n",
    "#             #     # 'uniform',\n",
    "#             #     'distance'\n",
    "#             #     ],\n",
    "#             # 'rnn__algorithm': [\n",
    "#             #     'auto',\n",
    "#             #     # 'ball_tree',\n",
    "#             #     # 'kd_tree',\n",
    "#             #     # 'brute'\n",
    "#             #     ],\n",
    "#             # 'rnn__leaf_size': [5, 2, 1],\n",
    "#             # 'nb_pipe__nb__prior': None,  # if using NB choose priors first!\n",
    "#         }\n",
    "#     ),\n",
    "# }\n"
   ]
  },
  {
   "cell_type": "code",
   "execution_count": null,
   "metadata": {},
   "outputs": [],
   "source": [
    "scoring = ['neg_mean_absolute_error']  # possibilities: ‘neg_root_mean_squared_error’, ‘neg_mean_squared_error’, 'r2', 'neg_mean_absolute_error', 'neg_mean_squared_log_error'\n",
    "    \n",
    "\n",
    "grid = GridSearchCV(  # TODO: Possible to set random state for all estimators?\n",
    "    pipe,\n",
    "    params,\n",
    "    scoring= scoring,\n",
    "    error_score=np.nan,\n",
    "    refit= scoring[0],\n",
    "    cv=LeaveOneOut(),\n",
    "    verbose=1,\n",
    "    n_jobs=-1\n",
    "    )\n",
    "\n",
    "grid.fit(model_X, model_y)\n"
   ]
  },
  {
   "cell_type": "code",
   "execution_count": null,
   "metadata": {},
   "outputs": [],
   "source": [
    "print(grid.best_params_)\n",
    "print(grid.best_score_)"
   ]
  },
  {
   "cell_type": "code",
   "execution_count": null,
   "metadata": {},
   "outputs": [],
   "source": [
    "# grid.best_estimator_.get_feature_names_out()"
   ]
  },
  {
   "cell_type": "code",
   "execution_count": null,
   "metadata": {},
   "outputs": [],
   "source": [
    "# scores = pd.DataFrame(grid.cv_results_)\n",
    "# scores"
   ]
  },
  {
   "cell_type": "code",
   "execution_count": null,
   "metadata": {},
   "outputs": [],
   "source": [
    "self_pred_y = grid.predict(model_X)  # use the best model to predict the data on the same samples that were used to train the model"
   ]
  },
  {
   "cell_type": "code",
   "execution_count": null,
   "metadata": {},
   "outputs": [],
   "source": [
    "r2_score(model_y, self_pred_y)"
   ]
  },
  {
   "cell_type": "code",
   "execution_count": null,
   "metadata": {},
   "outputs": [],
   "source": [
    "df = pd.concat([\n",
    "    model_data.loc[model_y.index].regio_sep,\n",
    "    model_y,\n",
    "    pd.Series(\n",
    "        self_pred_y,\n",
    "        name='Prediction',\n",
    "        index=model_y.index)\n",
    "        ],\n",
    "    axis=1\n",
    "    ).reset_index()"
   ]
  },
  {
   "cell_type": "code",
   "execution_count": null,
   "metadata": {},
   "outputs": [],
   "source": [
    "\n",
    "scatter_chart(df, target, 'Prediction', color='regio_sep', labels='Sample', identity=True, equal_axes=False)[0]"
   ]
  },
  {
   "cell_type": "code",
   "execution_count": null,
   "metadata": {},
   "outputs": [],
   "source": []
  }
 ],
 "metadata": {
  "kernelspec": {
   "display_name": "Python 3.9.13 ('MPSchleiSediments-z4CtktJ9')",
   "language": "python",
   "name": "python3"
  },
  "language_info": {
   "codemirror_mode": {
    "name": "ipython",
    "version": 3
   },
   "file_extension": ".py",
   "mimetype": "text/x-python",
   "name": "python",
   "nbconvert_exporter": "python",
   "pygments_lexer": "ipython3",
   "version": "3.9.13"
  },
  "orig_nbformat": 4,
  "vscode": {
   "interpreter": {
    "hash": "82a31816b63c673b7463547b8d8376fc489f1e362f1a21f244a13819d6095661"
   }
  }
 },
 "nbformat": 4,
 "nbformat_minor": 2
}
