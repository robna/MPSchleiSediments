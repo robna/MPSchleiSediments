{
 "cells": [
  {
   "cell_type": "code",
   "execution_count": null,
   "metadata": {},
   "outputs": [],
   "source": [
    "%reload_ext autoreload\n",
    "%autoreload 2\n",
    "\n",
    "from pathlib import Path\n",
    "from xml.etree.ElementPath import get_parent_map\n",
    "import pandas as pd\n",
    "from IPython.display import display\n",
    "\n",
    "import sys\n",
    "sys.path.append(str(Path().resolve().parents[1]/'gepard'))\n",
    "\n",
    "import pyximport  # TODO: tried this to be able to import gepard.dataset, but it didn't work\n",
    "pyximport.install()\n",
    "\n",
    "import gepard.dataset as dataset"
   ]
  },
  {
   "cell_type": "code",
   "execution_count": null,
   "metadata": {},
   "outputs": [],
   "source": [
    "data_root = Path('/run/media/rob/temp_data/Schleiproben_test')"
   ]
  },
  {
   "cell_type": "code",
   "execution_count": null,
   "metadata": {},
   "outputs": [],
   "source": [
    "if Path('pkl_files.csv').is_file():\n",
    "    pkls = pd.read_csv('pkl_files.csv')\n",
    "\n",
    "else:\n",
    "    pkls = []\n",
    "    for path in data_root.rglob('*.pkl'):\n",
    "        pkls.append({\n",
    "            'path': path.parent,\n",
    "            'name': path.name,\n",
    "            'tmod': path.stat().st_mtime,\n",
    "            'size': path.stat().st_size\n",
    "        })\n",
    "    pkls = pd.DataFrame(pkls)\n",
    "    pkls.to_csv('pkl_files.csv', index=False)"
   ]
  },
  {
   "cell_type": "code",
   "execution_count": null,
   "metadata": {},
   "outputs": [],
   "source": [
    "# Routine for manual decision of which pkl files should be used\n",
    "# TODO: not functional yet\n",
    "\n",
    "# pkls['use_this'] = False\n",
    "\n",
    "# for path, group in pkls.head(10).groupby(['path'], sort=False):\n",
    "#     if len(group) > 1:\n",
    "#         display(group[['name', 'tmod', 'size']].sort_values(by='tmod', ascending=False))\n",
    "#         while True:\n",
    "#             try:\n",
    "#                 num = int(input(\"Which one do you want to keep? \"))\n",
    "#             except ValueError:\n",
    "#                 print(\"Sorry, I didn't understand that.\")\n",
    "#                 continue\n",
    "#             if num in group.index or num < 0:\n",
    "#                 break\n",
    "#             else:\n",
    "#                 print(\"Sorry, I didn't understand that.\")\n",
    "\n",
    "#     else:\n",
    "#         num = group.index\n",
    "\n",
    "#     if num < 0:\n",
    "#         break\n",
    "#     else:\n",
    "#         pkls.loc[num, 'use_this'] = True\n",
    "\n",
    "\n",
    "# Alternative routine for automatic decision of which pkl files should be used: keep the newest one\n",
    "recent_pkls_indices = pkls.groupby(['path'], sort=False).tmod.nlargest(1).index.get_level_values(1)\n",
    "recent_pkls = pkls.loc[recent_pkls_indices.values,:]"
   ]
  },
  {
   "cell_type": "code",
   "execution_count": null,
   "metadata": {},
   "outputs": [],
   "source": [
    "pkl = f'{recent_pkls.path.values[0]}/{recent_pkls.name.values[0]}'\n",
    "dset = dataset(pkl)"
   ]
  }
 ],
 "metadata": {
  "kernelspec": {
   "display_name": "Python 3.9.13 ('MPSchleiSediments-z4CtktJ9')",
   "language": "python",
   "name": "python3"
  },
  "language_info": {
   "codemirror_mode": {
    "name": "ipython",
    "version": 3
   },
   "file_extension": ".py",
   "mimetype": "text/x-python",
   "name": "python",
   "nbconvert_exporter": "python",
   "pygments_lexer": "ipython3",
   "version": "3.9.13"
  },
  "orig_nbformat": 4,
  "vscode": {
   "interpreter": {
    "hash": "82a31816b63c673b7463547b8d8376fc489f1e362f1a21f244a13819d6095661"
   }
  }
 },
 "nbformat": 4,
 "nbformat_minor": 2
}
