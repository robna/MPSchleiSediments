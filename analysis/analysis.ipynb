{
 "cells": [
  {
   "cell_type": "code",
   "execution_count": 1,
   "metadata": {
    "pycharm": {
     "is_executing": true
    }
   },
   "outputs": [
    {
     "data": {
      "text/plain": [
       "DataTransformerRegistry.enable('default')"
      ]
     },
     "execution_count": 1,
     "metadata": {},
     "output_type": "execute_result"
    }
   ],
   "source": [
    "%reload_ext autoreload\n",
    "%autoreload 2\n",
    "\n",
    "import numpy as np\n",
    "import pandas as pd\n",
    "import altair as alt\n",
    "from scipy import stats\n",
    "\n",
    "try:  # if on phy-server local modules will not be found if their directory is not added to PATH\n",
    "    import sys\n",
    "    sys.path.append(\"/silod7/lenz/MPSchleiSediments/analysis/\")\n",
    "    import os\n",
    "    os.chdir(\"/silod7/lenz/MPSchleiSediments/analysis/\")\n",
    "except Exception:\n",
    "    pass\n",
    "\n",
    "import prepare_data\n",
    "import KDE_utils\n",
    "import correlations\n",
    "from pcoa import sed_pcoa\n",
    "from pca import sed_pca\n",
    "import glm\n",
    "from settings import Config\n",
    "\n",
    "# alt.renderers.enable('altair_viewer')  # use to display altair charts externally in browser instead of inline (only activate in non-vega-compatible IDE like pycharm)\n",
    "alt.data_transformers.disable_max_rows()"
   ]
  },
  {
   "cell_type": "markdown",
   "metadata": {},
   "source": [
    "## Load and prepare data\n",
    "**Before running, check the computational parameters in settings.py**\n",
    "\n",
    "Nomenclature:\n",
    "- *pdd*: particle domain data = data is particle based, meaning one entry (row) corresponds to one particle and one feature (column) corresponds to one property observed for that particle\n",
    "- *sdd*: sample domain data = data is sample based, meaning one entry (row) corresponds to one sample and one feature (column) corresponds to one property observed for that sample\n",
    "- *mp*: data on microplastics\n",
    "- *sed*: data on sediments"
   ]
  },
  {
   "cell_type": "code",
   "execution_count": 2,
   "metadata": {
    "collapsed": false,
    "jupyter": {
     "outputs_hidden": false
    },
    "pycharm": {
     "name": "#%% loading data\n"
    }
   },
   "outputs": [],
   "source": [
    "# What happened so far: DB extract and blank procedure. Now import resulting MP data from csv\n",
    "mp_pdd = pd.read_csv('../csv/env_MP_clean_list_SchleiSediments.csv', index_col=0)\n",
    "\n",
    "# The following is a hotfix for missing data on sampling weight.\n",
    "# TODO: Correct error in S29 in MPDB and reomove this line!\n",
    "mp_pdd.loc[mp_pdd.Sample == 'Schlei_S29', 'Sampling_weight_[kg]'] = 0.25\n",
    "\n",
    "# Also import sediment data (sediment frequencies per size bin from master sizer export)\n",
    "sed_sdd = pd.read_csv('../csv/Enders_export_10µm_linear_noR_RL.csv')"
   ]
  },
  {
   "cell_type": "code",
   "execution_count": 3,
   "metadata": {},
   "outputs": [],
   "source": [
    "# Get the binning structure of the imported sediment data and optionally rebin it (make binning coarser) for faster computation\n",
    "sed_sdd, sed_lower_boundaries = prepare_data.sediment_preps(sed_sdd)"
   ]
  },
  {
   "cell_type": "code",
   "execution_count": 4,
   "metadata": {
    "collapsed": false,
    "jupyter": {
     "outputs_hidden": false
    },
    "pycharm": {
     "name": "#%% data wrangling\n"
    }
   },
   "outputs": [],
   "source": [
    "# ...some data wrangling to prepare particle domain data and sample domain data for MP and combine with certain sediment aggregates.\n",
    "mp_sdd = prepare_data.aggregate_SDD(mp_pdd)  # TODO: Schlei_S29 has a sampling_mass of 0 in MPDB. Manually set here now to 0.25 kg in imported csv file, but needs to be checked and corrrected in DB and the csv recreated from DB.\n",
    "mp_added_sed_sdd = prepare_data.add_sediment(mp_sdd)\n",
    "# mp_added_metadata_pdd = prepare_data.sdd2pdd(mp_added_sed_sdd, mp_pdd)  # TODO: not used. Remove?"
   ]
  },
  {
   "cell_type": "markdown",
   "metadata": {
    "pycharm": {
     "name": "#%% md\n"
    },
    "tags": []
   },
   "source": [
    "## MP particle size distributions\n",
    "\n",
    "*This calculates probability density distributions for MP sizes. These are used to estimate the abundances of MP of specific size ranges, which can then be investigated for correlations to environmental parameters such as TOC or sediment grain size properties.*\n",
    "**Before running, check the computational parameters in settings.py**"
   ]
  },
  {
   "cell_type": "code",
   "execution_count": 5,
   "metadata": {
    "collapsed": false,
    "jupyter": {
     "outputs_hidden": false
    },
    "pycharm": {
     "name": "#%% calculating probability densities\n"
    }
   },
   "outputs": [
    {
     "name": "stdout",
     "output_type": "stream",
     "text": [
      "Schlei_S8:    bandwidth is 50                        \r"
     ]
    }
   ],
   "source": [
    "# KDEs for probability of finding a MP particle in a specific size bin are calculated.\n",
    "size_pdfs = KDE_utils.per_sample_kde(mp_pdd, sed_lower_boundaries)"
   ]
  },
  {
   "cell_type": "code",
   "execution_count": 6,
   "metadata": {},
   "outputs": [],
   "source": [
    "# Get MP concentrations for each single-step size bin\n",
    "mp_size_conc = KDE_utils.probDens2conc(size_pdfs, mp_sdd)"
   ]
  },
  {
   "cell_type": "code",
   "execution_count": 7,
   "metadata": {},
   "outputs": [],
   "source": [
    "# MP and sediment abundances per size bin are equalised (only samples and bins contained in both of the are kept).\n",
    "# They are then melted and merged into MPsedMelted.\n",
    "mp_size_conc, sed_sdd, mp_sed_melt = prepare_data.equalise_mp_and_sed(mp_size_conc, sed_sdd)"
   ]
  },
  {
   "cell_type": "markdown",
   "metadata": {},
   "source": [
    "## Sediment size bin dimension reduction"
   ]
  },
  {
   "cell_type": "code",
   "execution_count": 8,
   "metadata": {
    "collapsed": false,
    "jupyter": {
     "outputs_hidden": false
    },
    "pycharm": {
     "name": "#%%\n"
    }
   },
   "outputs": [],
   "source": [
    "# PCA\n",
    "\n",
    "# SEDpc, SEDexp, SEDload = sed_pca(SEDext.T)\n",
    "sedpc, sedexp, sedload = sed_pca(sed_sdd)\n",
    "\n",
    "# To see a loadings plot use:\n",
    "# sedload_df = pd.DataFrame(sedload, columns=['PC1', 'PC2', 'PC3'], index = np.unique(np.concatenate(np.char.split(sed_size_freqs.index.values.astype(str), '_')).ravel().astype(int))[:-1]).T\n",
    "# sedload_df.T.plot()  # x-axis corresponds to lower boundary of size bins"
   ]
  },
  {
   "cell_type": "code",
   "execution_count": 13,
   "metadata": {
    "pycharm": {
     "name": "#%%\n"
    }
   },
   "outputs": [
    {
     "name": "stderr",
     "output_type": "stream",
     "text": [
      "/home/nibor/.local/share/virtualenvs/MPSchleiSediments-bSFBF4Xj/lib/python3.9/site-packages/skbio/stats/ordination/_principal_coordinate_analysis.py:143: RuntimeWarning: The result contains negative eigenvalues. Please compare their magnitude with the magnitude of some of the largest positive eigenvalues. If the negative ones are smaller, it's probably safe to ignore them, but if they are large in magnitude, the results won't be useful. See the Notes section for more details. The smallest eigenvalue is -0.04172037224156968 and the largest is 3.514528282136745.\n",
      "  warn(\n"
     ]
    },
    {
     "name": "stdout",
     "output_type": "stream",
     "text": [
      "Proportion explained: \n",
      " PC1    0.795954\n",
      "PC2    0.110231\n",
      "dtype: float64    Total: exp.sum 0.9061841730320491\n"
     ]
    },
    {
     "data": {
      "text/html": [
       "\n",
       "<div id=\"altair-viz-879737952b4645c1bedb1fcc8682735a\"></div>\n",
       "<script type=\"text/javascript\">\n",
       "  (function(spec, embedOpt){\n",
       "    let outputDiv = document.currentScript.previousElementSibling;\n",
       "    if (outputDiv.id !== \"altair-viz-879737952b4645c1bedb1fcc8682735a\") {\n",
       "      outputDiv = document.getElementById(\"altair-viz-879737952b4645c1bedb1fcc8682735a\");\n",
       "    }\n",
       "    const paths = {\n",
       "      \"vega\": \"https://cdn.jsdelivr.net/npm//vega@5?noext\",\n",
       "      \"vega-lib\": \"https://cdn.jsdelivr.net/npm//vega-lib?noext\",\n",
       "      \"vega-lite\": \"https://cdn.jsdelivr.net/npm//vega-lite@4.8.1?noext\",\n",
       "      \"vega-embed\": \"https://cdn.jsdelivr.net/npm//vega-embed@6?noext\",\n",
       "    };\n",
       "\n",
       "    function loadScript(lib) {\n",
       "      return new Promise(function(resolve, reject) {\n",
       "        var s = document.createElement('script');\n",
       "        s.src = paths[lib];\n",
       "        s.async = true;\n",
       "        s.onload = () => resolve(paths[lib]);\n",
       "        s.onerror = () => reject(`Error loading script: ${paths[lib]}`);\n",
       "        document.getElementsByTagName(\"head\")[0].appendChild(s);\n",
       "      });\n",
       "    }\n",
       "\n",
       "    function showError(err) {\n",
       "      outputDiv.innerHTML = `<div class=\"error\" style=\"color:red;\">${err}</div>`;\n",
       "      throw err;\n",
       "    }\n",
       "\n",
       "    function displayChart(vegaEmbed) {\n",
       "      vegaEmbed(outputDiv, spec, embedOpt)\n",
       "        .catch(err => showError(`Javascript Error: ${err.message}<br>This usually means there's a typo in your chart specification. See the javascript console for the full traceback.`));\n",
       "    }\n",
       "\n",
       "    if(typeof define === \"function\" && define.amd) {\n",
       "      requirejs.config({paths});\n",
       "      require([\"vega-embed\"], displayChart, err => showError(`Error loading script: ${err.message}`));\n",
       "    } else if (typeof vegaEmbed === \"function\") {\n",
       "      displayChart(vegaEmbed);\n",
       "    } else {\n",
       "      loadScript(\"vega\")\n",
       "        .then(() => loadScript(\"vega-lite\"))\n",
       "        .then(() => loadScript(\"vega-embed\"))\n",
       "        .catch(showError)\n",
       "        .then(() => displayChart(vegaEmbed));\n",
       "    }\n",
       "  })({\"config\": {\"view\": {\"continuousWidth\": 400, \"continuousHeight\": 300}}, \"data\": {\"name\": \"data-92a6b238f3c4579695afeb785f12400f\"}, \"mark\": \"point\", \"encoding\": {\"color\": {\"type\": \"quantitative\", \"field\": \"D50\"}, \"tooltip\": {\"type\": \"quantitative\", \"field\": \"index\"}, \"x\": {\"type\": \"quantitative\", \"field\": \"PC1\"}, \"y\": {\"type\": \"quantitative\", \"field\": \"<63\\u00b5m\"}}, \"$schema\": \"https://vega.github.io/schema/vega-lite/v4.8.1.json\", \"datasets\": {\"data-92a6b238f3c4579695afeb785f12400f\": [{\"index\": 0, \"PC1\": -0.4566784419385978, \"PC2\": 0.09242037800270497, \"Sample\": \"Schlei_S10\", \"Frequency\": 306, \"FrequencyA500\": 4, \"FrequencyB500\": 302, \"Mass\": 0.25, \"GPS_LONs\": 9.60355, \"GPS_LATs\": 54.5253, \"Split\": 1.0, \"MP_D50\": 85.86019690647024, \"Concentration\": 1224.0, \"ConcentrationA500\": 16.0, \"ConcentrationB500\": 1208.0, \"Station ID\": \"S10\", \"+ 15 cm ?\": 1.0, \"Date\": \"15-05-18\", \"Arrival\": \"10:20:00\", \"Sediment\": null, \"CTD\": null, \"Departure\": null, \"GPS LAT\": \"54\\u00b0 31.516\\u2019\", \"GPS LON\": \"09\\u00b0 36.213\\u2019\", \"Depth\": 0.8, \"Comments\": \"Kl\\u00e4rwerk 3 (direkt am Auslauf)\", \"D50\": 221.5, \"<63\\u00b5m\": 5.03, \"20\": 4.61, \"25\": 4.75, \"32\": 2.98, \"38\": 2.67, \"45\": 2.34, \"53\": 2.29, \"63\": 2.2, \"75\": 2.25, \"90\": 2.0, \"106\": 2.0, \"125\": 2.16, \"150\": 2.1, \"180\": 1.85, \"212\": 1.88, \"250\": 2.16, \"300\": 2.13, \"355\": 2.46, \"425\": 2.37, \"500\": 2.79, \"600\": 2.64, \"710\": 2.84, \"850\": 2.56, \"1000\": 2.62, \"1180\": 2.72, \"1400\": 3.05, \"1700\": 2.38, \"2000\": 2.11, \"2360\": 1.59, \"2800\": 0.93, \"3350\": 0.15, \"4000\": 0.0, \"4750\": 0.0, \"5600\": 0.0, \"6300\": 0.0, \"6700\": 0.0, \"8000\": 0.0, \"9500\": 0.0, \" Below 63 \\u00b5m\": 48.05, \" Below 90 \\u00b5m\": 52.5, \" Below 125 \\u00b5m\": 56.5, \" Below 180 \\u00b5m\": 60.76, \" Below 250 \\u00b5m\": 64.48, \" Below 355 \\u00b5m\": 68.78, \" Below 500 \\u00b5m\": 73.61, \" Below 710 \\u00b5m\": 79.04, \" Below 1000 \\u00b5m\": 84.44, \" Below 1400 \\u00b5m\": 89.78, \" Below 2000 \\u00b5m\": 95.22, \" Above 2000 \\u00b5m\": 4.78, \"Dx 10\": 7.65, \"Dx 16\": 10.9, \"Dx 25\": 17.0, \"Dx 50\": 73.5, \"Dx 75\": 548.0, \"Dx 84\": 972.0, \"Dx 90\": 1420.0, \"TOC\": 0.3995, \"Hg\": 5.0, \"Dist_WWTP\": 27.5, \"regio_sep\": \"inner\"}, {\"index\": 1, \"PC1\": -0.3870694402189973, \"PC2\": 0.04192021389792746, \"Sample\": \"Schlei_S10_15cm\", \"Frequency\": 470, \"FrequencyA500\": 69, \"FrequencyB500\": 401, \"Mass\": 0.03, \"GPS_LONs\": 9.60355, \"GPS_LATs\": 54.5253, \"Split\": 1.0, \"MP_D50\": 108.67542894359079, \"Concentration\": 15667.0, \"ConcentrationA500\": 2300.0, \"ConcentrationB500\": 13367.0, \"Station ID\": \"S10_d\", \"+ 15 cm ?\": null, \"Date\": null, \"Arrival\": null, \"Sediment\": null, \"CTD\": null, \"Departure\": null, \"GPS LAT\": \"54\\u00b0 31.516\\u2019\", \"GPS LON\": \"09\\u00b0 36.213\\u2019\", \"Depth\": 0.8, \"Comments\": null, \"D50\": 209.5, \"<63\\u00b5m\": 13.45, \"20\": 7.14, \"25\": 8.04, \"32\": 5.54, \"38\": 5.3, \"45\": 4.9, \"53\": 4.85, \"63\": 4.5, \"75\": 4.1, \"90\": 3.12, \"106\": 2.59, \"125\": 2.14, \"150\": 1.55, \"180\": 1.01, \"212\": 0.74, \"250\": 0.67, \"300\": 0.54, \"355\": 0.51, \"425\": 0.42, \"500\": 0.44, \"600\": 0.37, \"710\": 0.38, \"850\": 0.29, \"1000\": 0.23, \"1180\": 0.17, \"1400\": 0.1, \"1700\": 0.04, \"2000\": 0.02, \"2360\": 0.0, \"2800\": 0.0, \"3350\": 0.0, \"4000\": 0.0, \"4750\": 0.0, \"5600\": 0.0, \"6300\": 0.0, \"6700\": 0.0, \"8000\": 0.0, \"9500\": 0.0, \" Below 63 \\u00b5m\": 76.07, \" Below 90 \\u00b5m\": 84.67, \" Below 125 \\u00b5m\": 90.38, \" Below 180 \\u00b5m\": 94.07, \" Below 250 \\u00b5m\": 95.82, \" Below 355 \\u00b5m\": 97.03, \" Below 500 \\u00b5m\": 97.97, \" Below 710 \\u00b5m\": 98.77, \" Below 1000 \\u00b5m\": 99.44, \" Below 1400 \\u00b5m\": 99.84, \" Below 2000 \\u00b5m\": 99.98, \" Above 2000 \\u00b5m\": 0.02, \"Dx 10\": 5.89, \"Dx 16\": 8.11, \"Dx 25\": 11.8, \"Dx 50\": 27.1, \"Dx 75\": 60.6, \"Dx 84\": 87.1, \"Dx 90\": 122.0, \"TOC\": 0.1685, \"Hg\": 16.27916431427, \"Dist_WWTP\": 27.5, \"regio_sep\": \"inner\"}, {\"index\": 2, \"PC1\": 0.30659046538908497, \"PC2\": -0.0008701647327490349, \"Sample\": \"Schlei_S11\", \"Frequency\": 191, \"FrequencyA500\": 3, \"FrequencyB500\": 188, \"Mass\": 0.081, \"GPS_LONs\": 9.61442, \"GPS_LATs\": 54.5238, \"Split\": 0.5, \"MP_D50\": 93.76566535784832, \"Concentration\": 4716.0, \"ConcentrationA500\": 74.0, \"ConcentrationB500\": 4642.0, \"Station ID\": \"S11\", \"+ 15 cm ?\": null, \"Date\": \"15-05-18\", \"Arrival\": \"10:30:00\", \"Sediment\": \"10:32:00\", \"CTD\": \"10:33:00\", \"Departure\": null, \"GPS LAT\": \"54\\u00b0 31.426\\u2019\", \"GPS LON\": \"09\\u00b0 36.865\\u2019\", \"Depth\": 2.9, \"Comments\": null, \"D50\": 28.55, \"<63\\u00b5m\": 76.75, \"20\": 4.25, \"25\": 5.02, \"32\": 3.83, \"38\": 4.12, \"45\": 4.43, \"53\": 5.12, \"63\": 5.49, \"75\": 5.86, \"90\": 5.06, \"106\": 4.66, \"125\": 4.29, \"150\": 3.38, \"180\": 2.31, \"212\": 1.72, \"250\": 1.51, \"300\": 1.17, \"355\": 1.1, \"425\": 0.91, \"500\": 0.88, \"600\": 0.63, \"710\": 0.48, \"850\": 0.27, \"1000\": 0.18, \"1180\": 0.16, \"1400\": 0.18, \"1700\": 0.14, \"2000\": 0.12, \"2360\": 0.09, \"2800\": 0.05, \"3350\": 0.01, \"4000\": 0.0, \"4750\": 0.0, \"5600\": 0.0, \"6300\": 0.0, \"6700\": 0.0, \"8000\": 0.0, \"9500\": 0.0, \" Below 63 \\u00b5m\": 59.35, \" Below 90 \\u00b5m\": 70.71, \" Below 125 \\u00b5m\": 80.43, \" Below 180 \\u00b5m\": 88.09, \" Below 250 \\u00b5m\": 92.11, \" Below 355 \\u00b5m\": 94.79, \" Below 500 \\u00b5m\": 96.8, \" Below 710 \\u00b5m\": 98.32, \" Below 1000 \\u00b5m\": 99.06, \" Below 1400 \\u00b5m\": 99.4, \" Below 2000 \\u00b5m\": 99.72, \" Above 2000 \\u00b5m\": 0.28, \"Dx 10\": 5.45, \"Dx 16\": 8.0, \"Dx 25\": 13.3, \"Dx 50\": 45.4, \"Dx 75\": 103.0, \"Dx 84\": 145.0, \"Dx 90\": 206.0, \"TOC\": 10.8215, \"Hg\": 221.3, \"Dist_WWTP\": 750.0, \"regio_sep\": \"inner\"}, {\"index\": 3, \"PC1\": 0.25674475760707627, \"PC2\": 0.12304692205970645, \"Sample\": \"Schlei_S13\", \"Frequency\": 348, \"FrequencyA500\": 4, \"FrequencyB500\": 344, \"Mass\": 0.071, \"GPS_LONs\": 9.62153, \"GPS_LATs\": 54.515699999999995, \"Split\": 0.25, \"MP_D50\": 91.91300234460846, \"Concentration\": 19606.0, \"ConcentrationA500\": 225.0, \"ConcentrationB500\": 19380.0, \"Station ID\": \"S13\", \"+ 15 cm ?\": null, \"Date\": \"15-05-18\", \"Arrival\": \"12:32:00\", \"Sediment\": \"12:33:00\", \"CTD\": \"12:35:00\", \"Departure\": null, \"GPS LAT\": \"54\\u00b0 30.94\\u2019\", \"GPS LON\": \"09\\u00b0 37.292\\u2019\", \"Depth\": 3.0, \"Comments\": null, \"D50\": 42.2, \"<63\\u00b5m\": 64.8, \"20\": 3.76, \"25\": 4.78, \"32\": 3.81, \"38\": 4.17, \"45\": 4.53, \"53\": 5.28, \"63\": 5.72, \"75\": 6.27, \"90\": 5.63, \"106\": 5.46, \"125\": 5.49, \"150\": 4.83, \"180\": 3.75, \"212\": 3.2, \"250\": 3.07, \"300\": 2.46, \"355\": 2.29, \"425\": 1.83, \"500\": 1.75, \"600\": 1.3, \"710\": 1.05, \"850\": 0.61, \"1000\": 0.34, \"1180\": 0.14, \"1400\": 0.03, \"1700\": 0.0, \"2000\": 0.0, \"2360\": 0.0, \"2800\": 0.0, \"3350\": 0.0, \"4000\": 0.0, \"4750\": 0.0, \"5600\": 0.0, \"6300\": 0.0, \"6700\": 0.0, \"8000\": 0.0, \"9500\": 0.0, \" Below 63 \\u00b5m\": 44.77, \" Below 90 \\u00b5m\": 56.77, \" Below 125 \\u00b5m\": 67.85, \" Below 180 \\u00b5m\": 78.18, \" Below 250 \\u00b5m\": 85.13, \" Below 355 \\u00b5m\": 90.66, \" Below 500 \\u00b5m\": 94.77, \" Below 710 \\u00b5m\": 97.83, \" Below 1000 \\u00b5m\": 99.49, \" Below 1400 \\u00b5m\": 99.97, \" Below 2000 \\u00b5m\": 100.0, \" Above 2000 \\u00b5m\": 6e-07, \"Dx 10\": 10.6, \"Dx 16\": 17.0, \"Dx 25\": 29.0, \"Dx 50\": 73.9, \"Dx 75\": 159.0, \"Dx 84\": 235.0, \"Dx 90\": 339.0, \"TOC\": 6.9315, \"Hg\": 172.9, \"Dist_WWTP\": 1605.0, \"regio_sep\": \"inner\"}, {\"index\": 4, \"PC1\": -0.21838813470027224, \"PC2\": 0.012967648032033109, \"Sample\": \"Schlei_S14\", \"Frequency\": 36, \"FrequencyA500\": 0, \"FrequencyB500\": 36, \"Mass\": 0.25, \"GPS_LONs\": 9.63885, \"GPS_LATs\": 54.5172, \"Split\": 1.0, \"MP_D50\": 82.87403266890279, \"Concentration\": 144.0, \"ConcentrationA500\": 0.0, \"ConcentrationB500\": 144.0, \"Station ID\": \"S14\", \"+ 15 cm ?\": null, \"Date\": \"15-05-18\", \"Arrival\": \"13:30:00\", \"Sediment\": \"13:31:00\", \"CTD\": \"13:33:00\", \"Departure\": \"13:36:00\", \"GPS LAT\": \"54\\u00b0 31.030\\u2019\", \"GPS LON\": \"09\\u00b0 38.331\\u2019\", \"Depth\": 2.3, \"Comments\": \"Nordwestl. Stexwiger Enge\", \"D50\": 166.0, \"<63\\u00b5m\": 27.71, \"20\": 3.36, \"25\": 3.77, \"32\": 2.69, \"38\": 2.75, \"45\": 2.87, \"53\": 3.34, \"63\": 3.72, \"75\": 4.31, \"90\": 4.12, \"106\": 4.28, \"125\": 4.73, \"150\": 4.6, \"180\": 3.95, \"212\": 3.79, \"250\": 4.03, \"300\": 3.57, \"355\": 3.62, \"425\": 3.08, \"500\": 3.15, \"600\": 2.52, \"710\": 2.26, \"850\": 1.57, \"1000\": 1.18, \"1180\": 0.87, \"1400\": 0.6, \"1700\": 0.26, \"2000\": 0.16, \"2360\": 0.1, \"2800\": 0.04, \"3350\": 0.01, \"4000\": 0.0, \"4750\": 0.0, \"5600\": 0.0, \"6300\": 0.0, \"6700\": 0.0, \"8000\": 0.0, \"9500\": 0.0, \" Below 63 \\u00b5m\": 39.48, \" Below 90 \\u00b5m\": 47.51, \" Below 125 \\u00b5m\": 55.91, \" Below 180 \\u00b5m\": 65.24, \" Below 250 \\u00b5m\": 72.99, \" Below 355 \\u00b5m\": 80.58, \" Below 500 \\u00b5m\": 87.28, \" Below 710 \\u00b5m\": 92.95, \" Below 1000 \\u00b5m\": 96.78, \" Below 1400 \\u00b5m\": 98.83, \" Below 2000 \\u00b5m\": 99.69, \" Above 2000 \\u00b5m\": 0.31, \"Dx 10\": 9.16, \"Dx 16\": 14.5, \"Dx 25\": 26.6, \"Dx 50\": 99.5, \"Dx 75\": 273.0, \"Dx 84\": 421.0, \"Dx 90\": 584.0, \"TOC\": 1.05033333333333, \"Hg\": 31.2, \"Dist_WWTP\": 2933.0, \"regio_sep\": \"outlier\"}, {\"index\": 5, \"PC1\": -0.320467831287253, \"PC2\": -0.1742271431957861, \"Sample\": \"Schlei_S15\", \"Frequency\": 205, \"FrequencyA500\": 20, \"FrequencyB500\": 185, \"Mass\": 0.25, \"GPS_LONs\": 9.64575, \"GPS_LATs\": 54.52009999999999, \"Split\": 1.0, \"MP_D50\": 101.85283501208988, \"Concentration\": 820.0, \"ConcentrationA500\": 80.0, \"ConcentrationB500\": 740.0, \"Station ID\": \"S15\", \"+ 15 cm ?\": null, \"Date\": \"15-05-18\", \"Arrival\": \"13:42:00\", \"Sediment\": \"13:46:00\", \"CTD\": \"13:47:00\", \"Departure\": null, \"GPS LAT\": \"54\\u00b0 31.203\\u2019\", \"GPS LON\": \"09\\u00b0 38.745\\u2019\", \"Depth\": 2.2, \"Comments\": \"Gro\\u00dfe Breite Nord West\", \"D50\": 323.5, \"<63\\u00b5m\": 10.11, \"20\": 5.36, \"25\": 5.9, \"32\": 4.15, \"38\": 4.14, \"45\": 4.06, \"53\": 4.3, \"63\": 4.25, \"75\": 4.16, \"90\": 3.35, \"106\": 2.92, \"125\": 2.55, \"150\": 1.96, \"180\": 1.37, \"212\": 1.13, \"250\": 1.15, \"300\": 1.06, \"355\": 1.18, \"425\": 1.08, \"500\": 1.16, \"600\": 0.94, \"710\": 0.81, \"850\": 0.49, \"1000\": 0.28, \"1180\": 0.15, \"1400\": 0.09, \"1700\": 0.04, \"2000\": 0.03, \"2360\": 0.02, \"2800\": 0.01, \"3350\": 0.0, \"4000\": 0.0, \"4750\": 0.0, \"5600\": 0.0, \"6300\": 0.0, \"6700\": 0.0, \"8000\": 0.0, \"9500\": 0.0, \" Below 63 \\u00b5m\": 69.8, \" Below 90 \\u00b5m\": 78.22, \" Below 125 \\u00b5m\": 84.49, \" Below 180 \\u00b5m\": 88.99, \" Below 250 \\u00b5m\": 91.49, \" Below 355 \\u00b5m\": 93.7, \" Below 500 \\u00b5m\": 95.96, \" Below 710 \\u00b5m\": 98.07, \" Below 1000 \\u00b5m\": 99.36, \" Below 1400 \\u00b5m\": 99.8, \" Below 2000 \\u00b5m\": 99.93, \" Above 2000 \\u00b5m\": 0.07, \"Dx 10\": 5.2, \"Dx 16\": 6.97, \"Dx 25\": 10.1, \"Dx 50\": 28.0, \"Dx 75\": 78.1, \"Dx 84\": 121.0, \"Dx 90\": 203.0, \"TOC\": 0.64, \"Hg\": 11.0, \"Dist_WWTP\": 3455.0, \"regio_sep\": \"inner\"}, {\"index\": 6, \"PC1\": 0.29939870157789067, \"PC2\": -0.046005647496567055, \"Sample\": \"Schlei_S16\", \"Frequency\": 464, \"FrequencyA500\": 0, \"FrequencyB500\": 464, \"Mass\": 0.09, \"GPS_LONs\": 9.67003, \"GPS_LATs\": 54.514, \"Split\": 0.25, \"MP_D50\": 82.45885954427399, \"Concentration\": 20622.0, \"ConcentrationA500\": 0.0, \"ConcentrationB500\": 20622.0, \"Station ID\": \"S16\", \"+ 15 cm ?\": null, \"Date\": \"15-05-18\", \"Arrival\": \"14:00:00\", \"Sediment\": \"14:01:00\", \"CTD\": \"14:02:00\", \"Departure\": \"14:06:00\", \"GPS LAT\": \"54\\u00b0 30.838\\u2019\", \"GPS LON\": \"09\\u00b0 40.202\\u2019\", \"Depth\": 3.5, \"Comments\": null, \"D50\": 19.9, \"<63\\u00b5m\": 79.05, \"20\": 6.14, \"25\": 7.23, \"32\": 5.19, \"38\": 5.16, \"45\": 5.01, \"53\": 5.28, \"63\": 5.26, \"75\": 5.37, \"90\": 4.64, \"106\": 4.44, \"125\": 4.46, \"150\": 3.87, \"180\": 2.8, \"212\": 1.93, \"250\": 1.2, \"300\": 0.34, \"355\": 0.0, \"425\": 0.0, \"500\": 0.0, \"600\": 0.0, \"710\": 0.0, \"850\": 0.0, \"1000\": 0.0, \"1180\": 0.0, \"1400\": 0.0, \"1700\": 0.0, \"2000\": 0.0, \"2360\": 0.0, \"2800\": 0.0, \"3350\": 0.0, \"4000\": 0.0, \"4750\": 0.0, \"5600\": 0.0, \"6300\": 0.0, \"6700\": 0.0, \"8000\": 0.0, \"9500\": 0.0, \" Below 63 \\u00b5m\": 65.7, \" Below 90 \\u00b5m\": 76.33, \" Below 125 \\u00b5m\": 85.4, \" Below 180 \\u00b5m\": 93.73, \" Below 250 \\u00b5m\": 98.46, \" Below 355 \\u00b5m\": 100.0, \" Below 500 \\u00b5m\": 100.0, \" Below 710 \\u00b5m\": 100.0, \" Below 1000 \\u00b5m\": 100.0, \" Below 1400 \\u00b5m\": 100.0, \" Below 2000 \\u00b5m\": 100.0, \" Above 2000 \\u00b5m\": 7e-14, \"Dx 10\": 6.86, \"Dx 16\": 9.93, \"Dx 25\": 15.3, \"Dx 50\": 37.7, \"Dx 75\": 86.0, \"Dx 84\": 119.0, \"Dx 90\": 151.0, \"TOC\": 12.146, \"Hg\": 230.9, \"Dist_WWTP\": 4729.0, \"regio_sep\": \"inner\"}, {\"index\": 7, \"PC1\": -0.4703191763360934, \"PC2\": -0.30977843134001326, \"Sample\": \"Schlei_S17\", \"Frequency\": 196, \"FrequencyA500\": 1, \"FrequencyB500\": 195, \"Mass\": 0.25, \"GPS_LONs\": 9.68298, \"GPS_LATs\": 54.50719999999999, \"Split\": 1.0, \"MP_D50\": 84.99411418616057, \"Concentration\": 784.0, \"ConcentrationA500\": 4.0, \"ConcentrationB500\": 780.0, \"Station ID\": \"S17\", \"+ 15 cm ?\": null, \"Date\": \"15-05-18\", \"Arrival\": \"14:10:00\", \"Sediment\": \"14:12:00\", \"CTD\": \"14:14:00\", \"Departure\": \"14:15:00\", \"GPS LAT\": \"54\\u00b0 30.433\\u2019\", \"GPS LON\": \"09\\u00b0 40.979\\u2019\", \"Depth\": 2.3, \"Comments\": null, \"D50\": 416.5, \"<63\\u00b5m\": 31.6166666666667, \"20\": 4.73, \"25\": 6.45, \"32\": 5.49, \"38\": 6.21, \"45\": 6.8, \"53\": 7.69, \"63\": 7.81, \"75\": 7.5, \"90\": 5.68, \"106\": 4.45, \"125\": 3.18, \"150\": 1.81, \"180\": 0.85, \"212\": 0.48, \"250\": 0.49, \"300\": 0.58, \"355\": 0.78, \"425\": 0.75, \"500\": 0.78, \"600\": 0.58, \"710\": 0.47, \"850\": 0.31, \"1000\": 0.24, \"1180\": 0.21, \"1400\": 0.23, \"1700\": 0.18, \"2000\": 0.16, \"2360\": 0.12, \"2800\": 0.07, \"3350\": 0.01, \"4000\": 0.0, \"4750\": 0.0, \"5600\": 0.0, \"6300\": 0.0, \"6700\": 0.0, \"8000\": 0.0, \"9500\": 0.0, \" Below 63 \\u00b5m\": 62.29, \" Below 90 \\u00b5m\": 77.6, \" Below 125 \\u00b5m\": 87.73, \" Below 180 \\u00b5m\": 92.71, \" Below 250 \\u00b5m\": 94.04, \" Below 355 \\u00b5m\": 95.11, \" Below 500 \\u00b5m\": 96.63, \" Below 710 \\u00b5m\": 98.0, \" Below 1000 \\u00b5m\": 98.78, \" Below 1400 \\u00b5m\": 99.23, \" Below 2000 \\u00b5m\": 99.63, \" Above 2000 \\u00b5m\": 0.37, \"Dx 10\": 7.42, \"Dx 16\": 11.7, \"Dx 25\": 20.1, \"Dx 50\": 47.5, \"Dx 75\": 84.2, \"Dx 84\": 108.0, \"Dx 90\": 141.0, \"TOC\": 0.6665, \"Hg\": 10.0, \"Dist_WWTP\": 5643.0, \"regio_sep\": \"inner\"}, {\"index\": 8, \"PC1\": -0.44904138145406447, \"PC2\": 0.24885652628035976, \"Sample\": \"Schlei_S19\", \"Frequency\": 56, \"FrequencyA500\": 0, \"FrequencyB500\": 56, \"Mass\": 0.25, \"GPS_LONs\": 9.70262, \"GPS_LATs\": 54.5126, \"Split\": 1.0, \"MP_D50\": 69.50182945039697, \"Concentration\": 224.0, \"ConcentrationA500\": 0.0, \"ConcentrationB500\": 224.0, \"Station ID\": \"S19\", \"+ 15 cm ?\": null, \"Date\": \"15-05-18\", \"Arrival\": \"14:45:00\", \"Sediment\": \"14:00:00\", \"CTD\": \"15:20:00\", \"Departure\": null, \"GPS LAT\": \"54\\u00b0 30.753\\u2019\", \"GPS LON\": \"09\\u00b0 42.157\\u2019\", \"Depth\": 0.6, \"Comments\": null, \"D50\": 188.0, \"<63\\u00b5m\": 1.7, \"20\": 6.06, \"25\": 6.27, \"32\": 4.04, \"38\": 3.76, \"45\": 3.46, \"53\": 3.52, \"63\": 3.42, \"75\": 3.34, \"90\": 2.72, \"106\": 2.4, \"125\": 2.12, \"150\": 1.62, \"180\": 1.07, \"212\": 0.76, \"250\": 0.62, \"300\": 0.44, \"355\": 0.44, \"425\": 0.43, \"500\": 0.58, \"600\": 0.69, \"710\": 0.93, \"850\": 1.17, \"1000\": 1.6, \"1180\": 2.05, \"1400\": 2.6, \"1700\": 2.08, \"2000\": 1.78, \"2360\": 1.26, \"2800\": 0.66, \"3350\": 0.1, \"4000\": 0.0, \"4750\": 0.0, \"5600\": 0.0, \"6300\": 0.0, \"6700\": 0.0, \"8000\": 0.0, \"9500\": 0.0, \" Below 63 \\u00b5m\": 65.14, \" Below 90 \\u00b5m\": 71.9, \" Below 125 \\u00b5m\": 77.01, \" Below 180 \\u00b5m\": 80.75, \" Below 250 \\u00b5m\": 82.58, \" Below 355 \\u00b5m\": 83.64, \" Below 500 \\u00b5m\": 84.51, \" Below 710 \\u00b5m\": 85.78, \" Below 1000 \\u00b5m\": 87.88, \" Below 1400 \\u00b5m\": 91.52, \" Below 2000 \\u00b5m\": 96.2, \" Above 2000 \\u00b5m\": 3.8, \"Dx 10\": 6.52, \"Dx 16\": 8.75, \"Dx 25\": 12.5, \"Dx 50\": 31.5, \"Dx 75\": 109.0, \"Dx 84\": 412.0, \"Dx 90\": 1240.0, \"TOC\": 0.0615, \"Hg\": 3.7, \"Dist_WWTP\": 6836.0, \"regio_sep\": \"outlier\"}, {\"index\": 9, \"PC1\": 0.3644401188298168, \"PC2\": -0.06837360116282168, \"Sample\": \"Schlei_S1_15cm\", \"Frequency\": 527, \"FrequencyA500\": 4, \"FrequencyB500\": 523, \"Mass\": 0.063, \"GPS_LONs\": 9.55717, \"GPS_LATs\": 54.5075, \"Split\": 0.5887, \"MP_D50\": 90.52071586106683, \"Concentration\": 14209.0, \"ConcentrationA500\": 108.0, \"ConcentrationB500\": 14102.0, \"Station ID\": \"S1_d\", \"+ 15 cm ?\": null, \"Date\": null, \"Arrival\": null, \"Sediment\": null, \"CTD\": null, \"Departure\": null, \"GPS LAT\": \"54\\u00b0 30.45\\u2019\", \"GPS LON\": \"09\\u00b0 33.43\\u2019\", \"Depth\": 2.7, \"Comments\": null, \"D50\": 13.65, \"<63\\u00b5m\": 86.53, \"20\": 3.52, \"25\": 4.31, \"32\": 3.36, \"38\": 3.63, \"45\": 3.92, \"53\": 4.58, \"63\": 4.99, \"75\": 5.48, \"90\": 4.9, \"106\": 4.67, \"125\": 4.51, \"150\": 3.76, \"180\": 2.75, \"212\": 2.22, \"250\": 2.08, \"300\": 1.66, \"355\": 1.51, \"425\": 1.14, \"500\": 1.01, \"600\": 0.72, \"710\": 0.71, \"850\": 0.76, \"1000\": 1.06, \"1180\": 1.46, \"1400\": 2.07, \"1700\": 1.87, \"2000\": 1.79, \"2360\": 1.42, \"2800\": 0.85, \"3350\": 0.14, \"4000\": 0.0, \"4750\": 0.0, \"5600\": 0.0, \"6300\": 0.0, \"6700\": 0.0, \"8000\": 0.0, \"9500\": 0.0, \" Below 63 \\u00b5m\": 46.47, \" Below 90 \\u00b5m\": 56.94, \" Below 125 \\u00b5m\": 66.51, \" Below 180 \\u00b5m\": 74.78, \" Below 250 \\u00b5m\": 79.76, \" Below 355 \\u00b5m\": 83.5, \" Below 500 \\u00b5m\": 86.15, \" Below 710 \\u00b5m\": 87.87, \" Below 1000 \\u00b5m\": 89.35, \" Below 1400 \\u00b5m\": 91.86, \" Below 2000 \\u00b5m\": 95.81, \" Above 2000 \\u00b5m\": 4.19, \"Dx 10\": 7.44, \"Dx 16\": 12.1, \"Dx 25\": 22.5, \"Dx 50\": 71.3, \"Dx 75\": 182.0, \"Dx 84\": 376.0, \"Dx 90\": 1120.0, \"TOC\": 13.7, \"Hg\": 359.4, \"Dist_WWTP\": 4490.0, \"regio_sep\": \"inner\"}, {\"index\": 10, \"PC1\": -0.41023661251005933, \"PC2\": -0.07704243394370827, \"Sample\": \"Schlei_S2\", \"Frequency\": 347, \"FrequencyA500\": 6, \"FrequencyB500\": 341, \"Mass\": 0.25, \"GPS_LONs\": 9.59055, \"GPS_LATs\": 54.50770000000001, \"Split\": 0.5, \"MP_D50\": 93.48796714016194, \"Concentration\": 2776.0, \"ConcentrationA500\": 48.0, \"ConcentrationB500\": 2728.0, \"Station ID\": \"S2\", \"+ 15 cm ?\": null, \"Date\": \"14-05-18\", \"Arrival\": \"18:50:00\", \"Sediment\": \"18:50:00\", \"CTD\": \"18:58:00\", \"Departure\": \"18:58:00\", \"GPS LAT\": \"54\\u00b0 30.462\\u2019\", \"GPS LON\": \"09\\u00b0 35.433\\u2019\", \"Depth\": 3.6, \"Comments\": \"Fahrdorf und Offizierskasino\", \"D50\": 257.0, \"<63\\u00b5m\": 13.995, \"20\": 5.58, \"25\": 6.52, \"32\": 4.73, \"38\": 4.76, \"45\": 4.66, \"53\": 4.88, \"63\": 4.76, \"75\": 4.55, \"90\": 3.59, \"106\": 3.05, \"125\": 2.56, \"150\": 1.86, \"180\": 1.2, \"212\": 0.9, \"250\": 0.88, \"300\": 0.84, \"355\": 1.02, \"425\": 1.02, \"500\": 1.22, \"600\": 1.1, \"710\": 1.04, \"850\": 0.73, \"1000\": 0.52, \"1180\": 0.35, \"1400\": 0.19, \"1700\": 0.07, \"2000\": 0.05, \"2360\": 0.03, \"2800\": 0.01, \"3350\": 0.0, \"4000\": 0.0, \"4750\": 0.0, \"5600\": 0.0, \"6300\": 0.0, \"6700\": 0.0, \"8000\": 0.0, \"9500\": 0.0, \" Below 63 \\u00b5m\": 68.46, \" Below 90 \\u00b5m\": 77.77, \" Below 125 \\u00b5m\": 84.41, \" Below 180 \\u00b5m\": 88.83, \" Below 250 \\u00b5m\": 90.93, \" Below 355 \\u00b5m\": 92.65, \" Below 500 \\u00b5m\": 94.69, \" Below 710 \\u00b5m\": 97.0, \" Below 1000 \\u00b5m\": 98.77, \" Below 1400 \\u00b5m\": 99.64, \" Below 2000 \\u00b5m\": 99.9, \" Above 2000 \\u00b5m\": 0.1, \"Dx 10\": 5.32, \"Dx 16\": 7.52, \"Dx 25\": 11.7, \"Dx 50\": 32.7, \"Dx 75\": 80.4, \"Dx 84\": 122.0, \"Dx 90\": 211.0, \"TOC\": 1.402, \"Hg\": 34.9, \"Dist_WWTP\": 2468.0, \"regio_sep\": \"inner\"}, {\"index\": 11, \"PC1\": -0.04609523995531847, \"PC2\": 0.3237901476314636, \"Sample\": \"Schlei_S20\", \"Frequency\": 401, \"FrequencyA500\": 0, \"FrequencyB500\": 401, \"Mass\": 0.2, \"GPS_LONs\": 9.69137, \"GPS_LATs\": 54.5219, \"Split\": 0.25, \"MP_D50\": 91.33454987024352, \"Concentration\": 8020.0, \"ConcentrationA500\": 0.0, \"ConcentrationB500\": 8020.0, \"Station ID\": \"S20\", \"+ 15 cm ?\": null, \"Date\": \"15-05-18\", \"Arrival\": null, \"Sediment\": null, \"CTD\": null, \"Departure\": \"16:15:00\", \"GPS LAT\": \"54\\u00b0 31.311\\u2019\", \"GPS LON\": \"09\\u00b0 41.482\\u2019\", \"Depth\": 3.5, \"Comments\": null, \"D50\": 100.0, \"<63\\u00b5m\": 30.22, \"20\": 4.8, \"25\": 5.55, \"32\": 4.09, \"38\": 4.26, \"45\": 4.43, \"53\": 4.99, \"63\": 5.25, \"75\": 5.5, \"90\": 4.69, \"106\": 4.29, \"125\": 4.0, \"150\": 3.29, \"180\": 2.43, \"212\": 2.02, \"250\": 1.87, \"300\": 1.32, \"355\": 0.85, \"425\": 0.34, \"500\": 0.06, \"600\": 0.0, \"710\": 0.0, \"850\": 0.0, \"1000\": 0.0, \"1180\": 0.0, \"1400\": 0.0, \"1700\": 0.0, \"2000\": 0.0, \"2360\": 0.0, \"2800\": 0.0, \"3350\": 0.0, \"4000\": 0.0, \"4750\": 0.0, \"5600\": 0.0, \"6300\": 0.0, \"6700\": 0.0, \"8000\": 0.0, \"9500\": 0.0, \" Below 63 \\u00b5m\": 64.1, \" Below 90 \\u00b5m\": 74.84, \" Below 125 \\u00b5m\": 83.82, \" Below 180 \\u00b5m\": 91.11, \" Below 250 \\u00b5m\": 95.56, \" Below 355 \\u00b5m\": 98.75, \" Below 500 \\u00b5m\": 99.94, \" Below 710 \\u00b5m\": 100.0, \" Below 1000 \\u00b5m\": 100.0, \" Below 1400 \\u00b5m\": 100.0, \" Below 2000 \\u00b5m\": 100.0, \" Above 2000 \\u00b5m\": 1e-11, \"Dx 10\": 4.88, \"Dx 16\": 7.15, \"Dx 25\": 11.7, \"Dx 50\": 37.4, \"Dx 75\": 90.5, \"Dx 84\": 126.0, \"Dx 90\": 168.0, \"TOC\": 1.3055, \"Hg\": 30.6, \"Dist_WWTP\": 6230.0, \"regio_sep\": \"outer\"}, {\"index\": 12, \"PC1\": 0.34622143604434114, \"PC2\": -0.044122690248760976, \"Sample\": \"Schlei_S21\", \"Frequency\": 488, \"FrequencyA500\": 4, \"FrequencyB500\": 484, \"Mass\": 0.08, \"GPS_LONs\": 9.73118, \"GPS_LATs\": 54.5276, \"Split\": 0.25, \"MP_D50\": 112.65433857601757, \"Concentration\": 24400.0, \"ConcentrationA500\": 200.0, \"ConcentrationB500\": 24200.0, \"Station ID\": \"S21\", \"+ 15 cm ?\": null, \"Date\": \"15-05-18\", \"Arrival\": \"17:30:00\", \"Sediment\": \"17:31:00\", \"CTD\": \"17:33:00\", \"Departure\": \"17:35:00\", \"GPS LAT\": \"54\\u00b0 31.654\\u2019\", \"GPS LON\": \"09\\u00b0 43.871\\u2019\", \"Depth\": 2.1, \"Comments\": \"Missunder Noor\", \"D50\": 15.35, \"<63\\u00b5m\": 83.245, \"20\": 5.44, \"25\": 5.79, \"32\": 3.89, \"38\": 3.79, \"45\": 3.71, \"53\": 4.02, \"63\": 4.15, \"75\": 4.36, \"90\": 3.78, \"106\": 3.52, \"125\": 3.34, \"150\": 2.73, \"180\": 1.95, \"212\": 1.54, \"250\": 1.43, \"300\": 1.15, \"355\": 1.1, \"425\": 0.89, \"500\": 0.82, \"600\": 0.52, \"710\": 0.3, \"850\": 0.05, \"1000\": 0.01, \"1180\": 0.0, \"1400\": 0.0, \"1700\": 0.0, \"2000\": 0.0, \"2360\": 0.0, \"2800\": 0.0, \"3350\": 0.0, \"4000\": 0.0, \"4750\": 0.0, \"5600\": 0.0, \"6300\": 0.0, \"6700\": 0.0, \"8000\": 0.0, \"9500\": 0.0, \" Below 63 \\u00b5m\": 68.36, \" Below 90 \\u00b5m\": 76.87, \" Below 125 \\u00b5m\": 84.17, \" Below 180 \\u00b5m\": 90.23, \" Below 250 \\u00b5m\": 93.73, \" Below 355 \\u00b5m\": 96.31, \" Below 500 \\u00b5m\": 98.3, \" Below 710 \\u00b5m\": 99.64, \" Below 1000 \\u00b5m\": 99.99, \" Below 1400 \\u00b5m\": 100.0, \" Below 2000 \\u00b5m\": 100.0, \" Above 2000 \\u00b5m\": 0.0, \"Dx 10\": 4.64, \"Dx 16\": 6.6, \"Dx 25\": 10.1, \"Dx 50\": 28.2, \"Dx 75\": 83.2, \"Dx 84\": 124.0, \"Dx 90\": 177.0, \"TOC\": 10.9955, \"Hg\": 173.3, \"Dist_WWTP\": 9723.0, \"regio_sep\": \"outer\"}, {\"index\": 13, \"PC1\": 0.3142949292304886, \"PC2\": 0.08724206145118125, \"Sample\": \"Schlei_S22\", \"Frequency\": 53, \"FrequencyA500\": 2, \"FrequencyB500\": 51, \"Mass\": 0.066, \"GPS_LONs\": 9.76887, \"GPS_LATs\": 54.5601, \"Split\": 1.0, \"MP_D50\": 82.61355820929153, \"Concentration\": 803.0, \"ConcentrationA500\": 30.0, \"ConcentrationB500\": 773.0, \"Station ID\": \"S22\", \"+ 15 cm ?\": null, \"Date\": \"15-05-18\", \"Arrival\": \"18:02:00\", \"Sediment\": \"18:06:00\", \"CTD\": \"18:09:00\", \"Departure\": null, \"GPS LAT\": \"54\\u00b0 33.605\\u2019\", \"GPS LON\": \"09\\u00b0 46.132\\u2019\", \"Depth\": 4.0, \"Comments\": \"Ulsnis\", \"D50\": 38.5, \"<63\\u00b5m\": 75.56, \"20\": 3.44, \"25\": 3.9, \"32\": 2.93, \"38\": 3.11, \"45\": 3.28, \"53\": 3.71, \"63\": 3.92, \"75\": 4.16, \"90\": 3.64, \"106\": 3.44, \"125\": 3.37, \"150\": 2.92, \"180\": 2.28, \"212\": 2.04, \"250\": 2.15, \"300\": 1.97, \"355\": 2.17, \"425\": 2.0, \"500\": 2.23, \"600\": 1.96, \"710\": 1.9, \"850\": 1.46, \"1000\": 1.23, \"1180\": 1.04, \"1400\": 0.89, \"1700\": 0.56, \"2000\": 0.45, \"2360\": 0.31, \"2800\": 0.17, \"3350\": 0.03, \"4000\": 0.0, \"4750\": 0.0, \"5600\": 0.0, \"6300\": 0.0, \"6700\": 0.0, \"8000\": 0.0, \"9500\": 0.0, \" Below 63 \\u00b5m\": 53.73, \" Below 90 \\u00b5m\": 61.81, \" Below 125 \\u00b5m\": 68.88, \" Below 180 \\u00b5m\": 75.17, \" Below 250 \\u00b5m\": 79.49, \" Below 355 \\u00b5m\": 83.61, \" Below 500 \\u00b5m\": 87.78, \" Below 710 \\u00b5m\": 91.97, \" Below 1000 \\u00b5m\": 95.33, \" Below 1400 \\u00b5m\": 97.6, \" Below 2000 \\u00b5m\": 99.04, \" Above 2000 \\u00b5m\": 0.96, \"Dx 10\": 5.7, \"Dx 16\": 7.82, \"Dx 25\": 12.3, \"Dx 50\": 53.0, \"Dx 75\": 178.0, \"Dx 84\": 367.0, \"Dx 90\": 599.0, \"TOC\": 11.5525, \"Hg\": 175.6, \"Dist_WWTP\": 14087.0, \"regio_sep\": \"outer\"}, {\"index\": 14, \"PC1\": 0.3852451456961088, \"PC2\": -0.1455035272441265, \"Sample\": \"Schlei_S23\", \"Frequency\": 224, \"FrequencyA500\": 17, \"FrequencyB500\": 207, \"Mass\": 0.093, \"GPS_LONs\": 9.78108, \"GPS_LATs\": 54.5722, \"Split\": 1.0, \"MP_D50\": 100.99009075755157, \"Concentration\": 2409.0, \"ConcentrationA500\": 183.0, \"ConcentrationB500\": 2226.0, \"Station ID\": \"S23\", \"+ 15 cm ?\": null, \"Date\": \"15-05-18\", \"Arrival\": \"18:49:00\", \"Sediment\": null, \"CTD\": null, \"Departure\": null, \"GPS LAT\": \"54\\u00b0 34.329\\u2019\", \"GPS LON\": \"09\\u00b0 46.865\\u2019\", \"Depth\": 3.1, \"Comments\": \"Gummeby?\", \"D50\": 11.2, \"<63\\u00b5m\": 92.995, \"20\": 3.55, \"25\": 3.87, \"32\": 2.63, \"38\": 2.56, \"45\": 2.5, \"53\": 2.71, \"63\": 2.84, \"75\": 3.08, \"90\": 2.8, \"106\": 2.79, \"125\": 2.93, \"150\": 2.73, \"180\": 2.28, \"212\": 2.15, \"250\": 2.3, \"300\": 2.09, \"355\": 2.24, \"425\": 2.04, \"500\": 2.35, \"600\": 2.29, \"710\": 2.63, \"850\": 2.65, \"1000\": 2.98, \"1180\": 3.32, \"1400\": 3.88, \"1700\": 3.07, \"2000\": 2.72, \"2360\": 2.05, \"2800\": 1.2, \"3350\": 0.19, \"4000\": 0.0, \"4750\": 0.0, \"5600\": 0.0, \"6300\": 0.0, \"6700\": 0.0, \"8000\": 0.0, \"9500\": 0.0, \" Below 63 \\u00b5m\": 40.41, \" Below 90 \\u00b5m\": 46.32, \" Below 125 \\u00b5m\": 51.91, \" Below 180 \\u00b5m\": 57.57, \" Below 250 \\u00b5m\": 61.99, \" Below 355 \\u00b5m\": 66.39, \" Below 500 \\u00b5m\": 70.67, \" Below 710 \\u00b5m\": 75.31, \" Below 1000 \\u00b5m\": 80.59, \" Below 1400 \\u00b5m\": 86.9, \" Below 2000 \\u00b5m\": 93.84, \" Above 2000 \\u00b5m\": 6.16, \"Dx 10\": 8.43, \"Dx 16\": 13.1, \"Dx 25\": 23.3, \"Dx 50\": 112.0, \"Dx 75\": 694.0, \"Dx 84\": 1210.0, \"Dx 90\": 1630.0, \"TOC\": 12.224, \"Hg\": 231.7, \"Dist_WWTP\": 15662.0, \"regio_sep\": \"outer\"}, {\"index\": 15, \"PC1\": 0.009346109637730414, \"PC2\": -0.049938035682196534, \"Sample\": \"Schlei_S24\", \"Frequency\": 67, \"FrequencyA500\": 6, \"FrequencyB500\": 61, \"Mass\": 0.188, \"GPS_LONs\": 9.81235, \"GPS_LATs\": 54.577, \"Split\": 0.5, \"MP_D50\": 114.9956520917204, \"Concentration\": 713.0, \"ConcentrationA500\": 64.0, \"ConcentrationB500\": 649.0, \"Station ID\": \"S24\", \"+ 15 cm ?\": null, \"Date\": \"15-05-18\", \"Arrival\": \"19:06:00\", \"Sediment\": \"19:06:00\", \"CTD\": null, \"Departure\": null, \"GPS LAT\": \"54\\u00b0 34.620\\u2019\", \"GPS LON\": \"09\\u00b0 48.741\\u2019\", \"Depth\": 4.7, \"Comments\": \"Lindaunis\", \"D50\": 51.5, \"<63\\u00b5m\": 52.135, \"20\": 5.37, \"25\": 5.75, \"32\": 3.86, \"38\": 3.7, \"45\": 3.49, \"53\": 3.59, \"63\": 3.51, \"75\": 3.46, \"90\": 2.87, \"106\": 2.62, \"125\": 2.53, \"150\": 2.26, \"180\": 1.91, \"212\": 1.9, \"250\": 2.11, \"300\": 1.86, \"355\": 1.64, \"425\": 1.05, \"500\": 0.57, \"600\": 0.09, \"710\": 0.0, \"850\": 0.0, \"1000\": 0.0, \"1180\": 0.0, \"1400\": 0.0, \"1700\": 0.0, \"2000\": 0.0, \"2360\": 0.0, \"2800\": 0.0, \"3350\": 0.0, \"4000\": 0.0, \"4750\": 0.0, \"5600\": 0.0, \"6300\": 0.0, \"6700\": 0.0, \"8000\": 0.0, \"9500\": 0.0, \" Below 63 \\u00b5m\": 71.63, \" Below 90 \\u00b5m\": 78.61, \" Below 125 \\u00b5m\": 84.09, \" Below 180 \\u00b5m\": 88.88, \" Below 250 \\u00b5m\": 92.68, \" Below 355 \\u00b5m\": 96.65, \" Below 500 \\u00b5m\": 99.34, \" Below 710 \\u00b5m\": 100.0, \" Below 1000 \\u00b5m\": 100.0, \" Below 1400 \\u00b5m\": 100.0, \" Below 2000 \\u00b5m\": 100.0, \" Above 2000 \\u00b5m\": 3e-11, \"Dx 10\": 4.49, \"Dx 16\": 6.04, \"Dx 25\": 8.76, \"Dx 50\": 23.7, \"Dx 75\": 74.5, \"Dx 84\": 124.0, \"Dx 90\": 198.0, \"TOC\": 1.979, \"Hg\": 50.6, \"Dist_WWTP\": 17538.0, \"regio_sep\": \"outer\"}, {\"index\": 16, \"PC1\": 0.3746953989476023, \"PC2\": -0.09049908169065725, \"Sample\": \"Schlei_S25\", \"Frequency\": 233, \"FrequencyA500\": 1, \"FrequencyB500\": 232, \"Mass\": 0.13, \"GPS_LONs\": 9.88715, \"GPS_LATs\": 54.6143, \"Split\": 1.0, \"MP_D50\": 93.98404119849285, \"Concentration\": 1792.0, \"ConcentrationA500\": 8.0, \"ConcentrationB500\": 1785.0, \"Station ID\": \"S25\", \"+ 15 cm ?\": null, \"Date\": \"15-05-18\", \"Arrival\": \"19:37:00\", \"Sediment\": \"19:37:00\", \"CTD\": null, \"Departure\": null, \"GPS LAT\": \"54\\u00b0 36.857\\u2019\", \"GPS LON\": \"09\\u00b0 53.229\\u2019\", \"Depth\": 3.0, \"Comments\": \"Faull\\u00fcck\", \"D50\": 23.05, \"<63\\u00b5m\": 90.5366666666667, \"20\": 3.47, \"25\": 4.33, \"32\": 3.53, \"38\": 3.99, \"45\": 4.49, \"53\": 5.36, \"63\": 5.88, \"75\": 6.36, \"90\": 5.51, \"106\": 5.04, \"125\": 4.56, \"150\": 3.48, \"180\": 2.27, \"212\": 1.58, \"250\": 1.32, \"300\": 1.01, \"355\": 1.0, \"425\": 0.87, \"500\": 0.9, \"600\": 0.66, \"710\": 0.48, \"850\": 0.19, \"1000\": 0.03, \"1180\": 0.0, \"1400\": 0.0, \"1700\": 0.0, \"2000\": 0.0, \"2360\": 0.0, \"2800\": 0.0, \"3350\": 0.0, \"4000\": 0.0, \"4750\": 0.0, \"5600\": 0.0, \"6300\": 0.0, \"6700\": 0.0, \"8000\": 0.0, \"9500\": 0.0, \" Below 63 \\u00b5m\": 58.86, \" Below 90 \\u00b5m\": 71.1, \" Below 125 \\u00b5m\": 81.65, \" Below 180 \\u00b5m\": 89.69, \" Below 250 \\u00b5m\": 93.54, \" Below 355 \\u00b5m\": 95.87, \" Below 500 \\u00b5m\": 97.74, \" Below 710 \\u00b5m\": 99.3, \" Below 1000 \\u00b5m\": 99.97, \" Below 1400 \\u00b5m\": 100.0, \" Below 2000 \\u00b5m\": 100.0, \" Above 2000 \\u00b5m\": 9e-09, \"Dx 10\": 4.19, \"Dx 16\": 6.3, \"Dx 25\": 11.2, \"Dx 50\": 46.7, \"Dx 75\": 101.0, \"Dx 84\": 137.0, \"Dx 90\": 183.0, \"TOC\": 8.713, \"Hg\": 166.0, \"Dist_WWTP\": 24017.0, \"regio_sep\": \"outer\"}, {\"index\": 17, \"PC1\": -0.24852249558197523, \"PC2\": -0.1102039996716201, \"Sample\": \"Schlei_S26\", \"Frequency\": 24, \"FrequencyA500\": 3, \"FrequencyB500\": 21, \"Mass\": 0.25, \"GPS_LONs\": 9.92367, \"GPS_LATs\": 54.6247, \"Split\": 1.0, \"MP_D50\": 120.81153892653342, \"Concentration\": 96.0, \"ConcentrationA500\": 12.0, \"ConcentrationB500\": 84.0, \"Station ID\": \"S26\", \"+ 15 cm ?\": null, \"Date\": \"15-05-18\", \"Arrival\": \"20:28:00\", \"Sediment\": \"20:30:00\", \"CTD\": null, \"Departure\": null, \"GPS LAT\": \"54\\u00b0 37.483\\u2019\", \"GPS LON\": \"09\\u00b0 55.42\\u2019\", \"Depth\": 2.3, \"Comments\": null, \"D50\": 278.0, \"<63\\u00b5m\": 27.095, \"20\": 3.88, \"25\": 4.23, \"32\": 2.93, \"38\": 2.9, \"45\": 2.86, \"53\": 3.09, \"63\": 3.18, \"75\": 3.36, \"90\": 2.98, \"106\": 2.9, \"125\": 3.01, \"150\": 2.8, \"180\": 2.35, \"212\": 2.25, \"250\": 2.47, \"300\": 2.32, \"355\": 2.57, \"425\": 2.39, \"500\": 2.71, \"600\": 2.41, \"710\": 2.35, \"850\": 1.8, \"1000\": 1.5, \"1180\": 1.28, \"1400\": 1.15, \"1700\": 0.75, \"2000\": 0.62, \"2360\": 0.44, \"2800\": 0.25, \"3350\": 0.04, \"4000\": 0.0, \"4750\": 0.0, \"5600\": 0.0, \"6300\": 0.0, \"6700\": 0.0, \"8000\": 0.0, \"9500\": 0.0, \" Below 63 \\u00b5m\": 52.13, \" Below 90 \\u00b5m\": 58.67, \" Below 125 \\u00b5m\": 64.55, \" Below 180 \\u00b5m\": 70.36, \" Below 250 \\u00b5m\": 74.96, \" Below 355 \\u00b5m\": 79.74, \" Below 500 \\u00b5m\": 84.71, \" Below 710 \\u00b5m\": 89.82, \" Below 1000 \\u00b5m\": 93.98, \" Below 1400 \\u00b5m\": 96.75, \" Below 2000 \\u00b5m\": 98.65, \" Above 2000 \\u00b5m\": 1.35, \"Dx 10\": 5.4, \"Dx 16\": 7.95, \"Dx 25\": 13.3, \"Dx 50\": 55.9, \"Dx 75\": 251.0, \"Dx 84\": 477.0, \"Dx 90\": 719.0, \"TOC\": 0.1885, \"Hg\": 17.6, \"Dist_WWTP\": 26567.0, \"regio_sep\": \"outer\"}, {\"index\": 18, \"PC1\": 0.3646794242799312, \"PC2\": -0.034338957963081077, \"Sample\": \"Schlei_S27\", \"Frequency\": 372, \"FrequencyA500\": 3, \"FrequencyB500\": 369, \"Mass\": 0.25, \"GPS_LONs\": 9.9332, \"GPS_LATs\": 54.63589999999999, \"Split\": 0.25, \"MP_D50\": 100.4723587086354, \"Concentration\": 5952.0, \"ConcentrationA500\": 48.0, \"ConcentrationB500\": 5904.0, \"Station ID\": \"S27\", \"+ 15 cm ?\": null, \"Date\": \"15-05-18\", \"Arrival\": \"20:47:00\", \"Sediment\": null, \"CTD\": null, \"Departure\": null, \"GPS LAT\": \"54\\u00b0 38.155\\u2019\", \"GPS LON\": \"09\\u00b0 55.992\\u2019\", \"Depth\": 1.2, \"Comments\": null, \"D50\": 22.2, \"<63\\u00b5m\": 84.585, \"20\": 4.89, \"25\": 5.45, \"32\": 3.86, \"38\": 3.88, \"45\": 3.89, \"53\": 4.31, \"63\": 4.58, \"75\": 5.08, \"90\": 4.73, \"106\": 4.81, \"125\": 5.12, \"150\": 4.62, \"180\": 3.43, \"212\": 2.4, \"250\": 1.5, \"300\": 0.33, \"355\": 0.0, \"425\": 0.0, \"500\": 0.0, \"600\": 0.0, \"710\": 0.0, \"850\": 0.0, \"1000\": 0.0, \"1180\": 0.0, \"1400\": 0.0, \"1700\": 0.0, \"2000\": 0.0, \"2360\": 0.0, \"2800\": 0.0, \"3350\": 0.0, \"4000\": 0.0, \"4750\": 0.0, \"5600\": 0.0, \"6300\": 0.0, \"6700\": 0.0, \"8000\": 0.0, \"9500\": 0.0, \" Below 63 \\u00b5m\": 63.39, \" Below 90 \\u00b5m\": 73.05, \" Below 125 \\u00b5m\": 82.6, \" Below 180 \\u00b5m\": 92.34, \" Below 250 \\u00b5m\": 98.16, \" Below 355 \\u00b5m\": 100.0, \" Below 500 \\u00b5m\": 100.0, \" Below 710 \\u00b5m\": 100.0, \" Below 1000 \\u00b5m\": 100.0, \" Below 1400 \\u00b5m\": 100.0, \" Below 2000 \\u00b5m\": 100.0, \" Above 2000 \\u00b5m\": 6e-14, \"Dx 10\": 5.5, \"Dx 16\": 7.6, \"Dx 25\": 11.6, \"Dx 50\": 35.9, \"Dx 75\": 96.3, \"Dx 84\": 131.0, \"Dx 90\": 163.0, \"TOC\": 6.8825, \"Hg\": 182.6, \"Dist_WWTP\": 28534.0, \"regio_sep\": \"outer\"}, {\"index\": 19, \"PC1\": 0.31273822867883316, \"PC2\": 0.01596794162815403, \"Sample\": \"Schlei_S29\", \"Frequency\": 1278, \"FrequencyA500\": 8, \"FrequencyB500\": 1270, \"Mass\": 0.25, \"GPS_LONs\": 9.93985, \"GPS_LATs\": 54.66330000000001, \"Split\": 0.125, \"MP_D50\": 94.69952481401371, \"Concentration\": 40896.0, \"ConcentrationA500\": 256.0, \"ConcentrationB500\": 40640.0, \"Station ID\": \"S29\", \"+ 15 cm ?\": null, \"Date\": \"16-05-18\", \"Arrival\": \"09:25:00\", \"Sediment\": null, \"CTD\": \"09:26:00\", \"Departure\": \"09:27:00\", \"GPS LAT\": \"54\\u00b0 39.798\\u2019\", \"GPS LON\": \"09\\u00b0 56.391\\u2019\", \"Depth\": 1.2, \"Comments\": \"Kappeln gegen\\u00fcber Fischerkai?\", \"D50\": 27.05, \"<63\\u00b5m\": 77.01, \"20\": 2.87, \"25\": 3.18, \"32\": 2.22, \"38\": 2.23, \"45\": 2.3, \"53\": 2.67, \"63\": 3.0, \"75\": 3.56, \"90\": 3.49, \"106\": 3.69, \"125\": 4.13, \"150\": 4.02, \"180\": 3.45, \"212\": 3.32, \"250\": 3.6, \"300\": 3.33, \"355\": 3.66, \"425\": 3.39, \"500\": 3.84, \"600\": 3.45, \"710\": 3.43, \"850\": 2.71, \"1000\": 2.33, \"1180\": 1.98, \"1400\": 1.73, \"1700\": 1.09, \"2000\": 0.83, \"2360\": 0.52, \"2800\": 0.23, \"3350\": 0.02, \"4000\": 0.0, \"4750\": 0.0, \"5600\": 0.0, \"6300\": 0.0, \"6700\": 0.0, \"8000\": 0.0, \"9500\": 0.0, \" Below 63 \\u00b5m\": 35.16, \" Below 90 \\u00b5m\": 41.72, \" Below 125 \\u00b5m\": 48.91, \" Below 180 \\u00b5m\": 57.07, \" Below 250 \\u00b5m\": 63.85, \" Below 355 \\u00b5m\": 70.78, \" Below 500 \\u00b5m\": 77.83, \" Below 710 \\u00b5m\": 85.12, \" Below 1000 \\u00b5m\": 91.26, \" Below 1400 \\u00b5m\": 95.58, \" Below 2000 \\u00b5m\": 98.4, \" Above 2000 \\u00b5m\": 1.6, \"Dx 10\": 8.79, \"Dx 16\": 14.9, \"Dx 25\": 30.2, \"Dx 50\": 131.0, \"Dx 75\": 437.0, \"Dx 84\": 671.0, \"Dx 90\": 925.0, \"TOC\": 5.7785, \"Hg\": 139.268714904786, \"Dist_WWTP\": 31509.0, \"regio_sep\": \"outer\"}, {\"index\": 20, \"PC1\": -0.4295917436082972, \"PC2\": -0.09624757420135945, \"Sample\": \"Schlei_S2_15cm\", \"Frequency\": 562, \"FrequencyA500\": 0, \"FrequencyB500\": 562, \"Mass\": 0.25, \"GPS_LONs\": 9.59055, \"GPS_LATs\": 54.5077, \"Split\": 0.25, \"MP_D50\": 97.01546268507924, \"Concentration\": 8992.0, \"ConcentrationA500\": 0.0, \"ConcentrationB500\": 8992.0, \"Station ID\": null, \"+ 15 cm ?\": null, \"Date\": null, \"Arrival\": null, \"Sediment\": null, \"CTD\": null, \"Departure\": null, \"GPS LAT\": null, \"GPS LON\": null, \"Depth\": null, \"Comments\": null, \"D50\": 267.0, \"<63\\u00b5m\": 13.535, \"20\": null, \"25\": null, \"32\": null, \"38\": null, \"45\": null, \"53\": null, \"63\": null, \"75\": null, \"90\": null, \"106\": null, \"125\": null, \"150\": null, \"180\": null, \"212\": null, \"250\": null, \"300\": null, \"355\": null, \"425\": null, \"500\": null, \"600\": null, \"710\": null, \"850\": null, \"1000\": null, \"1180\": null, \"1400\": null, \"1700\": null, \"2000\": null, \"2360\": null, \"2800\": null, \"3350\": null, \"4000\": null, \"4750\": null, \"5600\": null, \"6300\": null, \"6700\": null, \"8000\": null, \"9500\": null, \" Below 63 \\u00b5m\": null, \" Below 90 \\u00b5m\": null, \" Below 125 \\u00b5m\": null, \" Below 180 \\u00b5m\": null, \" Below 250 \\u00b5m\": null, \" Below 355 \\u00b5m\": null, \" Below 500 \\u00b5m\": null, \" Below 710 \\u00b5m\": null, \" Below 1000 \\u00b5m\": null, \" Below 1400 \\u00b5m\": null, \" Below 2000 \\u00b5m\": null, \" Above 2000 \\u00b5m\": null, \"Dx 10\": null, \"Dx 16\": null, \"Dx 25\": null, \"Dx 50\": null, \"Dx 75\": null, \"Dx 84\": null, \"Dx 90\": null, \"TOC\": 0.623, \"Hg\": 18.0103197097778, \"Dist_WWTP\": 2468.0, \"regio_sep\": \"inner\"}, {\"index\": 21, \"PC1\": 0.3182507669361015, \"PC2\": -0.09434998693279498, \"Sample\": \"Schlei_S3\", \"Frequency\": 343, \"FrequencyA500\": 6, \"FrequencyB500\": 337, \"Mass\": 0.06, \"GPS_LONs\": 9.60065, \"GPS_LATs\": 54.50869999999999, \"Split\": 0.5, \"MP_D50\": 94.02127418834527, \"Concentration\": 11433.0, \"ConcentrationA500\": 200.0, \"ConcentrationB500\": 11233.0, \"Station ID\": \"S3\", \"+ 15 cm ?\": null, \"Date\": \"14-05-18\", \"Arrival\": \"19:08:00\", \"Sediment\": null, \"CTD\": \"19:18:00\", \"Departure\": null, \"GPS LAT\": \"54\\u00b0 30.519\\u2019\", \"GPS LON\": \"09\\u00b0 36.039\\u2019\", \"Depth\": 3.8, \"Comments\": \"zw. Fahrdorf und Windm\\u00fchle\", \"D50\": 12.5, \"<63\\u00b5m\": 84.475, \"20\": 5.29, \"25\": 6.23, \"32\": 4.64, \"38\": 4.82, \"45\": 4.9, \"53\": 5.34, \"63\": 5.38, \"75\": 5.32, \"90\": 4.28, \"106\": 3.67, \"125\": 3.08, \"150\": 2.21, \"180\": 1.4, \"212\": 1.03, \"250\": 0.97, \"300\": 0.83, \"355\": 0.84, \"425\": 0.68, \"500\": 0.62, \"600\": 0.4, \"710\": 0.29, \"850\": 0.19, \"1000\": 0.19, \"1180\": 0.21, \"1400\": 0.25, \"1700\": 0.2, \"2000\": 0.17, \"2360\": 0.13, \"2800\": 0.08, \"3350\": 0.01, \"4000\": 0.0, \"4750\": 0.0, \"5600\": 0.0, \"6300\": 0.0, \"6700\": 0.0, \"8000\": 0.0, \"9500\": 0.0, \" Below 63 \\u00b5m\": 67.56, \" Below 90 \\u00b5m\": 78.27, \" Below 125 \\u00b5m\": 86.22, \" Below 180 \\u00b5m\": 91.51, \" Below 250 \\u00b5m\": 93.94, \" Below 355 \\u00b5m\": 95.74, \" Below 500 \\u00b5m\": 97.26, \" Below 710 \\u00b5m\": 98.28, \" Below 1000 \\u00b5m\": 98.76, \" Below 1400 \\u00b5m\": 99.16, \" Below 2000 \\u00b5m\": 99.61, \" Above 2000 \\u00b5m\": 0.39, \"Dx 10\": 5.62, \"Dx 16\": 7.86, \"Dx 25\": 12.1, \"Dx 50\": 34.7, \"Dx 75\": 80.4, \"Dx 84\": 113.0, \"Dx 90\": 158.0, \"TOC\": 13.629, \"Hg\": 277.2, \"Dist_WWTP\": 2068.0, \"regio_sep\": \"inner\"}, {\"index\": 22, \"PC1\": 0.0962578787918043, \"PC2\": 0.017983772015138, \"Sample\": \"Schlei_S30\", \"Frequency\": 140, \"FrequencyA500\": 10, \"FrequencyB500\": 130, \"Mass\": 0.203, \"GPS_LONs\": 9.94452, \"GPS_LATs\": 54.672, \"Split\": 1.0, \"MP_D50\": 138.85021330809843, \"Concentration\": 690.0, \"ConcentrationA500\": 49.0, \"ConcentrationB500\": 640.0, \"Station ID\": \"S30\", \"+ 15 cm ?\": null, \"Date\": \"16-05-18\", \"Arrival\": \"09:37:00\", \"Sediment\": \"09:40:00\", \"CTD\": null, \"Departure\": null, \"GPS LAT\": \"54\\u00b0 40.317\\u2019\", \"GPS LON\": \"09\\u00b0 56.671\\u2019\", \"Depth\": 12.1, \"Comments\": null, \"D50\": 48.0, \"<63\\u00b5m\": 54.195, \"20\": 2.98, \"25\": 3.32, \"32\": 2.31, \"38\": 2.27, \"45\": 2.24, \"53\": 2.44, \"63\": 2.56, \"75\": 2.79, \"90\": 2.57, \"106\": 2.6, \"125\": 2.83, \"150\": 2.78, \"180\": 2.48, \"212\": 2.54, \"250\": 2.93, \"300\": 2.86, \"355\": 3.26, \"425\": 3.09, \"500\": 3.59, \"600\": 3.39, \"710\": 3.64, \"850\": 3.3, \"1000\": 3.32, \"1180\": 3.3, \"1400\": 3.41, \"1700\": 2.48, \"2000\": 2.09, \"2360\": 1.52, \"2800\": 0.87, \"3350\": 0.14, \"4000\": 0.0, \"4750\": 0.0, \"5600\": 0.0, \"6300\": 0.0, \"6700\": 0.0, \"8000\": 0.0, \"9500\": 0.0, \" Below 63 \\u00b5m\": 35.67, \" Below 90 \\u00b5m\": 41.02, \" Below 125 \\u00b5m\": 46.19, \" Below 180 \\u00b5m\": 51.79, \" Below 250 \\u00b5m\": 56.81, \" Below 355 \\u00b5m\": 62.61, \" Below 500 \\u00b5m\": 68.96, \" Below 710 \\u00b5m\": 75.94, \" Below 1000 \\u00b5m\": 82.88, \" Below 1400 \\u00b5m\": 89.5, \" Below 2000 \\u00b5m\": 95.39, \" Above 2000 \\u00b5m\": 4.61, \"Dx 10\": 8.75, \"Dx 16\": 14.5, \"Dx 25\": 28.8, \"Dx 50\": 160.0, \"Dx 75\": 678.0, \"Dx 84\": 1060.0, \"Dx 90\": 1440.0, \"TOC\": 2.3875, \"Hg\": 56.0393009185791, \"Dist_WWTP\": 32502.0, \"regio_sep\": \"outer\"}, {\"index\": 23, \"PC1\": -0.2435231307401099, \"PC2\": 0.17006644041499158, \"Sample\": \"Schlei_S31\", \"Frequency\": 16, \"FrequencyA500\": 0, \"FrequencyB500\": 16, \"Mass\": 0.078, \"GPS_LONs\": 10.0186, \"GPS_LATs\": 54.6757, \"Split\": 1.0, \"MP_D50\": 71.87401565136615, \"Concentration\": 205.0, \"ConcentrationA500\": 0.0, \"ConcentrationB500\": 205.0, \"Station ID\": \"S31\", \"+ 15 cm ?\": null, \"Date\": \"16-05-18\", \"Arrival\": \"10:45:00\", \"Sediment\": null, \"CTD\": null, \"Departure\": null, \"GPS LAT\": \"54\\u00b0 40.542\\u2019\", \"GPS LON\": \"10\\u00b0 01.118\\u2019\", \"Depth\": 4.0, \"Comments\": null, \"D50\": 152.5, \"<63\\u00b5m\": 22.0425, \"20\": 0.91, \"25\": 1.13, \"32\": 0.86, \"38\": 0.91, \"45\": 0.98, \"53\": 1.17, \"63\": 1.36, \"75\": 1.67, \"90\": 1.71, \"106\": 1.9, \"125\": 2.35, \"150\": 2.62, \"180\": 2.65, \"212\": 3.1, \"250\": 3.91, \"300\": 4.02, \"355\": 4.56, \"425\": 4.08, \"500\": 4.34, \"600\": 3.8, \"710\": 4.14, \"850\": 4.26, \"1000\": 5.17, \"1180\": 6.23, \"1400\": 7.88, \"1700\": 6.57, \"2000\": 5.99, \"2360\": 4.59, \"2800\": 2.7, \"3350\": 0.44, \"4000\": 0.0, \"4750\": 0.0, \"5600\": 0.0, \"6300\": 0.0, \"6700\": 0.0, \"8000\": 0.0, \"9500\": 0.0, \" Below 63 \\u00b5m\": 9.95, \" Below 90 \\u00b5m\": 12.99, \" Below 125 \\u00b5m\": 16.6, \" Below 180 \\u00b5m\": 21.57, \" Below 250 \\u00b5m\": 27.32, \" Below 355 \\u00b5m\": 35.24, \" Below 500 \\u00b5m\": 43.88, \" Below 710 \\u00b5m\": 52.03, \" Below 1000 \\u00b5m\": 60.44, \" Below 1400 \\u00b5m\": 71.83, \" Below 2000 \\u00b5m\": 86.28, \" Above 2000 \\u00b5m\": 13.72, \"Dx 10\": 63.4, \"Dx 16\": 119.0, \"Dx 25\": 221.0, \"Dx 50\": 649.0, \"Dx 75\": 1520.0, \"Dx 84\": 1890.0, \"Dx 90\": 2210.0, \"TOC\": 1.108, \"Hg\": 12.2936501502991, \"Dist_WWTP\": 37475.0, \"regio_sep\": \"outer\"}, {\"index\": 24, \"PC1\": 0.22741966786604204, \"PC2\": 0.1672931601506267, \"Sample\": \"Schlei_S32\", \"Frequency\": 909, \"FrequencyA500\": 28, \"FrequencyB500\": 881, \"Mass\": 0.179, \"GPS_LONs\": 9.98658, \"GPS_LATs\": 54.6874, \"Split\": 0.25, \"MP_D50\": 130.47988350699887, \"Concentration\": 20313.0, \"ConcentrationA500\": 626.0, \"ConcentrationB500\": 19687.0, \"Station ID\": \"S32\", \"+ 15 cm ?\": null, \"Date\": \"16-05-18\", \"Arrival\": \"11:06:00\", \"Sediment\": \"11:07:00\", \"CTD\": null, \"Departure\": null, \"GPS LAT\": \"54\\u00b0 41.241\\u2019\", \"GPS LON\": \"09\\u00b0 59.195\\u2019\", \"Depth\": 2.1, \"Comments\": null, \"D50\": 49.45, \"<63\\u00b5m\": 61.345, \"20\": 2.37, \"25\": 2.97, \"32\": 2.31, \"38\": 2.49, \"45\": 2.68, \"53\": 3.15, \"63\": 3.5, \"75\": 4.01, \"90\": 3.8, \"106\": 3.92, \"125\": 4.31, \"150\": 4.19, \"180\": 3.63, \"212\": 3.54, \"250\": 3.86, \"300\": 3.54, \"355\": 3.77, \"425\": 3.36, \"500\": 3.66, \"600\": 3.21, \"710\": 3.23, \"850\": 2.71, \"1000\": 2.6, \"1180\": 2.54, \"1400\": 2.64, \"1700\": 1.95, \"2000\": 1.66, \"2360\": 1.2, \"2800\": 0.68, \"3350\": 0.11, \"4000\": 0.0, \"4750\": 0.0, \"5600\": 0.0, \"6300\": 0.0, \"6700\": 0.0, \"8000\": 0.0, \"9500\": 0.0, \" Below 63 \\u00b5m\": 28.39, \" Below 90 \\u00b5m\": 35.9, \" Below 125 \\u00b5m\": 43.62, \" Below 180 \\u00b5m\": 52.12, \" Below 250 \\u00b5m\": 59.29, \" Below 355 \\u00b5m\": 66.69, \" Below 500 \\u00b5m\": 73.81, \" Below 710 \\u00b5m\": 80.68, \" Below 1000 \\u00b5m\": 86.62, \" Below 1400 \\u00b5m\": 91.75, \" Below 2000 \\u00b5m\": 96.35, \" Above 2000 \\u00b5m\": 3.65, \"Dx 10\": 15.5, \"Dx 16\": 27.8, \"Dx 25\": 52.3, \"Dx 50\": 164.0, \"Dx 75\": 530.0, \"Dx 84\": 855.0, \"Dx 90\": 1240.0, \"TOC\": 3.165, \"Hg\": 113.923725128174, \"Dist_WWTP\": 36158.0, \"regio_sep\": \"outer\"}, {\"index\": 25, \"PC1\": -0.42789228527974416, \"PC2\": 0.03849594551797459, \"Sample\": \"Schlei_S4\", \"Frequency\": 363, \"FrequencyA500\": 0, \"FrequencyB500\": 363, \"Mass\": 0.25, \"GPS_LONs\": 9.62385, \"GPS_LATs\": 54.5192, \"Split\": 0.25, \"MP_D50\": 68.58571279792899, \"Concentration\": 5808.0, \"ConcentrationA500\": 0.0, \"ConcentrationB500\": 5808.0, \"Station ID\": \"S4\", \"+ 15 cm ?\": 1.0, \"Date\": \"15-05-18\", \"Arrival\": null, \"Sediment\": \"08:55:00\", \"CTD\": \"09:00:00\", \"Departure\": \"09:03:00\", \"GPS LAT\": \"54\\u00b0 31.153\\u2019\", \"GPS LON\": \"09\\u00b0 37.431\\u2019\", \"Depth\": 2.8, \"Comments\": \"westl. Reesholm\", \"D50\": 226.0, \"<63\\u00b5m\": 10.22, \"20\": 3.62, \"25\": 4.13, \"32\": 2.88, \"38\": 2.83, \"45\": 2.8, \"53\": 3.13, \"63\": 3.44, \"75\": 4.04, \"90\": 3.98, \"106\": 4.26, \"125\": 4.81, \"150\": 4.67, \"180\": 3.92, \"212\": 3.55, \"250\": 3.52, \"300\": 2.91, \"355\": 2.83, \"425\": 2.43, \"500\": 2.58, \"600\": 2.23, \"710\": 2.26, \"850\": 1.89, \"1000\": 1.76, \"1180\": 1.62, \"1400\": 1.55, \"1700\": 1.1, \"2000\": 0.92, \"2360\": 0.66, \"2800\": 0.38, \"3350\": 0.06, \"4000\": 0.0, \"4750\": 0.0, \"5600\": 0.0, \"6300\": 0.0, \"6700\": 0.0, \"8000\": 0.0, \"9500\": 0.0, \" Below 63 \\u00b5m\": 38.65, \" Below 90 \\u00b5m\": 46.13, \" Below 125 \\u00b5m\": 54.36, \" Below 180 \\u00b5m\": 63.85, \" Below 250 \\u00b5m\": 71.32, \" Below 355 \\u00b5m\": 77.75, \" Below 500 \\u00b5m\": 83.01, \" Below 710 \\u00b5m\": 87.82, \" Below 1000 \\u00b5m\": 91.97, \" Below 1400 \\u00b5m\": 95.35, \" Below 2000 \\u00b5m\": 97.99, \" Above 2000 \\u00b5m\": 2.01, \"Dx 10\": 10.1, \"Dx 16\": 16.1, \"Dx 25\": 28.4, \"Dx 50\": 106.0, \"Dx 75\": 303.0, \"Dx 84\": 536.0, \"Dx 90\": 845.0, \"TOC\": 0.818, \"Hg\": 23.5, \"Dist_WWTP\": 1497.0, \"regio_sep\": \"inner\"}, {\"index\": 26, \"PC1\": -0.2977661006930245, \"PC2\": 0.09447800920658568, \"Sample\": \"Schlei_S4_15cm\", \"Frequency\": 358, \"FrequencyA500\": 8, \"FrequencyB500\": 350, \"Mass\": 0.21, \"GPS_LONs\": 9.62385, \"GPS_LATs\": 54.5192, \"Split\": 0.25, \"MP_D50\": 109.34349546269316, \"Concentration\": 6819.0, \"ConcentrationA500\": 152.0, \"ConcentrationB500\": 6667.0, \"Station ID\": null, \"+ 15 cm ?\": null, \"Date\": null, \"Arrival\": null, \"Sediment\": null, \"CTD\": null, \"Departure\": null, \"GPS LAT\": null, \"GPS LON\": null, \"Depth\": null, \"Comments\": null, \"D50\": 174.5, \"<63\\u00b5m\": 22.19, \"20\": null, \"25\": null, \"32\": null, \"38\": null, \"45\": null, \"53\": null, \"63\": null, \"75\": null, \"90\": null, \"106\": null, \"125\": null, \"150\": null, \"180\": null, \"212\": null, \"250\": null, \"300\": null, \"355\": null, \"425\": null, \"500\": null, \"600\": null, \"710\": null, \"850\": null, \"1000\": null, \"1180\": null, \"1400\": null, \"1700\": null, \"2000\": null, \"2360\": null, \"2800\": null, \"3350\": null, \"4000\": null, \"4750\": null, \"5600\": null, \"6300\": null, \"6700\": null, \"8000\": null, \"9500\": null, \" Below 63 \\u00b5m\": null, \" Below 90 \\u00b5m\": null, \" Below 125 \\u00b5m\": null, \" Below 180 \\u00b5m\": null, \" Below 250 \\u00b5m\": null, \" Below 355 \\u00b5m\": null, \" Below 500 \\u00b5m\": null, \" Below 710 \\u00b5m\": null, \" Below 1000 \\u00b5m\": null, \" Below 1400 \\u00b5m\": null, \" Below 2000 \\u00b5m\": null, \" Above 2000 \\u00b5m\": null, \"Dx 10\": null, \"Dx 16\": null, \"Dx 25\": null, \"Dx 50\": null, \"Dx 75\": null, \"Dx 84\": null, \"Dx 90\": null, \"TOC\": 1.51, \"Hg\": 25.7828359603881, \"Dist_WWTP\": 1497.0, \"regio_sep\": \"inner\"}, {\"index\": 27, \"PC1\": -0.5087120141898847, \"PC2\": -0.10368954308493063, \"Sample\": \"Schlei_S5\", \"Frequency\": 16, \"FrequencyA500\": 0, \"FrequencyB500\": 16, \"Mass\": 0.25, \"GPS_LONs\": 9.62658, \"GPS_LATs\": 54.5299, \"Split\": 1.0, \"MP_D50\": 121.3870377881985, \"Concentration\": 64.0, \"ConcentrationA500\": 0.0, \"ConcentrationB500\": 64.0, \"Station ID\": \"S5\", \"+ 15 cm ?\": 1.0, \"Date\": \"15-05-18\", \"Arrival\": \"09:10:00\", \"Sediment\": \"09:13:00\", \"CTD\": \"09:14:00\", \"Departure\": \"09:16:00\", \"GPS LAT\": \"54\\u00b0 31.794\\u2019\", \"GPS LON\": \"09\\u00b0 37.595\\u2019\", \"Depth\": 1.4, \"Comments\": \"F\\u00fcsinger Au\", \"D50\": 293.0, \"<63\\u00b5m\": 4.98, \"20\": 2.72, \"25\": 3.14, \"32\": 2.28, \"38\": 2.34, \"45\": 2.4, \"53\": 2.72, \"63\": 2.93, \"75\": 3.26, \"90\": 3.01, \"106\": 3.02, \"125\": 3.2, \"150\": 2.97, \"180\": 2.45, \"212\": 2.23, \"250\": 2.25, \"300\": 1.89, \"355\": 1.79, \"425\": 1.44, \"500\": 1.44, \"600\": 1.23, \"710\": 1.33, \"850\": 1.35, \"1000\": 1.61, \"1180\": 1.93, \"1400\": 2.45, \"1700\": 2.06, \"2000\": 1.89, \"2360\": 1.46, \"2800\": 0.86, \"3350\": 0.14, \"4000\": 0.0, \"4750\": 0.0, \"5600\": 0.0, \"6300\": 0.0, \"6700\": 0.0, \"8000\": 0.0, \"9500\": 0.0, \" Below 63 \\u00b5m\": 51.8, \" Below 90 \\u00b5m\": 57.98, \" Below 125 \\u00b5m\": 64.0, \" Below 180 \\u00b5m\": 70.18, \" Below 250 \\u00b5m\": 74.86, \" Below 355 \\u00b5m\": 79.0, \" Below 500 \\u00b5m\": 82.23, \" Below 710 \\u00b5m\": 84.91, \" Below 1000 \\u00b5m\": 87.59, \" Below 1400 \\u00b5m\": 91.13, \" Below 2000 \\u00b5m\": 95.65, \" Above 2000 \\u00b5m\": 4.35, \"Dx 10\": 0.353, \"Dx 16\": 2.84, \"Dx 25\": 7.41, \"Dx 50\": 56.3, \"Dx 75\": 253.0, \"Dx 84\": 627.0, \"Dx 90\": 1270.0, \"TOC\": 0.1235, \"Hg\": 8.0, \"Dist_WWTP\": 1602.0, \"regio_sep\": \"river\"}, {\"index\": 28, \"PC1\": 0.3142826243164696, \"PC2\": -0.00622863329687782, \"Sample\": \"Schlei_S6\", \"Frequency\": 418, \"FrequencyA500\": 4, \"FrequencyB500\": 414, \"Mass\": 0.039999999999999994, \"GPS_LONs\": 9.61715, \"GPS_LATs\": 54.522, \"Split\": 0.25, \"MP_D50\": 93.69098142297368, \"Concentration\": 41800.0, \"ConcentrationA500\": 400.0, \"ConcentrationB500\": 41400.0, \"Station ID\": \"S6\", \"+ 15 cm ?\": null, \"Date\": \"15-05-18\", \"Arrival\": \"09:25:00\", \"Sediment\": \"09:27:00\", \"CTD\": \"09:29:00\", \"Departure\": \"09:30:00\", \"GPS LAT\": \"54\\u00b0 31.323\\u2019\", \"GPS LON\": \"09\\u00b0 37.029\\u2019\", \"Depth\": 3.0, \"Comments\": \"Kleine Breite Ost, zw. Reesholm und Freiheit\", \"D50\": 24.65, \"<63\\u00b5m\": 76.955, \"20\": null, \"25\": null, \"32\": null, \"38\": null, \"45\": null, \"53\": null, \"63\": null, \"75\": null, \"90\": null, \"106\": null, \"125\": null, \"150\": null, \"180\": null, \"212\": null, \"250\": null, \"300\": null, \"355\": null, \"425\": null, \"500\": null, \"600\": null, \"710\": null, \"850\": null, \"1000\": null, \"1180\": null, \"1400\": null, \"1700\": null, \"2000\": null, \"2360\": null, \"2800\": null, \"3350\": null, \"4000\": null, \"4750\": null, \"5600\": null, \"6300\": null, \"6700\": null, \"8000\": null, \"9500\": null, \" Below 63 \\u00b5m\": null, \" Below 90 \\u00b5m\": null, \" Below 125 \\u00b5m\": null, \" Below 180 \\u00b5m\": null, \" Below 250 \\u00b5m\": null, \" Below 355 \\u00b5m\": null, \" Below 500 \\u00b5m\": null, \" Below 710 \\u00b5m\": null, \" Below 1000 \\u00b5m\": null, \" Below 1400 \\u00b5m\": null, \" Below 2000 \\u00b5m\": null, \" Above 2000 \\u00b5m\": null, \"Dx 10\": null, \"Dx 16\": null, \"Dx 25\": null, \"Dx 50\": null, \"Dx 75\": null, \"Dx 84\": null, \"Dx 90\": null, \"TOC\": 10.403, \"Hg\": 278.8, \"Dist_WWTP\": 974.0, \"regio_sep\": \"inner\"}, {\"index\": 29, \"PC1\": 0.30548063591235475, \"PC2\": 0.05068486059021079, \"Sample\": \"Schlei_S7\", \"Frequency\": 660, \"FrequencyA500\": 0, \"FrequencyB500\": 660, \"Mass\": 0.081, \"GPS_LONs\": 9.61202, \"GPS_LATs\": 54.5183, \"Split\": 0.125, \"MP_D50\": 101.96077677224709, \"Concentration\": 65185.0, \"ConcentrationA500\": 0.0, \"ConcentrationB500\": 65185.0, \"Station ID\": \"S7\", \"+ 15 cm ?\": null, \"Date\": \"15-05-18\", \"Arrival\": \"09:34:00\", \"Sediment\": \"09:38:00\", \"CTD\": \"09:37:00\", \"Departure\": null, \"GPS LAT\": \"54\\u00b0 31.096\\u2019\", \"GPS LON\": \"09\\u00b0 36.721\\u2019\", \"Depth\": 3.2, \"Comments\": \"Kleine Breite Mitte\", \"D50\": 25.25, \"<63\\u00b5m\": 74.52, \"20\": 3.6, \"25\": 4.21, \"32\": 3.08, \"38\": 3.18, \"45\": 3.3, \"53\": 3.78, \"63\": 4.14, \"75\": 4.71, \"90\": 4.43, \"106\": 4.53, \"125\": 4.86, \"150\": 4.52, \"180\": 3.68, \"212\": 3.26, \"250\": 3.2, \"300\": 2.63, \"355\": 2.53, \"425\": 2.13, \"500\": 2.26, \"600\": 1.95, \"710\": 1.92, \"850\": 1.54, \"1000\": 1.36, \"1180\": 1.19, \"1400\": 1.08, \"1700\": 0.72, \"2000\": 0.56, \"2360\": 0.39, \"2800\": 0.22, \"3350\": 0.03, \"4000\": 0.0, \"4750\": 0.0, \"5600\": 0.0, \"6300\": 0.0, \"6700\": 0.0, \"8000\": 0.0, \"9500\": 0.0, \" Below 63 \\u00b5m\": 42.19, \" Below 90 \\u00b5m\": 51.03, \" Below 125 \\u00b5m\": 59.99, \" Below 180 \\u00b5m\": 69.37, \" Below 250 \\u00b5m\": 76.3, \" Below 355 \\u00b5m\": 82.12, \" Below 500 \\u00b5m\": 86.78, \" Below 710 \\u00b5m\": 90.99, \" Below 1000 \\u00b5m\": 94.45, \" Below 1400 \\u00b5m\": 96.99, \" Below 2000 \\u00b5m\": 98.8, \" Above 2000 \\u00b5m\": 1.2, \"Dx 10\": 8.87, \"Dx 16\": 14.2, \"Dx 25\": 25.5, \"Dx 50\": 86.6, \"Dx 75\": 234.0, \"Dx 84\": 405.0, \"Dx 90\": 651.0, \"TOC\": 9.973, \"Hg\": 410.7, \"Dist_WWTP\": 1006.0, \"regio_sep\": \"inner\"}, {\"index\": 30, \"PC1\": 0.31821773875201503, \"PC2\": -0.03379457499100708, \"Sample\": \"Schlei_S8\", \"Frequency\": 2923, \"FrequencyA500\": 39, \"FrequencyB500\": 2884, \"Mass\": 0.10499999999999998, \"GPS_LONs\": 9.60645, \"GPS_LATs\": 54.52530000000001, \"Split\": 0.5, \"MP_D50\": 100.73728207570424, \"Concentration\": 55676.0, \"ConcentrationA500\": 743.0, \"ConcentrationB500\": 54933.0, \"Station ID\": \"S8\", \"+ 15 cm ?\": null, \"Date\": \"15-05-18\", \"Arrival\": \"10:00:00\", \"Sediment\": \"10:02:00\", \"CTD\": \"10:04:00\", \"Departure\": null, \"GPS LAT\": \"54\\u00b0 31.516\\u2019\", \"GPS LON\": \"09\\u00b0 36.387\\u2019\", \"Depth\": 2.0, \"Comments\": \"Auslauf Kl\\u00e4rwerk\", \"D50\": 19.65, \"<63\\u00b5m\": 80.925, \"20\": 5.23, \"25\": 6.24, \"32\": 4.55, \"38\": 4.63, \"45\": 4.66, \"53\": 5.12, \"63\": 5.32, \"75\": 5.6, \"90\": 4.85, \"106\": 4.53, \"125\": 4.3, \"150\": 3.54, \"180\": 2.56, \"212\": 2.06, \"250\": 1.96, \"300\": 1.63, \"355\": 1.66, \"425\": 1.44, \"500\": 1.49, \"600\": 1.17, \"710\": 0.98, \"850\": 0.58, \"1000\": 0.34, \"1180\": 0.17, \"1400\": 0.09, \"1700\": 0.06, \"2000\": 0.04, \"2360\": 0.03, \"2800\": 0.01, \"3350\": 0.0, \"4000\": 0.0, \"4750\": 0.0, \"5600\": 0.0, \"6300\": 0.0, \"6700\": 0.0, \"8000\": 0.0, \"9500\": 0.0, \" Below 63 \\u00b5m\": 55.59, \" Below 90 \\u00b5m\": 66.5, \" Below 125 \\u00b5m\": 75.88, \" Below 180 \\u00b5m\": 83.72, \" Below 250 \\u00b5m\": 88.34, \" Below 355 \\u00b5m\": 91.93, \" Below 500 \\u00b5m\": 95.03, \" Below 710 \\u00b5m\": 97.69, \" Below 1000 \\u00b5m\": 99.26, \" Below 1400 \\u00b5m\": 99.76, \" Below 2000 \\u00b5m\": 99.91, \" Above 2000 \\u00b5m\": 0.09, \"Dx 10\": 8.25, \"Dx 16\": 12.5, \"Dx 25\": 19.9, \"Dx 50\": 52.2, \"Dx 75\": 121.0, \"Dx 84\": 183.0, \"Dx 90\": 291.0, \"TOC\": 16.396, \"Hg\": 304.9, \"Dist_WWTP\": 211.0, \"regio_sep\": \"inner\"}]}}, {\"mode\": \"vega-lite\"});\n",
       "</script>"
      ],
      "text/plain": [
       "alt.Chart(...)"
      ]
     },
     "execution_count": 13,
     "metadata": {},
     "output_type": "execute_result"
    }
   ],
   "source": [
    "# PCoA\n",
    "\n",
    "sedpco = sed_pcoa(sed_sdd, num_coords = 2)\n",
    "\n",
    "# Plot PCo1 and PCo2\n",
    "alt.Chart(sedpco.merge(mp_added_sed_sdd, left_index=True, right_on='Sample').reset_index()).mark_point().encode(\n",
    "    x='PC1',\n",
    "    y='smaller63',\n",
    "    color='D50',\n",
    "    tooltip='index'\n",
    ")"
   ]
  },
  {
   "cell_type": "markdown",
   "metadata": {
    "pycharm": {
     "name": "#%% md\n"
    }
   },
   "source": [
    "## Modelling"
   ]
  },
  {
   "cell_type": "code",
   "execution_count": 10,
   "metadata": {
    "collapsed": false,
    "jupyter": {
     "outputs_hidden": false
    },
    "pycharm": {
     "name": "#%%\n"
    }
   },
   "outputs": [
    {
     "name": "stdout",
     "output_type": "stream",
     "text": [
      "                 Generalized Linear Model Regression Results                  \n",
      "==============================================================================\n",
      "Dep. Variable:          Concentration   No. Observations:                   31\n",
      "Model:                            GLM   Df Residuals:                       28\n",
      "Model Family:                 Poisson   Df Model:                            2\n",
      "Link Function:                    Log   Scale:                          1.0000\n",
      "Method:                          IRLS   Log-Likelihood:            -1.9889e+05\n",
      "Date:                Thu, 02 Dec 2021   Deviance:                   3.9748e+05\n",
      "Time:                        11:16:13   Pearson chi2:                 4.59e+05\n",
      "No. Iterations:                     5   Pseudo R-squ. (CS):              1.000\n",
      "Covariance Type:            nonrobust                                         \n",
      "==============================================================================\n",
      "                 coef    std err          z      P>|z|      [0.025      0.975]\n",
      "------------------------------------------------------------------------------\n",
      "Intercept      8.6160      0.004   2226.222      0.000       8.608       8.624\n",
      "Dist_WWTP  -9.532e-06    1.7e-07    -56.230      0.000   -9.86e-06    -9.2e-06\n",
      "TOC            0.1231      0.000    386.224      0.000       0.122       0.124\n",
      "==============================================================================\n"
     ]
    }
   ],
   "source": [
    "# Create a generalized linear model (GLM) to predict the microplastic concentration from the predictors\n",
    "\n",
    "glm_input = mp_added_sed_sdd.merge(sedpco, left_on='Sample', right_index=True)\n",
    "\n",
    "glm_res = glm.glm(glm_input)\n",
    "print(glm_res.summary())"
   ]
  },
  {
   "cell_type": "markdown",
   "metadata": {
    "tags": []
   },
   "source": [
    "## MP and sediment size range combination correlations"
   ]
  },
  {
   "cell_type": "code",
   "execution_count": null,
   "metadata": {
    "collapsed": false,
    "jupyter": {
     "outputs_hidden": false
    },
    "pycharm": {
     "name": "#%%\n"
    }
   },
   "outputs": [],
   "source": [
    "# Sum abundances in size bins for all possible combinations. Basically create all possible rebinnings and stack them into one DF\n",
    "MPext = prepare_data.combination_sums(mp_size_conc.copy().T).T  # TODO: using transposed df's here, because combination_sums is not yet turned around: it takes features in rows and samples in columns...\n",
    "SEDext= prepare_data.combination_sums(sed_sdd.copy().T)"
   ]
  },
  {
   "cell_type": "markdown",
   "metadata": {
    "tags": []
   },
   "source": [
    "### Altair size range correlation (MP~Sed)"
   ]
  },
  {
   "cell_type": "code",
   "execution_count": null,
   "metadata": {
    "tags": []
   },
   "outputs": [],
   "source": [
    "MPsedExt = prepare_data.merge_size_ranges(MPext, 'MP', SEDext, 'SED', cart_prod=True)"
   ]
  },
  {
   "cell_type": "code",
   "execution_count": null,
   "metadata": {
    "tags": []
   },
   "outputs": [],
   "source": [
    "brush1 = alt.selection_interval(name=\"brush1\", encodings=['y'])\n",
    "brush2 = alt.selection_interval(name=\"brush2\", encodings=['x'])\n",
    "\n",
    "step = sed_lower_boundaries[1] - sed_lower_boundaries[0]\n",
    "\n",
    "scatter = alt.Chart(MPsedExt\n",
    ").transform_calculate(\n",
    "    b1l=f'floor((isDefined(brush1.y) ? (brush1.y[0][0]) : 1) / {step}) * {step}',\n",
    "    b1u=f'ceil((isDefined(brush1.y) ? (brush1.y[0][1]) : 1) / {step}) * {step}',\n",
    "    b2l=f'floor((isDefined(brush2.x) ? (brush2.x[0][0]) : 1) / {step}) * {step}',\n",
    "    b2u=f'ceil((isDefined(brush2.x) ? (brush2.x[0][1]) : 1) / {step}) * {step}',\n",
    ").mark_point().encode(\n",
    "    x = 'SED',\n",
    "    y = 'MP',\n",
    "    tooltip = 'sample:N'\n",
    ").transform_filter(\n",
    "    '(datum.lower_MP >= datum.b1l) &&'\n",
    "    '(datum.upper_MP <= datum.b1u) &&'\n",
    "    '(datum.lower_SED >= datum.b2l) &&'\n",
    "    '(datum.upper_SED <= datum.b2u)'\n",
    ")\n",
    "    \n",
    "\n",
    "RegLine = scatter.transform_regression(\n",
    "    'SED', 'MP', method=\"linear\",\n",
    ").mark_line(\n",
    "    color=\"red\"\n",
    ")\n",
    "\n",
    "\n",
    "RegParams = scatter.transform_regression(\n",
    "    'SED', 'MP', method=\"linear\", params=True\n",
    ").mark_text(align='left', lineBreak='\\n').encode(\n",
    "    x=alt.value(120),  # pixels from left\n",
    "    y=alt.value(20),  # pixels from top\n",
    "    text='params:N'\n",
    ").transform_calculate(\n",
    "    params='\"r² = \" + round(datum.rSquared * 100)/100 + \\\n",
    "    \"      y = \" + round(datum.coef[1] * 100)/100 + \"x\" + \" + \" + round(datum.coef[0] * 10)/10'\n",
    ")\n",
    "\n",
    "\n",
    "MP = alt.Chart(MPsedExt).mark_line().encode(\n",
    "    x = 'mean(MP)',\n",
    "    y = alt.X('lower_MP', scale=alt.Scale(type='linear'))\n",
    ").transform_filter(\n",
    "    '(datum.lower_MP == datum.lower_SED) && \\\n",
    "     (datum.upper_MP == datum.upper_SED)'\n",
    ").add_selection(\n",
    "    brush1\n",
    ").properties(\n",
    "    height = 300,\n",
    "    width = 100\n",
    ")\n",
    "\n",
    "\n",
    "sed = alt.Chart(MPsedExt).mark_line().encode(\n",
    "    x = alt.X('lower_SED', scale=alt.Scale(type='linear')),\n",
    "    y = 'mean(SED)'\n",
    ").transform_filter(\n",
    "    '(datum.lower_MP == datum.lower_SED) &&'\n",
    "    '(datum.upper_MP == datum.upper_SED)'\n",
    ").add_selection(\n",
    "    brush2\n",
    ").properties(\n",
    "    height = 100,\n",
    "    width = 400\n",
    ")\n",
    "\n",
    "\n",
    "MP | (scatter + RegLine + RegParams) & sed\n",
    "\n",
    "# chart = MP | scatter & sed\n",
    "# chart#.save('chart.json')"
   ]
  },
  {
   "cell_type": "markdown",
   "metadata": {
    "tags": []
   },
   "source": [
    "### Size range correlation matrix (MP~Sed)"
   ]
  },
  {
   "cell_type": "code",
   "execution_count": null,
   "metadata": {},
   "outputs": [],
   "source": [
    "# Calculate a correlation matrix containing Pearson correlation coefficients for all combinations of any original or summed bins of MP and sediments.\n",
    "corrMat = np.corrcoef(MPext,SEDext)\n",
    "corrMat = corrMat[:len(MPext), len(SEDext):]  # only take upper right quadrant of correlation matrix\n",
    "\n",
    "corrMatDF = pd.DataFrame(corrMat, index=MPext.index, columns=SEDext.index)  # turn np array into df\n",
    "# corrMatDF.rename('MP_{}'.format, axis=0, inplace=True)  # add a prefix for 'MP' to each row label\n",
    "# corrMatDF.rename('SED_{}'.format, axis=1, inplace=True)  # add a prefix for 'sediment' to each column label\n",
    "corrMatDF.index.name = 'MP'\n",
    "corrMatDF.columns.name = 'SED'"
   ]
  },
  {
   "cell_type": "markdown",
   "metadata": {},
   "source": [
    "### Cross-Correlation"
   ]
  },
  {
   "cell_type": "code",
   "execution_count": null,
   "metadata": {
    "tags": []
   },
   "outputs": [],
   "source": [
    "# Run a cross-correlation for each sample between MP and sediment size distribution curve shapes.\n",
    "crosscorr_results = pd.DataFrame()\n",
    "\n",
    "for label, content in df_range_conc.items():\n",
    "    datax = content\n",
    "    datay = sed_sdd[label]\n",
    "    #best = correlations.crosscorr(datax, datay)\n",
    "        \n",
    "#     lags = range(-int(len(datax)/2), int(len(datax)/2)+1)\n",
    "    lags = range(-50,0)\n",
    "    df_r = pd.DataFrame(lags, columns = ['shifted'])\n",
    "    \n",
    "#     r_pear = [datax.corr(datay.shift(lag)) for lag in lags]\n",
    "#     df_r['pearson_r'] = r_pear\n",
    "    r_spear = [stats.spearmanr(np.array(datax),np.array(datay.shift(lag)), nan_policy = 'omit') for lag in lags]\n",
    "    df_r['spearman_r'] = r_spear\n",
    "    \n",
    "    \n",
    "    best = df_r.copy().loc[df_r['spearman_r'] == df_r['spearman_r'].max()]\n",
    "    best['Sample'] = label\n",
    "    crosscorr_results = crosscorr_results.append(best)"
   ]
  },
  {
   "cell_type": "markdown",
   "metadata": {},
   "source": [
    "## MP-to-Scalar correlation (e.g. TOC)"
   ]
  },
  {
   "cell_type": "code",
   "execution_count": null,
   "metadata": {},
   "outputs": [],
   "source": [
    "alt.Chart(mp_added_sed_sdd).mark_point().encode(\n",
    "    alt.X(alt.repeat(\"column\"), type='quantitative'),\n",
    "    y = 'Concentration',\n",
    "    color = 'Regio_Sep',\n",
    "    tooltip = 'Sample'\n",
    ").repeat(\n",
    "    column=['D50', 'TOC', 'Dist_WWTP', 'Mass', 'Split']\n",
    ").interactive()"
   ]
  },
  {
   "cell_type": "code",
   "execution_count": null,
   "metadata": {},
   "outputs": [],
   "source": [
    "import plotly.express as px\n",
    "fig = px.scatter_3d(mp_added_sed_sdd, x='Dist_WWTP', y='D50', z='Concentration',\n",
    "                    color='TOC', symbol='Regio_Sep', hover_name=\"Sample\",\n",
    "                    color_continuous_scale=px.colors.sequential.turbid_r)\n",
    "\n",
    "# resize markers\n",
    "fig.update_traces(marker=dict(size=4,\n",
    "                              line=dict(width=2,\n",
    "                                        color='DarkSlateGrey')),\n",
    "                  selector=dict(mode='markers'))\n",
    "\n",
    "# change size and move colorbar\n",
    "fig.update_layout(autosize=False, width=1000, height=800,\n",
    "                  coloraxis_colorbar=dict(yanchor=\"top\", y=1, x=0, ticks=\"outside\"))\n",
    "fig.show()"
   ]
  },
  {
   "cell_type": "code",
   "execution_count": null,
   "metadata": {
    "pycharm": {
     "name": "#%% size-ranged TOC correlations\n"
    },
    "tags": [
     "TOC"
    ]
   },
   "outputs": [],
   "source": [
    "# Calculate correlation between all size bins (or their summed up combinations) of MP abundances and a scalar predictor.\n",
    "# Possible predictors are: 'TOC', 'Hg', 'Dist_WWTP' or different sediment grain size properties (D50, below 63, etc.). See column labels of sdd_MP_sed for a full list.\n",
    "bestLower, bestUpper, df_r = correlations.predictorcorr(df_range_conc, mp_added_sed_sdd.set_index('Sample'), 'TOC')"
   ]
  },
  {
   "cell_type": "code",
   "execution_count": null,
   "metadata": {
    "tags": [
     "TOC"
    ]
   },
   "outputs": [],
   "source": [
    "# Heatmap correlation coefficients from the single predictor correlation\n",
    "alt.renderers.enable('html')\n",
    "\n",
    "alt.Chart(df_r).mark_point().encode(\n",
    "    x='lower_size',\n",
    "    y='upper_size',\n",
    "    color=alt.Color(\"r\", scale=alt.Scale(domain=[0.5, 0.6])),\n",
    "    tooltip=['r', 'lower_size', 'upper_size']\n",
    ").properties(\n",
    "    width=800,\n",
    "    height=800\n",
    ")"
   ]
  },
  {
   "cell_type": "code",
   "execution_count": null,
   "metadata": {
    "pycharm": {
     "name": "#%% size-ranged TOC correlations\n"
    },
    "tags": [
     "TOC"
    ]
   },
   "outputs": [],
   "source": [
    "#####USED only for testing external function inside NB: #####\n",
    "step = (Config.upper_size_limit - Config.lower_size_limit) / Config.kde_steps\n",
    "df_r = pd.DataFrame(columns=['lower_size', 'upper_size', 'r', 'p'])\n",
    "\n",
    "for i in [10]:\n",
    "    for j in [1000]:\n",
    "        size_sum = size_pdfs.loc[(size_pdfs.x_d >= i) & (size_pdfs.x_d < j)].sum()\n",
    "        size_sum.drop('x_d', inplace=True)\n",
    "        range_prob = size_sum * step\n",
    "        range_conc = range_prob * mp_added_sed_sdd.set_index('Sample').Concentration\n",
    "\n",
    "        r = stats.pearsonr(range_conc, mp_added_sed_sdd.set_index('Sample').TOC)\n",
    "        df_r.loc[len(df_r)] = [i, j, r[0], r[1]]\n",
    "        print(f'Correlating TOC with size range            [{i},        {j}]                ', end=\"\\r\", flush=True)\n",
    "\n",
    "print(df_r.loc[df_r.r == df_r.r.max()])\n",
    "bestLower, bestUpper = df_r.loc[df_r.r == df_r.r.max()].iloc[0, 0:2]"
   ]
  },
  {
   "cell_type": "code",
   "execution_count": null,
   "metadata": {
    "pycharm": {
     "name": "#%%\n"
    },
    "tags": [
     "TOC"
    ]
   },
   "outputs": [],
   "source": [
    "# Property-property-plot with MP against single predictor incl. reg line \n",
    "kd = alt.Chart(pd.DataFrame([range_conc, mp_added_sed_sdd.set_index('Sample').TOC]).T.reset_index()).mark_point().encode(\n",
    "    x='TOC',\n",
    "    y='Unnamed 0',\n",
    "    color='index',\n",
    "    tooltip='index'\n",
    ")\n",
    "\n",
    "Reg_Line = kd.transform_regression('TOC', 'Unnamed 0', method=\"linear\",\n",
    "                                  ).mark_line(color=\"red\")\n",
    "\n",
    "Reg_Params = kd.transform_regression('TOC', 'Unnamed 0', method=\"linear\", params=True\n",
    "                                    ).mark_text(align='left', lineBreak='\\n').encode(\n",
    "        x=alt.value(120),  # pixels from left\n",
    "        y=alt.value(20),  # pixels from top\n",
    "        text='params:N'\n",
    "    ).transform_calculate(\n",
    "        params='\"r² = \" + round(datum.rSquared * 100)/100 + \\\n",
    "    \"      y = \" + round(datum.coef[0] * 10)/10 + \" + e ^ (\" + round(datum.coef[1] * 10000)/10000 + \"x\" + \")\" + \\n + \" \"'\n",
    "    )\n",
    "\n",
    "kd + Reg_Line + Reg_Params"
   ]
  },
  {
   "cell_type": "code",
   "execution_count": null,
   "metadata": {
    "tags": []
   },
   "outputs": [],
   "source": [
    "daf = sed_sdd.reset_index().melt(id_vars='index', value_name='value')\n",
    "daf['size'] = daf['index'].str.split('_').str[0]\n",
    "daf['category'] = 'sediment'\n",
    "\n",
    "daff = df_range_conc.reset_index().melt(id_vars='index', value_name='value')\n",
    "daff['size'] = daf['index'].str.split('_').str[0]\n",
    "daff['category'] = 'MP'\n",
    "\n",
    "df = pd.concat([daf, daff]).drop(columns=['index'])\n",
    "# df = daf.merge(daff, on =['sample', 'size', 'index']).drop(columns=['index'])"
   ]
  },
  {
   "cell_type": "code",
   "execution_count": null,
   "metadata": {
    "tags": []
   },
   "outputs": [],
   "source": [
    "input_dropdown = alt.binding_select(options=list(df['sample'].unique()), name='select sample ')\n",
    "selection = alt.selection_single(fields=['sample'],\n",
    "                                 bind=input_dropdown,\n",
    "                                 #init={'select_': 'Schlei_S8'}\n",
    "                                )\n",
    "\n",
    "base = alt.Chart(df).mark_line().encode(\n",
    "    x=alt.X('size:Q'),\n",
    "    y=alt.Y('value:Q'),\n",
    "    color='category',\n",
    "#     shape='category',\n",
    "#     detail='category'\n",
    "# ).transform_window(\n",
    "#     cuml='sum(value)',\n",
    "#     groupby=['sample']\n",
    ").transform_filter(\n",
    "    alt.FieldRangePredicate(field='size', range=[50, 990])\n",
    "# ).properties(\n",
    "#     width=180,\n",
    "#     height=180\n",
    "# ).facet(\n",
    "#     facet='sample',\n",
    "#     columns=6\n",
    "# ).resolve_scale(\n",
    "#     y='independent'\n",
    ")\n",
    "\n",
    "\n",
    "mps = base.mark_line(color='blue').transform_filter(\n",
    "    alt.FieldEqualPredicate(field='category', equal='MP')\n",
    ")\n",
    "seds = base.mark_line(color='yellow').transform_filter(\n",
    "    alt.FieldEqualPredicate(field='category', equal='sediment')\n",
    ")\n",
    "\n",
    "alt.layer(mps, seds).resolve_scale(\n",
    "    y = 'independent'\n",
    ").add_selection(\n",
    "    selection\n",
    ").transform_filter(\n",
    "    selection\n",
    ")\n"
   ]
  },
  {
   "cell_type": "code",
   "execution_count": null,
   "metadata": {
    "tags": []
   },
   "outputs": [],
   "source": [
    "base = alt.Chart(df).encode(\n",
    "    alt.X('size:Q', axis=alt.Axis(title=None))\n",
    ").properties(\n",
    "    width=180,\n",
    "    height=180\n",
    ")\n",
    "\n",
    "mps = base.mark_line(stroke='#57A44C', interpolate='monotone').encode(\n",
    "    alt.Y('MP:Q', axis=alt.Axis(title='MP', titleColor='#57A44C'))\n",
    ")\n",
    "\n",
    "seds = base.mark_line(stroke='#5276A7', interpolate='monotone').encode(\n",
    "    alt.Y('sediment:Q', axis=alt.Axis(title='sediment', titleColor='#5276A7'))\n",
    ")\n",
    "\n",
    "alt.layer(mps, seds).resolve_scale(\n",
    "    y = 'independent'\n",
    ").properties(\n",
    "    width=180,\n",
    "    height=180\n",
    ").facet(\n",
    "    facet='sample',\n",
    "    columns=6\n",
    ").resolve_scale(\n",
    "    y='independent'\n",
    ")"
   ]
  },
  {
   "cell_type": "code",
   "execution_count": null,
   "metadata": {
    "tags": []
   },
   "outputs": [],
   "source": [
    "df = daf.shift(100).merge(daff, on =['sample', 'size', 'index']).drop(columns=['index'])\n",
    "alt.Chart(df).mark_point().encode(\n",
    "    x=alt.X('value_x', scale=alt.Scale(type='linear')),\n",
    "    y=alt.X('value_y', scale=alt.Scale(type='linear')),\n",
    "    color=alt.Color('size:Q', scale=alt.Scale(scheme=\"viridis\"))\n",
    ").properties(\n",
    "    width=150,\n",
    "    height=150\n",
    ").facet(\n",
    "    facet='sample',\n",
    "    columns=6\n",
    ").resolve_scale(\n",
    "    y='independent',\n",
    "    x='independent'\n",
    ")"
   ]
  },
  {
   "cell_type": "code",
   "execution_count": null,
   "metadata": {
    "tags": []
   },
   "outputs": [],
   "source": [
    "data = pd.DataFrame({\n",
    "    'x': range(9),\n",
    "    'y': [1, 2, 3, 4, 5, 4, 3, 2, 1]\n",
    "})\n",
    "\n",
    "brush = alt.selection_interval(name=\"brush\", encodings=['x'])\n",
    "alt.Chart(data).mark_line().add_selection(brush).transform_calculate(\n",
    "    scaled_by_brush_width='datum.y * (isDefined(brush.x) ? (brush.x[1] - brush.x[0]) : 1)'\n",
    ").encode(\n",
    "    x='x:Q',\n",
    "    y='scaled_by_brush_width:Q'\n",
    ")"
   ]
  }
 ],
 "metadata": {
  "kernelspec": {
   "display_name": "MPSchleiSediments-bSFBF4Xj",
   "language": "python",
   "name": "mpschleisediments-bsfbf4xj"
  },
  "language_info": {
   "codemirror_mode": {
    "name": "ipython",
    "version": 3
   },
   "file_extension": ".py",
   "mimetype": "text/x-python",
   "name": "python",
   "nbconvert_exporter": "python",
   "pygments_lexer": "ipython3",
   "version": "3.9.7"
  },
  "toc-autonumbering": false,
  "toc-showcode": true,
  "toc-showtags": true
 },
 "nbformat": 4,
 "nbformat_minor": 4
}
