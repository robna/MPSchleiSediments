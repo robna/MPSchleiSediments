{
 "cells": [
  {
   "cell_type": "code",
   "execution_count": null,
   "metadata": {},
   "outputs": [],
   "source": [
    "from sklearn import datasets\n",
    "from sklearn.ensemble import (\n",
    "    RandomForestClassifier,\n",
    "    AdaBoostClassifier,\n",
    "    GradientBoostingClassifier,\n",
    ")\n",
    "from sklearn.model_selection import GridSearchCV\n",
    "from sklearn.naive_bayes import MultinomialNB\n",
    "from sklearn.neighbors import KNeighborsClassifier\n",
    "from sklearn.pipeline import Pipeline\n",
    "from sklearn.preprocessing import StandardScaler, MaxAbsScaler, MinMaxScaler\n",
    "from sklearn.svm import SVC\n",
    "\n",
    "from pipelinehelper import PipelineHelper\n"
   ]
  },
  {
   "cell_type": "code",
   "execution_count": null,
   "metadata": {},
   "outputs": [],
   "source": [
    "\n",
    "X, y = datasets.load_iris(return_X_y=True)"
   ]
  },
  {
   "cell_type": "code",
   "execution_count": null,
   "metadata": {},
   "outputs": [],
   "source": [
    "\n",
    "pipe = Pipeline([\n",
    "    ('scaler', PipelineHelper([\n",
    "        ('std', StandardScaler()),\n",
    "        ('max', MaxAbsScaler()),\n",
    "    ], optional=True)),\n",
    "\n",
    "    ('classifier', PipelineHelper([\n",
    "        # ('svm', SVC()),\n",
    "        # ('rf', RandomForestClassifier()),\n",
    "        # ('ada', AdaBoostClassifier()),\n",
    "        # ('gb', GradientBoostingClassifier()),\n",
    "        ('knn', KNeighborsClassifier()),\n",
    "        # ('nb_pipe', Pipeline([\n",
    "        #     # Naivie Bayes needs positive numbers\n",
    "        #     ('scaler', MinMaxScaler()),\n",
    "        #     ('nb', MultinomialNB()),\n",
    "        # ])),\n",
    "    ])),\n",
    "])\n",
    "\n",
    "params = {\n",
    "    'scaler__selected_model': pipe.named_steps['scaler'].generate(\n",
    "        {\n",
    "            'std__with_mean': [True, False],\n",
    "            'std__with_std': [True, False],\n",
    "            # no params for 'max' leads to using standard params\n",
    "        }\n",
    "    ),\n",
    "    'classifier__selected_model': pipe.named_steps['classifier'].generate(\n",
    "        {\n",
    "            # 'svm__C': [0.1, 1.0],\n",
    "            # 'svm__kernel': ['linear', 'rbf'],\n",
    "            # 'rf__n_estimators': [10, 20, 50, 100, 150],\n",
    "            # 'rf__max_features': ['sqrt', 'log2'],\n",
    "            # 'rf__min_samples_split': [2, 5, 10],\n",
    "            # 'rf__min_samples_leaf': [1, 2, 4],\n",
    "            # 'rf__bootstrap': [True, False],\n",
    "            # 'ada__n_estimators': [10, 20, 40, 100],\n",
    "            # 'ada__algorithm': ['SAMME', 'SAMME.R'],\n",
    "            # 'gb__n_estimators': [10, 20, 50, 100],\n",
    "            # 'gb__criterion': ['friedman_mse', 'squared_error'],\n",
    "            # 'gb__max_features': ['sqrt', None],\n",
    "            'knn__n_neighbors': [2, 3, 5, 7, 10],\n",
    "            'knn__leaf_size': [1, 2, 3, 5],\n",
    "            'knn__weights': ['uniform', 'distance'],\n",
    "            'knn__algorithm': ['auto', 'ball_tree', 'kd_tree', 'brute'],\n",
    "            # 'nb_pipe__nb__fit_prior': [True, False],\n",
    "            # 'nb_pipe__nb__alpha': [0.1, 0.2],\n",
    "        }\n",
    "    ),\n",
    "}\n"
   ]
  },
  {
   "cell_type": "code",
   "execution_count": null,
   "metadata": {},
   "outputs": [],
   "source": [
    "grid = GridSearchCV(pipe, params, scoring='accuracy', verbose=1, n_jobs=-1)\n",
    "grid.fit(X, y)\n"
   ]
  },
  {
   "cell_type": "code",
   "execution_count": null,
   "metadata": {},
   "outputs": [],
   "source": [
    "print(grid.best_params_)\n",
    "print(grid.best_score_)"
   ]
  },
  {
   "cell_type": "code",
   "execution_count": null,
   "metadata": {},
   "outputs": [],
   "source": []
  }
 ],
 "metadata": {
  "kernelspec": {
   "display_name": "Python 3.9.13 ('MPSchleiSediments-z4CtktJ9')",
   "language": "python",
   "name": "python3"
  },
  "language_info": {
   "codemirror_mode": {
    "name": "ipython",
    "version": 3
   },
   "file_extension": ".py",
   "mimetype": "text/x-python",
   "name": "python",
   "nbconvert_exporter": "python",
   "pygments_lexer": "ipython3",
   "version": "3.9.13"
  },
  "orig_nbformat": 4,
  "vscode": {
   "interpreter": {
    "hash": "82a31816b63c673b7463547b8d8376fc489f1e362f1a21f244a13819d6095661"
   }
  }
 },
 "nbformat": 4,
 "nbformat_minor": 2
}
