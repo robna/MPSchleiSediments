{
 "cells": [
  {
   "cell_type": "code",
   "execution_count": null,
   "metadata": {},
   "outputs": [],
   "source": [
    "%reload_ext autoreload\n",
    "%autoreload 2\n",
    "\n",
    "import numpy as np\n",
    "from scipy.interpolate import griddata\n",
    "import geopandas as gpd\n",
    "import rasterio as rio\n",
    "from rasterio.transform import from_origin\n",
    "from rasterio.plot import show, show_hist\n",
    "from rasterio.mask import mask\n",
    "import json\n",
    "import pandas as pd\n",
    "import hvplot.pandas  # noqa\n",
    "import holoviews as hv\n",
    "hv.extension('bokeh')\n",
    "import altair as alt\n",
    "alt.data_transformers.disable_max_rows()\n",
    "from matplotlib import pyplot as plt\n",
    "from pathlib import Path\n",
    "\n",
    "try:  # if on phy-server local modules will not be found if their directory is not added to PATH\n",
    "    import sys\n",
    "    sys.path.append(\"/silod7/lenz/MPSchleiSediments/analysis/\")\n",
    "    import os\n",
    "    os.chdir(\"/silod7/lenz/MPSchleiSediments/analysis/\")\n",
    "except Exception:\n",
    "    pass\n",
    "\n",
    "from settings import Config\n",
    "from prepare_data import patsy_transform\n",
    "from geo import make_grid, grid_interp, grid_clip, grid_load, sample_array_raster\n",
    "from cv import performance"
   ]
  },
  {
   "cell_type": "markdown",
   "metadata": {},
   "source": [
    "## Geospatial interpolation"
   ]
  },
  {
   "cell_type": "code",
   "execution_count": null,
   "metadata": {},
   "outputs": [],
   "source": [
    "# create geodataframe from geojson file\n",
    "poly = gpd.read_file('../data/SchleiCoastline_from_OSM.geojson')\n",
    "# poly.plot()"
   ]
  },
  {
   "cell_type": "code",
   "execution_count": null,
   "metadata": {},
   "outputs": [],
   "source": [
    "## Read predicted data from model run\n",
    "savestamp = '20230403_233901'\n",
    "# savestamp = '20230501_172522'\n",
    "f = [c for c in Path('../data/exports/models/predictions').glob(f'{savestamp}*.csv')][0]\n",
    "target = f.name.split('_')[-2]\n",
    "station_data = pd.read_csv(f)\n",
    "station_data = gpd.GeoDataFrame(station_data, geometry=gpd.points_from_xy(station_data.LON, station_data.LAT), crs='EPSG:4326')\n",
    "\n",
    "station_data.to_crs(Config.baw_epsg, inplace=True)\n",
    "poly.to_crs(Config.baw_epsg, inplace=True)"
   ]
  },
  {
   "cell_type": "code",
   "execution_count": null,
   "metadata": {},
   "outputs": [],
   "source": [
    "res = Config.interpolation_resolution\n",
    "xgrid, ygrid, xmin, ymin, xmax, ymax = make_grid(poly, res, round_grid_coords=True)\n",
    "print(f'grid bounds: xmin={xmin}, ymin={ymin}, xmax={xmax}, ymax={ymax}, grid shape: width: {xgrid.shape[1]}, height: {xgrid.shape[0]}') \n",
    "\n",
    "\n",
    "### Activate one of the following blocks!\n",
    "\n",
    "### Block 1: in-notebook interpolation\n",
    "target_values = grid_interp(station_data, xgrid, ygrid, name=target)  # interpolate here in notebook using the target variable\n",
    "if target=='Concentration':\n",
    "    MassConc_values = grid_interp(station_data, xgrid, ygrid, name='MassConcentration')\n",
    "\n",
    "### Block 2: external interpolation\n",
    "# target_values = grid_load('../data/exports/models/predictions/interpolated/interpolated_sibson_clipped.tif')  # load a saved interpolation from a tiff file\n",
    "# MassConc_values = grid_load('../data/exports/models/predictions/interpolated/<<MASSCONC>>.tif')  # load a saved interpolation from a tiff file\n",
    "\n",
    "\n",
    "# Interpolate sediment dry bulk density over the whole grid\n",
    "sedDBD_values = grid_interp(station_data, xgrid, ygrid, name='SedDryBulkDensity')\n",
    "\n",
    "# Clip both grids to the Schlei polygon extend (will make NaNs outside of Schlei)\n",
    "target_clipped = grid_clip(target_values, poly, xgrid, ygrid)\n",
    "if target=='Concentration':\n",
    "    MassConc_clipped = grid_clip(MassConc_values, poly, xgrid, ygrid)\n",
    "sDBD_clipped = grid_clip(sedDBD_values, poly, xgrid, ygrid)\n",
    "print('grid dimensions:', 'width:', target_clipped.shape[1], ', height:', target_clipped.shape[0])"
   ]
  },
  {
   "cell_type": "code",
   "execution_count": null,
   "metadata": {},
   "outputs": [],
   "source": [
    "cell_area = res ** 2  # grid cell area in m² from cell width * cell height in m\n",
    "cell_sedVol = cell_area * Config.sediment_layer_depth  # volume of sediment layer considered in m³\n",
    "sedMass_grid = np.nan_to_num(sDBD_clipped) * cell_sedVol  # mass of sediment in each cell in kg, calculated from (interpolated) sediment dry bulk density (kg m⁻³) * volume of sediment per cell (m³)\n",
    "abundance_grid = np.nan_to_num(target_clipped) * sedMass_grid  # grid of target amounts (MP particles if target==Conentration; MP mass if target==MassConcentration)\n",
    "total = abundance_grid.sum()"
   ]
  },
  {
   "cell_type": "markdown",
   "metadata": {},
   "source": [
    "## Print results"
   ]
  },
  {
   "cell_type": "code",
   "execution_count": null,
   "metadata": {},
   "outputs": [],
   "source": [
    "print(f'Total MP in upper {Config.sediment_layer_depth*100} cm of Schlei sediments: {np.round(total / 1e12, 1)} Trillion')\n",
    "print(f'MP per m² and cm sediment depth: {round(total / poly.area[0] / (Config.sediment_layer_depth * 100))}')\n",
    "print(f'Schlei-wide MP as ratio total MP / total sed mass: {total / sedMass_grid.sum()}')\n",
    "print(f'Schlei-wide MP as mean of grid data (i.e. assuming equal sediment mass in all cells): {np.nanmean(target_clipped)}')\n",
    "print(f'Schlei-wide MP as mean of ALL stations (observed + predicted): {station_data[target].mean()}')\n",
    "print(f'Schlei-wide MP as mean of OBSERVED stations only: {station_data.loc[station_data.Type==\"observed\", target].mean()}')"
   ]
  },
  {
   "cell_type": "code",
   "execution_count": null,
   "metadata": {},
   "outputs": [],
   "source": [
    "station_data.insert(4, f'{target}_interpolated', sample_array_raster(target_clipped, xmin, ymax, res, station_data))\n",
    "if target=='Concentration':\n",
    "    station_data.insert(8, f'MassConcentration_interpolated', sample_array_raster(MassConc_clipped, xmin, ymax, res, station_data))"
   ]
  },
  {
   "cell_type": "code",
   "execution_count": null,
   "metadata": {},
   "outputs": [],
   "source": [
    "alt.Chart(station_data.loc[station_data.Type=='observed']).mark_bar().encode(\n",
    "    x=alt.X('key:N', sort=None),\n",
    "    y='value:Q',\n",
    "    color=alt.Color('key:N', sort=None),\n",
    "    column='Sample',\n",
    ").transform_fold(\n",
    "    ['Concentration_observed', 'Concentration_predicted', 'Concentration_interpolated']\n",
    ").resolve_scale(y='independent')"
   ]
  },
  {
   "cell_type": "code",
   "execution_count": null,
   "metadata": {},
   "outputs": [],
   "source": [
    "## Calculate the performance of the prediction against the seen trainings data\n",
    "performance(station_data.set_index('Sample').loc[~station_data.set_index('Sample')[f'{target}_observed'].isna(), f'{target}_observed'],\n",
    "            station_data.set_index('Sample').loc[~station_data.set_index('Sample')[f'{target}_observed'].isna(), f'{target}_interpolated'])"
   ]
  },
  {
   "cell_type": "code",
   "execution_count": null,
   "metadata": {},
   "outputs": [],
   "source": [
    "## Run perforance test for \"MassConcentration\", regressed from \"Concentration\"\n",
    "performance(station_data.set_index('Sample').loc[~station_data.set_index('Sample')[f'MassConcentration_observed'].isna(), f'MassConcentration_observed'],\n",
    "            station_data.set_index('Sample').loc[~station_data.set_index('Sample')[f'MassConcentration_observed'].isna(), f'MassConcentration_interpolated'])"
   ]
  },
  {
   "cell_type": "markdown",
   "metadata": {},
   "source": [
    "## Display maps"
   ]
  },
  {
   "cell_type": "code",
   "execution_count": null,
   "metadata": {},
   "outputs": [],
   "source": [
    "# bounds=(xmin, ymin, xmax, ymax)   # Coordinate system: (left, bottom, right, top)\n",
    "# hv.Image(target_clipped, bounds=bounds).opts(cmap='RdYlBu_r', cnorm='log', clim=(40,40000), width=int(target_values.shape[1]/5), height=int(target_values.shape[0]/5))#, colorbar=True)"
   ]
  },
  {
   "cell_type": "code",
   "execution_count": null,
   "metadata": {},
   "outputs": [],
   "source": [
    "# bounds=(xmin, ymin, xmax, ymax)   # Coordinate system: (left, bottom, right, top)\n",
    "# hv.Image(MassConc_clipped, bounds=bounds).opts(cmap='RdYlBu_r', cnorm='log', clim=(40,40000), width=int(target_values.shape[1]/5), height=int(target_values.shape[0]/5))#, colorbar=True)"
   ]
  },
  {
   "cell_type": "code",
   "execution_count": null,
   "metadata": {},
   "outputs": [],
   "source": [
    "# bounds=(xmin, ymin, xmax, ymax)   # Coordinate system: (left, bottom, right, top)\n",
    "# hv.Image(sDBD_clipped, bounds=bounds).opts(cmap='RdYlBu_r', cnorm='log', clim=(40,40000), width=int(target_values.shape[1]/5), height=int(target_values.shape[0]/5))#, colorbar=True)"
   ]
  },
  {
   "cell_type": "code",
   "execution_count": null,
   "metadata": {},
   "outputs": [],
   "source": [
    "plt.imshow(target_clipped, cmap='terrain', interpolation='nearest')\n",
    "plt.show()"
   ]
  },
  {
   "cell_type": "code",
   "execution_count": null,
   "metadata": {},
   "outputs": [],
   "source": [
    "##Saving raster to tiff file and reading it back in as rasterio dataset\n",
    "f = f'../data/exports/models/predictions/{savestamp}_raster.tif'\n",
    "transform = from_origin(xmin, ymax, Config.interpolation_resolution, Config.interpolation_resolution)\n",
    "new_dataset = rio.open(f, 'w', driver='GTiff',\n",
    "                            height = target_values.shape[0], width = target_values.shape[1],\n",
    "                            count=1, dtype=str(target_values.dtype),\n",
    "                            crs=Config.baw_epsg,\n",
    "                            transform=transform)\n",
    "new_dataset.write(target_clipped, 1)\n",
    "new_dataset.close()\n",
    "with rio.open(f) as rasta:\n",
    "    out_img, out_transform = mask(rasta, poly.geometry[0].geoms, crop=True)\n",
    "    show(out_img, cmap='terrain')"
   ]
  }
 ],
 "metadata": {
  "kernelspec": {
   "display_name": "Python 3",
   "language": "python",
   "name": "python3"
  },
  "language_info": {
   "codemirror_mode": {
    "name": "ipython",
    "version": 3
   },
   "file_extension": ".py",
   "mimetype": "text/x-python",
   "name": "python",
   "nbconvert_exporter": "python",
   "pygments_lexer": "ipython3",
   "version": "3.9.13"
  }
 },
 "nbformat": 4,
 "nbformat_minor": 4
}
