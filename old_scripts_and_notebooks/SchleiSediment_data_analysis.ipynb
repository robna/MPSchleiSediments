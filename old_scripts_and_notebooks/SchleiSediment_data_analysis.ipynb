{
 "cells": [
  {
   "cell_type": "code",
   "execution_count": null,
   "id": "ef2f7b5f-ba02-4221-bc89-e1a741e6ec96",
   "metadata": {
    "tags": []
   },
   "outputs": [],
   "source": [
    "#import packages\n",
    "\n",
    "import pandas as pd\n",
    "pd.set_option('display.max_rows', None)\n",
    "import numpy as np\n",
    "%matplotlib inline\n",
    "import matplotlib.pyplot as plt \n",
    "import seaborn as sns\n",
    "import altair as alt\n",
    "alt.data_transformers.disable_max_rows()\n",
    "import altair_transform"
   ]
  },
  {
   "cell_type": "code",
   "execution_count": null,
   "id": "df179bde-94eb-437e-807d-95ffec79bab7",
   "metadata": {
    "tags": []
   },
   "outputs": [],
   "source": [
    "#import quality checked and blank substracted list of MP from Micropoll_SchleiSediment_blank_subtract.ipynb\n",
    "env_MP = pd.read_csv('env_MP_clean_list_SchleiSediments.csv',index_col=0)\n",
    "\n",
    "#import proxy parameters:\n",
    "#import d50 SED values \n",
    "sed_d50 = pd.read_csv('Schlei_Sed_D50_new.csv',index_col=0)\n",
    "\n",
    "#import <63µm SED values \n",
    "sed_63 = pd.read_csv('Schlei_Sed_D50_new.csv',index_col=0)\n",
    "\n",
    "#import ogranic matter size, TOC, Hg data\n",
    "sed_OM = pd.read_csv('Schlei_OM.csv',index_col=0)\n",
    "\n",
    "#import sampling log data\n",
    "slogs= pd.read_csv('Schlei_sed_sampling_log.csv',index_col=0)\n",
    "\n",
    "#import potential MP source sata\n",
    "Dist_WWTP = pd.read_csv('Schlei_Sed_Dist_WWTP.csv',index_col=0)\n",
    "\n",
    "\n",
    "#rename column names\n",
    "env_MP.rename(columns = {'Size_1_[µm]':'MPlength'}, inplace = True)\n",
    "env_MP.rename(columns = {'Size_2_[µm]':'MPwidth'}, inplace = True)\n",
    "\n",
    "#calculate MP particle dimensions, heigth and volume\n",
    "env_MP['MPheight'] =  round((env_MP['MPwidth']/ env_MP['MPlength']) * env_MP['MPwidth'])\n",
    "env_MP['MPvolume'] = round((4/3) * np.pi * env_MP['MPwidth'] * env_MP['MPlength'] * env_MP['MPheight'])\n",
    "\n",
    "env_MP_a500 = env_MP.loc[env_MP.size_geom_mean >= 500]\n",
    "env_MP_b500 = env_MP.loc[env_MP.size_geom_mean < 500]\n"
   ]
  },
  {
   "cell_type": "code",
   "execution_count": null,
   "id": "aae5a8e4-80a0-403d-9acf-4ac33351e650",
   "metadata": {
    "tags": []
   },
   "outputs": [],
   "source": [
    "# List Polymer types and Library entry for quality check\n",
    "#PolyList=env_MP.groupby(['polymer_type','library_entry'])['polymer_type'].count().sort_values(ascending=False).reset_index(name=\"Frequency\")\n",
    "\n",
    "# List Polymer types of all stations\n",
    "#PolyList=env_MP.groupby(['polymer_type'])['polymer_type'].count().sort_values(ascending=False).reset_index(name=\"Frequency\")\n",
    "\n",
    "#List Polymer types per station\n",
    "PolyList=env_MP.groupby(['Sample','polymer_type'])['polymer_type'].count().reset_index(name=\"Frequency\")\n",
    "print(PolyList.shape)\n",
    "#PolyList.head(10)\n",
    "\n",
    "#PolyGroupy = env_MP.groupby(['Sample', 'polymer_type'])\n",
    "#PolyList = PolyGroupy.size().to_frame(name='Frequency')\n",
    "#PolyList.join(PolyGroupy.agg({'Sampling_weight_[kg]': 'mean'})).reset_index()\n"
   ]
  },
  {
   "cell_type": "code",
   "execution_count": null,
   "id": "9dd85f70-1244-4d62-a928-30cbcd063e0c",
   "metadata": {},
   "outputs": [],
   "source": [
    "#function for calculating (T)MP concentration\n",
    "\n",
    "def p2s(groupy):\n",
    "    s = groupy.agg(\n",
    "        Frequency=('Site_name', 'count'),  # using 'Site_name' here for count, could use any other column too... Is there a way to count entries in groups without using a column?\n",
    "        FrequencyA500=('size_geom_mean', lambda x: (x>=500).sum()),  # using 'Site_name' here for count, could use any other column too... Is there a way to count entries in groups without using a column?\n",
    "        FrequencyB500=('size_geom_mean', lambda x: (x<500).sum()),  # using 'Site_name' here for count, could use any other column too... Is there a way to count entries in groups without using a column?\n",
    "        Mass=('Sampling_weight_[kg]', np.mean),  # using \"mean\" here is actually weird as all entries are the same. Is there something like \"first\"?\n",
    "        GPS_LONs = ('GPS_LON', np.mean),\n",
    "        GPS_LATs = ('GPS_LAT', np.mean),\n",
    "        Split = ('Fraction_analysed', np.mean),\n",
    "        MP_D50 = ('size_geom_mean',np.median),\n",
    "        MPvolume =('MPvolume',np.sum)\n",
    "\n",
    "        ##MP_D50_A500 = ('size_geom_mean' >= 500.median()),\n",
    "        #MP_D50_B500 = ('size_geom_mean', lambda x: (x<500).median())\n",
    "    ).reset_index()\n",
    "    \n",
    "    s['Concentration'] =  round(s['Frequency']/ (s['Mass'] * s['Split']))\n",
    "    s['ConcentrationA500'] =  round(s['FrequencyA500']/ (s['Mass'] * s['Split']))\n",
    "    s['ConcentrationB500'] =  round(s['FrequencyB500']/ (s['Mass'] * s['Split']))\n",
    "    s['MPvolume_norm'] =  round(s['MPvolume']/ (s['Mass'] * s['Split']))\n",
    "\n",
    "    #merge with SED statistics\n",
    "    s = pd.merge(s,slogs.reset_index(),on=['Sample'], how='left')\n",
    "    s = pd.merge(s,sed_d50.reset_index(),on=['Sample'], how='left')\n",
    "    s = pd.merge(s,sed_OM.reset_index(),on=['Sample'], how='left')\n",
    "    s = pd.merge(s,Dist_WWTP.reset_index(),on=['Sample'], how='left')\n",
    "    # dictionary\n",
    "    Regio_Sep =  {'Schlei_S1_15cm': 'inner',\n",
    "              'Schlei_S2': 'inner',\n",
    "              'Schlei_S3': 'inner',\n",
    "              'Schlei_S5': 'river',\n",
    "              'Schlei_S8': 'inner',\n",
    "              'Schlei_S10': 'inner',\n",
    "              'Schlei_S10_15cm': 'inner',\n",
    "              'Schlei_S11': 'inner',\n",
    "              'Schlei_S13': 'inner',\n",
    "              'Schlei_S14': 'outlier',\n",
    "              'Schlei_S15': 'inner',\n",
    "              'Schlei_S17': 'inner',\n",
    "              'Schlei_S19': 'outlier',\n",
    "              'Schlei_S22': 'outer',\n",
    "              'Schlei_S23': 'outer',\n",
    "              'Schlei_S24': 'outer', \n",
    "              'Schlei_S25': 'outer',\n",
    "              'Schlei_S26': 'outer',\n",
    "              'Schlei_S27': 'outer', \n",
    "              'Schlei_S30': 'outer', \n",
    "              'Schlei_S31': 'outer'}\n",
    "\n",
    "    s = s.merge(pd.DataFrame.from_dict(Regio_Sep,orient='index',columns=['Regio_Sep']),left_on='Sample',right_index=True)\n",
    "    s.columns\n",
    "    return s\n",
    "\n",
    "\n",
    "\n",
    "def aggregate_particles(particles):\n",
    "    groupy_particles_poly = particles.groupby(['Sample','polymer_type'])\n",
    "    poly_samples = p2s(groupy_particles_poly)\n",
    "    \n",
    "    groupy_particles_tot = particles.groupby(['Sample'])\n",
    "    tot_samples = p2s(groupy_particles_tot)\n",
    "    return poly_samples, tot_samples\n",
    "\n"
   ]
  },
  {
   "cell_type": "code",
   "execution_count": null,
   "id": "1bab7af9-da76-4b5f-b546-5bde9482ada4",
   "metadata": {
    "tags": []
   },
   "outputs": [],
   "source": [
    "#define which MP type e.g. shape shall be calculated in the following diagrams:\n",
    "poly_samples, tot_samples = aggregate_particles(env_MP.loc[env_MP['Shape']!='fibre'])\n",
    "#poly_samples, tot_samples = aggregate_particles(env_MP.loc[env_MP['Shape']=='fibre'])\n",
    "#poly_samples, tot_samples = aggregate_particles(env_MP.loc[env_MP])\n",
    "\n",
    "#tot_samples.to_csv('MP_Stats_SchleiSediments.csv')\n"
   ]
  },
  {
   "cell_type": "code",
   "execution_count": null,
   "id": "c7e1bf5b-7b71-46c9-9cb8-4e6353f0c1eb",
   "metadata": {},
   "outputs": [],
   "source": [
    "#make plot for total and relative Polymer type distribution \n",
    "\n",
    "Sample_order = ['Schlei_S1_15cm','Schlei_S2','Schlei_S3','Schlei_S5','Schlei_S8', 'Schlei_S10','Schlei_S10_15cm', 'Schlei_S11','Schlei_S13', 'Schlei_S14', 'Schlei_S15',\n",
    "       'Schlei_S17', 'Schlei_S19', 'Schlei_S22', 'Schlei_S23', 'Schlei_S24', 'Schlei_S25','Schlei_S26','Schlei_S27', 'Schlei_S30', 'Schlei_S31']\n",
    "\n",
    "selection = alt.selection_multi(fields=['polymer_type'], bind='legend')\n",
    "\n",
    "Poly_Dist = alt.Chart(poly_samples).mark_bar().encode(\n",
    "    x= alt.X('Sample',sort = Sample_order),#'polymer_type' == 'Polyamide',# , #'polymer_type' == \"Polyamide\", #df_new = df[df['Pid'] == 'p01']\n",
    "    y= alt.Y('Concentration',scale = alt.Scale(type ='linear')),\n",
    "    color= 'polymer_type',\n",
    "    tooltip = ['polymer_type', 'Concentration']\n",
    ").add_selection(\n",
    "    selection\n",
    ").transform_filter(\n",
    "    selection\n",
    ").interactive(\n",
    ")\n",
    "\n",
    "Poly_Dist | Poly_Dist.encode(y=alt.Y('MPvolume',stack='normalize'))\n"
   ]
  },
  {
   "cell_type": "code",
   "execution_count": null,
   "id": "23d522b8-3bb7-4f59-a2f1-9f90c0c1a6b5",
   "metadata": {
    "tags": []
   },
   "outputs": [],
   "source": [
    "#quick statistics for fibres and irregulars\n",
    "#mpSampleGroupy = env_MP.groupby(['Sample','Shape'])\n",
    "#mpStats = mpSampleGroupy['size_geom_mean'].describe()\n",
    "\n",
    "#idx = pd.IndexSlice\n",
    "#mpFibreStats = mpStats.loc[idx[:,'fibre'], :].reset_index()\n",
    "#mpIrrStats = mpStats.loc[idx[:,'irregular'], :].reset_index()\n"
   ]
  },
  {
   "cell_type": "code",
   "execution_count": null,
   "id": "b95a0362-4428-47f7-bc63-2d651ea1be92",
   "metadata": {
    "tags": []
   },
   "outputs": [],
   "source": [
    "\n"
   ]
  },
  {
   "cell_type": "code",
   "execution_count": null,
   "id": "329cf49d-8d1e-4e09-9390-8166658aef15",
   "metadata": {},
   "outputs": [],
   "source": [
    "selection = alt.selection_multi(fields=['polymer_type'], bind='legend')\n",
    "\n",
    "MP_Dist_WWTP_Plot = alt.Chart(poly_samples).mark_point().encode(\n",
    "    x= alt.X('Dist_WWTP'),#,scale = alt.Scale(domain=(0,40000))),\n",
    "    y= alt.Y('Concentration',scale = alt.Scale(type ='linear')),\n",
    "    color= 'polymer_type',\n",
    "    tooltip = ['polymer_type', 'Sample']\n",
    "    #).interactive(\n",
    ")\n",
    "\n",
    "Reg_Line = MP_Dist_WWTP_Plot.transform_regression('Dist_WWTP', 'Concentration',\n",
    "                                            method=\"exp\",\n",
    "                                            #groupby=[\"Regio_Sep\"],\n",
    "                                           ).mark_line(color=\"red\")\n",
    "\n",
    "Reg_Params = MP_Dist_WWTP_Plot.transform_regression('Dist_WWTP', 'Concentration',\n",
    "                                              method=\"exp\",\n",
    "                                              params=True                                             \n",
    "    ).mark_text(align='left', lineBreak='\\n').encode(\n",
    "        x=alt.value(120),  # pixels from left\n",
    "        y=alt.value(20),  # pixels from top\n",
    "        text='params:N'\n",
    "    ).transform_calculate(\n",
    "        params='\"r² = \" + round(datum.rSquared * 100)/100 + \\\n",
    "    \"      y = \" + round(datum.coef[0] * 10)/10 + \" + e ^ (\" + round(datum.coef[1] * 10000)/10000 + \"x\" + \")\" + \\n + \" \"'\n",
    "    )\n",
    "\n",
    "#ParamsDF = altair_transform.extract_data(Reg_Params)\n",
    "alt.layer(MP_Dist_WWTP_Plot, Reg_Line,Reg_Params).add_selection(selection).transform_filter(selection).interactive()\n",
    "#MP_Dist_WWTP_Plot #+ Reg_Line + Reg_Params\n"
   ]
  },
  {
   "cell_type": "code",
   "execution_count": null,
   "id": "ff3bdecb-2a74-4915-a1f8-a477778d5fef",
   "metadata": {},
   "outputs": [],
   "source": []
  },
  {
   "cell_type": "code",
   "execution_count": null,
   "id": "89b0115b-1ee8-459d-893b-80bfec807412",
   "metadata": {
    "tags": []
   },
   "outputs": [],
   "source": [
    "TOC_D50_Plot = alt.Chart(tot_samples).mark_point().encode(\n",
    "    x= 'D50', #alt.Y('Dx50',scale = alt.Scale(type= 'log')),\n",
    "    y= alt.Y('TOC',scale = alt.Scale(type= 'linear')),\n",
    "    tooltip='Sample',\n",
    "    color='Concentration'\n",
    "    ).transform_filter('datum.Sample != \"Schlei_S8\"'\n",
    ")\n",
    "\n",
    "Reg_Line = TOC_D50_Plot.transform_regression('D50', 'TOC',\n",
    "                                            method=\"pow\",\n",
    "                                            #groupby=[\"Regio_Sep\"],\n",
    "                                           ).mark_line(color=\"red\")\n",
    "\n",
    "Reg_Params = TOC_D50_Plot.transform_regression('D50', 'TOC',\n",
    "                                              method=\"pow\",\n",
    "                                              params=True                                             \n",
    "    ).mark_text(align='left', lineBreak='\\n').encode(\n",
    "        x=alt.value(120),  # pixels from left\n",
    "        y=alt.value(20),  # pixels from top\n",
    "        text='params:N'\n",
    "    ).transform_calculate(\n",
    "        params='\"r² = \" + round(datum.rSquared * 100)/100 + \\\n",
    "    \"      y = \" + round(datum.coef[0] * 10)/10 + \" + e ^ (\" + round(datum.coef[1] * 10000)/10000 + \"x\" + \")\" + \\n + \" \"'\n",
    "    )\n",
    "\n",
    "#ParamsDF = altair_transform.extract_data(Reg_Params)\n",
    "\n",
    "TOC_D50_Plot + Reg_Line + Reg_Params\n"
   ]
  },
  {
   "cell_type": "code",
   "execution_count": null,
   "id": "7d4b5b70-db3e-4e1c-8ee7-3ebb2c431552",
   "metadata": {},
   "outputs": [],
   "source": [
    "TOC_MP_D50_Plot = alt.Chart(tot_samples).mark_point().encode(\n",
    "    x= 'MP_D50', #alt.Y('Dx50',scale = alt.Scale(type= 'log')),\n",
    "    y= 'TOC', #alt.Y('Concentration',scale = alt.Scale(type= 'log')),\n",
    "    tooltip='Sample'\n",
    ")\n",
    "TOC_MP_D50_Plot + TOC_MP_D50_Plot.transform_regression('TOC',\n",
    "                          'MP_D50',method=\"linear\"\n",
    ").mark_line(color=\"red\")\n"
   ]
  },
  {
   "cell_type": "code",
   "execution_count": null,
   "id": "5ed4249e-c112-4147-95d7-0680897136a4",
   "metadata": {
    "tags": []
   },
   "outputs": [],
   "source": [
    "MP_OM_Plot = alt.Chart(tot_samples).mark_point().encode(\n",
    "    x= 'Hg', #alt.Y('Dx50',scale = alt.Scale(type= 'log')),\n",
    "    y= 'Concentration', #alt.Y('Concentration',scale = alt.Scale(type= 'log')),\n",
    "    tooltip='Sample'\n",
    ")\n",
    "MP_OM_Plot + MP_OM_Plot.transform_regression('Hg',\n",
    "                          'Concentration',method=\"exp\"\n",
    ").mark_line(color=\"red\")\n"
   ]
  },
  {
   "cell_type": "code",
   "execution_count": null,
   "id": "75c0197e-440a-430f-8072-8a05d7d515a7",
   "metadata": {},
   "outputs": [],
   "source": [
    "MP_OM_Plot = alt.Chart(poly_samples).mark_point().encode(\n",
    "    x= 'MP_D50', #alt.Y('Dx50',scale = alt.Scale(type= 'log')),\n",
    "    y= 'Dx 50', #alt.Y('Concentration',scale = alt.Scale(type= 'log')),\n",
    "    color='Dist_WWTP',\n",
    "    tooltip='Sample'\n",
    ").transform_filter('datum.Sample != \"Schlei_S24\" & datum.Sample != \"Schlei_S31\"'\n",
    ")\n",
    "MP_OM_Plot + MP_OM_Plot.transform_regression('MP_D50',\n",
    "                          'Dx 50 ',method=\"pow\"\n",
    ").mark_line(color=\"red\")"
   ]
  },
  {
   "cell_type": "code",
   "execution_count": null,
   "id": "ce29b018-bca0-4b00-991f-02f269e6920a",
   "metadata": {},
   "outputs": [],
   "source": [
    "MP_OM_Plot = alt.Chart(poly_samples).mark_point().encode(\n",
    "    x= 'Dx 50', #alt.Y('Dx50',scale = alt.Scale(type= 'log')),\n",
    "    y=  alt.Y('Concentration',scale = alt.Scale(type= 'linear')),\n",
    "    tooltip='Sample'\n",
    ")\n",
    "MP_OM_Plot + MP_OM_Plot.transform_regression('Dx 50',\n",
    "                          'Concentration',method=\"linear\"\n",
    ").mark_line(color=\"red\")\n",
    "#649\n"
   ]
  },
  {
   "cell_type": "code",
   "execution_count": null,
   "id": "184ed534-7e03-436b-948a-06c56f0882f5",
   "metadata": {
    "tags": []
   },
   "outputs": [],
   "source": [
    "selection = alt.selection_multi(fields=['polymer_type'], bind='legend')\n",
    "\n",
    "MP_SED_Plot = alt.Chart(tot_samples).mark_point().encode(\n",
    "    x='D50',\n",
    "    y= alt.Y('MPvolume',scale = alt.Scale(type= 'log')),\n",
    "    color='Regio_Sep'\n",
    "   # color= 'Dist_WWTP',\n",
    "   # tooltip = ['polymer_type', 'Sample']\n",
    ")\n",
    "\n",
    "Reg_Line = MP_SED_Plot.transform_regression('D50', 'MPvolume',\n",
    "                                            method=\"pow\",\n",
    "                                            #groupby=[\"Dist_WWTP\"]\n",
    "                                            #groupby=[\"Regio_Sep\"],\n",
    "                                           ).mark_line(color=\"red\")\n",
    "\n",
    "Reg_Params = MP_SED_Plot.transform_regression('D50', 'MPvolume',\n",
    "                                              method=\"exp\",\n",
    "                                              groupby=[\"Regio_Sep\"],\n",
    "                                              params=True                                             \n",
    "    ).mark_text(align='left', lineBreak='\\n').encode(\n",
    "        x=alt.value(120),  # pixels from left\n",
    "        y=alt.value(20),  # pixels from top\n",
    "        text='params:N'\n",
    "    ).transform_calculate(\n",
    "        params='\"r² = \" + round(datum.rSquared * 100)/100 + \\\n",
    "    \"      y = \" + round(datum.coef[0] * 10)/10 + \" + e ^ (\" + round(datum.coef[1] * 10000)/10000 + \"x\" + \")\" + \\n + \" \"'\n",
    "    )\n",
    "\n",
    "#ParamsDF = altair_transform.extract_data(Reg_Params)\n",
    "\n",
    "alt.layer(MP_SED_Plot,Reg_Line,Reg_Params).add_selection(selection).transform_filter(selection).interactive()\n",
    "#MP_Dist_WWTP_Plot #+ Reg_Line + Reg_Params\n"
   ]
  },
  {
   "cell_type": "code",
   "execution_count": null,
   "id": "01ade2e5-a155-4bae-9457-02ce18d3ad1a",
   "metadata": {},
   "outputs": [],
   "source": [
    "MP_SED_Plot = alt.Chart(tot_samples).mark_point().encode(\n",
    "    x='Depth',\n",
    "    y= alt.Y('Concentration',scale = alt.Scale(type= 'log')),\n",
    "    color= 'Regio_Sep',\n",
    "    tooltip='Sample'\n",
    ")\n",
    "\n",
    "Reg_Line = MP_SED_Plot.transform_regression('Depth', 'Concentration',\n",
    "                                            method=\"exp\",\n",
    "                                            groupby=[\"Regio_Sep\"],\n",
    "                                           ).mark_line(color=\"red\")\n",
    "\n",
    "Reg_Params = MP_SED_Plot.transform_regression('Depth', 'Concentration',\n",
    "                                              method=\"pow\",\n",
    "                                              groupby=[\"Regio_Sep\"],\n",
    "                                              params=True                                             \n",
    "    ).mark_text(align='left', lineBreak='\\n').encode(\n",
    "        x=alt.value(120),  # pixels from left\n",
    "        y=alt.value(20),  # pixels from top\n",
    "        text='params:N'\n",
    "    ).transform_calculate(\n",
    "        params='\"r² = \" + round(datum.rSquared * 100)/100 + \\\n",
    "    \"      y = \" + round(datum.coef[0] * 10)/10 + \" + e ^ (\" + round(datum.coef[1] * 10000)/10000 + \"x\" + \")\" + \\n + \" \"'\n",
    "    )\n",
    "\n",
    "#ParamsDF = altair_transform.extract_data(Reg_Params)\n",
    "\n",
    "MP_SED_Plot + Reg_Line #+ Reg_Params"
   ]
  },
  {
   "cell_type": "code",
   "execution_count": null,
   "id": "06f84a6e-5f2a-4877-8024-4141ffac5d71",
   "metadata": {
    "tags": []
   },
   "outputs": [],
   "source": []
  },
  {
   "cell_type": "code",
   "execution_count": null,
   "id": "47fe5cd6-213b-4bb4-9e37-3713cb3b0b9c",
   "metadata": {
    "tags": []
   },
   "outputs": [],
   "source": []
  },
  {
   "cell_type": "code",
   "execution_count": null,
   "id": "59d67d9d-261b-4277-884e-3d1de0de31ca",
   "metadata": {
    "tags": []
   },
   "outputs": [],
   "source": [
    "\n",
    "#MP_size_Plot = alt.Chart(env_MP).mark_point().encode(\n",
    " #   x= 'Size_1_µm', #alt.Y('Dx50',scale = alt.Scale(type= 'log')),\n",
    "  #  y=  alt.Y(1/'Frequency',scale = alt.Scale(type= 'log')),\n",
    "   # )"
   ]
  },
  {
   "cell_type": "code",
   "execution_count": null,
   "id": "f8488c2b-0aac-4f1d-a811-8d870e0fd0b9",
   "metadata": {
    "tags": []
   },
   "outputs": [],
   "source": [
    "# make probability size function of mp per station\n",
    "hist = tot_samples['Size_1_µm'].hist(bins=500,range=[50,1000],alpha=0.9)"
   ]
  },
  {
   "cell_type": "code",
   "execution_count": null,
   "id": "fcdcf1b3-b3fe-4961-88c4-6e1ff53400ad",
   "metadata": {},
   "outputs": [],
   "source": [
    "alt.Chart(env_MP,width=100,height=80).transform_density(\n",
    "    'size_geom_mean', #Size_1_µm\n",
    "    extent=[50,2000],\n",
    "    as_=['size','density'],\n",
    "    groupby=['Sample'],\n",
    "    steps=200,\n",
    "    bandwidth=0,\n",
    "    cumulative=False,\n",
    "    counts=False\n",
    ").mark_line().encode(\n",
    "    x='size:Q',\n",
    "    y=alt.Y('density:Q', stack=None),\n",
    "    color='Sample'\n",
    ").facet(\n",
    "    'Sample:N',\n",
    "    columns=7\n",
    ")"
   ]
  },
  {
   "cell_type": "code",
   "execution_count": null,
   "id": "8931c630-7e7e-4a86-acb4-a12996259a3d",
   "metadata": {
    "tags": []
   },
   "outputs": [],
   "source": []
  },
  {
   "cell_type": "code",
   "execution_count": null,
   "id": "f697f3d3-fd35-4fcf-b945-298e70d4d59c",
   "metadata": {},
   "outputs": [],
   "source": [
    "# compare d50 of MP to d50 of SED\n",
    "\n",
    "D50_MP_SED_Plot = alt.Chart(mp_sedStats).mark_point().encode(\n",
    "    x='D50',\n",
    "    y= alt.Y('MP_D50',scale = alt.Scale(zero=False)),\n",
    "    color= 'Regio_Sep',\n",
    "    tooltip='Sample'\n",
    ")\n",
    " #scale=alt.Scale(zero=False)\n",
    "Reg_Line_D50 = D50_MP_SED_Plot.transform_regression('D50', 'MP_D50',\n",
    "                                            method=\"linear\",\n",
    "                                            groupby=[\"Regio_Sep\"],\n",
    "                                           ).mark_line(color=\"red\")\n",
    "\n",
    "Reg_Params_D50 = D50_MP_SED_Plot.transform_regression('D50', 'MP_D50',\n",
    "                                              method=\"exp\",\n",
    "                                              groupby=[\"Regio_Sep\"],\n",
    "                                              params=True                                             \n",
    "    ).mark_text(align='left', lineBreak='\\n').encode(\n",
    "        x=alt.value(120),  # pixels from left\n",
    "        y=alt.value(20),  # pixels from top\n",
    "        text='params:N'\n",
    "    ).transform_calculate(\n",
    "        params='\"r² = \" + round(datum.rSquared * 100)/100 + \\\n",
    "    \"      y = \" + round(datum.coef[0] * 10)/10 + \" + e ^ (\" + round(datum.coef[1] * 10000)/10000 + \"x\" + \")\" + \\n + \" \"'\n",
    "    )\n",
    "\n",
    "#ParamsDF = altair_transform.extract_data(Reg_Params)\n",
    "\n",
    "\n",
    "D50_MP_SED_Plot + Reg_Line_D50 #+ Reg_Params_D50\n"
   ]
  },
  {
   "cell_type": "code",
   "execution_count": null,
   "id": "9edc153f-4223-4dd1-b149-c23d5b95ed3f",
   "metadata": {
    "tags": []
   },
   "outputs": [],
   "source": [
    "# MP in Gewichtsprozent, calculate MP volumes, height = (w/l) *w\n",
    "\n",
    "#, large table with all possible proxies, density dist plot, comp to other studies worldwide\n"
   ]
  },
  {
   "cell_type": "code",
   "execution_count": null,
   "id": "40fb4b83-d0c6-497e-816a-c21e7979eb68",
   "metadata": {
    "tags": []
   },
   "outputs": [],
   "source": [
    "#make GLM to account for distance to WWTP and GS ?"
   ]
  },
  {
   "cell_type": "code",
   "execution_count": null,
   "id": "0c920a85-1b41-4f3d-8e63-bcd6f93ed260",
   "metadata": {},
   "outputs": [],
   "source": [
    "#check TOC SED literature..."
   ]
  },
  {
   "cell_type": "code",
   "execution_count": null,
   "id": "98cf8727-a814-4782-a7a2-7180ac0aa87a",
   "metadata": {},
   "outputs": [],
   "source": [
    "# sorting of sediments (increase in MP)?"
   ]
  }
 ],
 "metadata": {
  "kernelspec": {
   "display_name": "Python 3 (ipykernel)",
   "language": "python",
   "name": "python3"
  },
  "language_info": {
   "codemirror_mode": {
    "name": "ipython",
    "version": 3
   },
   "file_extension": ".py",
   "mimetype": "text/x-python",
   "name": "python",
   "nbconvert_exporter": "python",
   "pygments_lexer": "ipython3",
   "version": "3.9.6"
  }
 },
 "nbformat": 4,
 "nbformat_minor": 5
}
