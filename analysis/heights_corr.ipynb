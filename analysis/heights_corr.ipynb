{
 "cells": [
  {
   "cell_type": "markdown",
   "metadata": {},
   "source": [
    "## Notebook for finding a regression model for missing particle heights based on 2D-geometric mean"
   ]
  },
  {
   "cell_type": "code",
   "execution_count": null,
   "metadata": {},
   "outputs": [],
   "source": [
    "%reload_ext autoreload\n",
    "%autoreload 2\n",
    "\n",
    "import pandas as pd\n",
    "from plots import scatter_chart\n",
    "import hvplot.pandas  # noqa\n",
    "pd.options.plotting.backend = 'holoviews'\n",
    "\n",
    "from KDE_utils import bound_kde\n",
    "import rpy2.robjects as ro\n",
<<<<<<< HEAD
    "import rpy2.robjects.packages as rpackages\n",
    "from rpy2.interactive import process_revents\n",
    "process_revents.start()  # useful to be able to resize and close interactive R devices (i.e. plot windows)"
=======
    "import rpy2.robjects.packages as rpackages"
>>>>>>> main
   ]
  },
  {
   "cell_type": "code",
   "execution_count": null,
   "metadata": {},
   "outputs": [],
   "source": [
    "df = pd.read_csv('../data/mp_pdd.csv')\n",
    "df=df.drop(df.loc[df['Size_3_[µm]']==0].index)\n",
    "df=df.drop(df.loc[df['Size_3_[µm]']==20].index)\n",
    "\n",
    "df.rename(columns={'Size_3_[µm]':'Size_3_µm'},inplace=True)\n",
    "df.rename(columns={'Size_2_[µm]':'Size_2_µm'},inplace=True)\n",
    "df.rename(columns={'Size_1_[µm]':'Size_1_µm'},inplace=True)"
   ]
  },
  {
   "cell_type": "code",
   "execution_count": null,
   "metadata": {
    "tags": []
   },
   "outputs": [],
   "source": [
    "df.dropna(subset = ['Size_3_µm'],inplace=True)\n",
    "df.loc[df['Size_3_µm'] > df['Size_2_µm'],'Size_3_µm'] = df['Size_2_µm']"
   ]
  },
  {
   "cell_type": "code",
   "execution_count": null,
   "metadata": {},
   "outputs": [],
   "source": [
    "chart = scatter_chart(df.loc[(df.size_geom_mean<500) & (df.Shape != 'fibre')], 'size_geom_mean', 'Size_3_µm', 'Shape', reg='pow',reg_groups=True)\n",
    "print(chart[1])\n",
    "chart[0]\n",
    "#def > 500 µm \n",
    "#is L/W = W/H ?? (koelman, solving, proove wrong?)"
   ]
  },
  {
   "cell_type": "code",
   "execution_count": null,
   "metadata": {},
   "outputs": [],
   "source": [
    "# df['Size_3_µm'].hist(bins=100)"
   ]
  },
  {
   "cell_type": "code",
   "execution_count": null,
   "metadata": {},
   "outputs": [],
   "source": [
    "manHeight = pd.read_csv('../data/ManualHeights_Schlei_S8_v2.csv')"
   ]
  },
  {
   "cell_type": "code",
   "execution_count": null,
   "metadata": {},
   "outputs": [],
   "source": [
    "# calculate kde on manHeight.manual_Size_3_um forcing it to be positive\n",
    "boundManHeight = manHeight.loc[manHeight.manual_Size_3_um <= 20, 'manual_Size_3_um']"
   ]
  },
  {
   "cell_type": "code",
   "execution_count": null,
   "metadata": {},
   "outputs": [],
   "source": [
    "sampled_values, kde, cdf = bound_kde(100, boundManHeight, 0, 20, bw=1.05, method=\"greedy\")  # if gettin error, try lower bw"
   ]
  },
  {
   "cell_type": "code",
   "execution_count": null,
   "metadata": {},
   "outputs": [],
   "source": [
    "base = rpackages.importr('base')\n",
    "stats = rpackages.importr('stats')\n",
    "graphics = rpackages.importr('graphics')\n",
    "base.plot(kde)\n",
    "# graphics.lines(stats.density(sampled_values))"
   ]
  },
  {
   "cell_type": "code",
   "execution_count": null,
   "metadata": {},
   "outputs": [],
   "source": [
    "print(base.summary(kde))"
   ]
  },
  {
   "cell_type": "code",
   "execution_count": null,
   "metadata": {},
   "outputs": [],
   "source": [
    "pd.DataFrame(sampled_values).plot.kde()"
   ]
  }
 ],
 "metadata": {
  "kernelspec": {
   "display_name": "Python 3.9.13 64-bit ('3.9.13')",
   "language": "python",
   "name": "python3"
  },
  "language_info": {
   "codemirror_mode": {
    "name": "ipython",
    "version": 3
   },
   "file_extension": ".py",
   "mimetype": "text/x-python",
   "name": "python",
   "nbconvert_exporter": "python",
   "pygments_lexer": "ipython3",
   "version": "3.9.13"
  },
  "vscode": {
   "interpreter": {
    "hash": "9283b71a9fb260974dcb1b3d32e79d34b5da211280b6af559776f5f59ea44de2"
   }
  }
 },
 "nbformat": 4,
 "nbformat_minor": 4
}
