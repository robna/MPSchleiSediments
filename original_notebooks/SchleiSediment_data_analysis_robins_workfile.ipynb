{
 "cells": [
  {
   "cell_type": "code",
   "execution_count": 1,
   "id": "bf0be933",
   "metadata": {
    "tags": []
   },
   "outputs": [],
   "source": [
    "import numpy as np\n",
    "import pandas as pd\n",
    "pd.set_option('display.max_rows', 500)\n",
    "\n",
    "import matplotlib.pyplot as plt \n",
    "import seaborn as sns\n",
    "\n",
    "import altair as alt\n",
    "alt.data_transformers.disable_max_rows()\n",
    "import altair_transform\n",
    "\n",
    "from sklearn.neighbors import KernelDensity\n",
    "from sklearn.model_selection import GridSearchCV\n",
    "from sklearn.model_selection import LeaveOneOut"
   ]
  },
  {
   "cell_type": "code",
   "execution_count": 2,
   "id": "1223fd4d",
   "metadata": {
    "tags": []
   },
   "outputs": [],
   "source": [
    "#import quality checked and blank substracted list of MP from Micropoll_SchleiSediment_blank_subtract.ipynb\n",
    "env_MP = pd.read_csv('../csv/env_MP_clean_list_SchleiSediments.csv',index_col=0)\n",
    "#rename column name of Size_1\n",
    "env_MP.rename(columns = {'Size_1_[µm]':'Size_1_µm'}, inplace = True)\n",
    "#env_MP_a500 = env_MP.loc[env_MP.size_geom_mean >= 500]\n",
    "#env_MP_b500 = env_MP.loc[env_MP.size_geom_mean < 500]"
   ]
  },
  {
   "cell_type": "code",
   "execution_count": 3,
   "id": "11092641",
   "metadata": {
    "tags": []
   },
   "outputs": [
    {
     "data": {
      "text/plain": "       Sample  Frequency  FrequencyA500  FrequencyB500  Mass  GPS_LONs  \\\n0  Schlei_S10        297            4.0          293.0  0.25   9.60355   \n\n   GPS_LATs  Split     MP_D50  Concentration  ConcentrationA500  \\\n0   54.5253    1.0  85.732141         1188.0               16.0   \n\n   ConcentrationB500  \n0             1172.0  ",
      "text/html": "<div>\n<style scoped>\n    .dataframe tbody tr th:only-of-type {\n        vertical-align: middle;\n    }\n\n    .dataframe tbody tr th {\n        vertical-align: top;\n    }\n\n    .dataframe thead th {\n        text-align: right;\n    }\n</style>\n<table border=\"1\" class=\"dataframe\">\n  <thead>\n    <tr style=\"text-align: right;\">\n      <th></th>\n      <th>Sample</th>\n      <th>Frequency</th>\n      <th>FrequencyA500</th>\n      <th>FrequencyB500</th>\n      <th>Mass</th>\n      <th>GPS_LONs</th>\n      <th>GPS_LATs</th>\n      <th>Split</th>\n      <th>MP_D50</th>\n      <th>Concentration</th>\n      <th>ConcentrationA500</th>\n      <th>ConcentrationB500</th>\n    </tr>\n  </thead>\n  <tbody>\n    <tr>\n      <th>0</th>\n      <td>Schlei_S10</td>\n      <td>297</td>\n      <td>4.0</td>\n      <td>293.0</td>\n      <td>0.25</td>\n      <td>9.60355</td>\n      <td>54.5253</td>\n      <td>1.0</td>\n      <td>85.732141</td>\n      <td>1188.0</td>\n      <td>16.0</td>\n      <td>1172.0</td>\n    </tr>\n  </tbody>\n</table>\n</div>"
     },
     "execution_count": 3,
     "metadata": {},
     "output_type": "execute_result"
    }
   ],
   "source": [
    "mp_station = env_MP.groupby(['Sample']).agg(\n",
    "        Frequency=('Site_name', 'count'),  # using 'Site_name' here for count, could use any other column too... Is there a way to count entries in groups without using a column?\n",
    "        FrequencyA500=('size_geom_mean', lambda x: (x>=500).sum()),  # using 'Site_name' here for count, could use any other column too... Is there a way to count entries in groups without using a column?\n",
    "        FrequencyB500=('size_geom_mean', lambda x: (x<500).sum()),  # using 'Site_name' here for count, could use any other column too... Is there a way to count entries in groups without using a column?\n",
    "        Mass=('Sampling_weight_[kg]', np.mean),  # using \"mean\" here is actually weird as all entries are the same. Is there something like \"first\"?\n",
    "        GPS_LONs = ('GPS_LON', np.mean),\n",
    "        GPS_LATs = ('GPS_LAT', np.mean),\n",
    "        Split = ('Fraction_analysed', np.mean),\n",
    "        MP_D50 = ('size_geom_mean',np.median)\n",
    "        ##MP_D50_A500 = ('size_geom_mean' >= 500.median()),\n",
    "        #MP_D50_B500 = ('size_geom_mean', lambda x: (x<500).median())\n",
    " ).reset_index()\n",
    "\n",
    "mp_station['Concentration'] =  round(mp_station['Frequency']/ (mp_station['Mass'] * mp_station['Split']))\n",
    "mp_station['ConcentrationA500'] =  round(mp_station['FrequencyA500']/ (mp_station['Mass'] * mp_station['Split']))\n",
    "mp_station['ConcentrationB500'] =  round(mp_station['FrequencyB500']/ (mp_station['Mass'] * mp_station['Split']))\n",
    "mp_station.head(1)"
   ]
  },
  {
   "cell_type": "code",
   "execution_count": 4,
   "id": "dc5b155d",
   "metadata": {
    "tags": []
   },
   "outputs": [
    {
     "data": {
      "text/plain": "       Sample                   polymer_type  Frequency  Mass  GPS_LONs  \\\n0  Schlei_S10  Poly (ethylene terephthalate)        193  0.25   9.60355   \n\n   GPS_LATs  Split  Concentration  \n0   54.5253    1.0          772.0  ",
      "text/html": "<div>\n<style scoped>\n    .dataframe tbody tr th:only-of-type {\n        vertical-align: middle;\n    }\n\n    .dataframe tbody tr th {\n        vertical-align: top;\n    }\n\n    .dataframe thead th {\n        text-align: right;\n    }\n</style>\n<table border=\"1\" class=\"dataframe\">\n  <thead>\n    <tr style=\"text-align: right;\">\n      <th></th>\n      <th>Sample</th>\n      <th>polymer_type</th>\n      <th>Frequency</th>\n      <th>Mass</th>\n      <th>GPS_LONs</th>\n      <th>GPS_LATs</th>\n      <th>Split</th>\n      <th>Concentration</th>\n    </tr>\n  </thead>\n  <tbody>\n    <tr>\n      <th>0</th>\n      <td>Schlei_S10</td>\n      <td>Poly (ethylene terephthalate)</td>\n      <td>193</td>\n      <td>0.25</td>\n      <td>9.60355</td>\n      <td>54.5253</td>\n      <td>1.0</td>\n      <td>772.0</td>\n    </tr>\n  </tbody>\n</table>\n</div>"
     },
     "execution_count": 4,
     "metadata": {},
     "output_type": "execute_result"
    }
   ],
   "source": [
    "mp_poly_station = env_MP.groupby(['Sample','polymer_type']).agg(\n",
    "        Frequency=('Site_name', 'count'),  # using 'Site_name' here for count, could use any other column too... Is there a way to count entries in groups without using a column?\n",
    "        Mass=('Sampling_weight_[kg]', np.mean),  # using \"mean\" here is actually weird as all entries are the same. Is there something like \"first\"?\n",
    "        GPS_LONs = ('GPS_LON', np.mean),\n",
    "        GPS_LATs = ('GPS_LAT', np.mean),\n",
    "        Split = ('Fraction_analysed', np.mean)\n",
    " ).reset_index()\n",
    "\n",
    "mp_poly_station['Concentration'] =  round(mp_poly_station['Frequency']/ (mp_poly_station['Mass'] * mp_poly_station['Split']))\n",
    "\n",
    "mp_poly_station.head(1)#.shape\n"
   ]
  },
  {
   "cell_type": "code",
   "execution_count": 5,
   "id": "781a55a4",
   "metadata": {},
   "outputs": [
    {
     "data": {
      "text/html": "\n<div id=\"altair-viz-7acb6d95184e4012b4b67d4583674a4d\"></div>\n<script type=\"text/javascript\">\n  (function(spec, embedOpt){\n    let outputDiv = document.currentScript.previousElementSibling;\n    if (outputDiv.id !== \"altair-viz-7acb6d95184e4012b4b67d4583674a4d\") {\n      outputDiv = document.getElementById(\"altair-viz-7acb6d95184e4012b4b67d4583674a4d\");\n    }\n    const paths = {\n      \"vega\": \"https://cdn.jsdelivr.net/npm//vega@5?noext\",\n      \"vega-lib\": \"https://cdn.jsdelivr.net/npm//vega-lib?noext\",\n      \"vega-lite\": \"https://cdn.jsdelivr.net/npm//vega-lite@4.8.1?noext\",\n      \"vega-embed\": \"https://cdn.jsdelivr.net/npm//vega-embed@6?noext\",\n    };\n\n    function loadScript(lib) {\n      return new Promise(function(resolve, reject) {\n        var s = document.createElement('script');\n        s.src = paths[lib];\n        s.async = true;\n        s.onload = () => resolve(paths[lib]);\n        s.onerror = () => reject(`Error loading script: ${paths[lib]}`);\n        document.getElementsByTagName(\"head\")[0].appendChild(s);\n      });\n    }\n\n    function showError(err) {\n      outputDiv.innerHTML = `<div class=\"error\" style=\"color:red;\">${err}</div>`;\n      throw err;\n    }\n\n    function displayChart(vegaEmbed) {\n      vegaEmbed(outputDiv, spec, embedOpt)\n        .catch(err => showError(`Javascript Error: ${err.message}<br>This usually means there's a typo in your chart specification. See the javascript console for the full traceback.`));\n    }\n\n    if(typeof define === \"function\" && define.amd) {\n      requirejs.config({paths});\n      require([\"vega-embed\"], displayChart, err => showError(`Error loading script: ${err.message}`));\n    } else if (typeof vegaEmbed === \"function\") {\n      displayChart(vegaEmbed);\n    } else {\n      loadScript(\"vega\")\n        .then(() => loadScript(\"vega-lite\"))\n        .then(() => loadScript(\"vega-embed\"))\n        .catch(showError)\n        .then(() => displayChart(vegaEmbed));\n    }\n  })({\"config\": {\"view\": {\"continuousWidth\": 400, \"continuousHeight\": 300}}, \"data\": {\"name\": \"data-59d97d0bf60ca1f85c84789a20757c2d\"}, \"mark\": \"bar\", \"encoding\": {\"color\": {\"type\": \"nominal\", \"field\": \"polymer_type\"}, \"tooltip\": [{\"type\": \"nominal\", \"field\": \"polymer_type\"}, {\"type\": \"quantitative\", \"field\": \"Concentration\"}], \"x\": {\"type\": \"nominal\", \"field\": \"Sample\", \"sort\": [\"Schlei_S1_15cm\", \"Schlei_S2\", \"Schlei_S3\", \"Schlei_S5\", \"Schlei_S8\", \"Schlei_S10\", \"Schlei_S10_15cm\", \"Schlei_S11\", \"Schlei_S13\", \"Schlei_S14\", \"Schlei_S15\", \"Schlei_S17\", \"Schlei_S19\", \"Schlei_S22\", \"Schlei_S23\", \"Schlei_S24\", \"Schlei_S25\", \"Schlei_S26\", \"Schlei_S27\", \"Schlei_S30\", \"Schlei_S31\"]}, \"y\": {\"type\": \"quantitative\", \"field\": \"Concentration\"}}, \"selection\": {\"selector001\": {\"type\": \"multi\", \"fields\": [\"polymer_type\"], \"bind\": \"legend\"}}, \"transform\": [{\"filter\": {\"selection\": \"selector001\"}}], \"$schema\": \"https://vega.github.io/schema/vega-lite/v4.8.1.json\", \"datasets\": {\"data-59d97d0bf60ca1f85c84789a20757c2d\": [{\"Sample\": \"Schlei_S10\", \"polymer_type\": \"Poly (ethylene terephthalate)\", \"Frequency\": 193, \"Mass\": 0.25, \"GPS_LONs\": 9.603550000000029, \"GPS_LATs\": 54.52529999999991, \"Split\": 1.0, \"Concentration\": 772.0}, {\"Sample\": \"Schlei_S10\", \"polymer_type\": \"Poly (methyl methacrylate)\", \"Frequency\": 13, \"Mass\": 0.25, \"GPS_LONs\": 9.60355, \"GPS_LATs\": 54.52530000000001, \"Split\": 1.0, \"Concentration\": 52.0}, {\"Sample\": \"Schlei_S10\", \"polymer_type\": \"Poly (vinyl chloride)\", \"Frequency\": 7, \"Mass\": 0.25, \"GPS_LONs\": 9.60355, \"GPS_LATs\": 54.52530000000001, \"Split\": 1.0, \"Concentration\": 28.0}, {\"Sample\": \"Schlei_S10\", \"polymer_type\": \"Polyethylene\", \"Frequency\": 1, \"Mass\": 0.25, \"GPS_LONs\": 9.60355, \"GPS_LATs\": 54.5253, \"Split\": 1.0, \"Concentration\": 4.0}, {\"Sample\": \"Schlei_S10\", \"polymer_type\": \"Polypropylene\", \"Frequency\": 22, \"Mass\": 0.25, \"GPS_LONs\": 9.603550000000006, \"GPS_LATs\": 54.52530000000001, \"Split\": 1.0, \"Concentration\": 88.0}, {\"Sample\": \"Schlei_S10\", \"polymer_type\": \"Polystyrene\", \"Frequency\": 59, \"Mass\": 0.25, \"GPS_LONs\": 9.603549999999998, \"GPS_LATs\": 54.52529999999993, \"Split\": 1.0, \"Concentration\": 236.0}, {\"Sample\": \"Schlei_S10\", \"polymer_type\": \"Silicone-rubber\", \"Frequency\": 1, \"Mass\": 0.25, \"GPS_LONs\": 9.60355, \"GPS_LATs\": 54.5253, \"Split\": 1.0, \"Concentration\": 4.0}, {\"Sample\": \"Schlei_S10\", \"polymer_type\": \"Unknown\", \"Frequency\": 1, \"Mass\": 0.25, \"GPS_LONs\": 9.60355, \"GPS_LATs\": 54.5253, \"Split\": 1.0, \"Concentration\": 4.0}, {\"Sample\": \"Schlei_S10_15cm\", \"polymer_type\": \"Epoxy resin\", \"Frequency\": 1, \"Mass\": 0.03, \"GPS_LONs\": 9.60355, \"GPS_LATs\": 54.5253, \"Split\": 1.0, \"Concentration\": 33.0}, {\"Sample\": \"Schlei_S10_15cm\", \"polymer_type\": \"Ethylen-Vinylacetat-Copolymer\", \"Frequency\": 1, \"Mass\": 0.03, \"GPS_LONs\": 9.60355, \"GPS_LATs\": 54.5253, \"Split\": 1.0, \"Concentration\": 33.0}, {\"Sample\": \"Schlei_S10_15cm\", \"polymer_type\": \"Poly (ethylene terephthalate)\", \"Frequency\": 72, \"Mass\": 0.03000000000000001, \"GPS_LONs\": 9.603550000000006, \"GPS_LATs\": 54.5252999999999, \"Split\": 1.0, \"Concentration\": 2400.0}, {\"Sample\": \"Schlei_S10_15cm\", \"polymer_type\": \"Poly (methyl methacrylate)\", \"Frequency\": 16, \"Mass\": 0.030000000000000013, \"GPS_LONs\": 9.603550000000002, \"GPS_LATs\": 54.52530000000001, \"Split\": 1.0, \"Concentration\": 533.0}, {\"Sample\": \"Schlei_S10_15cm\", \"polymer_type\": \"Poly (vinyl chloride)\", \"Frequency\": 2, \"Mass\": 0.03, \"GPS_LONs\": 9.60355, \"GPS_LATs\": 54.5253, \"Split\": 1.0, \"Concentration\": 67.0}, {\"Sample\": \"Schlei_S10_15cm\", \"polymer_type\": \"Polyethylene\", \"Frequency\": 35, \"Mass\": 0.03000000000000002, \"GPS_LONs\": 9.60355, \"GPS_LATs\": 54.52530000000001, \"Split\": 1.0, \"Concentration\": 1167.0}, {\"Sample\": \"Schlei_S10_15cm\", \"polymer_type\": \"Polypropylene\", \"Frequency\": 267, \"Mass\": 0.03000000000000008, \"GPS_LONs\": 9.603549999999986, \"GPS_LATs\": 54.525299999999746, \"Split\": 1.0, \"Concentration\": 8900.0}, {\"Sample\": \"Schlei_S10_15cm\", \"polymer_type\": \"Polysiloxane\", \"Frequency\": 1, \"Mass\": 0.03, \"GPS_LONs\": 9.60355, \"GPS_LATs\": 54.5253, \"Split\": 1.0, \"Concentration\": 33.0}, {\"Sample\": \"Schlei_S10_15cm\", \"polymer_type\": \"Polystyrene\", \"Frequency\": 55, \"Mass\": 0.030000000000000023, \"GPS_LONs\": 9.603549999999995, \"GPS_LATs\": 54.52529999999994, \"Split\": 1.0, \"Concentration\": 1833.0}, {\"Sample\": \"Schlei_S10_15cm\", \"polymer_type\": \"Silicone-rubber\", \"Frequency\": 1, \"Mass\": 0.03, \"GPS_LONs\": 9.60355, \"GPS_LATs\": 54.5253, \"Split\": 1.0, \"Concentration\": 33.0}, {\"Sample\": \"Schlei_S10_15cm\", \"polymer_type\": \"Styrene-butadiene-styrene block copolymer\", \"Frequency\": 8, \"Mass\": 0.03, \"GPS_LONs\": 9.60355, \"GPS_LATs\": 54.52530000000001, \"Split\": 1.0, \"Concentration\": 267.0}, {\"Sample\": \"Schlei_S10_15cm\", \"polymer_type\": \"Unknown\", \"Frequency\": 1, \"Mass\": 0.03, \"GPS_LONs\": 9.60355, \"GPS_LATs\": 54.5253, \"Split\": 1.0, \"Concentration\": 33.0}, {\"Sample\": \"Schlei_S11\", \"polymer_type\": \"Acrylic resin\", \"Frequency\": 2, \"Mass\": 0.081, \"GPS_LONs\": 9.61442, \"GPS_LATs\": 54.5238, \"Split\": 0.5, \"Concentration\": 49.0}, {\"Sample\": \"Schlei_S11\", \"polymer_type\": \"Epoxy resin\", \"Frequency\": 1, \"Mass\": 0.081, \"GPS_LONs\": 9.61442, \"GPS_LATs\": 54.5238, \"Split\": 0.5, \"Concentration\": 25.0}, {\"Sample\": \"Schlei_S11\", \"polymer_type\": \"Poly (ethylene terephthalate)\", \"Frequency\": 93, \"Mass\": 0.08100000000000017, \"GPS_LONs\": 9.614419999999997, \"GPS_LATs\": 54.52379999999996, \"Split\": 0.5, \"Concentration\": 2296.0}, {\"Sample\": \"Schlei_S11\", \"polymer_type\": \"Poly (vinyl chloride)\", \"Frequency\": 8, \"Mass\": 0.081, \"GPS_LONs\": 9.61442, \"GPS_LATs\": 54.5238, \"Split\": 0.5, \"Concentration\": 198.0}, {\"Sample\": \"Schlei_S11\", \"polymer_type\": \"Polycarbonate\", \"Frequency\": 2, \"Mass\": 0.081, \"GPS_LONs\": 9.61442, \"GPS_LATs\": 54.5238, \"Split\": 0.5, \"Concentration\": 49.0}, {\"Sample\": \"Schlei_S11\", \"polymer_type\": \"Polyethylene\", \"Frequency\": 1, \"Mass\": 0.081, \"GPS_LONs\": 9.61442, \"GPS_LATs\": 54.5238, \"Split\": 0.5, \"Concentration\": 25.0}, {\"Sample\": \"Schlei_S11\", \"polymer_type\": \"Polyoxymethylene\", \"Frequency\": 2, \"Mass\": 0.081, \"GPS_LONs\": 9.61442, \"GPS_LATs\": 54.5238, \"Split\": 0.5, \"Concentration\": 49.0}, {\"Sample\": \"Schlei_S11\", \"polymer_type\": \"Polypropylene\", \"Frequency\": 59, \"Mass\": 0.08100000000000004, \"GPS_LONs\": 9.614419999999997, \"GPS_LATs\": 54.523799999999966, \"Split\": 0.5, \"Concentration\": 1457.0}, {\"Sample\": \"Schlei_S11\", \"polymer_type\": \"Polystyrene\", \"Frequency\": 16, \"Mass\": 0.08099999999999999, \"GPS_LONs\": 9.614419999999999, \"GPS_LATs\": 54.52380000000002, \"Split\": 0.5, \"Concentration\": 395.0}, {\"Sample\": \"Schlei_S13\", \"polymer_type\": \"Epoxy resin\", \"Frequency\": 3, \"Mass\": 0.071, \"GPS_LONs\": 9.62153, \"GPS_LATs\": 54.5157, \"Split\": 0.25, \"Concentration\": 169.0}, {\"Sample\": \"Schlei_S13\", \"polymer_type\": \"Poly (ethylene terephthalate)\", \"Frequency\": 65, \"Mass\": 0.07100000000000004, \"GPS_LONs\": 9.621530000000005, \"GPS_LATs\": 54.51569999999995, \"Split\": 0.25, \"Concentration\": 3662.0}, {\"Sample\": \"Schlei_S13\", \"polymer_type\": \"Poly (methyl methacrylate)\", \"Frequency\": 4, \"Mass\": 0.071, \"GPS_LONs\": 9.62153, \"GPS_LATs\": 54.5157, \"Split\": 0.25, \"Concentration\": 225.0}, {\"Sample\": \"Schlei_S13\", \"polymer_type\": \"Poly (vinyl chloride)\", \"Frequency\": 4, \"Mass\": 0.071, \"GPS_LONs\": 9.62153, \"GPS_LATs\": 54.5157, \"Split\": 0.25, \"Concentration\": 225.0}, {\"Sample\": \"Schlei_S13\", \"polymer_type\": \"Polyethylene\", \"Frequency\": 8, \"Mass\": 0.071, \"GPS_LONs\": 9.62153, \"GPS_LATs\": 54.515699999999995, \"Split\": 0.25, \"Concentration\": 451.0}, {\"Sample\": \"Schlei_S13\", \"polymer_type\": \"Polyhydroxybutyrat\", \"Frequency\": 4, \"Mass\": 0.071, \"GPS_LONs\": 9.62153, \"GPS_LATs\": 54.5157, \"Split\": 0.25, \"Concentration\": 225.0}, {\"Sample\": \"Schlei_S13\", \"polymer_type\": \"Polypropylene\", \"Frequency\": 183, \"Mass\": 0.07099999999999984, \"GPS_LONs\": 9.621529999999959, \"GPS_LATs\": 54.51569999999993, \"Split\": 0.25, \"Concentration\": 10310.0}, {\"Sample\": \"Schlei_S13\", \"polymer_type\": \"Polystyrene\", \"Frequency\": 52, \"Mass\": 0.07100000000000006, \"GPS_LONs\": 9.621530000000005, \"GPS_LATs\": 54.51569999999996, \"Split\": 0.25, \"Concentration\": 2930.0}, {\"Sample\": \"Schlei_S13\", \"polymer_type\": \"Unknown\", \"Frequency\": 8, \"Mass\": 0.071, \"GPS_LONs\": 9.62153, \"GPS_LATs\": 54.515699999999995, \"Split\": 0.25, \"Concentration\": 451.0}, {\"Sample\": \"Schlei_S14\", \"polymer_type\": \"Poly (ethylene terephthalate)\", \"Frequency\": 4, \"Mass\": 0.25, \"GPS_LONs\": 9.63885, \"GPS_LATs\": 54.5172, \"Split\": 1.0, \"Concentration\": 16.0}, {\"Sample\": \"Schlei_S14\", \"polymer_type\": \"Poly (methyl methacrylate)\", \"Frequency\": 2, \"Mass\": 0.25, \"GPS_LONs\": 9.63885, \"GPS_LATs\": 54.5172, \"Split\": 1.0, \"Concentration\": 8.0}, {\"Sample\": \"Schlei_S14\", \"polymer_type\": \"Polyethylene\", \"Frequency\": 6, \"Mass\": 0.25, \"GPS_LONs\": 9.63885, \"GPS_LATs\": 54.5172, \"Split\": 1.0, \"Concentration\": 24.0}, {\"Sample\": \"Schlei_S14\", \"polymer_type\": \"Polypropylene\", \"Frequency\": 19, \"Mass\": 0.25, \"GPS_LONs\": 9.638849999999998, \"GPS_LATs\": 54.5172, \"Split\": 1.0, \"Concentration\": 76.0}, {\"Sample\": \"Schlei_S14\", \"polymer_type\": \"Polystyrene\", \"Frequency\": 3, \"Mass\": 0.25, \"GPS_LONs\": 9.63885, \"GPS_LATs\": 54.5172, \"Split\": 1.0, \"Concentration\": 12.0}, {\"Sample\": \"Schlei_S15\", \"polymer_type\": \"Poly (ethylene terephthalate)\", \"Frequency\": 21, \"Mass\": 0.25, \"GPS_LONs\": 9.645749999999996, \"GPS_LATs\": 54.52009999999998, \"Split\": 1.0, \"Concentration\": 84.0}, {\"Sample\": \"Schlei_S15\", \"polymer_type\": \"Polyethylene\", \"Frequency\": 27, \"Mass\": 0.25, \"GPS_LONs\": 9.645749999999996, \"GPS_LATs\": 54.52009999999997, \"Split\": 1.0, \"Concentration\": 108.0}, {\"Sample\": \"Schlei_S15\", \"polymer_type\": \"Polyoxymethylene\", \"Frequency\": 1, \"Mass\": 0.25, \"GPS_LONs\": 9.64575, \"GPS_LATs\": 54.5201, \"Split\": 1.0, \"Concentration\": 4.0}, {\"Sample\": \"Schlei_S15\", \"polymer_type\": \"Polypropylene\", \"Frequency\": 44, \"Mass\": 0.25, \"GPS_LONs\": 9.645750000000005, \"GPS_LATs\": 54.5201, \"Split\": 1.0, \"Concentration\": 176.0}, {\"Sample\": \"Schlei_S15\", \"polymer_type\": \"Polystyrene\", \"Frequency\": 11, \"Mass\": 0.25, \"GPS_LONs\": 9.645749999999998, \"GPS_LATs\": 54.5201, \"Split\": 1.0, \"Concentration\": 44.0}, {\"Sample\": \"Schlei_S17\", \"polymer_type\": \"Acrylic resin\", \"Frequency\": 1, \"Mass\": 0.25, \"GPS_LONs\": 9.68298, \"GPS_LATs\": 54.5072, \"Split\": 1.0, \"Concentration\": 4.0}, {\"Sample\": \"Schlei_S17\", \"polymer_type\": \"Poly (ethylene terephthalate)\", \"Frequency\": 22, \"Mass\": 0.25, \"GPS_LONs\": 9.682979999999997, \"GPS_LATs\": 54.507200000000005, \"Split\": 1.0, \"Concentration\": 88.0}, {\"Sample\": \"Schlei_S17\", \"polymer_type\": \"Poly (vinyl chloride)\", \"Frequency\": 2, \"Mass\": 0.25, \"GPS_LONs\": 9.68298, \"GPS_LATs\": 54.5072, \"Split\": 1.0, \"Concentration\": 8.0}, {\"Sample\": \"Schlei_S17\", \"polymer_type\": \"Polyethylene\", \"Frequency\": 13, \"Mass\": 0.25, \"GPS_LONs\": 9.68298, \"GPS_LATs\": 54.507200000000005, \"Split\": 1.0, \"Concentration\": 52.0}, {\"Sample\": \"Schlei_S17\", \"polymer_type\": \"Polyoxymethylene\", \"Frequency\": 2, \"Mass\": 0.25, \"GPS_LONs\": 9.68298, \"GPS_LATs\": 54.5072, \"Split\": 1.0, \"Concentration\": 8.0}, {\"Sample\": \"Schlei_S17\", \"polymer_type\": \"Polypropylene\", \"Frequency\": 85, \"Mass\": 0.25, \"GPS_LONs\": 9.682980000000011, \"GPS_LATs\": 54.5072, \"Split\": 1.0, \"Concentration\": 340.0}, {\"Sample\": \"Schlei_S17\", \"polymer_type\": \"Polystyrene\", \"Frequency\": 21, \"Mass\": 0.25, \"GPS_LONs\": 9.682979999999997, \"GPS_LATs\": 54.5072, \"Split\": 1.0, \"Concentration\": 84.0}, {\"Sample\": \"Schlei_S19\", \"polymer_type\": \"Poly (ethylene terephthalate)\", \"Frequency\": 11, \"Mass\": 0.25, \"GPS_LONs\": 9.702619999999998, \"GPS_LATs\": 54.51260000000001, \"Split\": 1.0, \"Concentration\": 44.0}, {\"Sample\": \"Schlei_S19\", \"polymer_type\": \"Polyethylene\", \"Frequency\": 1, \"Mass\": 0.25, \"GPS_LONs\": 9.70262, \"GPS_LATs\": 54.5126, \"Split\": 1.0, \"Concentration\": 4.0}, {\"Sample\": \"Schlei_S19\", \"polymer_type\": \"Polypropylene\", \"Frequency\": 28, \"Mass\": 0.25, \"GPS_LONs\": 9.702619999999998, \"GPS_LATs\": 54.51260000000001, \"Split\": 1.0, \"Concentration\": 112.0}, {\"Sample\": \"Schlei_S19\", \"polymer_type\": \"Polystyrene\", \"Frequency\": 9, \"Mass\": 0.25, \"GPS_LONs\": 9.702619999999998, \"GPS_LATs\": 54.512600000000006, \"Split\": 1.0, \"Concentration\": 36.0}, {\"Sample\": \"Schlei_S1_15cm\", \"polymer_type\": \"Acrylnitril-Butadien-Styrol-Copolymer\", \"Frequency\": 2, \"Mass\": 0.063, \"GPS_LONs\": 9.55717, \"GPS_LATs\": 54.5075, \"Split\": 0.5887, \"Concentration\": 54.0}, {\"Sample\": \"Schlei_S1_15cm\", \"polymer_type\": \"Epoxy resin\", \"Frequency\": 5, \"Mass\": 0.063, \"GPS_LONs\": 9.55717, \"GPS_LATs\": 54.50750000000001, \"Split\": 0.5887, \"Concentration\": 135.0}, {\"Sample\": \"Schlei_S1_15cm\", \"polymer_type\": \"Poly (ethylene terephthalate)\", \"Frequency\": 163, \"Mass\": 0.06300000000000006, \"GPS_LONs\": 9.557170000000024, \"GPS_LATs\": 54.50749999999988, \"Split\": 0.5887000000000018, \"Concentration\": 4395.0}, {\"Sample\": \"Schlei_S1_15cm\", \"polymer_type\": \"Poly (methyl methacrylate)\", \"Frequency\": 20, \"Mass\": 0.06299999999999997, \"GPS_LONs\": 9.557169999999996, \"GPS_LATs\": 54.507500000000014, \"Split\": 0.5886999999999999, \"Concentration\": 539.0}, {\"Sample\": \"Schlei_S1_15cm\", \"polymer_type\": \"Poly (vinyl chloride)\", \"Frequency\": 4, \"Mass\": 0.063, \"GPS_LONs\": 9.55717, \"GPS_LATs\": 54.5075, \"Split\": 0.5887, \"Concentration\": 108.0}, {\"Sample\": \"Schlei_S1_15cm\", \"polymer_type\": \"Polyethylene\", \"Frequency\": 9, \"Mass\": 0.063, \"GPS_LONs\": 9.55717, \"GPS_LATs\": 54.5075, \"Split\": 0.5887000000000001, \"Concentration\": 243.0}, {\"Sample\": \"Schlei_S1_15cm\", \"polymer_type\": \"Polypropylene\", \"Frequency\": 191, \"Mass\": 0.06300000000000014, \"GPS_LONs\": 9.557170000000026, \"GPS_LATs\": 54.50749999999985, \"Split\": 0.5887000000000019, \"Concentration\": 5150.0}, {\"Sample\": \"Schlei_S1_15cm\", \"polymer_type\": \"Polystyrene\", \"Frequency\": 102, \"Mass\": 0.06299999999999993, \"GPS_LONs\": 9.557170000000013, \"GPS_LATs\": 54.50749999999998, \"Split\": 0.5887000000000011, \"Concentration\": 2750.0}, {\"Sample\": \"Schlei_S1_15cm\", \"polymer_type\": \"Unknown\", \"Frequency\": 4, \"Mass\": 0.063, \"GPS_LONs\": 9.55717, \"GPS_LATs\": 54.5075, \"Split\": 0.5887, \"Concentration\": 108.0}, {\"Sample\": \"Schlei_S2\", \"polymer_type\": \"Poly (ethylene terephthalate)\", \"Frequency\": 139, \"Mass\": 0.25, \"GPS_LONs\": 9.59054999999998, \"GPS_LATs\": 54.50770000000009, \"Split\": 0.5, \"Concentration\": 1112.0}, {\"Sample\": \"Schlei_S2\", \"polymer_type\": \"Poly (methyl methacrylate)\", \"Frequency\": 6, \"Mass\": 0.25, \"GPS_LONs\": 9.59055, \"GPS_LATs\": 54.5077, \"Split\": 0.5, \"Concentration\": 48.0}, {\"Sample\": \"Schlei_S2\", \"polymer_type\": \"Poly (vinyl chloride)\", \"Frequency\": 10, \"Mass\": 0.25, \"GPS_LONs\": 9.590550000000002, \"GPS_LATs\": 54.5077, \"Split\": 0.5, \"Concentration\": 80.0}, {\"Sample\": \"Schlei_S2\", \"polymer_type\": \"Polyethylene\", \"Frequency\": 9, \"Mass\": 0.25, \"GPS_LONs\": 9.59055, \"GPS_LATs\": 54.5077, \"Split\": 0.5, \"Concentration\": 72.0}, {\"Sample\": \"Schlei_S2\", \"polymer_type\": \"Polyoxymethylene\", \"Frequency\": 4, \"Mass\": 0.25, \"GPS_LONs\": 9.59055, \"GPS_LATs\": 54.5077, \"Split\": 0.5, \"Concentration\": 32.0}, {\"Sample\": \"Schlei_S2\", \"polymer_type\": \"Polypropylene\", \"Frequency\": 127, \"Mass\": 0.25, \"GPS_LONs\": 9.590549999999988, \"GPS_LATs\": 54.50770000000009, \"Split\": 0.5, \"Concentration\": 1016.0}, {\"Sample\": \"Schlei_S2\", \"polymer_type\": \"Polystyrene\", \"Frequency\": 49, \"Mass\": 0.25, \"GPS_LONs\": 9.590550000000006, \"GPS_LATs\": 54.507700000000064, \"Split\": 0.5, \"Concentration\": 392.0}, {\"Sample\": \"Schlei_S22\", \"polymer_type\": \"Epoxy resin\", \"Frequency\": 1, \"Mass\": 0.066, \"GPS_LONs\": 9.76887, \"GPS_LATs\": 54.5601, \"Split\": 1.0, \"Concentration\": 15.0}, {\"Sample\": \"Schlei_S22\", \"polymer_type\": \"Poly (ethylene terephthalate)\", \"Frequency\": 17, \"Mass\": 0.06600000000000003, \"GPS_LONs\": 9.768869999999996, \"GPS_LATs\": 54.560100000000006, \"Split\": 1.0, \"Concentration\": 258.0}, {\"Sample\": \"Schlei_S22\", \"polymer_type\": \"Polyethylene\", \"Frequency\": 10, \"Mass\": 0.06600000000000002, \"GPS_LONs\": 9.768869999999998, \"GPS_LATs\": 54.56009999999999, \"Split\": 1.0, \"Concentration\": 152.0}, {\"Sample\": \"Schlei_S22\", \"polymer_type\": \"Polypropylene\", \"Frequency\": 15, \"Mass\": 0.06600000000000003, \"GPS_LONs\": 9.768869999999996, \"GPS_LATs\": 54.560100000000006, \"Split\": 1.0, \"Concentration\": 227.0}, {\"Sample\": \"Schlei_S22\", \"polymer_type\": \"Polystyrene\", \"Frequency\": 3, \"Mass\": 0.066, \"GPS_LONs\": 9.76887, \"GPS_LATs\": 54.5601, \"Split\": 1.0, \"Concentration\": 45.0}, {\"Sample\": \"Schlei_S22\", \"polymer_type\": \"Unknown\", \"Frequency\": 1, \"Mass\": 0.066, \"GPS_LONs\": 9.76887, \"GPS_LATs\": 54.5601, \"Split\": 1.0, \"Concentration\": 15.0}, {\"Sample\": \"Schlei_S23\", \"polymer_type\": \"Epoxy resin\", \"Frequency\": 1, \"Mass\": 0.093, \"GPS_LONs\": 9.78108, \"GPS_LATs\": 54.5722, \"Split\": 1.0, \"Concentration\": 11.0}, {\"Sample\": \"Schlei_S23\", \"polymer_type\": \"Poly (ethylene terephthalate)\", \"Frequency\": 45, \"Mass\": 0.09299999999999999, \"GPS_LONs\": 9.78107999999999, \"GPS_LATs\": 54.572200000000024, \"Split\": 1.0, \"Concentration\": 484.0}, {\"Sample\": \"Schlei_S23\", \"polymer_type\": \"Poly (methyl methacrylate)\", \"Frequency\": 1, \"Mass\": 0.093, \"GPS_LONs\": 9.78108, \"GPS_LATs\": 54.5722, \"Split\": 1.0, \"Concentration\": 11.0}, {\"Sample\": \"Schlei_S23\", \"polymer_type\": \"Poly (vinyl chloride)\", \"Frequency\": 1, \"Mass\": 0.093, \"GPS_LONs\": 9.78108, \"GPS_LATs\": 54.5722, \"Split\": 1.0, \"Concentration\": 11.0}, {\"Sample\": \"Schlei_S23\", \"polymer_type\": \"Polyamide \", \"Frequency\": 1, \"Mass\": 0.093, \"GPS_LONs\": 9.78108, \"GPS_LATs\": 54.5722, \"Split\": 1.0, \"Concentration\": 11.0}, {\"Sample\": \"Schlei_S23\", \"polymer_type\": \"Polycaprolacton\", \"Frequency\": 1, \"Mass\": 0.093, \"GPS_LONs\": 9.78108, \"GPS_LATs\": 54.5722, \"Split\": 1.0, \"Concentration\": 11.0}, {\"Sample\": \"Schlei_S23\", \"polymer_type\": \"Polycarbonate\", \"Frequency\": 1, \"Mass\": 0.093, \"GPS_LONs\": 9.78108, \"GPS_LATs\": 54.5722, \"Split\": 1.0, \"Concentration\": 11.0}, {\"Sample\": \"Schlei_S23\", \"polymer_type\": \"Polyethylene\", \"Frequency\": 45, \"Mass\": 0.09299999999999999, \"GPS_LONs\": 9.78107999999999, \"GPS_LATs\": 54.572200000000024, \"Split\": 1.0, \"Concentration\": 484.0}, {\"Sample\": \"Schlei_S23\", \"polymer_type\": \"Polypropylene\", \"Frequency\": 43, \"Mass\": 0.09299999999999999, \"GPS_LONs\": 9.781079999999992, \"GPS_LATs\": 54.572200000000024, \"Split\": 1.0, \"Concentration\": 462.0}, {\"Sample\": \"Schlei_S23\", \"polymer_type\": \"Polystyrene\", \"Frequency\": 18, \"Mass\": 0.09299999999999999, \"GPS_LONs\": 9.781080000000001, \"GPS_LATs\": 54.57219999999998, \"Split\": 1.0, \"Concentration\": 194.0}, {\"Sample\": \"Schlei_S23\", \"polymer_type\": \"Polyurethane \", \"Frequency\": 1, \"Mass\": 0.093, \"GPS_LONs\": 9.78108, \"GPS_LATs\": 54.5722, \"Split\": 1.0, \"Concentration\": 11.0}, {\"Sample\": \"Schlei_S23\", \"polymer_type\": \"Styrene-butadiene-styrene block copolymer\", \"Frequency\": 1, \"Mass\": 0.093, \"GPS_LONs\": 9.78108, \"GPS_LATs\": 54.5722, \"Split\": 1.0, \"Concentration\": 11.0}, {\"Sample\": \"Schlei_S23\", \"polymer_type\": \"Unknown\", \"Frequency\": 3, \"Mass\": 0.09300000000000001, \"GPS_LONs\": 9.78108, \"GPS_LATs\": 54.5722, \"Split\": 1.0, \"Concentration\": 32.0}, {\"Sample\": \"Schlei_S24\", \"polymer_type\": \"Poly (ethylene terephthalate)\", \"Frequency\": 5, \"Mass\": 0.188, \"GPS_LONs\": 9.81235, \"GPS_LATs\": 54.577, \"Split\": 0.5, \"Concentration\": 53.0}, {\"Sample\": \"Schlei_S24\", \"polymer_type\": \"Poly (methyl methacrylate)\", \"Frequency\": 2, \"Mass\": 0.188, \"GPS_LONs\": 9.81235, \"GPS_LATs\": 54.577, \"Split\": 0.5, \"Concentration\": 21.0}, {\"Sample\": \"Schlei_S24\", \"polymer_type\": \"Polyethylene\", \"Frequency\": 1, \"Mass\": 0.188, \"GPS_LONs\": 9.81235, \"GPS_LATs\": 54.577, \"Split\": 0.5, \"Concentration\": 11.0}, {\"Sample\": \"Schlei_S24\", \"polymer_type\": \"Polypropylene\", \"Frequency\": 21, \"Mass\": 0.18800000000000006, \"GPS_LONs\": 9.812350000000002, \"GPS_LATs\": 54.577, \"Split\": 0.5, \"Concentration\": 223.0}, {\"Sample\": \"Schlei_S24\", \"polymer_type\": \"Polystyrene\", \"Frequency\": 4, \"Mass\": 0.188, \"GPS_LONs\": 9.81235, \"GPS_LATs\": 54.577, \"Split\": 0.5, \"Concentration\": 43.0}, {\"Sample\": \"Schlei_S25\", \"polymer_type\": \"Acrylic resin\", \"Frequency\": 1, \"Mass\": 0.13, \"GPS_LONs\": 9.88715, \"GPS_LATs\": 54.6143, \"Split\": 1.0, \"Concentration\": 8.0}, {\"Sample\": \"Schlei_S25\", \"polymer_type\": \"Epoxy resin\", \"Frequency\": 3, \"Mass\": 0.13, \"GPS_LONs\": 9.88715, \"GPS_LATs\": 54.61429999999999, \"Split\": 1.0, \"Concentration\": 23.0}, {\"Sample\": \"Schlei_S25\", \"polymer_type\": \"Poly (ethylene terephthalate)\", \"Frequency\": 88, \"Mass\": 0.13000000000000017, \"GPS_LONs\": 9.887150000000013, \"GPS_LATs\": 54.61430000000009, \"Split\": 1.0, \"Concentration\": 677.0}, {\"Sample\": \"Schlei_S25\", \"polymer_type\": \"Poly (methyl methacrylate)\", \"Frequency\": 1, \"Mass\": 0.13, \"GPS_LONs\": 9.88715, \"GPS_LATs\": 54.6143, \"Split\": 1.0, \"Concentration\": 8.0}, {\"Sample\": \"Schlei_S25\", \"polymer_type\": \"Poly (vinyl chloride)\", \"Frequency\": 6, \"Mass\": 0.13, \"GPS_LONs\": 9.88715, \"GPS_LATs\": 54.61430000000001, \"Split\": 1.0, \"Concentration\": 46.0}, {\"Sample\": \"Schlei_S25\", \"polymer_type\": \"Polyethylene\", \"Frequency\": 28, \"Mass\": 0.12999999999999992, \"GPS_LONs\": 9.88715, \"GPS_LATs\": 54.61429999999997, \"Split\": 1.0, \"Concentration\": 215.0}, {\"Sample\": \"Schlei_S25\", \"polymer_type\": \"Polypropylene\", \"Frequency\": 64, \"Mass\": 0.12999999999999995, \"GPS_LONs\": 9.88715000000001, \"GPS_LATs\": 54.61430000000006, \"Split\": 1.0, \"Concentration\": 492.0}, {\"Sample\": \"Schlei_S25\", \"polymer_type\": \"Polystyrene\", \"Frequency\": 24, \"Mass\": 0.12999999999999992, \"GPS_LONs\": 9.887149999999997, \"GPS_LATs\": 54.61429999999998, \"Split\": 1.0, \"Concentration\": 185.0}, {\"Sample\": \"Schlei_S25\", \"polymer_type\": \"Silicone-rubber\", \"Frequency\": 1, \"Mass\": 0.13, \"GPS_LONs\": 9.88715, \"GPS_LATs\": 54.6143, \"Split\": 1.0, \"Concentration\": 8.0}, {\"Sample\": \"Schlei_S25\", \"polymer_type\": \"Styrene-butadiene-styrene block copolymer\", \"Frequency\": 3, \"Mass\": 0.13, \"GPS_LONs\": 9.88715, \"GPS_LATs\": 54.61429999999999, \"Split\": 1.0, \"Concentration\": 23.0}, {\"Sample\": \"Schlei_S25\", \"polymer_type\": \"Unknown\", \"Frequency\": 4, \"Mass\": 0.13, \"GPS_LONs\": 9.88715, \"GPS_LATs\": 54.6143, \"Split\": 1.0, \"Concentration\": 31.0}, {\"Sample\": \"Schlei_S26\", \"polymer_type\": \"Acrylic resin\", \"Frequency\": 1, \"Mass\": 0.25, \"GPS_LONs\": 9.92367, \"GPS_LATs\": 54.6247, \"Split\": 1.0, \"Concentration\": 4.0}, {\"Sample\": \"Schlei_S26\", \"polymer_type\": \"Poly (ethylene terephthalate)\", \"Frequency\": 7, \"Mass\": 0.25, \"GPS_LONs\": 9.92367, \"GPS_LATs\": 54.624700000000004, \"Split\": 1.0, \"Concentration\": 28.0}, {\"Sample\": \"Schlei_S26\", \"polymer_type\": \"Poly (methyl methacrylate)\", \"Frequency\": 1, \"Mass\": 0.25, \"GPS_LONs\": 9.92367, \"GPS_LATs\": 54.6247, \"Split\": 1.0, \"Concentration\": 4.0}, {\"Sample\": \"Schlei_S26\", \"polymer_type\": \"Poly (vinyl chloride)\", \"Frequency\": 2, \"Mass\": 0.25, \"GPS_LONs\": 9.92367, \"GPS_LATs\": 54.6247, \"Split\": 1.0, \"Concentration\": 8.0}, {\"Sample\": \"Schlei_S26\", \"polymer_type\": \"Polypropylene\", \"Frequency\": 5, \"Mass\": 0.25, \"GPS_LONs\": 9.92367, \"GPS_LATs\": 54.6247, \"Split\": 1.0, \"Concentration\": 20.0}, {\"Sample\": \"Schlei_S26\", \"polymer_type\": \"Polystyrene\", \"Frequency\": 2, \"Mass\": 0.25, \"GPS_LONs\": 9.92367, \"GPS_LATs\": 54.6247, \"Split\": 1.0, \"Concentration\": 8.0}, {\"Sample\": \"Schlei_S27\", \"polymer_type\": \"Epoxy resin\", \"Frequency\": 3, \"Mass\": 0.25, \"GPS_LONs\": 9.9332, \"GPS_LATs\": 54.6359, \"Split\": 0.25, \"Concentration\": 48.0}, {\"Sample\": \"Schlei_S27\", \"polymer_type\": \"Poly (ethylene terephthalate)\", \"Frequency\": 217, \"Mass\": 0.25, \"GPS_LONs\": 9.933199999999957, \"GPS_LATs\": 54.6358999999999, \"Split\": 0.25, \"Concentration\": 3472.0}, {\"Sample\": \"Schlei_S27\", \"polymer_type\": \"Poly (vinyl chloride)\", \"Frequency\": 8, \"Mass\": 0.25, \"GPS_LONs\": 9.9332, \"GPS_LATs\": 54.6359, \"Split\": 0.25, \"Concentration\": 128.0}, {\"Sample\": \"Schlei_S27\", \"polymer_type\": \"Polyethylene\", \"Frequency\": 1, \"Mass\": 0.25, \"GPS_LONs\": 9.9332, \"GPS_LATs\": 54.6359, \"Split\": 0.25, \"Concentration\": 16.0}, {\"Sample\": \"Schlei_S27\", \"polymer_type\": \"Polypropylene\", \"Frequency\": 37, \"Mass\": 0.25, \"GPS_LONs\": 9.9332, \"GPS_LATs\": 54.6359, \"Split\": 0.25, \"Concentration\": 592.0}, {\"Sample\": \"Schlei_S27\", \"polymer_type\": \"Polystyrene\", \"Frequency\": 80, \"Mass\": 0.25, \"GPS_LONs\": 9.93319999999998, \"GPS_LATs\": 54.63590000000012, \"Split\": 0.25, \"Concentration\": 1280.0}, {\"Sample\": \"Schlei_S3\", \"polymer_type\": \"Epoxy resin\", \"Frequency\": 3, \"Mass\": 0.06, \"GPS_LONs\": 9.60065, \"GPS_LATs\": 54.5087, \"Split\": 0.5, \"Concentration\": 100.0}, {\"Sample\": \"Schlei_S3\", \"polymer_type\": \"Poly (ethylene terephthalate)\", \"Frequency\": 97, \"Mass\": 0.059999999999999915, \"GPS_LONs\": 9.600649999999982, \"GPS_LATs\": 54.508700000000026, \"Split\": 0.5, \"Concentration\": 3233.0}, {\"Sample\": \"Schlei_S3\", \"polymer_type\": \"Poly (methyl methacrylate)\", \"Frequency\": 2, \"Mass\": 0.06, \"GPS_LONs\": 9.60065, \"GPS_LATs\": 54.5087, \"Split\": 0.5, \"Concentration\": 67.0}, {\"Sample\": \"Schlei_S3\", \"polymer_type\": \"Polyethylene\", \"Frequency\": 29, \"Mass\": 0.06000000000000004, \"GPS_LONs\": 9.600649999999998, \"GPS_LATs\": 54.50870000000002, \"Split\": 0.5, \"Concentration\": 967.0}, {\"Sample\": \"Schlei_S3\", \"polymer_type\": \"Polyoxymethylene\", \"Frequency\": 2, \"Mass\": 0.06, \"GPS_LONs\": 9.60065, \"GPS_LATs\": 54.5087, \"Split\": 0.5, \"Concentration\": 67.0}, {\"Sample\": \"Schlei_S3\", \"polymer_type\": \"Polypropylene\", \"Frequency\": 111, \"Mass\": 0.05999999999999987, \"GPS_LONs\": 9.600649999999984, \"GPS_LATs\": 54.50870000000006, \"Split\": 0.5, \"Concentration\": 3700.0}, {\"Sample\": \"Schlei_S3\", \"polymer_type\": \"Polystyrene\", \"Frequency\": 94, \"Mass\": 0.05999999999999992, \"GPS_LONs\": 9.600649999999982, \"GPS_LATs\": 54.50870000000002, \"Split\": 0.5, \"Concentration\": 3133.0}, {\"Sample\": \"Schlei_S3\", \"polymer_type\": \"Silicone-rubber\", \"Frequency\": 2, \"Mass\": 0.06, \"GPS_LONs\": 9.60065, \"GPS_LATs\": 54.5087, \"Split\": 0.5, \"Concentration\": 67.0}, {\"Sample\": \"Schlei_S3\", \"polymer_type\": \"Styrene-butadiene-styrene block copolymer\", \"Frequency\": 1, \"Mass\": 0.06, \"GPS_LONs\": 9.60065, \"GPS_LATs\": 54.5087, \"Split\": 0.5, \"Concentration\": 33.0}, {\"Sample\": \"Schlei_S30\", \"polymer_type\": \"Acrylic resin\", \"Frequency\": 4, \"Mass\": 0.203, \"GPS_LONs\": 9.94452, \"GPS_LATs\": 54.672, \"Split\": 1.0, \"Concentration\": 20.0}, {\"Sample\": \"Schlei_S30\", \"polymer_type\": \"Epoxy resin\", \"Frequency\": 3, \"Mass\": 0.20299999999999999, \"GPS_LONs\": 9.94452, \"GPS_LATs\": 54.672, \"Split\": 1.0, \"Concentration\": 15.0}, {\"Sample\": \"Schlei_S30\", \"polymer_type\": \"Poly (ethylene terephthalate)\", \"Frequency\": 67, \"Mass\": 0.20299999999999982, \"GPS_LONs\": 9.944520000000008, \"GPS_LATs\": 54.67200000000002, \"Split\": 1.0, \"Concentration\": 330.0}, {\"Sample\": \"Schlei_S30\", \"polymer_type\": \"Poly (vinyl chloride)\", \"Frequency\": 3, \"Mass\": 0.20299999999999999, \"GPS_LONs\": 9.94452, \"GPS_LATs\": 54.672, \"Split\": 1.0, \"Concentration\": 15.0}, {\"Sample\": \"Schlei_S30\", \"polymer_type\": \"Polyethylene\", \"Frequency\": 3, \"Mass\": 0.20299999999999999, \"GPS_LONs\": 9.94452, \"GPS_LATs\": 54.672, \"Split\": 1.0, \"Concentration\": 15.0}, {\"Sample\": \"Schlei_S30\", \"polymer_type\": \"Polypropylene\", \"Frequency\": 48, \"Mass\": 0.20299999999999999, \"GPS_LONs\": 9.944520000000008, \"GPS_LATs\": 54.67200000000002, \"Split\": 1.0, \"Concentration\": 236.0}, {\"Sample\": \"Schlei_S30\", \"polymer_type\": \"Polystyrene\", \"Frequency\": 8, \"Mass\": 0.20300000000000004, \"GPS_LONs\": 9.944519999999999, \"GPS_LATs\": 54.67200000000001, \"Split\": 1.0, \"Concentration\": 39.0}, {\"Sample\": \"Schlei_S30\", \"polymer_type\": \"Unknown\", \"Frequency\": 2, \"Mass\": 0.203, \"GPS_LONs\": 9.94452, \"GPS_LATs\": 54.672, \"Split\": 1.0, \"Concentration\": 10.0}, {\"Sample\": \"Schlei_S31\", \"polymer_type\": \"Poly (ethylene terephthalate)\", \"Frequency\": 1, \"Mass\": 0.078, \"GPS_LONs\": 10.0186, \"GPS_LATs\": 54.6757, \"Split\": 1.0, \"Concentration\": 13.0}, {\"Sample\": \"Schlei_S31\", \"polymer_type\": \"Poly (methyl methacrylate)\", \"Frequency\": 1, \"Mass\": 0.078, \"GPS_LONs\": 10.0186, \"GPS_LATs\": 54.6757, \"Split\": 1.0, \"Concentration\": 13.0}, {\"Sample\": \"Schlei_S31\", \"polymer_type\": \"Polyethylene\", \"Frequency\": 2, \"Mass\": 0.078, \"GPS_LONs\": 10.0186, \"GPS_LATs\": 54.6757, \"Split\": 1.0, \"Concentration\": 26.0}, {\"Sample\": \"Schlei_S31\", \"polymer_type\": \"Polypropylene\", \"Frequency\": 3, \"Mass\": 0.078, \"GPS_LONs\": 10.0186, \"GPS_LATs\": 54.6757, \"Split\": 1.0, \"Concentration\": 38.0}, {\"Sample\": \"Schlei_S31\", \"polymer_type\": \"Polystyrene\", \"Frequency\": 2, \"Mass\": 0.078, \"GPS_LONs\": 10.0186, \"GPS_LATs\": 54.6757, \"Split\": 1.0, \"Concentration\": 26.0}, {\"Sample\": \"Schlei_S31\", \"polymer_type\": \"Unknown\", \"Frequency\": 2, \"Mass\": 0.078, \"GPS_LONs\": 10.0186, \"GPS_LATs\": 54.6757, \"Split\": 1.0, \"Concentration\": 26.0}, {\"Sample\": \"Schlei_S5\", \"polymer_type\": \"Poly (ethylene terephthalate)\", \"Frequency\": 1, \"Mass\": 0.25, \"GPS_LONs\": 9.62658, \"GPS_LATs\": 54.5299, \"Split\": 1.0, \"Concentration\": 4.0}, {\"Sample\": \"Schlei_S5\", \"polymer_type\": \"Polyethylene\", \"Frequency\": 1, \"Mass\": 0.25, \"GPS_LONs\": 9.62658, \"GPS_LATs\": 54.5299, \"Split\": 1.0, \"Concentration\": 4.0}, {\"Sample\": \"Schlei_S5\", \"polymer_type\": \"Polypropylene\", \"Frequency\": 5, \"Mass\": 0.25, \"GPS_LONs\": 9.62658, \"GPS_LATs\": 54.5299, \"Split\": 1.0, \"Concentration\": 20.0}, {\"Sample\": \"Schlei_S5\", \"polymer_type\": \"Polystyrene\", \"Frequency\": 2, \"Mass\": 0.25, \"GPS_LONs\": 9.62658, \"GPS_LATs\": 54.5299, \"Split\": 1.0, \"Concentration\": 8.0}, {\"Sample\": \"Schlei_S8\", \"polymer_type\": \"Acrylic resin\", \"Frequency\": 4, \"Mass\": 0.105, \"GPS_LONs\": 9.60645, \"GPS_LATs\": 54.5253, \"Split\": 0.25, \"Concentration\": 152.0}, {\"Sample\": \"Schlei_S8\", \"polymer_type\": \"Acrylnitril-Butadien-Styrol-Copolymer\", \"Frequency\": 8, \"Mass\": 0.105, \"GPS_LONs\": 9.60645, \"GPS_LATs\": 54.52530000000001, \"Split\": 0.25, \"Concentration\": 305.0}, {\"Sample\": \"Schlei_S8\", \"polymer_type\": \"Epoxy resin\", \"Frequency\": 11, \"Mass\": 0.105, \"GPS_LONs\": 9.606449999999999, \"GPS_LATs\": 54.52530000000001, \"Split\": 0.25, \"Concentration\": 419.0}, {\"Sample\": \"Schlei_S8\", \"polymer_type\": \"Ethylen-Vinylacetat-Copolymer\", \"Frequency\": 3, \"Mass\": 0.105, \"GPS_LONs\": 9.60645, \"GPS_LATs\": 54.525299999999994, \"Split\": 0.25, \"Concentration\": 114.0}, {\"Sample\": \"Schlei_S8\", \"polymer_type\": \"Poly (ethylene terephthalate)\", \"Frequency\": 1344, \"Mass\": 0.10500000000000023, \"GPS_LONs\": 9.606449999999855, \"GPS_LATs\": 54.52530000000006, \"Split\": 0.25, \"Concentration\": 51200.0}, {\"Sample\": \"Schlei_S8\", \"polymer_type\": \"Poly (methyl methacrylate)\", \"Frequency\": 48, \"Mass\": 0.10500000000000008, \"GPS_LONs\": 9.606449999999997, \"GPS_LATs\": 54.52529999999996, \"Split\": 0.25, \"Concentration\": 1829.0}, {\"Sample\": \"Schlei_S8\", \"polymer_type\": \"Poly (vinyl chloride)\", \"Frequency\": 40, \"Mass\": 0.10500000000000001, \"GPS_LONs\": 9.606449999999997, \"GPS_LATs\": 54.525299999999994, \"Split\": 0.25, \"Concentration\": 1524.0}, {\"Sample\": \"Schlei_S8\", \"polymer_type\": \"Polycarbonate\", \"Frequency\": 4, \"Mass\": 0.105, \"GPS_LONs\": 9.60645, \"GPS_LATs\": 54.5253, \"Split\": 0.25, \"Concentration\": 152.0}, {\"Sample\": \"Schlei_S8\", \"polymer_type\": \"Polyethylene\", \"Frequency\": 105, \"Mass\": 0.10500000000000026, \"GPS_LONs\": 9.606449999999997, \"GPS_LATs\": 54.525299999999994, \"Split\": 0.25, \"Concentration\": 4000.0}, {\"Sample\": \"Schlei_S8\", \"polymer_type\": \"Polypropylene\", \"Frequency\": 353, \"Mass\": 0.1049999999999999, \"GPS_LONs\": 9.606450000000086, \"GPS_LATs\": 54.525299999999916, \"Split\": 0.25, \"Concentration\": 13448.0}, {\"Sample\": \"Schlei_S8\", \"polymer_type\": \"Polysiloxane\", \"Frequency\": 4, \"Mass\": 0.105, \"GPS_LONs\": 9.60645, \"GPS_LATs\": 54.5253, \"Split\": 0.25, \"Concentration\": 152.0}, {\"Sample\": \"Schlei_S8\", \"polymer_type\": \"Polystyrene\", \"Frequency\": 380, \"Mass\": 0.10499999999999968, \"GPS_LONs\": 9.606450000000097, \"GPS_LATs\": 54.5253, \"Split\": 0.25, \"Concentration\": 14476.0}, {\"Sample\": \"Schlei_S8\", \"polymer_type\": \"Silicone-rubber\", \"Frequency\": 4, \"Mass\": 0.105, \"GPS_LONs\": 9.60645, \"GPS_LATs\": 54.5253, \"Split\": 0.25, \"Concentration\": 152.0}, {\"Sample\": \"Schlei_S8\", \"polymer_type\": \"Unknown\", \"Frequency\": 4, \"Mass\": 0.105, \"GPS_LONs\": 9.60645, \"GPS_LATs\": 54.5253, \"Split\": 0.25, \"Concentration\": 152.0}]}}, {\"mode\": \"vega-lite\"});\n</script>",
      "text/plain": "alt.Chart(...)"
     },
     "execution_count": 5,
     "metadata": {},
     "output_type": "execute_result"
    }
   ],
   "source": [
    "#make plot for rel. Polymer type distribution per station\n",
    "\n",
    "Sample_order = ['Schlei_S1_15cm','Schlei_S2','Schlei_S3','Schlei_S5','Schlei_S8', 'Schlei_S10','Schlei_S10_15cm', 'Schlei_S11','Schlei_S13', 'Schlei_S14', 'Schlei_S15',\n",
    "       'Schlei_S17', 'Schlei_S19', 'Schlei_S22', 'Schlei_S23', 'Schlei_S24', 'Schlei_S25','Schlei_S26','Schlei_S27', 'Schlei_S30', 'Schlei_S31']\n",
    "\n",
    "selection = alt.selection_multi(fields=['polymer_type'], bind='legend')\n",
    "\n",
    "Poly_Dist = alt.Chart(mp_poly_station).mark_bar().encode(\n",
    "    x= alt.X('Sample',sort = Sample_order),#'polymer_type' == 'Polyamide',# , #'polymer_type' == \"Polyamide\", #df_new = df[df['Pid'] == 'p01']\n",
    "    y= alt.Y('Concentration'),\n",
    "    color= 'polymer_type',\n",
    "    tooltip = ['polymer_type', 'Concentration']\n",
    ").add_selection(\n",
    "    selection\n",
    ").transform_filter(\n",
    "    selection\n",
    "#).interactive(\n",
    ")\n",
    "\n",
    "Poly_Dist #| Poly_Dist.encode(y=alt.Y('Concentration',stack='normalize'))\n",
    "\n",
    "## look at specific polymer types"
   ]
  },
  {
   "cell_type": "code",
   "execution_count": 7,
   "id": "7ef6516f",
   "metadata": {
    "tags": []
   },
   "outputs": [
    {
     "ename": "TypeError",
     "evalue": "Can only merge Series or DataFrame objects, a <class 'list'> was passed",
     "output_type": "error",
     "traceback": [
      "\u001B[0;31m---------------------------------------------------------------------------\u001B[0m",
      "\u001B[0;31mTypeError\u001B[0m                                 Traceback (most recent call last)",
      "\u001B[0;32m/tmp/ipykernel_973256/2152257025.py\u001B[0m in \u001B[0;36m<module>\u001B[0;34m\u001B[0m\n\u001B[1;32m     13\u001B[0m \u001B[0;31m#merge with mp per station\u001B[0m\u001B[0;34m\u001B[0m\u001B[0;34m\u001B[0m\u001B[0;34m\u001B[0m\u001B[0m\n\u001B[1;32m     14\u001B[0m \u001B[0mmp_sedStats\u001B[0m \u001B[0;34m=\u001B[0m \u001B[0mpd\u001B[0m\u001B[0;34m.\u001B[0m\u001B[0mmerge\u001B[0m\u001B[0;34m(\u001B[0m\u001B[0mmp_station\u001B[0m\u001B[0;34m,\u001B[0m\u001B[0mslogs\u001B[0m\u001B[0;34m.\u001B[0m\u001B[0mreset_index\u001B[0m\u001B[0;34m(\u001B[0m\u001B[0;34m)\u001B[0m\u001B[0;34m,\u001B[0m\u001B[0mon\u001B[0m\u001B[0;34m=\u001B[0m\u001B[0;34m[\u001B[0m\u001B[0;34m'Sample'\u001B[0m\u001B[0;34m]\u001B[0m\u001B[0;34m,\u001B[0m \u001B[0mhow\u001B[0m\u001B[0;34m=\u001B[0m\u001B[0;34m'left'\u001B[0m\u001B[0;34m)\u001B[0m\u001B[0;34m\u001B[0m\u001B[0;34m\u001B[0m\u001B[0m\n\u001B[0;32m---> 15\u001B[0;31m mp_sedStats = pd.merge(mp_sedStats, [sed_d50.reset_index(),\n\u001B[0m\u001B[1;32m     16\u001B[0m                                          \u001B[0msed_OM\u001B[0m\u001B[0;34m.\u001B[0m\u001B[0mreset_index\u001B[0m\u001B[0;34m(\u001B[0m\u001B[0;34m)\u001B[0m\u001B[0;34m,\u001B[0m\u001B[0;34m\u001B[0m\u001B[0;34m\u001B[0m\u001B[0m\n\u001B[1;32m     17\u001B[0m                                          Dist_WWTP.reset_index()], on=['Sample'], how='left')\n",
      "\u001B[0;32m~/.local/share/virtualenvs/MPSchleiSediments-bSFBF4Xj/lib/python3.9/site-packages/pandas/core/reshape/merge.py\u001B[0m in \u001B[0;36mmerge\u001B[0;34m(left, right, how, on, left_on, right_on, left_index, right_index, sort, suffixes, copy, indicator, validate)\u001B[0m\n\u001B[1;32m     72\u001B[0m     \u001B[0mvalidate\u001B[0m\u001B[0;34m=\u001B[0m\u001B[0;32mNone\u001B[0m\u001B[0;34m,\u001B[0m\u001B[0;34m\u001B[0m\u001B[0;34m\u001B[0m\u001B[0m\n\u001B[1;32m     73\u001B[0m ) -> \"DataFrame\":\n\u001B[0;32m---> 74\u001B[0;31m     op = _MergeOperation(\n\u001B[0m\u001B[1;32m     75\u001B[0m         \u001B[0mleft\u001B[0m\u001B[0;34m,\u001B[0m\u001B[0;34m\u001B[0m\u001B[0;34m\u001B[0m\u001B[0m\n\u001B[1;32m     76\u001B[0m         \u001B[0mright\u001B[0m\u001B[0;34m,\u001B[0m\u001B[0;34m\u001B[0m\u001B[0;34m\u001B[0m\u001B[0m\n",
      "\u001B[0;32m~/.local/share/virtualenvs/MPSchleiSediments-bSFBF4Xj/lib/python3.9/site-packages/pandas/core/reshape/merge.py\u001B[0m in \u001B[0;36m__init__\u001B[0;34m(self, left, right, how, on, left_on, right_on, axis, left_index, right_index, sort, suffixes, copy, indicator, validate)\u001B[0m\n\u001B[1;32m    597\u001B[0m     ):\n\u001B[1;32m    598\u001B[0m         \u001B[0m_left\u001B[0m \u001B[0;34m=\u001B[0m \u001B[0m_validate_operand\u001B[0m\u001B[0;34m(\u001B[0m\u001B[0mleft\u001B[0m\u001B[0;34m)\u001B[0m\u001B[0;34m\u001B[0m\u001B[0;34m\u001B[0m\u001B[0m\n\u001B[0;32m--> 599\u001B[0;31m         \u001B[0m_right\u001B[0m \u001B[0;34m=\u001B[0m \u001B[0m_validate_operand\u001B[0m\u001B[0;34m(\u001B[0m\u001B[0mright\u001B[0m\u001B[0;34m)\u001B[0m\u001B[0;34m\u001B[0m\u001B[0;34m\u001B[0m\u001B[0m\n\u001B[0m\u001B[1;32m    600\u001B[0m         \u001B[0mself\u001B[0m\u001B[0;34m.\u001B[0m\u001B[0mleft\u001B[0m \u001B[0;34m=\u001B[0m \u001B[0mself\u001B[0m\u001B[0;34m.\u001B[0m\u001B[0morig_left\u001B[0m \u001B[0;34m=\u001B[0m \u001B[0m_left\u001B[0m\u001B[0;34m\u001B[0m\u001B[0;34m\u001B[0m\u001B[0m\n\u001B[1;32m    601\u001B[0m         \u001B[0mself\u001B[0m\u001B[0;34m.\u001B[0m\u001B[0mright\u001B[0m \u001B[0;34m=\u001B[0m \u001B[0mself\u001B[0m\u001B[0;34m.\u001B[0m\u001B[0morig_right\u001B[0m \u001B[0;34m=\u001B[0m \u001B[0m_right\u001B[0m\u001B[0;34m\u001B[0m\u001B[0;34m\u001B[0m\u001B[0m\n",
      "\u001B[0;32m~/.local/share/virtualenvs/MPSchleiSediments-bSFBF4Xj/lib/python3.9/site-packages/pandas/core/reshape/merge.py\u001B[0m in \u001B[0;36m_validate_operand\u001B[0;34m(obj)\u001B[0m\n\u001B[1;32m   2146\u001B[0m             \u001B[0;32mreturn\u001B[0m \u001B[0mobj\u001B[0m\u001B[0;34m.\u001B[0m\u001B[0mto_frame\u001B[0m\u001B[0;34m(\u001B[0m\u001B[0;34m)\u001B[0m\u001B[0;34m\u001B[0m\u001B[0;34m\u001B[0m\u001B[0m\n\u001B[1;32m   2147\u001B[0m     \u001B[0;32melse\u001B[0m\u001B[0;34m:\u001B[0m\u001B[0;34m\u001B[0m\u001B[0;34m\u001B[0m\u001B[0m\n\u001B[0;32m-> 2148\u001B[0;31m         raise TypeError(\n\u001B[0m\u001B[1;32m   2149\u001B[0m             \u001B[0;34mf\"Can only merge Series or DataFrame objects, a {type(obj)} was passed\"\u001B[0m\u001B[0;34m\u001B[0m\u001B[0;34m\u001B[0m\u001B[0m\n\u001B[1;32m   2150\u001B[0m         )\n",
      "\u001B[0;31mTypeError\u001B[0m: Can only merge Series or DataFrame objects, a <class 'list'> was passed"
     ]
    }
   ],
   "source": [
    "#import d50 values \n",
    "sed_d50 = pd.read_csv('../csv/Schlei_Sed_D50_new.csv',index_col=0)\n",
    "sed_63 = pd.read_csv('../csv/Schlei_Sed_D50_new.csv',index_col=0)\n",
    "\n",
    "#import organic matter size, TOC, Hg data\n",
    "sed_OM = pd.read_csv('../csv/Schlei_OM.csv',index_col=0)\n",
    "\n",
    "#import sampling log data\n",
    "slogs= pd.read_csv('../csv/Schlei_sed_sampling_log.csv',index_col=0)\n",
    "\n",
    "Dist_WWTP = pd.read_csv('../csv/Schlei_Sed_Dist_WWTP.csv',index_col=0)\n",
    "\n",
    "#merge with mp per station\n",
    "mp_sedStats = pd.merge(mp_station,slogs.reset_index(),on=['Sample'], how='left')\n",
    "mp_sedStats = pd.merge(mp_sedStats,sed_d50.reset_index(),on=['Sample'], how='left')\n",
    "mp_sedStats = pd.merge(mp_sedStats,sed_OM.reset_index(),on=['Sample'], how='left')\n",
    "mp_sedStats = pd.merge(mp_sedStats,Dist_WWTP.reset_index(),on=['Sample'], how='left')\n",
    "\n",
    "mp_sedStats.to_csv('../csv/MP_Stats_SchleiSediments.csv')\n",
    "mp_sedStats.head(2)"
   ]
  },
  {
   "cell_type": "code",
   "execution_count": null,
   "id": "19d5f984",
   "metadata": {
    "tags": []
   },
   "outputs": [],
   "source": [
    "# dictionary\n",
    "Regio_Sep =  {'Schlei_S1_15cm': 'inner',\n",
    "              'Schlei_S2': 'inner',\n",
    "              'Schlei_S3': 'inner',\n",
    "              'Schlei_S5': 'river',\n",
    "              'Schlei_S8': 'inner',\n",
    "              'Schlei_S10': 'inner',\n",
    "              'Schlei_S10_15cm': 'inner',\n",
    "              'Schlei_S11': 'inner',\n",
    "              'Schlei_S13': 'inner',\n",
    "              'Schlei_S14': 'outlier',\n",
    "              'Schlei_S15': 'inner',\n",
    "              'Schlei_S17': 'inner',\n",
    "              'Schlei_S19': 'outlier',\n",
    "              'Schlei_S22': 'outer',\n",
    "              'Schlei_S23': 'outer',\n",
    "              'Schlei_S24': 'outer', \n",
    "              'Schlei_S25': 'outer',\n",
    "              'Schlei_S26': 'outer',\n",
    "              'Schlei_S27': 'outer', \n",
    "              'Schlei_S30': 'outer', \n",
    "              'Schlei_S31': 'outer'}\n",
    "\n",
    "mp_sedStats = mp_sedStats.merge(pd.DataFrame.from_dict(Regio_Sep,orient='index',columns=['Regio_Sep']),left_on='Sample',right_index=True)\n",
    "#mp_sedStats.columns"
   ]
  },
  {
   "cell_type": "code",
   "execution_count": null,
   "id": "7ccb7a14",
   "metadata": {
    "tags": []
   },
   "outputs": [],
   "source": [
    "MP_SED_Plot = alt.Chart(mp_sedStats).mark_point().encode(\n",
    "    x='D50',\n",
    "    y= alt.Y('Concentration',scale = alt.Scale(type= 'linear')),\n",
    "    color= 'Regio_Sep',\n",
    "    tooltip='Sample'\n",
    ")\n",
    "\n",
    "Reg_Line = MP_SED_Plot.transform_regression('D50', 'Concentration',\n",
    "                                            method=\"exp\",\n",
    "                                            groupby=[\"Regio_Sep\"],\n",
    "                                           ).mark_line(color=\"red\")\n",
    "\n",
    "Reg_Params = MP_SED_Plot.transform_regression('D50', 'Concentration',\n",
    "                                              method=\"pow\",\n",
    "                                              groupby=[\"Regio_Sep\"],\n",
    "                                              params=True                                             \n",
    "    ).mark_text(align='left', lineBreak='\\n').encode(\n",
    "        x=alt.value(120),  # pixels from left\n",
    "        y=alt.value(20),  # pixels from top\n",
    "        text='params:N'\n",
    "    ).transform_calculate(\n",
    "        params='\"r² = \" + round(datum.rSquared * 100)/100 + \\\n",
    "    \"      y = \" + round(datum.coef[0] * 10)/10 + \" + e ^ (\" + round(datum.coef[1] * 10000)/10000 + \"x\" + \")\" + \\n + \" \"'\n",
    "    )\n",
    "\n",
    "#ParamsDF = altair_transform.extract_data(Reg_Params)\n",
    "\n",
    "MP_SED_Plot + Reg_Line + Reg_Params"
   ]
  },
  {
   "cell_type": "code",
   "execution_count": null,
   "id": "a50c35a5",
   "metadata": {},
   "outputs": [],
   "source": [
    "env_MP = env_MP.merge(mp_sedStats[['Sample', 'TOC', 'Regio_Sep']], on='Sample')\n",
    "env_MP.rename(columns={'TOC': 'TOCs', 'Sampling_weight_[kg]': 'Sampling_weight'}, inplace=True)\n",
    "env_MP.drop(['Site_name', 'GPS_LON', 'GPS_LAT', 'Compartment',\n",
    "                      'Contributor', 'Project', 'Size_1_µm', 'Size_2_[µm]', 'Shape', 'Colour',\n",
    "                      'polymer_type', 'library_entry', 'lab_blank_ID', 'sample_ID'], axis=1, inplace=True)"
   ]
  },
  {
   "cell_type": "code",
   "execution_count": null,
   "id": "d54fe906",
   "metadata": {},
   "outputs": [],
   "source": [
    "lower_size_limit = 0\n",
    "upper_size_limit = 1000\n",
    "\n",
    "brush = alt.selection(type='interval', encodings=['x'], resolve='global')\n",
    "\n",
    "PDFs = alt.Chart(\n",
    "    env_MP,\n",
    "#    width=100,\n",
    "#    height=80\n",
    ").transform_density(\n",
    "    'size_geom_mean', #Size_1_µm\n",
    "    extent=[lower_size_limit,upper_size_limit],\n",
    "    as_=['size','density'],\n",
    "    groupby=['Sample'],\n",
    "    steps=200,\n",
    "    bandwidth=50,\n",
    "    cumulative=False,\n",
    "    counts=False\n",
    ").mark_line().encode(\n",
    "    x='size:Q',\n",
    "    y=alt.Y('density:Q', stack=None),\n",
    "    color='Sample',\n",
    "    tooltip= ['Sample']\n",
    "#).facet(\n",
    "#    'Sample:N',\n",
    "#    columns=7\n",
    ").add_selection(\n",
    "    brush\n",
    ")\n",
    "\n",
    "MPconcTOC = alt.Chart(env_MP\n",
    ").transform_aggregate(\n",
    "    Frequency = 'count(*)',\n",
    "    Mass = 'mean(Sampling_weight)',\n",
    "    Split = 'mean(Fraction_analysed)',\n",
    "    TOC = 'mean(TOCs)',\n",
    "    groupby = ['Sample']\n",
    ").transform_calculate(\n",
    "    Conc = 'datum.Frequency / (datum.Mass * datum.Split)'\n",
    ").mark_point().encode(\n",
    "    x = 'TOC:Q',\n",
    "    y = 'Conc:Q',\n",
    "    color='Regio_Sep',\n",
    "    tooltip= ['Sample']\n",
    ").transform_filter(\n",
    "    brush\n",
    ")\n",
    "\n",
    "PDFs & MPconcTOC"
   ]
  },
  {
   "cell_type": "code",
   "execution_count": null,
   "id": "c3f65061",
   "metadata": {},
   "outputs": [],
   "source": [
    "def optimise_bandwidth(data, kernel, bandwidths=10**np.linspace(0,2,100)):\n",
    "    grid = GridSearchCV(KernelDensity(kernel=kernel),\n",
    "                        {'bandwidth': bandwidths},\n",
    "                        cv=LeaveOneOut())\n",
    "    grid.fit(data[:, None]);\n",
    "    bw = grid.best_params_['bandwidth']\n",
    "    return bw"
   ]
  },
  {
   "cell_type": "code",
   "execution_count": null,
   "id": "eac881de",
   "metadata": {},
   "outputs": [],
   "source": [
    "def calculate_kde(data, x_d=np.linspace(0,999,1000), optimise_bw=True , kernel='gaussian'):  # data should be 1D np-array, x_d is the discrete values where the probability density is evaluated, bw is the bandwidth to be used for the kernels\n",
    "    \n",
    "    bw = optimise_bandwidth(data, kernel) if optimise_bw else 50\n",
    "    \n",
    "    # instantiate and fit the KDE model\n",
    "    kde = KernelDensity(bandwidth=bw, kernel=kernel)\n",
    "    kde.fit(data[:, None])\n",
    "    # score_samples returns the log of the probability density\n",
    "    logprob = kde.score_samples(x_d[:, None])\n",
    "    kde_result = np.exp(logprob)\n",
    "    \n",
    "    return kde_result, bw\n",
    "\n",
    "#plt.fill_between(x_d, kde_result, alpha=0.5)\n",
    "#plt.plot(x, np.full_like(x, -0.001), '|k', markeredgewidth=1)\n",
    "#plt.xlim(0, 1000)"
   ]
  },
  {
   "cell_type": "code",
   "execution_count": null,
   "id": "d4de58e0",
   "metadata": {},
   "outputs": [],
   "source": [
    "#x = env_MP.loc[env_MP.Sample == 'Schlei_S10', 'size_geom_mean'].values\n",
    "\n",
    "kde_results = pd.DataFrame({'x_d': np.linspace(0,999,1000)})\n",
    "\n",
    "for SampleName, SampleGroup in env_MP.groupby(['Sample']):\n",
    "    x = SampleGroup.size_geom_mean.values\n",
    "    kde_result, bw = calculate_kde(x, optimise_bw=False)\n",
    "    \n",
    "    kde_results[SampleName] = kde_result\n",
    "    \n",
    "    print(f'{SampleName}:    bandwidth is {round(bw,2)}')"
   ]
  },
  {
   "cell_type": "code",
   "execution_count": null,
   "id": "1a10f973",
   "metadata": {},
   "outputs": [],
   "source": [
    "alt.Chart(kde_results.melt(id_vars=['x_d'])).mark_line().encode(\n",
    "    x='x_d',\n",
    "    y='value',\n",
    "    color='variable',\n",
    "    tooltip='variable'\n",
    ").interactive()"
   ]
  },
  {
   "cell_type": "code",
   "execution_count": null,
   "id": "05e3ee9d",
   "metadata": {},
   "outputs": [],
   "source": [
    "slider_low = alt.binding_range(min=0, max=20000, step=10)\n",
    "select_low = alt.selection_single(name=\"lower_size\", fields=['size_geom_mean'],\n",
    "                                  bind=slider_low, init={'size_geom_mean': 0})\n",
    "slider_up = alt.binding_range(min=0, max=20000, step=10)\n",
    "select_up = alt.selection_single(name=\"upper_size\", fields=['size_geom_mean'],\n",
    "                                  bind=slider_up, init={'size_geom_mean': 20000})\n",
    "\n",
    "MPconcTOC = alt.Chart(env_MP\n",
    ").transform_aggregate(\n",
    "    Frequency = 'count(*)',\n",
    "    Mass = 'mean(Sampling_weight)',\n",
    "    Split = 'mean(Fraction_analysed)',\n",
    "    TOC = 'mean(TOCs)',\n",
    "    groupby = ['Sample']\n",
    ").transform_calculate(\n",
    "    Conc = 'datum.Frequency / (datum.Mass * datum.Split)'\n",
    ").mark_point().encode(\n",
    "    x = 'TOC:Q',\n",
    "    y = 'Conc:Q',\n",
    "    color='Regio_Sep'\n",
    ").add_selection(\n",
    "    select_low\n",
    ").add_selection(\n",
    "    select_up\n",
    ").transform_filter(\n",
    "    'datum.size_geom_mean >= lower_size_size_geom_mean'\n",
    ").transform_filter(\n",
    "    'datum.size_geom_mean <= upper_size_size_geom_mean'\n",
    ")\n",
    "\n",
    "MPconcTOC"
   ]
  },
  {
   "cell_type": "code",
   "execution_count": null,
   "id": "ae9f2f34",
   "metadata": {},
   "outputs": [],
   "source": [
    "import altair as alt\n",
    "from vega_datasets import data\n",
    "source = data.iris()\n",
    "\n",
    "#brush = alt.selection(type='interval', encodings=['x'])\n",
    "slider_low = alt.binding_range(min=0, max=10, step=0.1)\n",
    "select_low = alt.selection_single(name=\"lowerSize\", fields=['sepalWidth'],\n",
    "                                  bind=slider_low, init={'sepalWidth': 0})\n",
    "slider_up = alt.binding_range(min=0, max=10, step=0.1)\n",
    "select_up = alt.selection_single(name=\"upperSize\", fields=['sepalWidth'],\n",
    "                                  bind=slider_up, init={'sepalWidth': 10})\n",
    "\n",
    "\n",
    "PDFs = alt.Chart(source\n",
    ").transform_density(\n",
    "    'sepalWidth',\n",
    "    as_=['size','density'],\n",
    "    groupby=['species']\n",
    ").mark_line().encode(\n",
    "    x='size:Q',\n",
    "    y='density:Q',\n",
    "    color='species'\n",
    "#).add_selection(\n",
    "#    brush\n",
    ")\n",
    "\n",
    "\n",
    "Scatter = alt.Chart(source\n",
    ").transform_aggregate(\n",
    "    Frequency = 'count()',\n",
    "    petalL_mean = 'mean(petalLength)',\n",
    "    petalW_mean = 'mean(petalWidth)',\n",
    "    sepalL_mean = 'mean(sepalLength)',\n",
    "    groupby = ['species']\n",
    ").transform_calculate(\n",
    "    Value = 'datum.Frequency / (datum.petalL_mean * datum.petalW_mean)'\n",
    ").mark_point().encode(\n",
    "    x = 'sepalWidth:Q',\n",
    "    y = 'sepalWidth:Q',\n",
    "    color='species'\n",
    ").add_selection(\n",
    "    select_low\n",
    ").add_selection(\n",
    "    select_up\n",
    ").transform_filter(\n",
    "    'datum.sepalWidth >= lowerSize_sepalWidth'\n",
    ").transform_filter(\n",
    "    'datum.sepalWidth <= upperSize_sepalWidth'\n",
    ")\n",
    "\n",
    "PDFs | Scatter"
   ]
  }
 ],
 "metadata": {
  "kernelspec": {
   "display_name": "Python 3",
   "language": "python",
   "name": "python3"
  },
  "language_info": {
   "codemirror_mode": {
    "name": "ipython",
    "version": 3
   },
   "file_extension": ".py",
   "mimetype": "text/x-python",
   "name": "python",
   "nbconvert_exporter": "python",
   "pygments_lexer": "ipython3",
   "version": "3.9.5"
  }
 },
 "nbformat": 4,
 "nbformat_minor": 5
}