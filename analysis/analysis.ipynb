{
 "cells": [
  {
   "cell_type": "code",
   "execution_count": 12,
   "metadata": {},
   "outputs": [
    {
     "data": {
      "text/plain": "DataTransformerRegistry.enable('default')"
     },
     "execution_count": 12,
     "metadata": {},
     "output_type": "execute_result"
    }
   ],
   "source": [
    "%reload_ext autoreload\n",
    "%autoreload 2\n",
    "\n",
    "import numpy as np\n",
    "import pandas as pd\n",
    "import altair as alt\n",
    "from scipy import stats\n",
    "\n",
    "try:  # if on phy-server local modules will not be found if their directory is not added to PATH\n",
    "    import sys\n",
    "    sys.path.append(\"/silod7/lenz/MPSchleiSediments/analysis/\")\n",
    "    import os\n",
    "    os.chdir(\"/silod7/lenz/MPSchleiSediments/analysis/\")\n",
    "except Exception:\n",
    "    pass\n",
    "\n",
    "import prepare_data\n",
    "import outliers\n",
    "import KDE_utils\n",
    "import correlations\n",
    "from components import PCA, PCOA\n",
    "from plots import biplot\n",
    "import glm\n",
    "from settings import shortnames, Config\n",
    "\n",
    "# alt.renderers.enable('altair_viewer')  # use to display altair charts externally in browser instead of inline (only activate in non-vega-compatible IDE like pycharm)\n",
    "alt.data_transformers.disable_max_rows()"
   ]
  },
  {
   "cell_type": "markdown",
   "metadata": {
    "tags": []
   },
   "source": [
    "## Load and prepare data\n",
    "**Before running, check the computational parameters in settings.py**\n",
    "\n",
    "Nomenclature:\n",
    "- *pdd*: particle domain data = data is particle based, meaning one entry (row) corresponds to one particle and one feature (column) corresponds to one property observed for that particle\n",
    "- *sdd*: sample domain data = data is sample based, meaning one entry (row) corresponds to one sample and one feature (column) corresponds to one property observed for that sample\n",
    "- *mp*: data on microplastics\n",
    "- *sed*: data on sediments"
   ]
  },
  {
   "cell_type": "code",
   "execution_count": 25,
   "metadata": {
    "collapsed": false,
    "jupyter": {
     "outputs_hidden": false
    },
    "pycharm": {
     "name": "#%% loading data\n"
    }
   },
   "outputs": [
    {
     "name": "stdout",
     "output_type": "stream",
     "text": [
      "Removed 3 samples with less than 19 particles.\n",
      "Sample\n",
      "Schlei_S24    18.0\n",
      "Schlei_S31    12.0\n",
      "Schlei_S5     12.0\n",
      "dtype: float64\n"
     ]
    },
    {
     "name": "stderr",
     "output_type": "stream",
     "text": [
      "/tmp/ipykernel_98903/1476944838.py:7: FutureWarning: The default value of regex will change from True to False in a future version.\n",
      "  mp_pdd.columns = mp_pdd.columns.str.replace(\"[\\[( )\\]]\", \"\")  # remove brackets from column names\n"
     ]
    }
   ],
   "source": [
    "# What happened so far: DB extract and blank procedure. Now import resulting MP data from csv\n",
    "mp_pdd = pd.read_csv('../data/env_MP_clean_list_SchleiSediments.csv', index_col=0)\n",
    "mp_pdd = prepare_data.mass_conversion(mp_pdd)  # calculate particle weights\n",
    "mp_pdd, gpn = outliers.low_freq_out(mp_pdd)  # remove low frequency outliers\n",
    "# mp_pdd = mp_pdd.loc[mp_pdd.Shape=='irregular']  # filter to only use fibres or irregulars\n",
    "mp_pdd['polymer_type'] = mp_pdd['polymer_type'].map(shortnames).fillna(mp_pdd['polymer_type'])  # use abbreviations for polymer names but retain original names for polymers not present in shortnames\n",
    "mp_pdd.columns = mp_pdd.columns.str.replace(\"[\\[( )\\]]\", \"\")  # remove brackets from column names\n",
    "\n",
    "# Also import sediment data (sediment frequencies per size bin from master sizer export)\n",
    "grainsize_iow = pd.read_csv('../data/sediment_grainsize_IOW_vol_log-cau_not-closed.csv')\n",
    "grainsize_cau = pd.read_csv('../data/sediment_grainsize_CAU_vol_log-cau_closed.csv')\n",
    "grainsize_cau.dropna(subset=grainsize_cau.iloc[:,1:].columns, how='all', inplace=True)  # CAU sediment data contains empty sammples which are dropped here"
   ]
  },
  {
   "cell_type": "code",
   "execution_count": 26,
   "metadata": {},
   "outputs": [],
   "source": [
    "# mp_pdd = mp_pdd.loc[~mp_pdd.polymer_type.isin(['AcrR', 'AlkR', 'EPX'])]  # exclude paint flakes\n",
    "# mp_pdd = mp_pdd.loc[~mp_pdd.Sample.isin(['Schlei_S10_15cm'])]  # exclude paint flakes"
   ]
  },
  {
   "cell_type": "code",
   "execution_count": 27,
   "metadata": {},
   "outputs": [],
   "source": [
    "# Get the binning structure of the imported sediment data and optionally rebin it (make binning coarser) for faster computation\n",
    "grainsize_iow, sed_lower_boundaries = prepare_data.sediment_preps(grainsize_iow)\n",
    "grainsize_cau, _ = prepare_data.sediment_preps(grainsize_cau)"
   ]
  },
  {
   "cell_type": "code",
   "execution_count": 28,
   "metadata": {
    "collapsed": false,
    "jupyter": {
     "outputs_hidden": false
    },
    "pycharm": {
     "name": "#%% data wrangling\n"
    }
   },
   "outputs": [],
   "source": [
    "# ...some data wrangling to prepare particle domain data and sample domain data for MP and combine with certain sediment aggregates.\n",
    "mp_sdd = prepare_data.aggregate_SDD(mp_pdd)\n",
    "mp_added_sed_sdd = prepare_data.additional_sdd_merging(mp_sdd)\n",
    "# mp_added_metadata_pdd = prepare_data.sdd2pdd(mp_added_sed_sdd, mp_pdd)  # TODO: not used. Remove?"
   ]
  },
  {
   "cell_type": "code",
   "execution_count": 29,
   "metadata": {},
   "outputs": [
    {
     "data": {
      "text/html": "\n<div id=\"altair-viz-88d2bde37de54ddf94f97c33419438ea\"></div>\n<script type=\"text/javascript\">\n  var VEGA_DEBUG = (typeof VEGA_DEBUG == \"undefined\") ? {} : VEGA_DEBUG;\n  (function(spec, embedOpt){\n    let outputDiv = document.currentScript.previousElementSibling;\n    if (outputDiv.id !== \"altair-viz-88d2bde37de54ddf94f97c33419438ea\") {\n      outputDiv = document.getElementById(\"altair-viz-88d2bde37de54ddf94f97c33419438ea\");\n    }\n    const paths = {\n      \"vega\": \"https://cdn.jsdelivr.net/npm//vega@5?noext\",\n      \"vega-lib\": \"https://cdn.jsdelivr.net/npm//vega-lib?noext\",\n      \"vega-lite\": \"https://cdn.jsdelivr.net/npm//vega-lite@4.17.0?noext\",\n      \"vega-embed\": \"https://cdn.jsdelivr.net/npm//vega-embed@6?noext\",\n    };\n\n    function maybeLoadScript(lib, version) {\n      var key = `${lib.replace(\"-\", \"\")}_version`;\n      return (VEGA_DEBUG[key] == version) ?\n        Promise.resolve(paths[lib]) :\n        new Promise(function(resolve, reject) {\n          var s = document.createElement('script');\n          document.getElementsByTagName(\"head\")[0].appendChild(s);\n          s.async = true;\n          s.onload = () => {\n            VEGA_DEBUG[key] = version;\n            return resolve(paths[lib]);\n          };\n          s.onerror = () => reject(`Error loading script: ${paths[lib]}`);\n          s.src = paths[lib];\n        });\n    }\n\n    function showError(err) {\n      outputDiv.innerHTML = `<div class=\"error\" style=\"color:red;\">${err}</div>`;\n      throw err;\n    }\n\n    function displayChart(vegaEmbed) {\n      vegaEmbed(outputDiv, spec, embedOpt)\n        .catch(err => showError(`Javascript Error: ${err.message}<br>This usually means there's a typo in your chart specification. See the javascript console for the full traceback.`));\n    }\n\n    if(typeof define === \"function\" && define.amd) {\n      requirejs.config({paths});\n      require([\"vega-embed\"], displayChart, err => showError(`Error loading script: ${err.message}`));\n    } else {\n      maybeLoadScript(\"vega\", \"5\")\n        .then(() => maybeLoadScript(\"vega-lite\", \"4.17.0\"))\n        .then(() => maybeLoadScript(\"vega-embed\", \"6\"))\n        .catch(showError)\n        .then(() => displayChart(vegaEmbed));\n    }\n  })({\"config\": {\"view\": {\"continuousWidth\": 400, \"continuousHeight\": 300}}, \"data\": {\"name\": \"data-3de87499ca223a0c52f017219e86f0ff\"}, \"mark\": \"point\", \"encoding\": {\"tooltip\": {\"field\": \"Sample\", \"type\": \"nominal\"}, \"x\": {\"field\": \"ConcentrationA500\", \"type\": \"quantitative\"}, \"y\": {\"field\": \"pred_ConcentrationA500\", \"type\": \"quantitative\"}}, \"$schema\": \"https://vega.github.io/schema/vega-lite/v4.17.0.json\", \"datasets\": {\"data-3de87499ca223a0c52f017219e86f0ff\": [{\"Sample\": \"Schlei_S10\", \"Frequency\": 300.0, \"FrequencyA500\": 38.0, \"FrequencyB500\": 262.0, \"MPmass\": 638.0052244154489, \"Mass\": 0.25, \"GPS_LONs\": 9.60355, \"GPS_LATs\": 54.5253, \"Split\": 1.0, \"MP_D50\": 85.71464106996271, \"Concentration\": 1200.0, \"ConcentrationA500\": 152.0, \"ConcentrationB500\": 1048.0, \"ConcentrationA500_div_B500\": 0.1450381679389313, \"MassConcentration\": 2552.0, \"Depth\": 0.8, \"Dist_Marina\": 824, \"Dist_WWTP\": 27.5, \"Dist_WWTP2\": 27.5, \"SAMPLE TYPE \": \"Unimodal, Poorly Sorted\", \"TEXTURAL GROUP \": \"Slightly Gravelly Sand\", \"SEDIMENT NAME \": \"Slightly Very Fine Gravelly Fine Sand\", \"MoM_ari_MEAN\": 277.8, \"MoM_ari_SORTING\": 219.9, \"MoM_ari_SKEWNESS\": 2.603, \"MoM_ari_KURTOSIS\": 14.41, \"MoM_geo_MEAN\": 207.8, \"MoM_geo_SORTING\": 2.367, \"MoM_geo_SKEWNESS\": -1.472, \"MoM_geo_KURTOSIS\": 8.264, \"MoM_log_MEAN\": 2.267, \"MoM_log_SORTING\": 1.243, \"MoM_log_SKEWNESS\": 1.472, \"MoM_log_KURTOSIS\": 8.264, \"FW_geo_MEAN\": 219.9, \"FW_geo_SORTING\": 2.02, \"FW_geo_SKEWNESS\": -0.034, \"FW_geo_KURTOSIS\": 1.053, \"FW_log_MEAN\": 2.185, \"FW_log_SORTING\": 1.014, \"FW_log_SKEWNESS\": 0.034, \"FW_log_KURTOSIS\": 1.053, \"FW_des_MEAN\": \"Fine Sand\", \"FW_des_SORTING\": \"Poorly Sorted\", \"FW_des_SKEWNESS\": \"Symmetrical\", \"FW_des_KURTOSIS\": \"Mesokurtic\", \"MODE 1 (\\u00b5m)\": 213.5, \"MODE 2 (\\u00b5m)\": null, \"MODE 3 (\\u00b5m)\": null, \"MODE 1 (f)\": 2.23, \"MODE 2 (f)\": null, \"MODE 3 (f)\": null, \"D10 (\\u00b5m)\": 89.38, \"D50 (\\u00b5m)\": 220.7, \"D90 (\\u00b5m)\": 527.4, \"(D90 div D10) (\\u00b5m)\": 5.901, \"(D90 - D10) (\\u00b5m)\": 438.0, \"(D75 div D25) (\\u00b5m)\": 2.523, \"(D75 - D25) (\\u00b5m)\": 211.4, \"D10 (f)\": 0.923, \"D50 (f)\": 2.18, \"D90 (f)\": 3.484, \"(D90 div D10) (f)\": 3.775, \"(D90 - D10) (f)\": 2.561, \"(D75 div D25) (f)\": 1.882, \"(D75 - D25) (f)\": 1.335, \"perc GRAVEL\": 0.1, \"perc SAND\": 95.0, \"perc MUD\": 5.0, \"perc V COARSE GRAVEL\": 0.0, \"perc COARSE GRAVEL\": 0.0, \"perc MEDIUM GRAVEL\": 0.0, \"perc FINE GRAVEL\": 0.0, \"perc V FINE GRAVEL\": 0.1, \"perc V COARSE SAND\": 1.4, \"perc COARSE SAND\": 10.1, \"perc MEDIUM SAND\": 31.3, \"perc FINE SAND\": 36.7, \"perc V FINE SAND\": 15.5, \"perc V COARSE SILT\": 1.9, \"perc COARSE SILT\": 1.0, \"perc MEDIUM SILT\": 0.8, \"perc FINE SILT\": 0.8, \"perc V FINE SILT\": 0.5, \"perc CLAY\": 0.0, \"OM_D50\": 73.5, \"TOC\": 0.3995, \"Hg\": 5.0, \"TIC\": 0.21, \"regio_sep\": \"WWTP\", \"Concentration_paint\": null, \"Concentration_PS_Beads\": null, \"Concentration_ord_poly\": null, \"Concentration_irregular\": null, \"pred_ConcentrationA500\": 2.1235379902407066}, {\"Sample\": \"Schlei_S10_15cm\", \"Frequency\": 464.0, \"FrequencyA500\": 163.0, \"FrequencyB500\": 301.0, \"MPmass\": 7077.299280447078, \"Mass\": 0.03, \"GPS_LONs\": 9.60355, \"GPS_LATs\": 54.5253, \"Split\": 1.0, \"MP_D50\": 109.13979240396873, \"Concentration\": 15467.0, \"ConcentrationA500\": 5433.0, \"ConcentrationB500\": 10033.0, \"ConcentrationA500_div_B500\": 0.5415130070766471, \"MassConcentration\": 235910.0, \"Depth\": 0.8, \"Dist_Marina\": 824, \"Dist_WWTP\": 27.5, \"Dist_WWTP2\": 27.5, \"SAMPLE TYPE \": \"Unimodal, Poorly Sorted\", \"TEXTURAL GROUP \": \"Slightly Gravelly Muddy Sand\", \"SEDIMENT NAME \": \"Slightly Very Fine Gravelly Very Coarse Silty Medium Sand\", \"MoM_ari_MEAN\": 269.0, \"MoM_ari_SORTING\": 223.7, \"MoM_ari_SKEWNESS\": 2.104, \"MoM_ari_KURTOSIS\": 10.76, \"MoM_geo_MEAN\": 176.7, \"MoM_geo_SORTING\": 3.099, \"MoM_geo_SKEWNESS\": -1.567, \"MoM_geo_KURTOSIS\": 6.209, \"MoM_log_MEAN\": 2.501, \"MoM_log_SORTING\": 1.632, \"MoM_log_SKEWNESS\": 1.567, \"MoM_log_KURTOSIS\": 6.209, \"FW_geo_MEAN\": 200.9, \"FW_geo_SORTING\": 2.761, \"FW_geo_SKEWNESS\": -0.282, \"FW_geo_KURTOSIS\": 1.474, \"FW_log_MEAN\": 2.316, \"FW_log_SORTING\": 1.465, \"FW_log_SKEWNESS\": 0.282, \"FW_log_KURTOSIS\": 1.474, \"FW_des_MEAN\": \"Fine Sand\", \"FW_des_SORTING\": \"Poorly Sorted\", \"FW_des_SKEWNESS\": \"Fine Skewed\", \"FW_des_KURTOSIS\": \"Leptokurtic\", \"MODE 1 (\\u00b5m)\": 257.2, \"MODE 2 (\\u00b5m)\": null, \"MODE 3 (\\u00b5m)\": null, \"MODE 1 (f)\": 1.96, \"MODE 2 (f)\": null, \"MODE 3 (f)\": null, \"D10 (\\u00b5m)\": 52.31, \"D50 (\\u00b5m)\": 217.0, \"D90 (\\u00b5m)\": 535.4, \"(D90 div D10) (\\u00b5m)\": 10.24, \"(D90 - D10) (\\u00b5m)\": 483.1, \"(D75 div D25) (\\u00b5m)\": 2.997, \"(D75 - D25) (\\u00b5m)\": 238.6, \"D10 (f)\": 0.901, \"D50 (f)\": 2.204, \"D90 (f)\": 4.257, \"(D90 div D10) (f)\": 4.723, \"(D90 - D10) (f)\": 3.356, \"(D75 div D25) (f)\": 2.069, \"(D75 - D25) (f)\": 1.583, \"perc GRAVEL\": 0.0, \"perc SAND\": 88.4, \"perc MUD\": 11.6, \"perc V COARSE GRAVEL\": 0.0, \"perc COARSE GRAVEL\": 0.0, \"perc MEDIUM GRAVEL\": 0.0, \"perc FINE GRAVEL\": 0.0, \"perc V FINE GRAVEL\": 0.0, \"perc V COARSE SAND\": 1.3, \"perc COARSE SAND\": 10.6, \"perc MEDIUM SAND\": 30.9, \"perc FINE SAND\": 30.7, \"perc V FINE SAND\": 14.8, \"perc V COARSE SILT\": 4.1, \"perc COARSE SILT\": 2.0, \"perc MEDIUM SILT\": 2.0, \"perc FINE SILT\": 2.0, \"perc V FINE SILT\": 1.3, \"perc CLAY\": 0.3, \"OM_D50\": 27.1, \"TOC\": 0.1685, \"Hg\": 16.2791, \"TIC\": 0.225, \"regio_sep\": \"WWTP\", \"Concentration_paint\": null, \"Concentration_PS_Beads\": null, \"Concentration_ord_poly\": null, \"Concentration_irregular\": null, \"pred_ConcentrationA500\": 2.8253559114026117}, {\"Sample\": \"Schlei_S11\", \"Frequency\": 187.0, \"FrequencyA500\": 33.0, \"FrequencyB500\": 154.0, \"MPmass\": 338.5703132608747, \"Mass\": 0.081, \"GPS_LONs\": 9.61442, \"GPS_LATs\": 54.5238, \"Split\": 0.5, \"MP_D50\": 96.65402216152208, \"Concentration\": 2309.0, \"ConcentrationA500\": 407.0, \"ConcentrationB500\": 1901.0, \"ConcentrationA500_div_B500\": 0.2140978432403998, \"MassConcentration\": 4180.0, \"Depth\": 2.9, \"Dist_Marina\": 379, \"Dist_WWTP\": 750.0, \"Dist_WWTP2\": 750.0, \"SAMPLE TYPE \": \"Bimodal, Very Poorly Sorted\", \"TEXTURAL GROUP \": \"Sandy Mud\", \"SEDIMENT NAME \": \"Very Fine Sandy Very Coarse Silt\", \"MoM_ari_MEAN\": 53.97, \"MoM_ari_SORTING\": 91.8, \"MoM_ari_SKEWNESS\": 4.056, \"MoM_ari_KURTOSIS\": 22.58, \"MoM_geo_MEAN\": 21.57, \"MoM_geo_SORTING\": 4.327, \"MoM_geo_SKEWNESS\": -0.322, \"MoM_geo_KURTOSIS\": 2.826, \"MoM_log_MEAN\": 5.535, \"MoM_log_SORTING\": 2.113, \"MoM_log_SKEWNESS\": 0.322, \"MoM_log_KURTOSIS\": 2.826, \"FW_geo_MEAN\": 21.6, \"FW_geo_SORTING\": 4.229, \"FW_geo_SKEWNESS\": -0.228, \"FW_geo_KURTOSIS\": 0.935, \"FW_log_MEAN\": 5.533, \"FW_log_SORTING\": 2.08, \"FW_log_SKEWNESS\": 0.228, \"FW_log_KURTOSIS\": 0.935, \"FW_des_MEAN\": \"Coarse Silt\", \"FW_des_SORTING\": \"Very Poorly Sorted\", \"FW_des_SKEWNESS\": \"Fine Skewed\", \"FW_des_KURTOSIS\": \"Mesokurtic\", \"MODE 1 (\\u00b5m)\": 52.68, \"MODE 2 (\\u00b5m)\": 7.43, \"MODE 3 (\\u00b5m)\": null, \"MODE 1 (f)\": 4.248, \"MODE 2 (f)\": 7.074, \"MODE 3 (f)\": null, \"D10 (\\u00b5m)\": 2.958, \"D50 (\\u00b5m)\": 28.49, \"D90 (\\u00b5m)\": 102.7, \"(D90 div D10) (\\u00b5m)\": 34.73, \"(D90 - D10) (\\u00b5m)\": 99.77, \"(D75 div D25) (\\u00b5m)\": 8.142, \"(D75 - D25) (\\u00b5m)\": 52.64, \"D10 (f)\": 3.283, \"D50 (f)\": 5.133, \"D90 (f)\": 8.401, \"(D90 div D10) (f)\": 2.559, \"(D90 - D10) (f)\": 5.118, \"(D75 div D25) (f)\": 1.745, \"(D75 - D25) (f)\": 3.025, \"perc GRAVEL\": 0.0, \"perc SAND\": 23.5, \"perc MUD\": 76.5, \"perc V COARSE GRAVEL\": 0.0, \"perc COARSE GRAVEL\": 0.0, \"perc MEDIUM GRAVEL\": 0.0, \"perc FINE GRAVEL\": 0.0, \"perc V FINE GRAVEL\": 0.0, \"perc V COARSE SAND\": 0.0, \"perc COARSE SAND\": 1.1, \"perc MEDIUM SAND\": 3.4, \"perc FINE SAND\": 2.9, \"perc V FINE SAND\": 16.2, \"perc V COARSE SILT\": 24.1, \"perc COARSE SILT\": 14.1, \"perc MEDIUM SILT\": 12.2, \"perc FINE SILT\": 12.3, \"perc V FINE SILT\": 8.0, \"perc CLAY\": 5.8, \"OM_D50\": 45.4, \"TOC\": 10.8215, \"Hg\": 221.3, \"TIC\": 0.645, \"regio_sep\": \"WWTP\", \"Concentration_paint\": null, \"Concentration_PS_Beads\": null, \"Concentration_ord_poly\": null, \"Concentration_irregular\": null, \"pred_ConcentrationA500\": 95.67823824102173}, {\"Sample\": \"Schlei_S13\", \"Frequency\": 335.0, \"FrequencyA500\": 47.0, \"FrequencyB500\": 288.0, \"MPmass\": 393.9034743845603, \"Mass\": 0.071, \"GPS_LONs\": 9.62153, \"GPS_LATs\": 54.5157, \"Split\": 0.25, \"MP_D50\": 90.78546139112804, \"Concentration\": 4718.0, \"ConcentrationA500\": 662.0, \"ConcentrationB500\": 4056.0, \"ConcentrationA500_div_B500\": 0.16321499013806706, \"MassConcentration\": 5548.0, \"Depth\": 3.0, \"Dist_Marina\": 1320, \"Dist_WWTP\": 1605.0, \"Dist_WWTP2\": 1605.0, \"SAMPLE TYPE \": \"Bimodal, Very Poorly Sorted\", \"TEXTURAL GROUP \": \"Sandy Mud\", \"SEDIMENT NAME \": \"Very Fine Sandy Very Coarse Silt\", \"MoM_ari_MEAN\": 59.68, \"MoM_ari_SORTING\": 87.61, \"MoM_ari_SKEWNESS\": 5.527, \"MoM_ari_KURTOSIS\": 48.07, \"MoM_geo_MEAN\": 26.19, \"MoM_geo_SORTING\": 4.572, \"MoM_geo_SKEWNESS\": -0.734, \"MoM_geo_KURTOSIS\": 3.021, \"MoM_log_MEAN\": 5.255, \"MoM_log_SORTING\": 2.193, \"MoM_log_SKEWNESS\": 0.734, \"MoM_log_KURTOSIS\": 3.021, \"FW_geo_MEAN\": 27.19, \"FW_geo_SORTING\": 4.298, \"FW_geo_SKEWNESS\": -0.439, \"FW_geo_KURTOSIS\": 0.863, \"FW_log_MEAN\": 5.201, \"FW_log_SORTING\": 2.104, \"FW_log_SKEWNESS\": 0.439, \"FW_log_KURTOSIS\": 0.863, \"FW_des_MEAN\": \"Coarse Silt\", \"FW_des_SORTING\": \"Very Poorly Sorted\", \"FW_des_SKEWNESS\": \"Very Fine Skewed\", \"FW_des_KURTOSIS\": \"Platykurtic\", \"MODE 1 (\\u00b5m)\": 69.69, \"MODE 2 (\\u00b5m)\": 8.157, \"MODE 3 (\\u00b5m)\": null, \"MODE 1 (f)\": 3.844, \"MODE 2 (f)\": 6.939, \"MODE 3 (f)\": null, \"D10 (\\u00b5m)\": 2.895, \"D50 (\\u00b5m)\": 42.4, \"D90 (\\u00b5m)\": 120.5, \"(D90 div D10) (\\u00b5m)\": 41.61, \"(D90 - D10) (\\u00b5m)\": 117.6, \"(D75 div D25) (\\u00b5m)\": 8.921, \"(D75 - D25) (\\u00b5m)\": 70.65, \"D10 (f)\": 3.053, \"D50 (f)\": 4.56, \"D90 (f)\": 8.432, \"(D90 div D10) (f)\": 2.762, \"(D90 - D10) (f)\": 5.379, \"(D75 div D25) (f)\": 1.865, \"(D75 - D25) (f)\": 3.157, \"perc GRAVEL\": 0.0, \"perc SAND\": 35.5, \"perc MUD\": 64.5, \"perc V COARSE GRAVEL\": 0.0, \"perc COARSE GRAVEL\": 0.0, \"perc MEDIUM GRAVEL\": 0.0, \"perc FINE GRAVEL\": 0.0, \"perc V FINE GRAVEL\": 0.0, \"perc V COARSE SAND\": 0.1, \"perc COARSE SAND\": 0.9, \"perc MEDIUM SAND\": 1.1, \"perc FINE SAND\": 6.9, \"perc V FINE SAND\": 26.5, \"perc V COARSE SILT\": 21.9, \"perc COARSE SILT\": 9.8, \"perc MEDIUM SILT\": 9.7, \"perc FINE SILT\": 9.6, \"perc V FINE SILT\": 7.0, \"perc CLAY\": 6.5, \"OM_D50\": 73.9, \"TOC\": 6.9315, \"Hg\": 172.9, \"TIC\": 0.465, \"regio_sep\": \"inner\", \"Concentration_paint\": null, \"Concentration_PS_Beads\": null, \"Concentration_ord_poly\": null, \"Concentration_irregular\": null, \"pred_ConcentrationA500\": 44.860579949698845}, {\"Sample\": \"Schlei_S14\", \"Frequency\": 37.0, \"FrequencyA500\": 2.0, \"FrequencyB500\": 35.0, \"MPmass\": 12.088701567366268, \"Mass\": 0.25, \"GPS_LONs\": 9.63885, \"GPS_LATs\": 54.5172, \"Split\": 1.0, \"MP_D50\": 74.64583042608609, \"Concentration\": 148.0, \"ConcentrationA500\": 8.0, \"ConcentrationB500\": 140.0, \"ConcentrationA500_div_B500\": 0.05714285714285714, \"MassConcentration\": 48.0, \"Depth\": 2.3, \"Dist_Marina\": 950, \"Dist_WWTP\": 2933.0, \"Dist_WWTP2\": 2933.0, \"SAMPLE TYPE \": \"Bimodal, Very Poorly Sorted\", \"TEXTURAL GROUP \": \"Muddy Sand\", \"SEDIMENT NAME \": \"Very Coarse Silty Medium Sand\", \"MoM_ari_MEAN\": 213.1, \"MoM_ari_SORTING\": 196.7, \"MoM_ari_SKEWNESS\": 1.143, \"MoM_ari_KURTOSIS\": 4.134, \"MoM_geo_MEAN\": 91.86, \"MoM_geo_SORTING\": 6.262, \"MoM_geo_SKEWNESS\": -1.517, \"MoM_geo_KURTOSIS\": 5.148, \"MoM_log_MEAN\": 3.444, \"MoM_log_SORTING\": 2.647, \"MoM_log_SKEWNESS\": 1.517, \"MoM_log_KURTOSIS\": 5.148, \"FW_geo_MEAN\": 95.57, \"FW_geo_SORTING\": 5.487, \"FW_geo_SKEWNESS\": -0.508, \"FW_geo_KURTOSIS\": 1.248, \"FW_log_MEAN\": 3.387, \"FW_log_SORTING\": 2.456, \"FW_log_SKEWNESS\": 0.508, \"FW_log_KURTOSIS\": 1.248, \"FW_des_MEAN\": \"Very Fine Sand\", \"FW_des_SORTING\": \"Very Poorly Sorted\", \"FW_des_SKEWNESS\": \"Very Fine Skewed\", \"FW_des_KURTOSIS\": \"Leptokurtic\", \"MODE 1 (\\u00b5m)\": 282.4, \"MODE 2 (\\u00b5m)\": 6.166, \"MODE 3 (\\u00b5m)\": null, \"MODE 1 (f)\": 1.826, \"MODE 2 (f)\": 7.343, \"MODE 3 (f)\": null, \"D10 (\\u00b5m)\": 5.405, \"D50 (\\u00b5m)\": 166.4, \"D90 (\\u00b5m)\": 490.5, \"(D90 div D10) (\\u00b5m)\": 90.74, \"(D90 - D10) (\\u00b5m)\": 485.1, \"(D75 div D25) (\\u00b5m)\": 6.164, \"(D75 - D25) (\\u00b5m)\": 269.3, \"D10 (f)\": 1.028, \"D50 (f)\": 2.587, \"D90 (f)\": 7.531, \"(D90 div D10) (f)\": 7.328, \"(D90 - D10) (f)\": 6.504, \"(D75 div D25) (f)\": 2.603, \"(D75 - D25) (f)\": 2.624, \"perc GRAVEL\": 0.0, \"perc SAND\": 72.6, \"perc MUD\": 27.4, \"perc V COARSE GRAVEL\": 0.0, \"perc COARSE GRAVEL\": 0.0, \"perc MEDIUM GRAVEL\": 0.0, \"perc FINE GRAVEL\": 0.0, \"perc V FINE GRAVEL\": 0.0, \"perc V COARSE SAND\": 0.1, \"perc COARSE SAND\": 9.3, \"perc MEDIUM SAND\": 25.8, \"perc FINE SAND\": 23.1, \"perc V FINE SAND\": 14.3, \"perc V COARSE SILT\": 6.8, \"perc COARSE SILT\": 3.6, \"perc MEDIUM SILT\": 4.4, \"perc FINE SILT\": 5.0, \"perc V FINE SILT\": 3.5, \"perc CLAY\": 4.2, \"OM_D50\": 99.5, \"TOC\": 1.0503, \"Hg\": 31.2, \"TIC\": 0.39, \"regio_sep\": \"inner\", \"Concentration_paint\": null, \"Concentration_PS_Beads\": null, \"Concentration_ord_poly\": null, \"Concentration_irregular\": null, \"pred_ConcentrationA500\": 6.058961909835407}, {\"Sample\": \"Schlei_S15\", \"Frequency\": 107.0, \"FrequencyA500\": 11.0, \"FrequencyB500\": 96.0, \"MPmass\": 142.921131900293, \"Mass\": 0.25, \"GPS_LONs\": 9.645749999999998, \"GPS_LATs\": 54.5201, \"Split\": 1.0, \"MP_D50\": 94.64142856064674, \"Concentration\": 428.0, \"ConcentrationA500\": 44.0, \"ConcentrationB500\": 384.0, \"ConcentrationA500_div_B500\": 0.11458333333333333, \"MassConcentration\": 572.0, \"Depth\": 2.2, \"Dist_Marina\": 1382, \"Dist_WWTP\": 3455.0, \"Dist_WWTP2\": 3455.0, \"SAMPLE TYPE \": \"Unimodal, Very Poorly Sorted\", \"TEXTURAL GROUP \": \"Slightly Gravelly Muddy Sand\", \"SEDIMENT NAME \": \"Slightly Very Fine Gravelly Very Coarse Silty Medium Sand\", \"MoM_ari_MEAN\": 321.4, \"MoM_ari_SORTING\": 300.2, \"MoM_ari_SKEWNESS\": 1.93, \"MoM_ari_KURTOSIS\": 8.965, \"MoM_geo_MEAN\": 154.0, \"MoM_geo_SORTING\": 5.115, \"MoM_geo_SKEWNESS\": -1.251, \"MoM_geo_KURTOSIS\": 3.677, \"MoM_log_MEAN\": 2.699, \"MoM_log_SORTING\": 2.355, \"MoM_log_SKEWNESS\": 1.251, \"MoM_log_KURTOSIS\": 3.677, \"FW_geo_MEAN\": 148.2, \"FW_geo_SORTING\": 4.952, \"FW_geo_SKEWNESS\": -0.573, \"FW_geo_KURTOSIS\": 1.347, \"FW_log_MEAN\": 2.754, \"FW_log_SORTING\": 2.308, \"FW_log_SKEWNESS\": 0.573, \"FW_log_KURTOSIS\": 1.347, \"FW_des_MEAN\": \"Fine Sand\", \"FW_des_SORTING\": \"Very Poorly Sorted\", \"FW_des_SKEWNESS\": \"Very Fine Skewed\", \"FW_des_KURTOSIS\": \"Leptokurtic\", \"MODE 1 (\\u00b5m)\": 340.3, \"MODE 2 (\\u00b5m)\": null, \"MODE 3 (\\u00b5m)\": null, \"MODE 1 (f)\": 1.557, \"MODE 2 (f)\": null, \"MODE 3 (f)\": null, \"D10 (\\u00b5m)\": 8.916, \"D50 (\\u00b5m)\": 275.1, \"D90 (\\u00b5m)\": 655.9, \"(D90 div D10) (\\u00b5m)\": 73.56, \"(D90 - D10) (\\u00b5m)\": 647.0, \"(D75 div D25) (\\u00b5m)\": 4.974, \"(D75 - D25) (\\u00b5m)\": 350.2, \"D10 (f)\": 0.608, \"D50 (f)\": 1.862, \"D90 (f)\": 6.809, \"(D90 div D10) (f)\": 11.19, \"(D90 - D10) (f)\": 6.201, \"(D75 div D25) (f)\": 2.945, \"(D75 - D25) (f)\": 2.314, \"perc GRAVEL\": 0.1, \"perc SAND\": 76.7, \"perc MUD\": 23.2, \"perc V COARSE GRAVEL\": 0.0, \"perc COARSE GRAVEL\": 0.0, \"perc MEDIUM GRAVEL\": 0.0, \"perc FINE GRAVEL\": 0.0, \"perc V FINE GRAVEL\": 0.1, \"perc V COARSE SAND\": 3.2, \"perc COARSE SAND\": 15.6, \"perc MEDIUM SAND\": 35.8, \"perc FINE SAND\": 18.3, \"perc V FINE SAND\": 3.7, \"perc V COARSE SILT\": 4.9, \"perc COARSE SILT\": 4.4, \"perc MEDIUM SILT\": 4.9, \"perc FINE SILT\": 4.8, \"perc V FINE SILT\": 3.0, \"perc CLAY\": 1.3, \"OM_D50\": 28.0, \"TOC\": 0.64, \"Hg\": 11.0, \"TIC\": 0.225, \"regio_sep\": \"inner\", \"Concentration_paint\": null, \"Concentration_PS_Beads\": null, \"Concentration_ord_poly\": null, \"Concentration_irregular\": null, \"pred_ConcentrationA500\": 4.898935418591788}, {\"Sample\": \"Schlei_S16\", \"Frequency\": 457.0, \"FrequencyA500\": 39.0, \"FrequencyB500\": 418.0, \"MPmass\": 220.57005994790288, \"Mass\": 0.09, \"GPS_LONs\": 9.670030000000002, \"GPS_LATs\": 54.514, \"Split\": 0.25, \"MP_D50\": 82.64986388373546, \"Concentration\": 5078.0, \"ConcentrationA500\": 433.0, \"ConcentrationB500\": 4644.0, \"ConcentrationA500_div_B500\": 0.09323858742463394, \"MassConcentration\": 2451.0, \"Depth\": 3.5, \"Dist_Marina\": 1500, \"Dist_WWTP\": 4729.0, \"Dist_WWTP2\": 4729.0, \"SAMPLE TYPE \": \"Trimodal, Very Poorly Sorted\", \"TEXTURAL GROUP \": \"Sandy Mud\", \"SEDIMENT NAME \": \"Very Fine Sandy Very Coarse Silt\", \"MoM_ari_MEAN\": 51.93, \"MoM_ari_SORTING\": 94.2, \"MoM_ari_SKEWNESS\": 3.845, \"MoM_ari_KURTOSIS\": 20.65, \"MoM_geo_MEAN\": 18.82, \"MoM_geo_SORTING\": 4.337, \"MoM_geo_SKEWNESS\": 0.022, \"MoM_geo_KURTOSIS\": 2.557, \"MoM_log_MEAN\": 5.731, \"MoM_log_SORTING\": 2.117, \"MoM_log_SKEWNESS\": -0.022, \"MoM_log_KURTOSIS\": 2.557, \"FW_geo_MEAN\": 18.36, \"FW_geo_SORTING\": 4.381, \"FW_geo_SKEWNESS\": -0.02, \"FW_geo_KURTOSIS\": 0.92, \"FW_log_MEAN\": 5.768, \"FW_log_SORTING\": 2.131, \"FW_log_SKEWNESS\": 0.02, \"FW_log_KURTOSIS\": 0.92, \"FW_des_MEAN\": \"Coarse Silt\", \"FW_des_SORTING\": \"Very Poorly Sorted\", \"FW_des_SKEWNESS\": \"Symmetrical\", \"FW_des_KURTOSIS\": \"Mesokurtic\", \"MODE 1 (\\u00b5m)\": 47.99, \"MODE 2 (\\u00b5m)\": 7.43, \"MODE 3 (\\u00b5m)\": 340.3, \"MODE 1 (f)\": 4.383, \"MODE 2 (f)\": 7.074, \"MODE 3 (f)\": 1.557, \"D10 (\\u00b5m)\": 2.829, \"D50 (\\u00b5m)\": 19.71, \"D90 (\\u00b5m)\": 111.3, \"(D90 div D10) (\\u00b5m)\": 39.34, \"(D90 - D10) (\\u00b5m)\": 108.5, \"(D75 div D25) (\\u00b5m)\": 8.761, \"(D75 - D25) (\\u00b5m)\": 47.96, \"D10 (f)\": 3.168, \"D50 (f)\": 5.665, \"D90 (f)\": 8.465, \"(D90 div D10) (f)\": 2.672, \"(D90 - D10) (f)\": 5.298, \"(D75 div D25) (f)\": 1.744, \"(D75 - D25) (f)\": 3.131, \"perc GRAVEL\": 0.0, \"perc SAND\": 21.2, \"perc MUD\": 78.8, \"perc V COARSE GRAVEL\": 0.0, \"perc COARSE GRAVEL\": 0.0, \"perc MEDIUM GRAVEL\": 0.0, \"perc FINE GRAVEL\": 0.0, \"perc V FINE GRAVEL\": 0.0, \"perc V COARSE SAND\": 0.0, \"perc COARSE SAND\": 1.0, \"perc MEDIUM SAND\": 3.9, \"perc FINE SAND\": 3.9, \"perc V FINE SAND\": 12.4, \"perc V COARSE SILT\": 18.6, \"perc COARSE SILT\": 15.0, \"perc MEDIUM SILT\": 14.9, \"perc FINE SILT\": 15.0, \"perc V FINE SILT\": 9.9, \"perc CLAY\": 5.4, \"OM_D50\": 37.7, \"TOC\": 12.146, \"Hg\": 230.9, \"TIC\": 0.42, \"regio_sep\": \"inner\", \"Concentration_paint\": null, \"Concentration_PS_Beads\": null, \"Concentration_ord_poly\": null, \"Concentration_irregular\": null, \"pred_ConcentrationA500\": 114.22458885363957}, {\"Sample\": \"Schlei_S17\", \"Frequency\": 149.0, \"FrequencyA500\": 13.0, \"FrequencyB500\": 136.0, \"MPmass\": 72.82089662523946, \"Mass\": 0.25, \"GPS_LONs\": 9.68298, \"GPS_LATs\": 54.5072, \"Split\": 1.0, \"MP_D50\": 83.83913167489273, \"Concentration\": 596.0, \"ConcentrationA500\": 52.0, \"ConcentrationB500\": 544.0, \"ConcentrationA500_div_B500\": 0.09558823529411764, \"MassConcentration\": 291.0, \"Depth\": 2.3, \"Dist_Marina\": 1126, \"Dist_WWTP\": 5643.0, \"Dist_WWTP2\": 5643.0, \"SAMPLE TYPE \": \"Unimodal, Poorly Sorted\", \"TEXTURAL GROUP \": \"Slightly Gravelly Sand\", \"SEDIMENT NAME \": \"Slightly Very Fine Gravelly Medium Sand\", \"MoM_ari_MEAN\": 475.2, \"MoM_ari_SORTING\": 312.5, \"MoM_ari_SKEWNESS\": 1.254, \"MoM_ari_KURTOSIS\": 5.533, \"MoM_geo_MEAN\": 329.8, \"MoM_geo_SORTING\": 3.235, \"MoM_geo_SKEWNESS\": -2.345, \"MoM_geo_KURTOSIS\": 8.999, \"MoM_log_MEAN\": 1.6, \"MoM_log_SORTING\": 1.694, \"MoM_log_SKEWNESS\": 2.345, \"MoM_log_KURTOSIS\": 8.999, \"FW_geo_MEAN\": 406.9, \"FW_geo_SORTING\": 2.615, \"FW_geo_SKEWNESS\": -0.306, \"FW_geo_KURTOSIS\": 2.201, \"FW_log_MEAN\": 1.297, \"FW_log_SORTING\": 1.387, \"FW_log_SKEWNESS\": 0.306, \"FW_log_KURTOSIS\": 2.201, \"FW_des_MEAN\": \"Medium Sand\", \"FW_des_SORTING\": \"Poorly Sorted\", \"FW_des_SKEWNESS\": \"Very Fine Skewed\", \"FW_des_KURTOSIS\": \"Very Leptokurtic\", \"MODE 1 (\\u00b5m)\": 410.1, \"MODE 2 (\\u00b5m)\": null, \"MODE 3 (\\u00b5m)\": null, \"MODE 1 (f)\": 1.288, \"MODE 2 (f)\": null, \"MODE 3 (f)\": null, \"D10 (\\u00b5m)\": 159.8, \"D50 (\\u00b5m)\": 415.5, \"D90 (\\u00b5m)\": 878.6, \"(D90 div D10) (\\u00b5m)\": 5.498, \"(D90 - D10) (\\u00b5m)\": 718.8, \"(D75 div D25) (\\u00b5m)\": 2.24, \"(D75 - D25) (\\u00b5m)\": 341.3, \"D10 (f)\": 0.187, \"D50 (f)\": 1.267, \"D90 (f)\": 2.646, \"(D90 div D10) (f)\": 14.17, \"(D90 - D10) (f)\": 2.459, \"(D75 div D25) (f)\": 2.668, \"(D75 - D25) (f)\": 1.164, \"perc GRAVEL\": 0.1, \"perc SAND\": 91.8, \"perc MUD\": 8.1, \"perc V COARSE GRAVEL\": 0.0, \"perc COARSE GRAVEL\": 0.0, \"perc MEDIUM GRAVEL\": 0.0, \"perc FINE GRAVEL\": 0.0, \"perc V FINE GRAVEL\": 0.1, \"perc V COARSE SAND\": 6.4, \"perc COARSE SAND\": 31.1, \"perc MEDIUM SAND\": 41.7, \"perc FINE SAND\": 12.0, \"perc V FINE SAND\": 0.6, \"perc V COARSE SILT\": 1.4, \"perc COARSE SILT\": 1.4, \"perc MEDIUM SILT\": 2.0, \"perc FINE SILT\": 1.9, \"perc V FINE SILT\": 1.1, \"perc CLAY\": 0.2, \"OM_D50\": 47.5, \"TOC\": 0.6665, \"Hg\": 10.0, \"TIC\": 0.31, \"regio_sep\": \"inner\", \"Concentration_paint\": null, \"Concentration_PS_Beads\": null, \"Concentration_ord_poly\": null, \"Concentration_irregular\": null, \"pred_ConcentrationA500\": 2.479266590988014}, {\"Sample\": \"Schlei_S19\", \"Frequency\": 52.0, \"FrequencyA500\": 4.0, \"FrequencyB500\": 48.0, \"MPmass\": 17.496347738746135, \"Mass\": 0.25, \"GPS_LONs\": 9.70262, \"GPS_LATs\": 54.512600000000006, \"Split\": 1.0, \"MP_D50\": 68.12471096615599, \"Concentration\": 208.0, \"ConcentrationA500\": 16.0, \"ConcentrationB500\": 192.0, \"ConcentrationA500_div_B500\": 0.08333333333333333, \"MassConcentration\": 70.0, \"Depth\": 0.6, \"Dist_Marina\": 2375, \"Dist_WWTP\": 6836.0, \"Dist_WWTP2\": 6836.0, \"SAMPLE TYPE \": \"Unimodal, Moderately Well Sorted\", \"TEXTURAL GROUP \": \"Slightly Gravelly Sand\", \"SEDIMENT NAME \": \"Slightly Very Fine Gravelly Fine Sand\", \"MoM_ari_MEAN\": 214.3, \"MoM_ari_SORTING\": 139.3, \"MoM_ari_SKEWNESS\": 5.286, \"MoM_ari_KURTOSIS\": 54.6, \"MoM_geo_MEAN\": 183.8, \"MoM_geo_SORTING\": 1.815, \"MoM_geo_SKEWNESS\": -1.64, \"MoM_geo_KURTOSIS\": 12.56, \"MoM_log_MEAN\": 2.444, \"MoM_log_SORTING\": 0.86, \"MoM_log_SKEWNESS\": 1.64, \"MoM_log_KURTOSIS\": 12.56, \"FW_geo_MEAN\": 188.4, \"FW_geo_SORTING\": 1.612, \"FW_geo_SKEWNESS\": 0.007, \"FW_geo_KURTOSIS\": 0.976, \"FW_log_MEAN\": 2.408, \"FW_log_SORTING\": 0.689, \"FW_log_SKEWNESS\": -0.007, \"FW_log_KURTOSIS\": 0.976, \"FW_des_MEAN\": \"Fine Sand\", \"FW_des_SORTING\": \"Moderately Well Sorted\", \"FW_des_SKEWNESS\": \"Symmetrical\", \"FW_des_KURTOSIS\": \"Mesokurtic\", \"MODE 1 (\\u00b5m)\": 177.1, \"MODE 2 (\\u00b5m)\": null, \"MODE 3 (\\u00b5m)\": null, \"MODE 1 (f)\": 2.499, \"MODE 2 (f)\": null, \"MODE 3 (f)\": null, \"D10 (\\u00b5m)\": 102.0, \"D50 (\\u00b5m)\": 187.8, \"D90 (\\u00b5m)\": 348.3, \"(D90 div D10) (\\u00b5m)\": 3.416, \"(D90 - D10) (\\u00b5m)\": 246.4, \"(D75 div D25) (\\u00b5m)\": 1.928, \"(D75 - D25) (\\u00b5m)\": 125.8, \"D10 (f)\": 1.521, \"D50 (f)\": 2.413, \"D90 (f)\": 3.294, \"(D90 div D10) (f)\": 2.165, \"(D90 - D10) (f)\": 1.772, \"(D75 div D25) (f)\": 1.489, \"(D75 - D25) (f)\": 0.947, \"perc GRAVEL\": 0.0, \"perc SAND\": 98.3, \"perc MUD\": 1.7, \"perc V COARSE GRAVEL\": 0.0, \"perc COARSE GRAVEL\": 0.0, \"perc MEDIUM GRAVEL\": 0.0, \"perc FINE GRAVEL\": 0.0, \"perc V FINE GRAVEL\": 0.0, \"perc V COARSE SAND\": 0.5, \"perc COARSE SAND\": 1.3, \"perc MEDIUM SAND\": 26.1, \"perc FINE SAND\": 52.2, \"perc V FINE SAND\": 18.2, \"perc V COARSE SILT\": 0.2, \"perc COARSE SILT\": 0.4, \"perc MEDIUM SILT\": 0.6, \"perc FINE SILT\": 0.4, \"perc V FINE SILT\": 0.1, \"perc CLAY\": 0.0, \"OM_D50\": 31.5, \"TOC\": 0.0615, \"Hg\": 3.7, \"TIC\": 0.11, \"regio_sep\": \"inner\", \"Concentration_paint\": null, \"Concentration_PS_Beads\": null, \"Concentration_ord_poly\": null, \"Concentration_irregular\": null, \"pred_ConcentrationA500\": 1.7954211116214762}, {\"Sample\": \"Schlei_S1_15cm\", \"Frequency\": 503.0, \"FrequencyA500\": 77.0, \"FrequencyB500\": 426.0, \"MPmass\": 9183.343858649048, \"Mass\": 0.063, \"GPS_LONs\": 9.55717, \"GPS_LATs\": 54.5075, \"Split\": 0.5887, \"MP_D50\": 92.9623579735368, \"Concentration\": 7984.0, \"ConcentrationA500\": 1222.0, \"ConcentrationB500\": 6762.0, \"ConcentrationA500_div_B500\": 0.18071576456669625, \"MassConcentration\": 145767.0, \"Depth\": 2.7, \"Dist_Marina\": 505, \"Dist_WWTP\": 4490.0, \"Dist_WWTP2\": 4490.0, \"SAMPLE TYPE \": \"Bimodal, Poorly Sorted\", \"TEXTURAL GROUP \": \"Sandy Mud\", \"SEDIMENT NAME \": \"Very Fine Sandy Medium Silt\", \"MoM_ari_MEAN\": 30.52, \"MoM_ari_SORTING\": 54.19, \"MoM_ari_SKEWNESS\": 7.529, \"MoM_ari_KURTOSIS\": 88.32, \"MoM_geo_MEAN\": 13.89, \"MoM_geo_SORTING\": 3.658, \"MoM_geo_SKEWNESS\": -0.108, \"MoM_geo_KURTOSIS\": 2.745, \"MoM_log_MEAN\": 6.17, \"MoM_log_SORTING\": 1.871, \"MoM_log_SKEWNESS\": 0.108, \"MoM_log_KURTOSIS\": 2.745, \"FW_geo_MEAN\": 14.26, \"FW_geo_SORTING\": 3.617, \"FW_geo_SKEWNESS\": 0.013, \"FW_geo_KURTOSIS\": 0.85, \"FW_log_MEAN\": 6.132, \"FW_log_SORTING\": 1.855, \"FW_log_SKEWNESS\": -0.013, \"FW_log_KURTOSIS\": 0.85, \"FW_des_MEAN\": \"Medium Silt\", \"FW_des_SORTING\": \"Poorly Sorted\", \"FW_des_SKEWNESS\": \"Symmetrical\", \"FW_des_KURTOSIS\": \"Platykurtic\", \"MODE 1 (\\u00b5m)\": 9.83, \"MODE 2 (\\u00b5m)\": 52.68, \"MODE 3 (\\u00b5m)\": null, \"MODE 1 (f)\": 6.67, \"MODE 2 (f)\": 4.248, \"MODE 3 (f)\": null, \"D10 (\\u00b5m)\": 2.681, \"D50 (\\u00b5m)\": 13.66, \"D90 (\\u00b5m)\": 73.63, \"(D90 div D10) (\\u00b5m)\": 27.46, \"(D90 - D10) (\\u00b5m)\": 70.95, \"(D75 div D25) (\\u00b5m)\": 6.912, \"(D75 - D25) (\\u00b5m)\": 32.76, \"D10 (f)\": 3.764, \"D50 (f)\": 6.194, \"D90 (f)\": 8.543, \"(D90 div D10) (f)\": 2.27, \"(D90 - D10) (f)\": 4.779, \"(D75 div D25) (f)\": 1.593, \"(D75 - D25) (f)\": 2.789, \"perc GRAVEL\": 0.0, \"perc SAND\": 13.7, \"perc MUD\": 86.3, \"perc V COARSE GRAVEL\": 0.0, \"perc COARSE GRAVEL\": 0.0, \"perc MEDIUM GRAVEL\": 0.0, \"perc FINE GRAVEL\": 0.0, \"perc V FINE GRAVEL\": 0.0, \"perc V COARSE SAND\": 0.0, \"perc COARSE SAND\": 0.3, \"perc MEDIUM SAND\": 0.4, \"perc FINE SAND\": 1.7, \"perc V FINE SAND\": 11.2, \"perc V COARSE SILT\": 15.9, \"perc COARSE SILT\": 16.8, \"perc MEDIUM SILT\": 19.4, \"perc FINE SILT\": 17.5, \"perc V FINE SILT\": 10.9, \"perc CLAY\": 5.9, \"OM_D50\": 71.3, \"TOC\": 13.7, \"Hg\": 359.4, \"TIC\": 0.8, \"regio_sep\": \"inner\", \"Concentration_paint\": null, \"Concentration_PS_Beads\": null, \"Concentration_ord_poly\": null, \"Concentration_irregular\": null, \"pred_ConcentrationA500\": 174.69971748586852}, {\"Sample\": \"Schlei_S2\", \"Frequency\": 347.0, \"FrequencyA500\": 61.0, \"FrequencyB500\": 286.0, \"MPmass\": 296.49197350047206, \"Mass\": 0.25, \"GPS_LONs\": 9.59055, \"GPS_LATs\": 54.50770000000001, \"Split\": 0.5, \"MP_D50\": 91.92388155425118, \"Concentration\": 1388.0, \"ConcentrationA500\": 244.0, \"ConcentrationB500\": 1144.0, \"ConcentrationA500_div_B500\": 0.21328671328671328, \"MassConcentration\": 1186.0, \"Depth\": 3.6, \"Dist_Marina\": 546, \"Dist_WWTP\": 2468.0, \"Dist_WWTP2\": 2468.0, \"SAMPLE TYPE \": \"Unimodal, Poorly Sorted\", \"TEXTURAL GROUP \": \"Slightly Gravelly Muddy Sand\", \"SEDIMENT NAME \": \"Slightly Very Fine Gravelly Very Coarse Silty Medium Sand\", \"MoM_ari_MEAN\": 280.0, \"MoM_ari_SORTING\": 197.9, \"MoM_ari_SKEWNESS\": 1.545, \"MoM_ari_KURTOSIS\": 9.872, \"MoM_geo_MEAN\": 181.1, \"MoM_geo_SORTING\": 3.497, \"MoM_geo_SKEWNESS\": -1.82, \"MoM_geo_KURTOSIS\": 6.033, \"MoM_log_MEAN\": 2.465, \"MoM_log_SORTING\": 1.806, \"MoM_log_SKEWNESS\": 1.82, \"MoM_log_KURTOSIS\": 6.033, \"FW_geo_MEAN\": 215.7, \"FW_geo_SORTING\": 2.944, \"FW_geo_SKEWNESS\": -0.457, \"FW_geo_KURTOSIS\": 1.981, \"FW_log_MEAN\": 2.213, \"FW_log_SORTING\": 1.558, \"FW_log_SKEWNESS\": 0.457, \"FW_log_KURTOSIS\": 1.981, \"FW_des_MEAN\": \"Fine Sand\", \"FW_des_SORTING\": \"Poorly Sorted\", \"FW_des_SKEWNESS\": \"Very Fine Skewed\", \"FW_des_KURTOSIS\": \"Very Leptokurtic\", \"MODE 1 (\\u00b5m)\": 282.4, \"MODE 2 (\\u00b5m)\": null, \"MODE 3 (\\u00b5m)\": null, \"MODE 1 (f)\": 1.826, \"MODE 2 (f)\": null, \"MODE 3 (f)\": null, \"D10 (\\u00b5m)\": 28.75, \"D50 (\\u00b5m)\": 256.7, \"D90 (\\u00b5m)\": 519.6, \"(D90 div D10) (\\u00b5m)\": 18.07, \"(D90 - D10) (\\u00b5m)\": 490.8, \"(D75 div D25) (\\u00b5m)\": 2.487, \"(D75 - D25) (\\u00b5m)\": 227.2, \"D10 (f)\": 0.945, \"D50 (f)\": 1.962, \"D90 (f)\": 5.12, \"(D90 div D10) (f)\": 5.421, \"(D90 - D10) (f)\": 4.176, \"(D75 div D25) (f)\": 1.942, \"(D75 - D25) (f)\": 1.315, \"perc GRAVEL\": 0.0, \"perc SAND\": 86.0, \"perc MUD\": 14.0, \"perc V COARSE GRAVEL\": 0.0, \"perc COARSE GRAVEL\": 0.0, \"perc MEDIUM GRAVEL\": 0.0, \"perc FINE GRAVEL\": 0.0, \"perc V FINE GRAVEL\": 0.0, \"perc V COARSE SAND\": 0.5, \"perc COARSE SAND\": 11.0, \"perc MEDIUM SAND\": 40.1, \"perc FINE SAND\": 28.1, \"perc V FINE SAND\": 6.2, \"perc V COARSE SILT\": 3.6, \"perc COARSE SILT\": 2.5, \"perc MEDIUM SILT\": 2.8, \"perc FINE SILT\": 2.8, \"perc V FINE SILT\": 1.8, \"perc CLAY\": 0.4, \"OM_D50\": 32.7, \"TOC\": 1.402, \"Hg\": 34.9, \"TIC\": 0.125, \"regio_sep\": \"inner\", \"Concentration_paint\": null, \"Concentration_PS_Beads\": null, \"Concentration_ord_poly\": null, \"Concentration_irregular\": null, \"pred_ConcentrationA500\": 3.3713044816209092}, {\"Sample\": \"Schlei_S20\", \"Frequency\": 384.0, \"FrequencyA500\": 27.0, \"FrequencyB500\": 357.0, \"MPmass\": 158.54034895615084, \"Mass\": 0.20000000000000004, \"GPS_LONs\": 9.69137, \"GPS_LATs\": 54.521899999999995, \"Split\": 0.25, \"MP_D50\": 92.10863151735563, \"Concentration\": 1920.0, \"ConcentrationA500\": 135.0, \"ConcentrationB500\": 1785.0, \"ConcentrationA500_div_B500\": 0.07563025210084033, \"MassConcentration\": 793.0, \"Depth\": 3.5, \"Dist_Marina\": 1436, \"Dist_WWTP\": 6230.0, \"Dist_WWTP2\": 6230.0, \"SAMPLE TYPE \": \"Unimodal, Poorly Sorted\", \"TEXTURAL GROUP \": \"Muddy Sand\", \"SEDIMENT NAME \": \"Very Coarse Silty Very Fine Sand\", \"MoM_ari_MEAN\": 104.5, \"MoM_ari_SORTING\": 69.31, \"MoM_ari_SKEWNESS\": 0.291, \"MoM_ari_KURTOSIS\": 2.527, \"MoM_geo_MEAN\": 57.12, \"MoM_geo_SORTING\": 5.379, \"MoM_geo_SKEWNESS\": -2.227, \"MoM_geo_KURTOSIS\": 8.077, \"MoM_log_MEAN\": 4.13, \"MoM_log_SORTING\": 2.427, \"MoM_log_SKEWNESS\": 2.227, \"MoM_log_KURTOSIS\": 8.077, \"FW_geo_MEAN\": 63.59, \"FW_geo_SORTING\": 3.857, \"FW_geo_SKEWNESS\": -0.621, \"FW_geo_KURTOSIS\": 1.954, \"FW_log_MEAN\": 3.975, \"FW_log_SORTING\": 1.947, \"FW_log_SKEWNESS\": 0.621, \"FW_log_KURTOSIS\": 1.954, \"FW_des_MEAN\": \"Very Fine Sand\", \"FW_des_SORTING\": \"Poorly Sorted\", \"FW_des_SKEWNESS\": \"Very Fine Skewed\", \"FW_des_KURTOSIS\": \"Very Leptokurtic\", \"MODE 1 (\\u00b5m)\": 133.9, \"MODE 2 (\\u00b5m)\": null, \"MODE 3 (\\u00b5m)\": null, \"MODE 1 (f)\": 2.902, \"MODE 2 (f)\": null, \"MODE 3 (f)\": null, \"D10 (\\u00b5m)\": 4.907, \"D50 (\\u00b5m)\": 102.7, \"D90 (\\u00b5m)\": 197.8, \"(D90 div D10) (\\u00b5m)\": 40.31, \"(D90 - D10) (\\u00b5m)\": 192.9, \"(D75 div D25) (\\u00b5m)\": 2.723, \"(D75 - D25) (\\u00b5m)\": 95.24, \"D10 (f)\": 2.338, \"D50 (f)\": 3.284, \"D90 (f)\": 7.671, \"(D90 div D10) (f)\": 3.281, \"(D90 - D10) (f)\": 5.333, \"(D75 div D25) (f)\": 1.529, \"(D75 - D25) (f)\": 1.445, \"perc GRAVEL\": 0.0, \"perc SAND\": 72.2, \"perc MUD\": 27.8, \"perc V COARSE GRAVEL\": 0.0, \"perc COARSE GRAVEL\": 0.0, \"perc MEDIUM GRAVEL\": 0.0, \"perc FINE GRAVEL\": 0.0, \"perc V FINE GRAVEL\": 0.0, \"perc V COARSE SAND\": 0.0, \"perc COARSE SAND\": 0.0, \"perc MEDIUM SAND\": 2.4, \"perc FINE SAND\": 34.8, \"perc V FINE SAND\": 34.9, \"perc V COARSE SILT\": 8.2, \"perc COARSE SILT\": 3.2, \"perc MEDIUM SILT\": 3.7, \"perc FINE SILT\": 4.2, \"perc V FINE SILT\": 3.5, \"perc CLAY\": 5.1, \"OM_D50\": 37.4, \"TOC\": 1.3055, \"Hg\": 30.6, \"TIC\": 0.32, \"regio_sep\": \"inner\", \"Concentration_paint\": null, \"Concentration_PS_Beads\": null, \"Concentration_ord_poly\": null, \"Concentration_irregular\": null, \"pred_ConcentrationA500\": 6.257153873934495}, {\"Sample\": \"Schlei_S21\", \"Frequency\": 477.0, \"FrequencyA500\": 106.0, \"FrequencyB500\": 371.0, \"MPmass\": 473.66102751490376, \"Mass\": 0.08, \"GPS_LONs\": 9.73118, \"GPS_LATs\": 54.5276, \"Split\": 0.25, \"MP_D50\": 112.65433857601757, \"Concentration\": 5962.0, \"ConcentrationA500\": 1325.0, \"ConcentrationB500\": 4638.0, \"ConcentrationA500_div_B500\": 0.2856834842604571, \"MassConcentration\": 5921.0, \"Depth\": 2.1, \"Dist_Marina\": 523, \"Dist_WWTP\": 9723.0, \"Dist_WWTP2\": 9723.0, \"SAMPLE TYPE \": \"Trimodal, Very Poorly Sorted\", \"TEXTURAL GROUP \": \"Sandy Mud\", \"SEDIMENT NAME \": \"Very Fine Sandy Very Coarse Silt\", \"MoM_ari_MEAN\": 38.29, \"MoM_ari_SORTING\": 71.65, \"MoM_ari_SKEWNESS\": 5.093, \"MoM_ari_KURTOSIS\": 35.01, \"MoM_geo_MEAN\": 14.23, \"MoM_geo_SORTING\": 4.547, \"MoM_geo_SKEWNESS\": -0.275, \"MoM_geo_KURTOSIS\": 2.798, \"MoM_log_MEAN\": 6.135, \"MoM_log_SORTING\": 2.185, \"MoM_log_SKEWNESS\": 0.275, \"MoM_log_KURTOSIS\": 2.798, \"FW_geo_MEAN\": 14.68, \"FW_geo_SORTING\": 4.454, \"FW_geo_SKEWNESS\": -0.111, \"FW_geo_KURTOSIS\": 0.901, \"FW_log_MEAN\": 6.09, \"FW_log_SORTING\": 2.155, \"FW_log_SKEWNESS\": 0.111, \"FW_log_KURTOSIS\": 0.901, \"FW_des_MEAN\": \"Medium Silt\", \"FW_des_SORTING\": \"Very Poorly Sorted\", \"FW_des_SKEWNESS\": \"Fine Skewed\", \"FW_des_KURTOSIS\": \"Mesokurtic\", \"MODE 1 (\\u00b5m)\": 52.68, \"MODE 2 (\\u00b5m)\": 7.43, \"MODE 3 (\\u00b5m)\": 0.545, \"MODE 1 (f)\": 4.248, \"MODE 2 (f)\": 7.074, \"MODE 3 (f)\": 10.84, \"D10 (\\u00b5m)\": 2.084, \"D50 (\\u00b5m)\": 15.32, \"D90 (\\u00b5m)\": 83.4, \"(D90 div D10) (\\u00b5m)\": 40.03, \"(D90 - D10) (\\u00b5m)\": 81.32, \"(D75 div D25) (\\u00b5m)\": 9.233, \"(D75 - D25) (\\u00b5m)\": 41.52, \"D10 (f)\": 3.584, \"D50 (f)\": 6.028, \"D90 (f)\": 8.907, \"(D90 div D10) (f)\": 2.485, \"(D90 - D10) (f)\": 5.323, \"(D75 div D25) (f)\": 1.725, \"(D75 - D25) (f)\": 3.207, \"perc GRAVEL\": 0.0, \"perc SAND\": 17.0, \"perc MUD\": 83.0, \"perc V COARSE GRAVEL\": 0.0, \"perc COARSE GRAVEL\": 0.0, \"perc MEDIUM GRAVEL\": 0.0, \"perc FINE GRAVEL\": 0.0, \"perc V FINE GRAVEL\": 0.0, \"perc V COARSE SAND\": 0.0, \"perc COARSE SAND\": 0.6, \"perc MEDIUM SAND\": 1.7, \"perc FINE SAND\": 1.7, \"perc V FINE SAND\": 12.9, \"perc V COARSE SILT\": 18.1, \"perc COARSE SILT\": 14.5, \"perc MEDIUM SILT\": 15.3, \"perc FINE SILT\": 15.4, \"perc V FINE SILT\": 10.4, \"perc CLAY\": 9.3, \"OM_D50\": 28.2, \"TOC\": 10.9955, \"Hg\": 173.3, \"TIC\": 0.405, \"regio_sep\": \"middle\", \"Concentration_paint\": null, \"Concentration_PS_Beads\": null, \"Concentration_ord_poly\": null, \"Concentration_irregular\": null, \"pred_ConcentrationA500\": 129.5943579974175}, {\"Sample\": \"Schlei_S22\", \"Frequency\": 50.0, \"FrequencyA500\": 5.0, \"FrequencyB500\": 45.0, \"MPmass\": 46.535738548658244, \"Mass\": 0.066, \"GPS_LONs\": 9.76887, \"GPS_LATs\": 54.560100000000006, \"Split\": 1.0, \"MP_D50\": 76.65038085648958, \"Concentration\": 758.0, \"ConcentrationA500\": 76.0, \"ConcentrationB500\": 682.0, \"ConcentrationA500_div_B500\": 0.11143695014662756, \"MassConcentration\": 705.0, \"Depth\": 4.0, \"Dist_Marina\": 537, \"Dist_WWTP\": 14087.0, \"Dist_WWTP2\": 14087.0, \"SAMPLE TYPE \": \"Unimodal, Poorly Sorted\", \"TEXTURAL GROUP \": \"Sandy Mud\", \"SEDIMENT NAME \": \"Very Fine Sandy Very Coarse Silt\", \"MoM_ari_MEAN\": 43.95, \"MoM_ari_SORTING\": 31.4, \"MoM_ari_SKEWNESS\": 0.916, \"MoM_ari_KURTOSIS\": 3.643, \"MoM_geo_MEAN\": 31.34, \"MoM_geo_SORTING\": 2.553, \"MoM_geo_SKEWNESS\": -0.875, \"MoM_geo_KURTOSIS\": 3.316, \"MoM_log_MEAN\": 4.996, \"MoM_log_SORTING\": 1.352, \"MoM_log_SKEWNESS\": 0.875, \"MoM_log_KURTOSIS\": 3.316, \"FW_geo_MEAN\": 32.41, \"FW_geo_SORTING\": 2.54, \"FW_geo_SKEWNESS\": -0.316, \"FW_geo_KURTOSIS\": 1.051, \"FW_log_MEAN\": 4.948, \"FW_log_SORTING\": 1.345, \"FW_log_SKEWNESS\": 0.316, \"FW_log_KURTOSIS\": 1.051, \"FW_des_MEAN\": \"Very Coarse Silt\", \"FW_des_SORTING\": \"Poorly Sorted\", \"FW_des_SKEWNESS\": \"Very Fine Skewed\", \"FW_des_KURTOSIS\": \"Mesokurtic\", \"MODE 1 (\\u00b5m)\": 52.68, \"MODE 2 (\\u00b5m)\": null, \"MODE 3 (\\u00b5m)\": null, \"MODE 1 (f)\": 4.248, \"MODE 2 (f)\": null, \"MODE 3 (f)\": null, \"D10 (\\u00b5m)\": 7.77, \"D50 (\\u00b5m)\": 38.47, \"D90 (\\u00b5m)\": 87.49, \"(D90 div D10) (\\u00b5m)\": 11.26, \"(D90 - D10) (\\u00b5m)\": 79.72, \"(D75 div D25) (\\u00b5m)\": 3.336, \"(D75 - D25) (\\u00b5m)\": 43.64, \"D10 (f)\": 3.515, \"D50 (f)\": 4.7, \"D90 (f)\": 7.008, \"(D90 div D10) (f)\": 1.994, \"(D90 - D10) (f)\": 3.493, \"(D75 div D25) (f)\": 1.434, \"(D75 - D25) (f)\": 1.738, \"perc GRAVEL\": 0.0, \"perc SAND\": 24.8, \"perc MUD\": 75.2, \"perc V COARSE GRAVEL\": 0.0, \"perc COARSE GRAVEL\": 0.0, \"perc MEDIUM GRAVEL\": 0.0, \"perc FINE GRAVEL\": 0.0, \"perc V FINE GRAVEL\": 0.0, \"perc V COARSE SAND\": 0.0, \"perc COARSE SAND\": 0.0, \"perc MEDIUM SAND\": 0.0, \"perc FINE SAND\": 1.8, \"perc V FINE SAND\": 23.0, \"perc V COARSE SILT\": 34.3, \"perc COARSE SILT\": 19.7, \"perc MEDIUM SILT\": 11.1, \"perc FINE SILT\": 6.5, \"perc V FINE SILT\": 3.0, \"perc CLAY\": 0.6, \"OM_D50\": 53.0, \"TOC\": 11.5525, \"Hg\": 175.6, \"TIC\": 0.455, \"regio_sep\": \"middle\", \"Concentration_paint\": null, \"Concentration_PS_Beads\": null, \"Concentration_ord_poly\": null, \"Concentration_irregular\": null, \"pred_ConcentrationA500\": 93.93838559871641}, {\"Sample\": \"Schlei_S23\", \"Frequency\": 165.0, \"FrequencyA500\": 20.0, \"FrequencyB500\": 145.0, \"MPmass\": 141.5782592889359, \"Mass\": 0.093, \"GPS_LONs\": 9.78108, \"GPS_LATs\": 54.5722, \"Split\": 1.0, \"MP_D50\": 93.67496997597596, \"Concentration\": 1774.0, \"ConcentrationA500\": 215.0, \"ConcentrationB500\": 1559.0, \"ConcentrationA500_div_B500\": 0.1379089159717768, \"MassConcentration\": 1522.0, \"Depth\": 3.1, \"Dist_Marina\": 1797, \"Dist_WWTP\": 15662.0, \"Dist_WWTP2\": 14154.0, \"SAMPLE TYPE \": \"Bimodal, Poorly Sorted\", \"TEXTURAL GROUP \": \"Mud\", \"SEDIMENT NAME \": \"Medium Silt\", \"MoM_ari_MEAN\": 25.19, \"MoM_ari_SORTING\": 53.91, \"MoM_ari_SKEWNESS\": 7.219, \"MoM_ari_KURTOSIS\": 65.93, \"MoM_geo_MEAN\": 10.91, \"MoM_geo_SORTING\": 3.659, \"MoM_geo_SKEWNESS\": -0.096, \"MoM_geo_KURTOSIS\": 3.065, \"MoM_log_MEAN\": 6.518, \"MoM_log_SORTING\": 1.872, \"MoM_log_SKEWNESS\": 0.096, \"MoM_log_KURTOSIS\": 3.065, \"FW_geo_MEAN\": 11.12, \"FW_geo_SORTING\": 3.573, \"FW_geo_SKEWNESS\": -0.056, \"FW_geo_KURTOSIS\": 0.936, \"FW_log_MEAN\": 6.49, \"FW_log_SORTING\": 1.837, \"FW_log_SKEWNESS\": 0.056, \"FW_log_KURTOSIS\": 0.936, \"FW_des_MEAN\": \"Medium Silt\", \"FW_des_SORTING\": \"Poorly Sorted\", \"FW_des_SKEWNESS\": \"Symmetrical\", \"FW_des_KURTOSIS\": \"Mesokurtic\", \"MODE 1 (\\u00b5m)\": 8.157, \"MODE 2 (\\u00b5m)\": 0.657, \"MODE 3 (\\u00b5m)\": null, \"MODE 1 (f)\": 6.939, \"MODE 2 (f)\": 10.57, \"MODE 3 (f)\": null, \"D10 (\\u00b5m)\": 2.137, \"D50 (\\u00b5m)\": 11.23, \"D90 (\\u00b5m)\": 53.01, \"(D90 div D10) (\\u00b5m)\": 24.81, \"(D90 - D10) (\\u00b5m)\": 50.87, \"(D75 div D25) (\\u00b5m)\": 6.165, \"(D75 - D25) (\\u00b5m)\": 23.58, \"D10 (f)\": 4.238, \"D50 (f)\": 6.476, \"D90 (f)\": 8.87, \"(D90 div D10) (f)\": 2.093, \"(D90 - D10) (f)\": 4.633, \"(D75 div D25) (f)\": 1.509, \"(D75 - D25) (f)\": 2.624, \"perc GRAVEL\": 0.0, \"perc SAND\": 7.1, \"perc MUD\": 92.9, \"perc V COARSE GRAVEL\": 0.0, \"perc COARSE GRAVEL\": 0.0, \"perc MEDIUM GRAVEL\": 0.0, \"perc FINE GRAVEL\": 0.0, \"perc V FINE GRAVEL\": 0.0, \"perc V COARSE SAND\": 0.0, \"perc COARSE SAND\": 0.3, \"perc MEDIUM SAND\": 1.0, \"perc FINE SAND\": 0.2, \"perc V FINE SAND\": 5.6, \"perc V COARSE SILT\": 15.1, \"perc COARSE SILT\": 18.7, \"perc MEDIUM SILT\": 19.3, \"perc FINE SILT\": 18.5, \"perc V FINE SILT\": 12.4, \"perc CLAY\": 8.8, \"OM_D50\": 112.0, \"TOC\": 12.224, \"Hg\": 231.7, \"TIC\": 0.426666666666667, \"regio_sep\": \"middle\", \"Concentration_paint\": null, \"Concentration_PS_Beads\": null, \"Concentration_ord_poly\": null, \"Concentration_irregular\": null, \"pred_ConcentrationA500\": 216.97850037084615}, {\"Sample\": \"Schlei_S25\", \"Frequency\": 228.0, \"FrequencyA500\": 39.0, \"FrequencyB500\": 189.0, \"MPmass\": 629.2690852536841, \"Mass\": 0.13, \"GPS_LONs\": 9.88715, \"GPS_LATs\": 54.6143, \"Split\": 1.0, \"MP_D50\": 95.16300627824279, \"Concentration\": 1754.0, \"ConcentrationA500\": 300.0, \"ConcentrationB500\": 1454.0, \"ConcentrationA500_div_B500\": 0.2063273727647868, \"MassConcentration\": 4841.0, \"Depth\": 3.0, \"Dist_Marina\": 473, \"Dist_WWTP\": 24017.0, \"Dist_WWTP2\": 5771.0, \"SAMPLE TYPE \": \"Unimodal, Poorly Sorted\", \"TEXTURAL GROUP \": \"Mud\", \"SEDIMENT NAME \": \"Coarse Silt\", \"MoM_ari_MEAN\": 28.51, \"MoM_ari_SORTING\": 44.01, \"MoM_ari_SKEWNESS\": 12.54, \"MoM_ari_KURTOSIS\": 258.6, \"MoM_geo_MEAN\": 17.23, \"MoM_geo_SORTING\": 2.763, \"MoM_geo_SKEWNESS\": -0.135, \"MoM_geo_KURTOSIS\": 2.91, \"MoM_log_MEAN\": 5.859, \"MoM_log_SORTING\": 1.466, \"MoM_log_SKEWNESS\": 0.135, \"MoM_log_KURTOSIS\": 2.91, \"FW_geo_MEAN\": 17.29, \"FW_geo_SORTING\": 2.791, \"FW_geo_SKEWNESS\": -0.089, \"FW_geo_KURTOSIS\": 0.977, \"FW_log_MEAN\": 5.854, \"FW_log_SORTING\": 1.481, \"FW_log_SKEWNESS\": 0.089, \"FW_log_KURTOSIS\": 0.977, \"FW_des_MEAN\": \"Coarse Silt\", \"FW_des_SORTING\": \"Poorly Sorted\", \"FW_des_SKEWNESS\": \"Symmetrical\", \"FW_des_KURTOSIS\": \"Mesokurtic\", \"MODE 1 (\\u00b5m)\": 22.76, \"MODE 2 (\\u00b5m)\": null, \"MODE 3 (\\u00b5m)\": null, \"MODE 1 (f)\": 5.459, \"MODE 2 (f)\": null, \"MODE 3 (f)\": null, \"D10 (\\u00b5m)\": 4.29, \"D50 (\\u00b5m)\": 18.31, \"D90 (\\u00b5m)\": 61.28, \"(D90 div D10) (\\u00b5m)\": 14.29, \"(D90 - D10) (\\u00b5m)\": 56.99, \"(D75 div D25) (\\u00b5m)\": 4.077, \"(D75 - D25) (\\u00b5m)\": 26.63, \"D10 (f)\": 4.028, \"D50 (f)\": 5.771, \"D90 (f)\": 7.865, \"(D90 div D10) (f)\": 1.952, \"(D90 - D10) (f)\": 3.837, \"(D75 div D25) (f)\": 1.42, \"(D75 - D25) (f)\": 2.027, \"perc GRAVEL\": 0.0, \"perc SAND\": 9.6, \"perc MUD\": 90.4, \"perc V COARSE GRAVEL\": 0.0, \"perc COARSE GRAVEL\": 0.0, \"perc MEDIUM GRAVEL\": 0.0, \"perc FINE GRAVEL\": 0.0, \"perc V FINE GRAVEL\": 0.0, \"perc V COARSE SAND\": 0.0, \"perc COARSE SAND\": 0.1, \"perc MEDIUM SAND\": 0.1, \"perc FINE SAND\": 1.3, \"perc V FINE SAND\": 8.1, \"perc V COARSE SILT\": 19.7, \"perc COARSE SILT\": 26.7, \"perc MEDIUM SILT\": 21.7, \"perc FINE SILT\": 13.7, \"perc V FINE SILT\": 7.0, \"perc CLAY\": 1.6, \"OM_D50\": 46.7, \"TOC\": 8.713, \"Hg\": 166.0, \"TIC\": 0.215, \"regio_sep\": \"middle\", \"Concentration_paint\": null, \"Concentration_PS_Beads\": null, \"Concentration_ord_poly\": null, \"Concentration_irregular\": null, \"pred_ConcentrationA500\": 159.60742619865832}, {\"Sample\": \"Schlei_S26\", \"Frequency\": 19.0, \"FrequencyA500\": 3.0, \"FrequencyB500\": 16.0, \"MPmass\": 8.84729891732973, \"Mass\": 0.25, \"GPS_LONs\": 9.92367, \"GPS_LATs\": 54.62469999999999, \"Split\": 1.0, \"MP_D50\": 119.05880899790658, \"Concentration\": 76.0, \"ConcentrationA500\": 12.0, \"ConcentrationB500\": 64.0, \"ConcentrationA500_div_B500\": 0.1875, \"MassConcentration\": 35.0, \"Depth\": 2.3, \"Dist_Marina\": 927, \"Dist_WWTP\": 26567.0, \"Dist_WWTP2\": 3088.0, \"SAMPLE TYPE \": \"Bimodal, Very Poorly Sorted\", \"TEXTURAL GROUP \": \"Slightly Gravelly Muddy Sand\", \"SEDIMENT NAME \": \"Slightly Very Fine Gravelly Fine Silty Medium Sand\", \"MoM_ari_MEAN\": 303.8, \"MoM_ari_SORTING\": 330.9, \"MoM_ari_SKEWNESS\": 2.069, \"MoM_ari_KURTOSIS\": 8.841, \"MoM_geo_MEAN\": 121.3, \"MoM_geo_SORTING\": 5.894, \"MoM_geo_SKEWNESS\": -0.922, \"MoM_geo_KURTOSIS\": 2.772, \"MoM_log_MEAN\": 3.043, \"MoM_log_SORTING\": 2.559, \"MoM_log_SKEWNESS\": 0.922, \"MoM_log_KURTOSIS\": 2.772, \"FW_geo_MEAN\": 112.1, \"FW_geo_SORTING\": 6.157, \"FW_geo_SKEWNESS\": -0.519, \"FW_geo_KURTOSIS\": 1.012, \"FW_log_MEAN\": 3.157, \"FW_log_SORTING\": 2.622, \"FW_log_SKEWNESS\": 0.519, \"FW_log_KURTOSIS\": 1.012, \"FW_des_MEAN\": \"Very Fine Sand\", \"FW_des_SORTING\": \"Very Poorly Sorted\", \"FW_des_SKEWNESS\": \"Very Fine Skewed\", \"FW_des_KURTOSIS\": \"Mesokurtic\", \"MODE 1 (\\u00b5m)\": 340.3, \"MODE 2 (\\u00b5m)\": 5.617, \"MODE 3 (\\u00b5m)\": null, \"MODE 1 (f)\": 1.557, \"MODE 2 (f)\": 7.478, \"MODE 3 (f)\": null, \"D10 (\\u00b5m)\": 5.863, \"D50 (\\u00b5m)\": 225.1, \"D90 (\\u00b5m)\": 683.9, \"(D90 div D10) (\\u00b5m)\": 116.6, \"(D90 - D10) (\\u00b5m)\": 678.0, \"(D75 div D25) (\\u00b5m)\": 9.65, \"(D75 - D25) (\\u00b5m)\": 383.2, \"D10 (f)\": 0.548, \"D50 (f)\": 2.151, \"D90 (f)\": 7.414, \"(D90 div D10) (f)\": 13.53, \"(D90 - D10) (f)\": 6.866, \"(D75 div D25) (f)\": 3.668, \"(D75 - D25) (f)\": 3.271, \"perc GRAVEL\": 0.2, \"perc SAND\": 72.4, \"perc MUD\": 27.4, \"perc V COARSE GRAVEL\": 0.0, \"perc COARSE GRAVEL\": 0.0, \"perc MEDIUM GRAVEL\": 0.0, \"perc FINE GRAVEL\": 0.0, \"perc V FINE GRAVEL\": 0.2, \"perc V COARSE SAND\": 3.9, \"perc COARSE SAND\": 15.1, \"perc MEDIUM SAND\": 27.1, \"perc FINE SAND\": 18.7, \"perc V FINE SAND\": 7.7, \"perc V COARSE SILT\": 4.6, \"perc COARSE SILT\": 4.5, \"perc MEDIUM SILT\": 5.5, \"perc FINE SILT\": 6.6, \"perc V FINE SILT\": 4.6, \"perc CLAY\": 1.6, \"OM_D50\": 55.9, \"TOC\": 0.1885, \"Hg\": 17.6, \"TIC\": 3.07, \"regio_sep\": \"middle\", \"Concentration_paint\": null, \"Concentration_PS_Beads\": null, \"Concentration_ord_poly\": null, \"Concentration_irregular\": null, \"pred_ConcentrationA500\": 5.777088886766248}, {\"Sample\": \"Schlei_S27\", \"Frequency\": 349.0, \"FrequencyA500\": 78.0, \"FrequencyB500\": 271.0, \"MPmass\": 209.866983516029, \"Mass\": 0.25, \"GPS_LONs\": 9.9332, \"GPS_LATs\": 54.63590000000001, \"Split\": 0.25, \"MP_D50\": 96.91749068150702, \"Concentration\": 1396.0, \"ConcentrationA500\": 312.0, \"ConcentrationB500\": 1084.0, \"ConcentrationA500_div_B500\": 0.2878228782287823, \"MassConcentration\": 839.0, \"Depth\": 1.2, \"Dist_Marina\": 195, \"Dist_WWTP\": 28534.0, \"Dist_WWTP2\": 1435.0, \"SAMPLE TYPE \": \"Unimodal, Very Poorly Sorted\", \"TEXTURAL GROUP \": \"Sandy Mud\", \"SEDIMENT NAME \": \"Very Fine Sandy Very Coarse Silt\", \"MoM_ari_MEAN\": 38.21, \"MoM_ari_SORTING\": 69.65, \"MoM_ari_SKEWNESS\": 6.656, \"MoM_ari_KURTOSIS\": 59.99, \"MoM_geo_MEAN\": 16.45, \"MoM_geo_SORTING\": 4.268, \"MoM_geo_SKEWNESS\": -0.613, \"MoM_geo_KURTOSIS\": 3.313, \"MoM_log_MEAN\": 5.926, \"MoM_log_SORTING\": 2.093, \"MoM_log_SKEWNESS\": 0.613, \"MoM_log_KURTOSIS\": 3.313, \"FW_geo_MEAN\": 17.22, \"FW_geo_SORTING\": 4.037, \"FW_geo_SKEWNESS\": -0.304, \"FW_geo_KURTOSIS\": 0.936, \"FW_log_MEAN\": 5.86, \"FW_log_SORTING\": 2.013, \"FW_log_SKEWNESS\": 0.304, \"FW_log_KURTOSIS\": 0.936, \"FW_des_MEAN\": \"Coarse Silt\", \"FW_des_SORTING\": \"Very Poorly Sorted\", \"FW_des_SKEWNESS\": \"Very Fine Skewed\", \"FW_des_KURTOSIS\": \"Mesokurtic\", \"MODE 1 (\\u00b5m)\": 43.72, \"MODE 2 (\\u00b5m)\": null, \"MODE 3 (\\u00b5m)\": null, \"MODE 1 (f)\": 4.517, \"MODE 2 (f)\": null, \"MODE 3 (f)\": null, \"D10 (\\u00b5m)\": 2.345, \"D50 (\\u00b5m)\": 22.15, \"D90 (\\u00b5m)\": 76.92, \"(D90 div D10) (\\u00b5m)\": 32.81, \"(D90 - D10) (\\u00b5m)\": 74.58, \"(D75 div D25) (\\u00b5m)\": 7.424, \"(D75 - D25) (\\u00b5m)\": 40.99, \"D10 (f)\": 3.7, \"D50 (f)\": 5.497, \"D90 (f)\": 8.736, \"(D90 div D10) (f)\": 2.361, \"(D90 - D10) (f)\": 5.036, \"(D75 div D25) (f)\": 1.657, \"(D75 - D25) (f)\": 2.892, \"perc GRAVEL\": 0.0, \"perc SAND\": 15.7, \"perc MUD\": 84.3, \"perc V COARSE GRAVEL\": 0.0, \"perc COARSE GRAVEL\": 0.0, \"perc MEDIUM GRAVEL\": 0.0, \"perc FINE GRAVEL\": 0.0, \"perc V FINE GRAVEL\": 0.0, \"perc V COARSE SAND\": 0.0, \"perc COARSE SAND\": 0.7, \"perc MEDIUM SAND\": 1.0, \"perc FINE SAND\": 1.1, \"perc V FINE SAND\": 12.8, \"perc V COARSE SILT\": 24.0, \"perc COARSE SILT\": 18.5, \"perc MEDIUM SILT\": 13.1, \"perc FINE SILT\": 11.9, \"perc V FINE SILT\": 8.5, \"perc CLAY\": 8.2, \"OM_D50\": 35.9, \"TOC\": 6.8825, \"Hg\": 182.6, \"TIC\": 0.235, \"regio_sep\": \"WWTP\", \"Concentration_paint\": null, \"Concentration_PS_Beads\": null, \"Concentration_ord_poly\": null, \"Concentration_irregular\": null, \"pred_ConcentrationA500\": 109.48754899684893}, {\"Sample\": \"Schlei_S29\", \"Frequency\": 1165.0, \"FrequencyA500\": 159.0, \"FrequencyB500\": 1006.0, \"MPmass\": 1493.884984054715, \"Mass\": 0.25, \"GPS_LONs\": 9.93985, \"GPS_LATs\": 54.6633, \"Split\": 0.125, \"MP_D50\": 99.31767214348108, \"Concentration\": 4660.0, \"ConcentrationA500\": 636.0, \"ConcentrationB500\": 4024.0, \"ConcentrationA500_div_B500\": 0.15805168986083498, \"MassConcentration\": 5976.0, \"Depth\": 1.2, \"Dist_Marina\": 344, \"Dist_WWTP\": 31509.0, \"Dist_WWTP2\": 1729.0, \"SAMPLE TYPE \": \"Unimodal, Very Poorly Sorted\", \"TEXTURAL GROUP \": \"Sandy Mud\", \"SEDIMENT NAME \": \"Very Fine Sandy Very Coarse Silt\", \"MoM_ari_MEAN\": 47.36, \"MoM_ari_SORTING\": 88.13, \"MoM_ari_SKEWNESS\": 5.945, \"MoM_ari_KURTOSIS\": 49.94, \"MoM_geo_MEAN\": 17.01, \"MoM_geo_SORTING\": 5.21, \"MoM_geo_SKEWNESS\": -0.67, \"MoM_geo_KURTOSIS\": 3.495, \"MoM_log_MEAN\": 5.877, \"MoM_log_SORTING\": 2.381, \"MoM_log_SKEWNESS\": 0.67, \"MoM_log_KURTOSIS\": 3.495, \"FW_geo_MEAN\": 18.29, \"FW_geo_SORTING\": 4.909, \"FW_geo_SKEWNESS\": -0.234, \"FW_geo_KURTOSIS\": 0.948, \"FW_log_MEAN\": 5.773, \"FW_log_SORTING\": 2.295, \"FW_log_SKEWNESS\": 0.234, \"FW_log_KURTOSIS\": 0.948, \"FW_des_MEAN\": \"Coarse Silt\", \"FW_des_SORTING\": \"Very Poorly Sorted\", \"FW_des_SKEWNESS\": \"Fine Skewed\", \"FW_des_KURTOSIS\": \"Mesokurtic\", \"MODE 1 (\\u00b5m)\": 63.49, \"MODE 2 (\\u00b5m)\": null, \"MODE 3 (\\u00b5m)\": null, \"MODE 1 (f)\": 3.979, \"MODE 2 (f)\": null, \"MODE 3 (f)\": null, \"D10 (\\u00b5m)\": 2.088, \"D50 (\\u00b5m)\": 21.81, \"D90 (\\u00b5m)\": 103.4, \"(D90 div D10) (\\u00b5m)\": 49.51, \"(D90 - D10) (\\u00b5m)\": 101.3, \"(D75 div D25) (\\u00b5m)\": 9.896, \"(D75 - D25) (\\u00b5m)\": 53.19, \"D10 (f)\": 3.274, \"D50 (f)\": 5.519, \"D90 (f)\": 8.904, \"(D90 div D10) (f)\": 2.719, \"(D90 - D10) (f)\": 5.63, \"(D75 div D25) (f)\": 1.811, \"(D75 - D25) (f)\": 3.307, \"perc GRAVEL\": 0.0, \"perc SAND\": 23.4, \"perc MUD\": 76.6, \"perc V COARSE GRAVEL\": 0.0, \"perc COARSE GRAVEL\": 0.0, \"perc MEDIUM GRAVEL\": 0.0, \"perc FINE GRAVEL\": 0.0, \"perc V FINE GRAVEL\": 0.0, \"perc V COARSE SAND\": 0.1, \"perc COARSE SAND\": 1.0, \"perc MEDIUM SAND\": 0.9, \"perc FINE SAND\": 4.4, \"perc V FINE SAND\": 16.9, \"perc V COARSE SILT\": 18.7, \"perc COARSE SILT\": 14.6, \"perc MEDIUM SILT\": 13.3, \"perc FINE SILT\": 12.2, \"perc V FINE SILT\": 8.3, \"perc CLAY\": 9.4, \"OM_D50\": 131.0, \"TOC\": 5.7785, \"Hg\": 139.2687, \"TIC\": 0.49, \"regio_sep\": \"outer\", \"Concentration_paint\": null, \"Concentration_PS_Beads\": null, \"Concentration_ord_poly\": null, \"Concentration_irregular\": null, \"pred_ConcentrationA500\": 72.7292704369233}, {\"Sample\": \"Schlei_S2_15cm\", \"Frequency\": 537.0, \"FrequencyA500\": 87.0, \"FrequencyB500\": 450.0, \"MPmass\": 343.62996870919824, \"Mass\": 0.25, \"GPS_LONs\": 9.59055, \"GPS_LATs\": 54.5077, \"Split\": 0.25, \"MP_D50\": 96.93296652842108, \"Concentration\": 2148.0, \"ConcentrationA500\": 348.0, \"ConcentrationB500\": 1800.0, \"ConcentrationA500_div_B500\": 0.19333333333333333, \"MassConcentration\": 1375.0, \"Depth\": 3.6, \"Dist_Marina\": 546, \"Dist_WWTP\": 2468.0, \"Dist_WWTP2\": 2468.0, \"SAMPLE TYPE \": \"Unimodal, Poorly Sorted\", \"TEXTURAL GROUP \": \"Slightly Gravelly Muddy Sand\", \"SEDIMENT NAME \": \"Slightly Very Fine Gravelly Medium Silty Medium Sand\", \"MoM_ari_MEAN\": 294.3, \"MoM_ari_SORTING\": 223.2, \"MoM_ari_SKEWNESS\": 2.399, \"MoM_ari_KURTOSIS\": 15.33, \"MoM_geo_MEAN\": 188.9, \"MoM_geo_SORTING\": 3.515, \"MoM_geo_SKEWNESS\": -1.793, \"MoM_geo_KURTOSIS\": 5.858, \"MoM_log_MEAN\": 2.404, \"MoM_log_SORTING\": 1.814, \"MoM_log_SKEWNESS\": 1.793, \"MoM_log_KURTOSIS\": 5.858, \"FW_geo_MEAN\": 235.6, \"FW_geo_SORTING\": 2.801, \"FW_geo_SKEWNESS\": -0.425, \"FW_geo_KURTOSIS\": 2.141, \"FW_log_MEAN\": 2.085, \"FW_log_SORTING\": 1.486, \"FW_log_SKEWNESS\": 0.425, \"FW_log_KURTOSIS\": 2.141, \"FW_des_MEAN\": \"Fine Sand\", \"FW_des_SORTING\": \"Poorly Sorted\", \"FW_des_SKEWNESS\": \"Very Fine Skewed\", \"FW_des_KURTOSIS\": \"Very Leptokurtic\", \"MODE 1 (\\u00b5m)\": 282.4, \"MODE 2 (\\u00b5m)\": null, \"MODE 3 (\\u00b5m)\": null, \"MODE 1 (f)\": 1.826, \"MODE 2 (f)\": null, \"MODE 3 (f)\": null, \"D10 (\\u00b5m)\": 23.9, \"D50 (\\u00b5m)\": 265.6, \"D90 (\\u00b5m)\": 528.7, \"(D90 div D10) (\\u00b5m)\": 22.12, \"(D90 - D10) (\\u00b5m)\": 504.8, \"(D75 div D25) (\\u00b5m)\": 2.325, \"(D75 - D25) (\\u00b5m)\": 220.4, \"D10 (f)\": 0.919, \"D50 (f)\": 1.912, \"D90 (f)\": 5.387, \"(D90 div D10) (f)\": 5.859, \"(D90 - D10) (f)\": 4.468, \"(D75 div D25) (f)\": 1.888, \"(D75 - D25) (f)\": 1.217, \"perc GRAVEL\": 0.1, \"perc SAND\": 86.4, \"perc MUD\": 13.6, \"perc V COARSE GRAVEL\": 0.0, \"perc COARSE GRAVEL\": 0.0, \"perc MEDIUM GRAVEL\": 0.0, \"perc FINE GRAVEL\": 0.0, \"perc V FINE GRAVEL\": 0.1, \"perc V COARSE SAND\": 1.1, \"perc COARSE SAND\": 10.9, \"perc MEDIUM SAND\": 41.9, \"perc FINE SAND\": 28.2, \"perc V FINE SAND\": 4.2, \"perc V COARSE SILT\": 2.6, \"perc COARSE SILT\": 2.6, \"perc MEDIUM SILT\": 3.4, \"perc FINE SILT\": 3.1, \"perc V FINE SILT\": 1.6, \"perc CLAY\": 0.2, \"OM_D50\": null, \"TOC\": 0.623, \"Hg\": 18.0103, \"TIC\": 0.32, \"regio_sep\": \"inner\", \"Concentration_paint\": null, \"Concentration_PS_Beads\": null, \"Concentration_ord_poly\": null, \"Concentration_irregular\": null, \"pred_ConcentrationA500\": 3.1713526298708405}, {\"Sample\": \"Schlei_S3\", \"Frequency\": 345.0, \"FrequencyA500\": 47.0, \"FrequencyB500\": 298.0, \"MPmass\": 308.52839054589816, \"Mass\": 0.06, \"GPS_LONs\": 9.60065, \"GPS_LATs\": 54.5087, \"Split\": 0.5, \"MP_D50\": 94.02127418834527, \"Concentration\": 5750.0, \"ConcentrationA500\": 783.0, \"ConcentrationB500\": 4967.0, \"ConcentrationA500_div_B500\": 0.15764042681699214, \"MassConcentration\": 5142.0, \"Depth\": 3.8, \"Dist_Marina\": 1123, \"Dist_WWTP\": 2068.0, \"Dist_WWTP2\": 2068.0, \"SAMPLE TYPE \": \"Bimodal, Very Poorly Sorted\", \"TEXTURAL GROUP \": \"Sandy Mud\", \"SEDIMENT NAME \": \"Very Fine Sandy Medium Silt\", \"MoM_ari_MEAN\": 38.22, \"MoM_ari_SORTING\": 72.32, \"MoM_ari_SKEWNESS\": 4.163, \"MoM_ari_KURTOSIS\": 24.38, \"MoM_geo_MEAN\": 14.16, \"MoM_geo_SORTING\": 4.028, \"MoM_geo_SKEWNESS\": 0.207, \"MoM_geo_KURTOSIS\": 2.739, \"MoM_log_MEAN\": 6.142, \"MoM_log_SORTING\": 2.01, \"MoM_log_SKEWNESS\": -0.207, \"MoM_log_KURTOSIS\": 2.739, \"FW_geo_MEAN\": 14.05, \"FW_geo_SORTING\": 4.005, \"FW_geo_SKEWNESS\": 0.128, \"FW_geo_KURTOSIS\": 0.921, \"FW_log_MEAN\": 6.153, \"FW_log_SORTING\": 2.002, \"FW_log_SKEWNESS\": -0.128, \"FW_log_KURTOSIS\": 0.921, \"FW_des_MEAN\": \"Medium Silt\", \"FW_des_SORTING\": \"Very Poorly Sorted\", \"FW_des_SKEWNESS\": \"Coarse Skewed\", \"FW_des_KURTOSIS\": \"Mesokurtic\", \"MODE 1 (\\u00b5m)\": 7.43, \"MODE 2 (\\u00b5m)\": 257.2, \"MODE 3 (\\u00b5m)\": null, \"MODE 1 (f)\": 7.074, \"MODE 2 (f)\": 1.96, \"MODE 3 (f)\": null, \"D10 (\\u00b5m)\": 2.645, \"D50 (\\u00b5m)\": 12.54, \"D90 (\\u00b5m)\": 89.65, \"(D90 div D10) (\\u00b5m)\": 33.89, \"(D90 - D10) (\\u00b5m)\": 87.0, \"(D75 div D25) (\\u00b5m)\": 7.35, \"(D75 - D25) (\\u00b5m)\": 32.97, \"D10 (f)\": 3.48, \"D50 (f)\": 6.318, \"D90 (f)\": 8.562, \"(D90 div D10) (f)\": 2.461, \"(D90 - D10) (f)\": 5.083, \"(D75 div D25) (f)\": 1.611, \"(D75 - D25) (f)\": 2.878, \"perc GRAVEL\": 0.0, \"perc SAND\": 15.7, \"perc MUD\": 84.3, \"perc V COARSE GRAVEL\": 0.0, \"perc COARSE GRAVEL\": 0.0, \"perc MEDIUM GRAVEL\": 0.0, \"perc FINE GRAVEL\": 0.0, \"perc V FINE GRAVEL\": 0.0, \"perc V COARSE SAND\": 0.0, \"perc COARSE SAND\": 0.4, \"perc MEDIUM SAND\": 2.6, \"perc FINE SAND\": 3.6, \"perc V FINE SAND\": 9.1, \"perc V COARSE SILT\": 13.3, \"perc COARSE SILT\": 15.4, \"perc MEDIUM SILT\": 19.0, \"perc FINE SILT\": 18.9, \"perc V FINE SILT\": 12.0, \"perc CLAY\": 5.8, \"OM_D50\": 34.7, \"TOC\": 13.629, \"Hg\": 277.2, \"TIC\": 0.45, \"regio_sep\": \"inner\", \"Concentration_paint\": null, \"Concentration_PS_Beads\": null, \"Concentration_ord_poly\": null, \"Concentration_irregular\": null, \"pred_ConcentrationA500\": 158.97450794873834}, {\"Sample\": \"Schlei_S30\", \"Frequency\": 142.0, \"FrequencyA500\": 51.0, \"FrequencyB500\": 91.0, \"MPmass\": 4499.035394950114, \"Mass\": 0.203, \"GPS_LONs\": 9.94452, \"GPS_LATs\": 54.672, \"Split\": 1.0, \"MP_D50\": 139.90886008750144, \"Concentration\": 700.0, \"ConcentrationA500\": 251.0, \"ConcentrationB500\": 448.0, \"ConcentrationA500_div_B500\": 0.5602678571428571, \"MassConcentration\": 22163.0, \"Depth\": 12.1, \"Dist_Marina\": 403, \"Dist_WWTP\": 32502.0, \"Dist_WWTP2\": 2750.0, \"SAMPLE TYPE \": \"Polymodal, Very Poorly Sorted\", \"TEXTURAL GROUP \": \"Slightly Gravelly Sandy Mud\", \"SEDIMENT NAME \": \"Slightly Very Fine Gravelly Very Fine Sandy Fine Silt\", \"MoM_ari_MEAN\": 152.6, \"MoM_ari_SORTING\": 302.7, \"MoM_ari_SKEWNESS\": 3.653, \"MoM_ari_KURTOSIS\": 18.05, \"MoM_geo_MEAN\": 35.91, \"MoM_geo_SORTING\": 6.305, \"MoM_geo_SKEWNESS\": 0.047, \"MoM_geo_KURTOSIS\": 2.057, \"MoM_log_MEAN\": 4.799, \"MoM_log_SORTING\": 2.657, \"MoM_log_SKEWNESS\": -0.047, \"MoM_log_KURTOSIS\": 2.057, \"FW_geo_MEAN\": 36.26, \"FW_geo_SORTING\": 6.393, \"FW_geo_SKEWNESS\": -0.102, \"FW_geo_KURTOSIS\": 0.797, \"FW_log_MEAN\": 4.786, \"FW_log_SORTING\": 2.676, \"FW_log_SKEWNESS\": 0.102, \"FW_log_KURTOSIS\": 0.797, \"FW_des_MEAN\": \"Very Coarse Silt\", \"FW_des_SORTING\": \"Very Poorly Sorted\", \"FW_des_SKEWNESS\": \"Fine Skewed\", \"FW_des_KURTOSIS\": \"Platykurtic\", \"MODE 1 (\\u00b5m)\": 101.2, \"MODE 2 (\\u00b5m)\": 5.617, \"MODE 3 (\\u00b5m)\": 450.2, \"MODE 1 (f)\": 3.306, \"MODE 2 (f)\": 7.478, \"MODE 3 (f)\": 1.153, \"D10 (\\u00b5m)\": 3.311, \"D50 (\\u00b5m)\": 44.73, \"D90 (\\u00b5m)\": 421.9, \"(D90 div D10) (\\u00b5m)\": 127.4, \"(D90 - D10) (\\u00b5m)\": 418.6, \"(D75 div D25) (\\u00b5m)\": 19.45, \"(D75 - D25) (\\u00b5m)\": 129.1, \"D10 (f)\": 1.245, \"D50 (f)\": 4.482, \"D90 (f)\": 8.238, \"(D90 div D10) (f)\": 6.617, \"(D90 - D10) (f)\": 6.993, \"(D75 div D25) (f)\": 2.488, \"(D75 - D25) (f)\": 4.282, \"perc GRAVEL\": 0.2, \"perc SAND\": 44.9, \"perc MUD\": 54.9, \"perc V COARSE GRAVEL\": 0.0, \"perc COARSE GRAVEL\": 0.0, \"perc MEDIUM GRAVEL\": 0.0, \"perc FINE GRAVEL\": 0.0, \"perc V FINE GRAVEL\": 0.2, \"perc V COARSE SAND\": 2.9, \"perc COARSE SAND\": 5.1, \"perc MEDIUM SAND\": 7.0, \"perc FINE SAND\": 12.0, \"perc V FINE SAND\": 18.0, \"perc V COARSE SILT\": 8.5, \"perc COARSE SILT\": 8.3, \"perc MEDIUM SILT\": 10.9, \"perc FINE SILT\": 14.4, \"perc V FINE SILT\": 8.8, \"perc CLAY\": 4.0, \"OM_D50\": 160.0, \"TOC\": 2.3875, \"Hg\": 56.0393, \"TIC\": 2.125, \"regio_sep\": \"outer\", \"Concentration_paint\": null, \"Concentration_PS_Beads\": null, \"Concentration_ord_poly\": null, \"Concentration_irregular\": null, \"pred_ConcentrationA500\": 22.61144570045346}, {\"Sample\": \"Schlei_S32\", \"Frequency\": 845.0, \"FrequencyA500\": 254.0, \"FrequencyB500\": 591.0, \"MPmass\": 5258.349835570911, \"Mass\": 0.179, \"GPS_LONs\": 9.986579999999998, \"GPS_LATs\": 54.6874, \"Split\": 0.25, \"MP_D50\": 127.7380131362626, \"Concentration\": 4721.0, \"ConcentrationA500\": 1419.0, \"ConcentrationB500\": 3302.0, \"ConcentrationA500_div_B500\": 0.4297395517867959, \"MassConcentration\": 29376.0, \"Depth\": 2.1, \"Dist_Marina\": 170, \"Dist_WWTP\": 36158.0, \"Dist_WWTP2\": 6130.0, \"SAMPLE TYPE \": \"Bimodal, Poorly Sorted\", \"TEXTURAL GROUP \": \"Sandy Mud\", \"SEDIMENT NAME \": \"Very Fine Sandy Very Coarse Silt\", \"MoM_ari_MEAN\": 62.72, \"MoM_ari_SORTING\": 72.51, \"MoM_ari_SKEWNESS\": 4.365, \"MoM_ari_KURTOSIS\": 32.93, \"MoM_geo_MEAN\": 34.07, \"MoM_geo_SORTING\": 3.727, \"MoM_geo_SKEWNESS\": -0.949, \"MoM_geo_KURTOSIS\": 3.596, \"MoM_log_MEAN\": 4.875, \"MoM_log_SORTING\": 1.898, \"MoM_log_SKEWNESS\": 0.949, \"MoM_log_KURTOSIS\": 3.596, \"FW_geo_MEAN\": 34.11, \"FW_geo_SORTING\": 3.575, \"FW_geo_SKEWNESS\": -0.436, \"FW_geo_KURTOSIS\": 1.069, \"FW_log_MEAN\": 4.873, \"FW_log_SORTING\": 1.838, \"FW_log_SKEWNESS\": 0.436, \"FW_log_KURTOSIS\": 1.069, \"FW_des_MEAN\": \"Very Coarse Silt\", \"FW_des_SORTING\": \"Poorly Sorted\", \"FW_des_SKEWNESS\": \"Very Fine Skewed\", \"FW_des_KURTOSIS\": \"Mesokurtic\", \"MODE 1 (\\u00b5m)\": 69.69, \"MODE 2 (\\u00b5m)\": 8.954, \"MODE 3 (\\u00b5m)\": null, \"MODE 1 (f)\": 3.844, \"MODE 2 (f)\": 6.805, \"MODE 3 (f)\": null, \"D10 (\\u00b5m)\": 4.505, \"D50 (\\u00b5m)\": 49.46, \"D90 (\\u00b5m)\": 123.9, \"(D90 div D10) (\\u00b5m)\": 27.51, \"(D90 - D10) (\\u00b5m)\": 119.4, \"(D75 div D25) (\\u00b5m)\": 4.893, \"(D75 - D25) (\\u00b5m)\": 66.36, \"D10 (f)\": 3.013, \"D50 (f)\": 4.338, \"D90 (f)\": 7.794, \"(D90 div D10) (f)\": 2.587, \"(D90 - D10) (f)\": 4.782, \"(D75 div D25) (f)\": 1.639, \"(D75 - D25) (f)\": 2.291, \"perc GRAVEL\": 0.0, \"perc SAND\": 39.0, \"perc MUD\": 61.0, \"perc V COARSE GRAVEL\": 0.0, \"perc COARSE GRAVEL\": 0.0, \"perc MEDIUM GRAVEL\": 0.0, \"perc FINE GRAVEL\": 0.0, \"perc V FINE GRAVEL\": 0.0, \"perc V COARSE SAND\": 0.0, \"perc COARSE SAND\": 0.7, \"perc MEDIUM SAND\": 1.1, \"perc FINE SAND\": 8.0, \"perc V FINE SAND\": 29.3, \"perc V COARSE SILT\": 26.4, \"perc COARSE SILT\": 10.6, \"perc MEDIUM SILT\": 7.9, \"perc FINE SILT\": 7.4, \"perc V FINE SILT\": 5.1, \"perc CLAY\": 3.5, \"OM_D50\": 164.0, \"TOC\": 3.165, \"Hg\": 113.9237, \"TIC\": 0.17, \"regio_sep\": \"outer\", \"Concentration_paint\": null, \"Concentration_PS_Beads\": null, \"Concentration_ord_poly\": null, \"Concentration_irregular\": null, \"pred_ConcentrationA500\": 31.09835332393609}, {\"Sample\": \"Schlei_S4\", \"Frequency\": 321.0, \"FrequencyA500\": 51.0, \"FrequencyB500\": 270.0, \"MPmass\": 122.2035576657828, \"Mass\": 0.25, \"GPS_LONs\": 9.62385, \"GPS_LATs\": 54.5192, \"Split\": 0.25, \"MP_D50\": 69.93568473962345, \"Concentration\": 1284.0, \"ConcentrationA500\": 204.0, \"ConcentrationB500\": 1080.0, \"ConcentrationA500_div_B500\": 0.18888888888888888, \"MassConcentration\": 489.0, \"Depth\": 2.8, \"Dist_Marina\": 1014, \"Dist_WWTP\": 1497.0, \"Dist_WWTP2\": 1497.0, \"SAMPLE TYPE \": \"Unimodal, Poorly Sorted\", \"TEXTURAL GROUP \": \"Slightly Gravelly Muddy Sand\", \"SEDIMENT NAME \": \"Slightly Very Fine Gravelly Fine Silty Fine Sand\", \"MoM_ari_MEAN\": 311.8, \"MoM_ari_SORTING\": 310.7, \"MoM_ari_SKEWNESS\": 2.572, \"MoM_ari_KURTOSIS\": 11.09, \"MoM_geo_MEAN\": 192.2, \"MoM_geo_SORTING\": 3.294, \"MoM_geo_SKEWNESS\": -1.496, \"MoM_geo_KURTOSIS\": 6.247, \"MoM_log_MEAN\": 2.379, \"MoM_log_SORTING\": 1.72, \"MoM_log_SKEWNESS\": 1.496, \"MoM_log_KURTOSIS\": 6.247, \"FW_geo_MEAN\": 223.5, \"FW_geo_SORTING\": 2.877, \"FW_geo_SKEWNESS\": -0.173, \"FW_geo_KURTOSIS\": 1.883, \"FW_log_MEAN\": 2.162, \"FW_log_SORTING\": 1.525, \"FW_log_SKEWNESS\": 0.173, \"FW_log_KURTOSIS\": 1.883, \"FW_des_MEAN\": \"Fine Sand\", \"FW_des_SORTING\": \"Poorly Sorted\", \"FW_des_SKEWNESS\": \"Fine Skewed\", \"FW_des_KURTOSIS\": \"Very Leptokurtic\", \"MODE 1 (\\u00b5m)\": 213.5, \"MODE 2 (\\u00b5m)\": null, \"MODE 3 (\\u00b5m)\": null, \"MODE 1 (f)\": 2.23, \"MODE 2 (f)\": null, \"MODE 3 (f)\": null, \"D10 (\\u00b5m)\": 57.53, \"D50 (\\u00b5m)\": 223.6, \"D90 (\\u00b5m)\": 640.9, \"(D90 div D10) (\\u00b5m)\": 11.14, \"(D90 - D10) (\\u00b5m)\": 583.3, \"(D75 div D25) (\\u00b5m)\": 2.637, \"(D75 - D25) (\\u00b5m)\": 226.7, \"D10 (f)\": 0.642, \"D50 (f)\": 2.161, \"D90 (f)\": 4.12, \"(D90 div D10) (f)\": 6.418, \"(D90 - D10) (f)\": 3.478, \"(D75 div D25) (f)\": 1.962, \"(D75 - D25) (f)\": 1.399, \"perc GRAVEL\": 0.2, \"perc SAND\": 89.5, \"perc MUD\": 10.3, \"perc V COARSE GRAVEL\": 0.0, \"perc COARSE GRAVEL\": 0.0, \"perc MEDIUM GRAVEL\": 0.0, \"perc FINE GRAVEL\": 0.0, \"perc V FINE GRAVEL\": 0.2, \"perc V COARSE SAND\": 4.4, \"perc COARSE SAND\": 10.3, \"perc MEDIUM SAND\": 28.7, \"perc FINE SAND\": 35.2, \"perc V FINE SAND\": 10.8, \"perc V COARSE SILT\": 2.2, \"perc COARSE SILT\": 2.2, \"perc MEDIUM SILT\": 2.0, \"perc FINE SILT\": 2.2, \"perc V FINE SILT\": 1.4, \"perc CLAY\": 0.3, \"OM_D50\": 106.0, \"TOC\": 0.818, \"Hg\": 23.5, \"TIC\": 0.225, \"regio_sep\": \"inner\", \"Concentration_paint\": null, \"Concentration_PS_Beads\": null, \"Concentration_ord_poly\": null, \"Concentration_irregular\": null, \"pred_ConcentrationA500\": 2.761509371555233}, {\"Sample\": \"Schlei_S4_15cm\", \"Frequency\": 254.0, \"FrequencyA500\": 35.0, \"FrequencyB500\": 219.0, \"MPmass\": 1379.9982803828734, \"Mass\": 0.21, \"GPS_LONs\": 9.62385, \"GPS_LATs\": 54.5192, \"Split\": 0.25, \"MP_D50\": 109.59927007056206, \"Concentration\": 1210.0, \"ConcentrationA500\": 167.0, \"ConcentrationB500\": 1043.0, \"ConcentrationA500_div_B500\": 0.1601150527325024, \"MassConcentration\": 6571.0, \"Depth\": 2.8, \"Dist_Marina\": 1014, \"Dist_WWTP\": 1497.0, \"Dist_WWTP2\": 1497.0, \"SAMPLE TYPE \": \"Unimodal, Poorly Sorted\", \"TEXTURAL GROUP \": \"Slightly Gravelly Muddy Sand\", \"SEDIMENT NAME \": \"Slightly Very Fine Gravelly Medium Silty Fine Sand\", \"MoM_ari_MEAN\": 213.1, \"MoM_ari_SORTING\": 205.2, \"MoM_ari_SKEWNESS\": 2.953, \"MoM_ari_KURTOSIS\": 18.32, \"MoM_geo_MEAN\": 120.4, \"MoM_geo_SORTING\": 3.836, \"MoM_geo_SKEWNESS\": -1.232, \"MoM_geo_KURTOSIS\": 3.975, \"MoM_log_MEAN\": 3.054, \"MoM_log_SORTING\": 1.94, \"MoM_log_SKEWNESS\": 1.232, \"MoM_log_KURTOSIS\": 3.975, \"FW_geo_MEAN\": 120.0, \"FW_geo_SORTING\": 3.713, \"FW_geo_SKEWNESS\": -0.476, \"FW_geo_KURTOSIS\": 1.641, \"FW_log_MEAN\": 3.059, \"FW_log_SORTING\": 1.893, \"FW_log_SKEWNESS\": 0.476, \"FW_log_KURTOSIS\": 1.641, \"FW_des_MEAN\": \"Very Fine Sand\", \"FW_des_SORTING\": \"Poorly Sorted\", \"FW_des_SKEWNESS\": \"Very Fine Skewed\", \"FW_des_KURTOSIS\": \"Very Leptokurtic\", \"MODE 1 (\\u00b5m)\": 194.4, \"MODE 2 (\\u00b5m)\": null, \"MODE 3 (\\u00b5m)\": null, \"MODE 1 (f)\": 2.364, \"MODE 2 (f)\": null, \"MODE 3 (f)\": null, \"D10 (\\u00b5m)\": 12.08, \"D50 (\\u00b5m)\": 175.1, \"D90 (\\u00b5m)\": 421.0, \"(D90 div D10) (\\u00b5m)\": 34.86, \"(D90 - D10) (\\u00b5m)\": 408.9, \"(D75 div D25) (\\u00b5m)\": 3.11, \"(D75 - D25) (\\u00b5m)\": 189.3, \"D10 (f)\": 1.248, \"D50 (f)\": 2.514, \"D90 (f)\": 6.372, \"(D90 div D10) (f)\": 5.105, \"(D90 - D10) (f)\": 5.124, \"(D75 div D25) (f)\": 1.889, \"(D75 - D25) (f)\": 1.637, \"perc GRAVEL\": 0.0, \"perc SAND\": 79.3, \"perc MUD\": 20.7, \"perc V COARSE GRAVEL\": 0.0, \"perc COARSE GRAVEL\": 0.0, \"perc MEDIUM GRAVEL\": 0.0, \"perc FINE GRAVEL\": 0.0, \"perc V FINE GRAVEL\": 0.0, \"perc V COARSE SAND\": 1.1, \"perc COARSE SAND\": 5.3, \"perc MEDIUM SAND\": 24.1, \"perc FINE SAND\": 35.3, \"perc V FINE SAND\": 13.5, \"perc V COARSE SILT\": 4.1, \"perc COARSE SILT\": 4.8, \"perc MEDIUM SILT\": 4.9, \"perc FINE SILT\": 4.2, \"perc V FINE SILT\": 2.3, \"perc CLAY\": 0.4, \"OM_D50\": null, \"TOC\": 1.51, \"Hg\": 25.7828, \"TIC\": 0.1, \"regio_sep\": \"inner\", \"Concentration_paint\": null, \"Concentration_PS_Beads\": null, \"Concentration_ord_poly\": null, \"Concentration_irregular\": null, \"pred_ConcentrationA500\": 4.591054700864684}, {\"Sample\": \"Schlei_S6\", \"Frequency\": 403.0, \"FrequencyA500\": 62.0, \"FrequencyB500\": 341.0, \"MPmass\": 446.1400518821409, \"Mass\": 0.04, \"GPS_LONs\": 9.61715, \"GPS_LATs\": 54.522, \"Split\": 0.25, \"MP_D50\": 93.91485505499116, \"Concentration\": 10075.0, \"ConcentrationA500\": 1550.0, \"ConcentrationB500\": 8525.0, \"ConcentrationA500_div_B500\": 0.18181818181818182, \"MassConcentration\": 11154.0, \"Depth\": 3.0, \"Dist_Marina\": 564, \"Dist_WWTP\": 974.0, \"Dist_WWTP2\": 974.0, \"SAMPLE TYPE \": \"Bimodal, Very Poorly Sorted\", \"TEXTURAL GROUP \": \"Slightly Gravelly Sandy Mud\", \"SEDIMENT NAME \": \"Slightly Very Fine Gravelly Very Fine Sandy Very Coarse Silt\", \"MoM_ari_MEAN\": 55.65, \"MoM_ari_SORTING\": 129.7, \"MoM_ari_SKEWNESS\": 6.863, \"MoM_ari_KURTOSIS\": 65.34, \"MoM_geo_MEAN\": 18.3, \"MoM_geo_SORTING\": 4.889, \"MoM_geo_SKEWNESS\": -0.337, \"MoM_geo_KURTOSIS\": 3.205, \"MoM_log_MEAN\": 5.772, \"MoM_log_SORTING\": 2.289, \"MoM_log_SKEWNESS\": 0.337, \"MoM_log_KURTOSIS\": 3.205, \"FW_geo_MEAN\": 18.65, \"FW_geo_SORTING\": 4.351, \"FW_geo_SKEWNESS\": -0.188, \"FW_geo_KURTOSIS\": 0.834, \"FW_log_MEAN\": 5.745, \"FW_log_SORTING\": 2.121, \"FW_log_SKEWNESS\": 0.188, \"FW_log_KURTOSIS\": 0.834, \"FW_des_MEAN\": \"Coarse Silt\", \"FW_des_SORTING\": \"Very Poorly Sorted\", \"FW_des_SKEWNESS\": \"Fine Skewed\", \"FW_des_KURTOSIS\": \"Platykurtic\", \"MODE 1 (\\u00b5m)\": 57.83, \"MODE 2 (\\u00b5m)\": 7.43, \"MODE 3 (\\u00b5m)\": null, \"MODE 1 (f)\": 4.114, \"MODE 2 (f)\": 7.074, \"MODE 3 (f)\": null, \"D10 (\\u00b5m)\": 2.468, \"D50 (\\u00b5m)\": 22.76, \"D90 (\\u00b5m)\": 100.5, \"(D90 div D10) (\\u00b5m)\": 40.7, \"(D90 - D10) (\\u00b5m)\": 97.99, \"(D75 div D25) (\\u00b5m)\": 9.85, \"(D75 - D25) (\\u00b5m)\": 52.3, \"D10 (f)\": 3.315, \"D50 (f)\": 5.457, \"D90 (f)\": 8.662, \"(D90 div D10) (f)\": 2.613, \"(D90 - D10) (f)\": 5.347, \"(D75 div D25) (f)\": 1.804, \"(D75 - D25) (f)\": 3.3, \"perc GRAVEL\": 0.0, \"perc SAND\": 22.7, \"perc MUD\": 77.3, \"perc V COARSE GRAVEL\": 0.0, \"perc COARSE GRAVEL\": 0.0, \"perc MEDIUM GRAVEL\": 0.0, \"perc FINE GRAVEL\": 0.0, \"perc V FINE GRAVEL\": 0.0, \"perc V COARSE SAND\": 0.4, \"perc COARSE SAND\": 1.4, \"perc MEDIUM SAND\": 1.8, \"perc FINE SAND\": 3.0, \"perc V FINE SAND\": 16.0, \"perc V COARSE SILT\": 20.8, \"perc COARSE SILT\": 13.0, \"perc MEDIUM SILT\": 12.9, \"perc FINE SILT\": 13.5, \"perc V FINE SILT\": 9.9, \"perc CLAY\": 7.3, \"OM_D50\": null, \"TOC\": 10.403, \"Hg\": 278.8, \"TIC\": 0.785, \"regio_sep\": \"inner\", \"Concentration_paint\": null, \"Concentration_PS_Beads\": null, \"Concentration_ord_poly\": null, \"Concentration_irregular\": null, \"pred_ConcentrationA500\": 96.9327107333805}, {\"Sample\": \"Schlei_S7\", \"Frequency\": 640.0, \"FrequencyA500\": 159.0, \"FrequencyB500\": 481.0, \"MPmass\": 739.4527324172286, \"Mass\": 0.081, \"GPS_LONs\": 9.61202, \"GPS_LATs\": 54.518299999999996, \"Split\": 0.125, \"MP_D50\": 101.96077677224709, \"Concentration\": 7901.0, \"ConcentrationA500\": 1963.0, \"ConcentrationB500\": 5938.0, \"ConcentrationA500_div_B500\": 0.3305826877736612, \"MassConcentration\": 9129.0, \"Depth\": 3.2, \"Dist_Marina\": 1011, \"Dist_WWTP\": 1006.0, \"Dist_WWTP2\": 1006.0, \"SAMPLE TYPE \": \"Bimodal, Very Poorly Sorted\", \"TEXTURAL GROUP \": \"Sandy Mud\", \"SEDIMENT NAME \": \"Very Fine Sandy Very Coarse Silt\", \"MoM_ari_MEAN\": 43.47, \"MoM_ari_SORTING\": 53.58, \"MoM_ari_SKEWNESS\": 2.906, \"MoM_ari_KURTOSIS\": 17.82, \"MoM_geo_MEAN\": 18.45, \"MoM_geo_SORTING\": 4.689, \"MoM_geo_SKEWNESS\": -0.58, \"MoM_geo_KURTOSIS\": 2.662, \"MoM_log_MEAN\": 5.76, \"MoM_log_SORTING\": 2.229, \"MoM_log_SKEWNESS\": 0.58, \"MoM_log_KURTOSIS\": 2.662, \"FW_geo_MEAN\": 19.64, \"FW_geo_SORTING\": 4.659, \"FW_geo_SKEWNESS\": -0.269, \"FW_geo_KURTOSIS\": 0.862, \"FW_log_MEAN\": 5.67, \"FW_log_SORTING\": 2.22, \"FW_log_SKEWNESS\": 0.269, \"FW_log_KURTOSIS\": 0.862, \"FW_des_MEAN\": \"Coarse Silt\", \"FW_des_SORTING\": \"Very Poorly Sorted\", \"FW_des_SKEWNESS\": \"Fine Skewed\", \"FW_des_KURTOSIS\": \"Platykurtic\", \"MODE 1 (\\u00b5m)\": 63.49, \"MODE 2 (\\u00b5m)\": 7.43, \"MODE 3 (\\u00b5m)\": null, \"MODE 1 (f)\": 3.979, \"MODE 2 (f)\": 7.074, \"MODE 3 (f)\": null, \"D10 (\\u00b5m)\": 2.236, \"D50 (\\u00b5m)\": 25.01, \"D90 (\\u00b5m)\": 105.6, \"(D90 div D10) (\\u00b5m)\": 47.24, \"(D90 - D10) (\\u00b5m)\": 103.4, \"(D75 div D25) (\\u00b5m)\": 10.48, \"(D75 - D25) (\\u00b5m)\": 57.82, \"D10 (f)\": 3.243, \"D50 (f)\": 5.322, \"D90 (f)\": 8.805, \"(D90 div D10) (f)\": 2.715, \"(D90 - D10) (f)\": 5.562, \"(D75 div D25) (f)\": 1.854, \"(D75 - D25) (f)\": 3.389, \"perc GRAVEL\": 0.0, \"perc SAND\": 25.8, \"perc MUD\": 74.2, \"perc V COARSE GRAVEL\": 0.0, \"perc COARSE GRAVEL\": 0.0, \"perc MEDIUM GRAVEL\": 0.0, \"perc FINE GRAVEL\": 0.0, \"perc V FINE GRAVEL\": 0.0, \"perc V COARSE SAND\": 0.0, \"perc COARSE SAND\": 0.1, \"perc MEDIUM SAND\": 0.9, \"perc FINE SAND\": 5.6, \"perc V FINE SAND\": 19.2, \"perc V COARSE SILT\": 19.8, \"perc COARSE SILT\": 12.6, \"perc MEDIUM SILT\": 12.3, \"perc FINE SILT\": 12.3, \"perc V FINE SILT\": 8.6, \"perc CLAY\": 8.7, \"OM_D50\": 86.6, \"TOC\": 9.973, \"Hg\": 410.7, \"TIC\": 0.595, \"regio_sep\": \"inner\", \"Concentration_paint\": null, \"Concentration_PS_Beads\": null, \"Concentration_ord_poly\": null, \"Concentration_irregular\": null, \"pred_ConcentrationA500\": 82.27995303584366}, {\"Sample\": \"Schlei_S8\", \"Frequency\": 2909.0, \"FrequencyA500\": 569.0, \"FrequencyB500\": 2340.0, \"MPmass\": 3341532.954879706, \"Mass\": 0.105, \"GPS_LONs\": 9.60645, \"GPS_LATs\": 54.5253, \"Split\": 0.5, \"MP_D50\": 100.73728207570424, \"Concentration\": 27705.0, \"ConcentrationA500\": 5419.0, \"ConcentrationB500\": 22286.0, \"ConcentrationA500_div_B500\": 0.24315713901103833, \"MassConcentration\": 31824123.0, \"Depth\": 2.0, \"Dist_Marina\": 643, \"Dist_WWTP\": 211.0, \"Dist_WWTP2\": 211.0, \"SAMPLE TYPE \": \"Unimodal, Poorly Sorted\", \"TEXTURAL GROUP \": \"Sandy Mud\", \"SEDIMENT NAME \": \"Very Fine Sandy Very Coarse Silt\", \"MoM_ari_MEAN\": 41.78, \"MoM_ari_SORTING\": 64.9, \"MoM_ari_SKEWNESS\": 3.879, \"MoM_ari_KURTOSIS\": 23.27, \"MoM_geo_MEAN\": 18.16, \"MoM_geo_SORTING\": 3.899, \"MoM_geo_SKEWNESS\": -0.136, \"MoM_geo_KURTOSIS\": 2.598, \"MoM_log_MEAN\": 5.783, \"MoM_log_SORTING\": 1.963, \"MoM_log_SKEWNESS\": 0.136, \"MoM_log_KURTOSIS\": 2.598, \"FW_geo_MEAN\": 18.19, \"FW_geo_SORTING\": 3.903, \"FW_geo_SKEWNESS\": -0.06, \"FW_geo_KURTOSIS\": 0.892, \"FW_log_MEAN\": 5.781, \"FW_log_SORTING\": 1.965, \"FW_log_SKEWNESS\": 0.06, \"FW_log_KURTOSIS\": 0.892, \"FW_des_MEAN\": \"Coarse Silt\", \"FW_des_SORTING\": \"Poorly Sorted\", \"FW_des_SKEWNESS\": \"Symmetrical\", \"FW_des_KURTOSIS\": \"Platykurtic\", \"MODE 1 (\\u00b5m)\": 39.82, \"MODE 2 (\\u00b5m)\": null, \"MODE 3 (\\u00b5m)\": null, \"MODE 1 (f)\": 4.652, \"MODE 2 (f)\": null, \"MODE 3 (f)\": null, \"D10 (\\u00b5m)\": 2.982, \"D50 (\\u00b5m)\": 19.32, \"D90 (\\u00b5m)\": 98.27, \"(D90 div D10) (\\u00b5m)\": 32.95, \"(D90 - D10) (\\u00b5m)\": 95.28, \"(D75 div D25) (\\u00b5m)\": 7.383, \"(D75 - D25) (\\u00b5m)\": 43.15, \"D10 (f)\": 3.347, \"D50 (f)\": 5.694, \"D90 (f)\": 8.389, \"(D90 div D10) (f)\": 2.506, \"(D90 - D10) (f)\": 5.042, \"(D75 div D25) (f)\": 1.667, \"(D75 - D25) (f)\": 2.884, \"perc GRAVEL\": 0.0, \"perc SAND\": 19.3, \"perc MUD\": 80.7, \"perc V COARSE GRAVEL\": 0.0, \"perc COARSE GRAVEL\": 0.0, \"perc MEDIUM GRAVEL\": 0.0, \"perc FINE GRAVEL\": 0.0, \"perc V FINE GRAVEL\": 0.0, \"perc V COARSE SAND\": 0.0, \"perc COARSE SAND\": 0.2, \"perc MEDIUM SAND\": 2.0, \"perc FINE SAND\": 4.6, \"perc V FINE SAND\": 12.5, \"perc V COARSE SILT\": 18.3, \"perc COARSE SILT\": 17.7, \"perc MEDIUM SILT\": 16.5, \"perc FINE SILT\": 14.0, \"perc V FINE SILT\": 9.1, \"perc CLAY\": 5.1, \"OM_D50\": 52.2, \"TOC\": 16.396, \"Hg\": 304.9, \"TIC\": 0.92, \"regio_sep\": \"WWTP\", \"Concentration_paint\": null, \"Concentration_PS_Beads\": null, \"Concentration_ord_poly\": null, \"Concentration_irregular\": null, \"pred_ConcentrationA500\": 157.42955494184127}, {\"Sample\": \"Warnow_S1\", \"Frequency\": null, \"FrequencyA500\": null, \"FrequencyB500\": null, \"MPmass\": null, \"Mass\": null, \"GPS_LONs\": null, \"GPS_LATs\": null, \"Split\": null, \"MP_D50\": null, \"Concentration\": 93.0, \"ConcentrationA500\": null, \"ConcentrationB500\": null, \"ConcentrationA500_div_B500\": null, \"MassConcentration\": null, \"Depth\": null, \"Dist_Marina\": 1428, \"Dist_WWTP\": 5220.0, \"Dist_WWTP2\": null, \"SAMPLE TYPE \": null, \"TEXTURAL GROUP \": null, \"SEDIMENT NAME \": null, \"MoM_ari_MEAN\": null, \"MoM_ari_SORTING\": null, \"MoM_ari_SKEWNESS\": null, \"MoM_ari_KURTOSIS\": null, \"MoM_geo_MEAN\": null, \"MoM_geo_SORTING\": null, \"MoM_geo_SKEWNESS\": null, \"MoM_geo_KURTOSIS\": null, \"MoM_log_MEAN\": null, \"MoM_log_SORTING\": null, \"MoM_log_SKEWNESS\": null, \"MoM_log_KURTOSIS\": null, \"FW_geo_MEAN\": null, \"FW_geo_SORTING\": null, \"FW_geo_SKEWNESS\": null, \"FW_geo_KURTOSIS\": null, \"FW_log_MEAN\": null, \"FW_log_SORTING\": null, \"FW_log_SKEWNESS\": null, \"FW_log_KURTOSIS\": null, \"FW_des_MEAN\": null, \"FW_des_SORTING\": null, \"FW_des_SKEWNESS\": null, \"FW_des_KURTOSIS\": null, \"MODE 1 (\\u00b5m)\": null, \"MODE 2 (\\u00b5m)\": null, \"MODE 3 (\\u00b5m)\": null, \"MODE 1 (f)\": null, \"MODE 2 (f)\": null, \"MODE 3 (f)\": null, \"D10 (\\u00b5m)\": null, \"D50 (\\u00b5m)\": 28.2, \"D90 (\\u00b5m)\": null, \"(D90 div D10) (\\u00b5m)\": null, \"(D90 - D10) (\\u00b5m)\": null, \"(D75 div D25) (\\u00b5m)\": null, \"(D75 - D25) (\\u00b5m)\": null, \"D10 (f)\": null, \"D50 (f)\": null, \"D90 (f)\": null, \"(D90 div D10) (f)\": null, \"(D90 - D10) (f)\": null, \"(D75 div D25) (f)\": null, \"(D75 - D25) (f)\": null, \"perc GRAVEL\": null, \"perc SAND\": null, \"perc MUD\": 65.85, \"perc V COARSE GRAVEL\": null, \"perc COARSE GRAVEL\": null, \"perc MEDIUM GRAVEL\": null, \"perc FINE GRAVEL\": null, \"perc V FINE GRAVEL\": null, \"perc V COARSE SAND\": null, \"perc COARSE SAND\": null, \"perc MEDIUM SAND\": null, \"perc FINE SAND\": null, \"perc V FINE SAND\": null, \"perc V COARSE SILT\": null, \"perc COARSE SILT\": null, \"perc MEDIUM SILT\": null, \"perc FINE SILT\": null, \"perc V FINE SILT\": null, \"perc CLAY\": null, \"OM_D50\": null, \"TOC\": 18.59, \"Hg\": null, \"TIC\": null, \"regio_sep\": \"warnow\", \"Concentration_paint\": 1e-05, \"Concentration_PS_Beads\": 85.0, \"Concentration_ord_poly\": 8.0, \"Concentration_irregular\": 85.0, \"pred_ConcentrationA500\": 90.83439559584826}, {\"Sample\": \"Warnow_S2\", \"Frequency\": null, \"FrequencyA500\": null, \"FrequencyB500\": null, \"MPmass\": null, \"Mass\": null, \"GPS_LONs\": null, \"GPS_LATs\": null, \"Split\": null, \"MP_D50\": null, \"Concentration\": 75.0, \"ConcentrationA500\": null, \"ConcentrationB500\": null, \"ConcentrationA500_div_B500\": null, \"MassConcentration\": null, \"Depth\": null, \"Dist_Marina\": 85, \"Dist_WWTP\": 1980.0, \"Dist_WWTP2\": null, \"SAMPLE TYPE \": null, \"TEXTURAL GROUP \": null, \"SEDIMENT NAME \": null, \"MoM_ari_MEAN\": null, \"MoM_ari_SORTING\": null, \"MoM_ari_SKEWNESS\": null, \"MoM_ari_KURTOSIS\": null, \"MoM_geo_MEAN\": null, \"MoM_geo_SORTING\": null, \"MoM_geo_SKEWNESS\": null, \"MoM_geo_KURTOSIS\": null, \"MoM_log_MEAN\": null, \"MoM_log_SORTING\": null, \"MoM_log_SKEWNESS\": null, \"MoM_log_KURTOSIS\": null, \"FW_geo_MEAN\": null, \"FW_geo_SORTING\": null, \"FW_geo_SKEWNESS\": null, \"FW_geo_KURTOSIS\": null, \"FW_log_MEAN\": null, \"FW_log_SORTING\": null, \"FW_log_SKEWNESS\": null, \"FW_log_KURTOSIS\": null, \"FW_des_MEAN\": null, \"FW_des_SORTING\": null, \"FW_des_SKEWNESS\": null, \"FW_des_KURTOSIS\": null, \"MODE 1 (\\u00b5m)\": null, \"MODE 2 (\\u00b5m)\": null, \"MODE 3 (\\u00b5m)\": null, \"MODE 1 (f)\": null, \"MODE 2 (f)\": null, \"MODE 3 (f)\": null, \"D10 (\\u00b5m)\": null, \"D50 (\\u00b5m)\": 49.1025, \"D90 (\\u00b5m)\": null, \"(D90 div D10) (\\u00b5m)\": null, \"(D90 - D10) (\\u00b5m)\": null, \"(D75 div D25) (\\u00b5m)\": null, \"(D75 - D25) (\\u00b5m)\": null, \"D10 (f)\": null, \"D50 (f)\": null, \"D90 (f)\": null, \"(D90 div D10) (f)\": null, \"(D90 - D10) (f)\": null, \"(D75 div D25) (f)\": null, \"(D75 - D25) (f)\": null, \"perc GRAVEL\": null, \"perc SAND\": null, \"perc MUD\": 56.98, \"perc V COARSE GRAVEL\": null, \"perc COARSE GRAVEL\": null, \"perc MEDIUM GRAVEL\": null, \"perc FINE GRAVEL\": null, \"perc V FINE GRAVEL\": null, \"perc V COARSE SAND\": null, \"perc COARSE SAND\": null, \"perc MEDIUM SAND\": null, \"perc FINE SAND\": null, \"perc V FINE SAND\": null, \"perc V COARSE SILT\": null, \"perc COARSE SILT\": null, \"perc MEDIUM SILT\": null, \"perc FINE SILT\": null, \"perc V FINE SILT\": null, \"perc CLAY\": null, \"OM_D50\": null, \"TOC\": 13.45, \"Hg\": null, \"TIC\": null, \"regio_sep\": \"warnow\", \"Concentration_paint\": 49.0, \"Concentration_PS_Beads\": 35.0, \"Concentration_ord_poly\": 4.0, \"Concentration_irregular\": 75.0, \"pred_ConcentrationA500\": 45.7863082536549}, {\"Sample\": \"Warnow_S3\", \"Frequency\": null, \"FrequencyA500\": null, \"FrequencyB500\": null, \"MPmass\": null, \"Mass\": null, \"GPS_LONs\": null, \"GPS_LATs\": null, \"Split\": null, \"MP_D50\": null, \"Concentration\": 97.0, \"ConcentrationA500\": null, \"ConcentrationB500\": null, \"ConcentrationA500_div_B500\": null, \"MassConcentration\": null, \"Depth\": null, \"Dist_Marina\": 501, \"Dist_WWTP\": 230.0, \"Dist_WWTP2\": null, \"SAMPLE TYPE \": null, \"TEXTURAL GROUP \": null, \"SEDIMENT NAME \": null, \"MoM_ari_MEAN\": null, \"MoM_ari_SORTING\": null, \"MoM_ari_SKEWNESS\": null, \"MoM_ari_KURTOSIS\": null, \"MoM_geo_MEAN\": null, \"MoM_geo_SORTING\": null, \"MoM_geo_SKEWNESS\": null, \"MoM_geo_KURTOSIS\": null, \"MoM_log_MEAN\": null, \"MoM_log_SORTING\": null, \"MoM_log_SKEWNESS\": null, \"MoM_log_KURTOSIS\": null, \"FW_geo_MEAN\": null, \"FW_geo_SORTING\": null, \"FW_geo_SKEWNESS\": null, \"FW_geo_KURTOSIS\": null, \"FW_log_MEAN\": null, \"FW_log_SORTING\": null, \"FW_log_SKEWNESS\": null, \"FW_log_KURTOSIS\": null, \"FW_des_MEAN\": null, \"FW_des_SORTING\": null, \"FW_des_SKEWNESS\": null, \"FW_des_KURTOSIS\": null, \"MODE 1 (\\u00b5m)\": null, \"MODE 2 (\\u00b5m)\": null, \"MODE 3 (\\u00b5m)\": null, \"MODE 1 (f)\": null, \"MODE 2 (f)\": null, \"MODE 3 (f)\": null, \"D10 (\\u00b5m)\": null, \"D50 (\\u00b5m)\": 70.005, \"D90 (\\u00b5m)\": null, \"(D90 div D10) (\\u00b5m)\": null, \"(D90 - D10) (\\u00b5m)\": null, \"(D75 div D25) (\\u00b5m)\": null, \"(D75 - D25) (\\u00b5m)\": null, \"D10 (f)\": null, \"D50 (f)\": null, \"D90 (f)\": null, \"(D90 div D10) (f)\": null, \"(D90 - D10) (f)\": null, \"(D75 div D25) (f)\": null, \"(D75 - D25) (f)\": null, \"perc GRAVEL\": null, \"perc SAND\": null, \"perc MUD\": 48.115, \"perc V COARSE GRAVEL\": null, \"perc COARSE GRAVEL\": null, \"perc MEDIUM GRAVEL\": null, \"perc FINE GRAVEL\": null, \"perc V FINE GRAVEL\": null, \"perc V COARSE SAND\": null, \"perc COARSE SAND\": null, \"perc MEDIUM SAND\": null, \"perc FINE SAND\": null, \"perc V FINE SAND\": null, \"perc V COARSE SILT\": null, \"perc COARSE SILT\": null, \"perc MEDIUM SILT\": null, \"perc FINE SILT\": null, \"perc V FINE SILT\": null, \"perc CLAY\": null, \"OM_D50\": null, \"TOC\": 8.32, \"Hg\": null, \"TIC\": null, \"regio_sep\": \"warnow\", \"Concentration_paint\": 5.0, \"Concentration_PS_Beads\": 0.0, \"Concentration_ord_poly\": 93.0, \"Concentration_irregular\": 88.0, \"pred_ConcentrationA500\": 23.09718988204849}, {\"Sample\": \"Warnow_S4\", \"Frequency\": null, \"FrequencyA500\": null, \"FrequencyB500\": null, \"MPmass\": null, \"Mass\": null, \"GPS_LONs\": null, \"GPS_LATs\": null, \"Split\": null, \"MP_D50\": null, \"Concentration\": 104.0, \"ConcentrationA500\": null, \"ConcentrationB500\": null, \"ConcentrationA500_div_B500\": null, \"MassConcentration\": null, \"Depth\": null, \"Dist_Marina\": 43, \"Dist_WWTP\": 1040.0, \"Dist_WWTP2\": null, \"SAMPLE TYPE \": null, \"TEXTURAL GROUP \": null, \"SEDIMENT NAME \": null, \"MoM_ari_MEAN\": null, \"MoM_ari_SORTING\": null, \"MoM_ari_SKEWNESS\": null, \"MoM_ari_KURTOSIS\": null, \"MoM_geo_MEAN\": null, \"MoM_geo_SORTING\": null, \"MoM_geo_SKEWNESS\": null, \"MoM_geo_KURTOSIS\": null, \"MoM_log_MEAN\": null, \"MoM_log_SORTING\": null, \"MoM_log_SKEWNESS\": null, \"MoM_log_KURTOSIS\": null, \"FW_geo_MEAN\": null, \"FW_geo_SORTING\": null, \"FW_geo_SKEWNESS\": null, \"FW_geo_KURTOSIS\": null, \"FW_log_MEAN\": null, \"FW_log_SORTING\": null, \"FW_log_SKEWNESS\": null, \"FW_log_KURTOSIS\": null, \"FW_des_MEAN\": null, \"FW_des_SORTING\": null, \"FW_des_SKEWNESS\": null, \"FW_des_KURTOSIS\": null, \"MODE 1 (\\u00b5m)\": null, \"MODE 2 (\\u00b5m)\": null, \"MODE 3 (\\u00b5m)\": null, \"MODE 1 (f)\": null, \"MODE 2 (f)\": null, \"MODE 3 (f)\": null, \"D10 (\\u00b5m)\": null, \"D50 (\\u00b5m)\": 49.48, \"D90 (\\u00b5m)\": null, \"(D90 div D10) (\\u00b5m)\": null, \"(D90 - D10) (\\u00b5m)\": null, \"(D75 div D25) (\\u00b5m)\": null, \"(D75 - D25) (\\u00b5m)\": null, \"D10 (f)\": null, \"D50 (f)\": null, \"D90 (f)\": null, \"(D90 div D10) (f)\": null, \"(D90 - D10) (f)\": null, \"(D75 div D25) (f)\": null, \"(D75 - D25) (f)\": null, \"perc GRAVEL\": null, \"perc SAND\": null, \"perc MUD\": 56.38, \"perc V COARSE GRAVEL\": null, \"perc COARSE GRAVEL\": null, \"perc MEDIUM GRAVEL\": null, \"perc FINE GRAVEL\": null, \"perc V FINE GRAVEL\": null, \"perc V COARSE SAND\": null, \"perc COARSE SAND\": null, \"perc MEDIUM SAND\": null, \"perc FINE SAND\": null, \"perc V FINE SAND\": null, \"perc V COARSE SILT\": null, \"perc COARSE SILT\": null, \"perc MEDIUM SILT\": null, \"perc FINE SILT\": null, \"perc V FINE SILT\": null, \"perc CLAY\": null, \"OM_D50\": null, \"TOC\": 2.94, \"Hg\": null, \"TIC\": null, \"regio_sep\": \"warnow\", \"Concentration_paint\": 85.0, \"Concentration_PS_Beads\": 0.0, \"Concentration_ord_poly\": 19.0, \"Concentration_irregular\": 94.0, \"pred_ConcentrationA500\": 24.925548459525206}, {\"Sample\": \"Warnow_S5\", \"Frequency\": null, \"FrequencyA500\": null, \"FrequencyB500\": null, \"MPmass\": null, \"Mass\": null, \"GPS_LONs\": null, \"GPS_LATs\": null, \"Split\": null, \"MP_D50\": null, \"Concentration\": 346.0, \"ConcentrationA500\": null, \"ConcentrationB500\": null, \"ConcentrationA500_div_B500\": null, \"MassConcentration\": null, \"Depth\": null, \"Dist_Marina\": 440, \"Dist_WWTP\": 2970.0, \"Dist_WWTP2\": null, \"SAMPLE TYPE \": null, \"TEXTURAL GROUP \": null, \"SEDIMENT NAME \": null, \"MoM_ari_MEAN\": null, \"MoM_ari_SORTING\": null, \"MoM_ari_SKEWNESS\": null, \"MoM_ari_KURTOSIS\": null, \"MoM_geo_MEAN\": null, \"MoM_geo_SORTING\": null, \"MoM_geo_SKEWNESS\": null, \"MoM_geo_KURTOSIS\": null, \"MoM_log_MEAN\": null, \"MoM_log_SORTING\": null, \"MoM_log_SKEWNESS\": null, \"MoM_log_KURTOSIS\": null, \"FW_geo_MEAN\": null, \"FW_geo_SORTING\": null, \"FW_geo_SKEWNESS\": null, \"FW_geo_KURTOSIS\": null, \"FW_log_MEAN\": null, \"FW_log_SORTING\": null, \"FW_log_SKEWNESS\": null, \"FW_log_KURTOSIS\": null, \"FW_des_MEAN\": null, \"FW_des_SORTING\": null, \"FW_des_SKEWNESS\": null, \"FW_des_KURTOSIS\": null, \"MODE 1 (\\u00b5m)\": null, \"MODE 2 (\\u00b5m)\": null, \"MODE 3 (\\u00b5m)\": null, \"MODE 1 (f)\": null, \"MODE 2 (f)\": null, \"MODE 3 (f)\": null, \"D10 (\\u00b5m)\": null, \"D50 (\\u00b5m)\": 53.72, \"D90 (\\u00b5m)\": null, \"(D90 div D10) (\\u00b5m)\": null, \"(D90 - D10) (\\u00b5m)\": null, \"(D75 div D25) (\\u00b5m)\": null, \"(D75 - D25) (\\u00b5m)\": null, \"D10 (f)\": null, \"D50 (f)\": null, \"D90 (f)\": null, \"(D90 div D10) (f)\": null, \"(D90 - D10) (f)\": null, \"(D75 div D25) (f)\": null, \"(D75 - D25) (f)\": null, \"perc GRAVEL\": null, \"perc SAND\": null, \"perc MUD\": 57.43, \"perc V COARSE GRAVEL\": null, \"perc COARSE GRAVEL\": null, \"perc MEDIUM GRAVEL\": null, \"perc FINE GRAVEL\": null, \"perc V FINE GRAVEL\": null, \"perc V COARSE SAND\": null, \"perc COARSE SAND\": null, \"perc MEDIUM SAND\": null, \"perc FINE SAND\": null, \"perc V FINE SAND\": null, \"perc V COARSE SILT\": null, \"perc COARSE SILT\": null, \"perc MEDIUM SILT\": null, \"perc FINE SILT\": null, \"perc V FINE SILT\": null, \"perc CLAY\": null, \"OM_D50\": null, \"TOC\": 3.41, \"Hg\": null, \"TIC\": null, \"regio_sep\": \"warnow\", \"Concentration_paint\": 10.0, \"Concentration_PS_Beads\": 317.0, \"Concentration_ord_poly\": 19.0, \"Concentration_irregular\": 346.0, \"pred_ConcentrationA500\": 26.82499172403913}, {\"Sample\": \"Warnow_S6\", \"Frequency\": null, \"FrequencyA500\": null, \"FrequencyB500\": null, \"MPmass\": null, \"Mass\": null, \"GPS_LONs\": null, \"GPS_LATs\": null, \"Split\": null, \"MP_D50\": null, \"Concentration\": 12.0, \"ConcentrationA500\": null, \"ConcentrationB500\": null, \"ConcentrationA500_div_B500\": null, \"MassConcentration\": null, \"Depth\": null, \"Dist_Marina\": 372, \"Dist_WWTP\": 4530.0, \"Dist_WWTP2\": null, \"SAMPLE TYPE \": null, \"TEXTURAL GROUP \": null, \"SEDIMENT NAME \": null, \"MoM_ari_MEAN\": null, \"MoM_ari_SORTING\": null, \"MoM_ari_SKEWNESS\": null, \"MoM_ari_KURTOSIS\": null, \"MoM_geo_MEAN\": null, \"MoM_geo_SORTING\": null, \"MoM_geo_SKEWNESS\": null, \"MoM_geo_KURTOSIS\": null, \"MoM_log_MEAN\": null, \"MoM_log_SORTING\": null, \"MoM_log_SKEWNESS\": null, \"MoM_log_KURTOSIS\": null, \"FW_geo_MEAN\": null, \"FW_geo_SORTING\": null, \"FW_geo_SKEWNESS\": null, \"FW_geo_KURTOSIS\": null, \"FW_log_MEAN\": null, \"FW_log_SORTING\": null, \"FW_log_SKEWNESS\": null, \"FW_log_KURTOSIS\": null, \"FW_des_MEAN\": null, \"FW_des_SORTING\": null, \"FW_des_SKEWNESS\": null, \"FW_des_KURTOSIS\": null, \"MODE 1 (\\u00b5m)\": null, \"MODE 2 (\\u00b5m)\": null, \"MODE 3 (\\u00b5m)\": null, \"MODE 1 (f)\": null, \"MODE 2 (f)\": null, \"MODE 3 (f)\": null, \"D10 (\\u00b5m)\": null, \"D50 (\\u00b5m)\": 89.415, \"D90 (\\u00b5m)\": null, \"(D90 div D10) (\\u00b5m)\": null, \"(D90 - D10) (\\u00b5m)\": null, \"(D75 div D25) (\\u00b5m)\": null, \"(D75 - D25) (\\u00b5m)\": null, \"D10 (f)\": null, \"D50 (f)\": null, \"D90 (f)\": null, \"(D90 div D10) (f)\": null, \"(D90 - D10) (f)\": null, \"(D75 div D25) (f)\": null, \"(D75 - D25) (f)\": null, \"perc GRAVEL\": null, \"perc SAND\": null, \"perc MUD\": 38.66, \"perc V COARSE GRAVEL\": null, \"perc COARSE GRAVEL\": null, \"perc MEDIUM GRAVEL\": null, \"perc FINE GRAVEL\": null, \"perc V FINE GRAVEL\": null, \"perc V COARSE SAND\": null, \"perc COARSE SAND\": null, \"perc MEDIUM SAND\": null, \"perc FINE SAND\": null, \"perc V FINE SAND\": null, \"perc V COARSE SILT\": null, \"perc COARSE SILT\": null, \"perc MEDIUM SILT\": null, \"perc FINE SILT\": null, \"perc V FINE SILT\": null, \"perc CLAY\": null, \"OM_D50\": null, \"TOC\": 4.36, \"Hg\": null, \"TIC\": null, \"regio_sep\": \"warnow\", \"Concentration_paint\": 7.0, \"Concentration_PS_Beads\": 0.0, \"Concentration_ord_poly\": 6.0, \"Concentration_irregular\": 8.0, \"pred_ConcentrationA500\": 12.102887736040147}, {\"Sample\": \"Warnow_S7\", \"Frequency\": null, \"FrequencyA500\": null, \"FrequencyB500\": null, \"MPmass\": null, \"Mass\": null, \"GPS_LONs\": null, \"GPS_LATs\": null, \"Split\": null, \"MP_D50\": null, \"Concentration\": 15.0, \"ConcentrationA500\": null, \"ConcentrationB500\": null, \"ConcentrationA500_div_B500\": null, \"MassConcentration\": null, \"Depth\": null, \"Dist_Marina\": 610, \"Dist_WWTP\": 6000.0, \"Dist_WWTP2\": null, \"SAMPLE TYPE \": null, \"TEXTURAL GROUP \": null, \"SEDIMENT NAME \": null, \"MoM_ari_MEAN\": null, \"MoM_ari_SORTING\": null, \"MoM_ari_SKEWNESS\": null, \"MoM_ari_KURTOSIS\": null, \"MoM_geo_MEAN\": null, \"MoM_geo_SORTING\": null, \"MoM_geo_SKEWNESS\": null, \"MoM_geo_KURTOSIS\": null, \"MoM_log_MEAN\": null, \"MoM_log_SORTING\": null, \"MoM_log_SKEWNESS\": null, \"MoM_log_KURTOSIS\": null, \"FW_geo_MEAN\": null, \"FW_geo_SORTING\": null, \"FW_geo_SKEWNESS\": null, \"FW_geo_KURTOSIS\": null, \"FW_log_MEAN\": null, \"FW_log_SORTING\": null, \"FW_log_SKEWNESS\": null, \"FW_log_KURTOSIS\": null, \"FW_des_MEAN\": null, \"FW_des_SORTING\": null, \"FW_des_SKEWNESS\": null, \"FW_des_KURTOSIS\": null, \"MODE 1 (\\u00b5m)\": null, \"MODE 2 (\\u00b5m)\": null, \"MODE 3 (\\u00b5m)\": null, \"MODE 1 (f)\": null, \"MODE 2 (f)\": null, \"MODE 3 (f)\": null, \"D10 (\\u00b5m)\": null, \"D50 (\\u00b5m)\": 65.71, \"D90 (\\u00b5m)\": null, \"(D90 div D10) (\\u00b5m)\": null, \"(D90 - D10) (\\u00b5m)\": null, \"(D75 div D25) (\\u00b5m)\": null, \"(D75 - D25) (\\u00b5m)\": null, \"D10 (f)\": null, \"D50 (f)\": null, \"D90 (f)\": null, \"(D90 div D10) (f)\": null, \"(D90 - D10) (f)\": null, \"(D75 div D25) (f)\": null, \"(D75 - D25) (f)\": null, \"perc GRAVEL\": null, \"perc SAND\": null, \"perc MUD\": 48.31, \"perc V COARSE GRAVEL\": null, \"perc COARSE GRAVEL\": null, \"perc MEDIUM GRAVEL\": null, \"perc FINE GRAVEL\": null, \"perc V FINE GRAVEL\": null, \"perc V COARSE SAND\": null, \"perc COARSE SAND\": null, \"perc MEDIUM SAND\": null, \"perc FINE SAND\": null, \"perc V FINE SAND\": null, \"perc V COARSE SILT\": null, \"perc COARSE SILT\": null, \"perc MEDIUM SILT\": null, \"perc FINE SILT\": null, \"perc V FINE SILT\": null, \"perc CLAY\": null, \"OM_D50\": null, \"TOC\": 2.75, \"Hg\": null, \"TIC\": null, \"regio_sep\": \"warnow\", \"Concentration_paint\": 6.0, \"Concentration_PS_Beads\": 0.0, \"Concentration_ord_poly\": 9.0, \"Concentration_irregular\": 12.0, \"pred_ConcentrationA500\": 17.12649192394472}, {\"Sample\": \"Warnow_S8\", \"Frequency\": null, \"FrequencyA500\": null, \"FrequencyB500\": null, \"MPmass\": null, \"Mass\": null, \"GPS_LONs\": null, \"GPS_LATs\": null, \"Split\": null, \"MP_D50\": null, \"Concentration\": 2.0, \"ConcentrationA500\": null, \"ConcentrationB500\": null, \"ConcentrationA500_div_B500\": null, \"MassConcentration\": null, \"Depth\": null, \"Dist_Marina\": 2373, \"Dist_WWTP\": 8770.0, \"Dist_WWTP2\": null, \"SAMPLE TYPE \": null, \"TEXTURAL GROUP \": null, \"SEDIMENT NAME \": null, \"MoM_ari_MEAN\": null, \"MoM_ari_SORTING\": null, \"MoM_ari_SKEWNESS\": null, \"MoM_ari_KURTOSIS\": null, \"MoM_geo_MEAN\": null, \"MoM_geo_SORTING\": null, \"MoM_geo_SKEWNESS\": null, \"MoM_geo_KURTOSIS\": null, \"MoM_log_MEAN\": null, \"MoM_log_SORTING\": null, \"MoM_log_SKEWNESS\": null, \"MoM_log_KURTOSIS\": null, \"FW_geo_MEAN\": null, \"FW_geo_SORTING\": null, \"FW_geo_SKEWNESS\": null, \"FW_geo_KURTOSIS\": null, \"FW_log_MEAN\": null, \"FW_log_SORTING\": null, \"FW_log_SKEWNESS\": null, \"FW_log_KURTOSIS\": null, \"FW_des_MEAN\": null, \"FW_des_SORTING\": null, \"FW_des_SKEWNESS\": null, \"FW_des_KURTOSIS\": null, \"MODE 1 (\\u00b5m)\": null, \"MODE 2 (\\u00b5m)\": null, \"MODE 3 (\\u00b5m)\": null, \"MODE 1 (f)\": null, \"MODE 2 (f)\": null, \"MODE 3 (f)\": null, \"D10 (\\u00b5m)\": null, \"D50 (\\u00b5m)\": 112.06, \"D90 (\\u00b5m)\": null, \"(D90 div D10) (\\u00b5m)\": null, \"(D90 - D10) (\\u00b5m)\": null, \"(D75 div D25) (\\u00b5m)\": null, \"(D75 - D25) (\\u00b5m)\": null, \"D10 (f)\": null, \"D50 (f)\": null, \"D90 (f)\": null, \"(D90 div D10) (f)\": null, \"(D90 - D10) (f)\": null, \"(D75 div D25) (f)\": null, \"(D75 - D25) (f)\": null, \"perc GRAVEL\": null, \"perc SAND\": null, \"perc MUD\": 29.77, \"perc V COARSE GRAVEL\": null, \"perc COARSE GRAVEL\": null, \"perc MEDIUM GRAVEL\": null, \"perc FINE GRAVEL\": null, \"perc V FINE GRAVEL\": null, \"perc V COARSE SAND\": null, \"perc COARSE SAND\": null, \"perc MEDIUM SAND\": null, \"perc FINE SAND\": null, \"perc V FINE SAND\": null, \"perc V COARSE SILT\": null, \"perc COARSE SILT\": null, \"perc MEDIUM SILT\": null, \"perc FINE SILT\": null, \"perc V FINE SILT\": null, \"perc CLAY\": null, \"OM_D50\": null, \"TOC\": 2.8, \"Hg\": null, \"TIC\": null, \"regio_sep\": \"warnow\", \"Concentration_paint\": 2.0, \"Concentration_PS_Beads\": 0.0, \"Concentration_ord_poly\": 0.0, \"Concentration_irregular\": 2.0, \"pred_ConcentrationA500\": 7.428934178091123}, {\"Sample\": \"Warnow_S9\", \"Frequency\": null, \"FrequencyA500\": null, \"FrequencyB500\": null, \"MPmass\": null, \"Mass\": null, \"GPS_LONs\": null, \"GPS_LATs\": null, \"Split\": null, \"MP_D50\": null, \"Concentration\": 2.0, \"ConcentrationA500\": null, \"ConcentrationB500\": null, \"ConcentrationA500_div_B500\": null, \"MassConcentration\": null, \"Depth\": null, \"Dist_Marina\": 63, \"Dist_WWTP\": 11180.0, \"Dist_WWTP2\": null, \"SAMPLE TYPE \": null, \"TEXTURAL GROUP \": null, \"SEDIMENT NAME \": null, \"MoM_ari_MEAN\": null, \"MoM_ari_SORTING\": null, \"MoM_ari_SKEWNESS\": null, \"MoM_ari_KURTOSIS\": null, \"MoM_geo_MEAN\": null, \"MoM_geo_SORTING\": null, \"MoM_geo_SKEWNESS\": null, \"MoM_geo_KURTOSIS\": null, \"MoM_log_MEAN\": null, \"MoM_log_SORTING\": null, \"MoM_log_SKEWNESS\": null, \"MoM_log_KURTOSIS\": null, \"FW_geo_MEAN\": null, \"FW_geo_SORTING\": null, \"FW_geo_SKEWNESS\": null, \"FW_geo_KURTOSIS\": null, \"FW_log_MEAN\": null, \"FW_log_SORTING\": null, \"FW_log_SKEWNESS\": null, \"FW_log_KURTOSIS\": null, \"FW_des_MEAN\": null, \"FW_des_SORTING\": null, \"FW_des_SKEWNESS\": null, \"FW_des_KURTOSIS\": null, \"MODE 1 (\\u00b5m)\": null, \"MODE 2 (\\u00b5m)\": null, \"MODE 3 (\\u00b5m)\": null, \"MODE 1 (f)\": null, \"MODE 2 (f)\": null, \"MODE 3 (f)\": null, \"D10 (\\u00b5m)\": null, \"D50 (\\u00b5m)\": 137.0, \"D90 (\\u00b5m)\": null, \"(D90 div D10) (\\u00b5m)\": null, \"(D90 - D10) (\\u00b5m)\": null, \"(D75 div D25) (\\u00b5m)\": null, \"(D75 - D25) (\\u00b5m)\": null, \"D10 (f)\": null, \"D50 (f)\": null, \"D90 (f)\": null, \"(D90 div D10) (f)\": null, \"(D90 - D10) (f)\": null, \"(D75 div D25) (f)\": null, \"(D75 - D25) (f)\": null, \"perc GRAVEL\": null, \"perc SAND\": null, \"perc MUD\": 7.325, \"perc V COARSE GRAVEL\": null, \"perc COARSE GRAVEL\": null, \"perc MEDIUM GRAVEL\": null, \"perc FINE GRAVEL\": null, \"perc V FINE GRAVEL\": null, \"perc V COARSE SAND\": null, \"perc COARSE SAND\": null, \"perc MEDIUM SAND\": null, \"perc FINE SAND\": null, \"perc V FINE SAND\": null, \"perc V COARSE SILT\": null, \"perc COARSE SILT\": null, \"perc MEDIUM SILT\": null, \"perc FINE SILT\": null, \"perc V FINE SILT\": null, \"perc CLAY\": null, \"OM_D50\": null, \"TOC\": 0.21, \"Hg\": null, \"TIC\": null, \"regio_sep\": \"warnow\", \"Concentration_paint\": 1.0, \"Concentration_PS_Beads\": 0.0, \"Concentration_ord_poly\": 1.0, \"Concentration_irregular\": 2.0, \"pred_ConcentrationA500\": 2.334268066273467}, {\"Sample\": \"Warnow_S10\", \"Frequency\": null, \"FrequencyA500\": null, \"FrequencyB500\": null, \"MPmass\": null, \"Mass\": null, \"GPS_LONs\": null, \"GPS_LATs\": null, \"Split\": null, \"MP_D50\": null, \"Concentration\": 381.0, \"ConcentrationA500\": null, \"ConcentrationB500\": null, \"ConcentrationA500_div_B500\": null, \"MassConcentration\": null, \"Depth\": null, \"Dist_Marina\": 1, \"Dist_WWTP\": 11180.0, \"Dist_WWTP2\": null, \"SAMPLE TYPE \": null, \"TEXTURAL GROUP \": null, \"SEDIMENT NAME \": null, \"MoM_ari_MEAN\": null, \"MoM_ari_SORTING\": null, \"MoM_ari_SKEWNESS\": null, \"MoM_ari_KURTOSIS\": null, \"MoM_geo_MEAN\": null, \"MoM_geo_SORTING\": null, \"MoM_geo_SKEWNESS\": null, \"MoM_geo_KURTOSIS\": null, \"MoM_log_MEAN\": null, \"MoM_log_SORTING\": null, \"MoM_log_SKEWNESS\": null, \"MoM_log_KURTOSIS\": null, \"FW_geo_MEAN\": null, \"FW_geo_SORTING\": null, \"FW_geo_SKEWNESS\": null, \"FW_geo_KURTOSIS\": null, \"FW_log_MEAN\": null, \"FW_log_SORTING\": null, \"FW_log_SKEWNESS\": null, \"FW_log_KURTOSIS\": null, \"FW_des_MEAN\": null, \"FW_des_SORTING\": null, \"FW_des_SKEWNESS\": null, \"FW_des_KURTOSIS\": null, \"MODE 1 (\\u00b5m)\": null, \"MODE 2 (\\u00b5m)\": null, \"MODE 3 (\\u00b5m)\": null, \"MODE 1 (f)\": null, \"MODE 2 (f)\": null, \"MODE 3 (f)\": null, \"D10 (\\u00b5m)\": null, \"D50 (\\u00b5m)\": 9.65, \"D90 (\\u00b5m)\": null, \"(D90 div D10) (\\u00b5m)\": null, \"(D90 - D10) (\\u00b5m)\": null, \"(D75 div D25) (\\u00b5m)\": null, \"(D75 - D25) (\\u00b5m)\": null, \"D10 (f)\": null, \"D50 (f)\": null, \"D90 (f)\": null, \"(D90 div D10) (f)\": null, \"(D90 - D10) (f)\": null, \"(D75 div D25) (f)\": null, \"(D75 - D25) (f)\": null, \"perc GRAVEL\": null, \"perc SAND\": null, \"perc MUD\": 95.75, \"perc V COARSE GRAVEL\": null, \"perc COARSE GRAVEL\": null, \"perc MEDIUM GRAVEL\": null, \"perc FINE GRAVEL\": null, \"perc V FINE GRAVEL\": null, \"perc V COARSE SAND\": null, \"perc COARSE SAND\": null, \"perc MEDIUM SAND\": null, \"perc FINE SAND\": null, \"perc V FINE SAND\": null, \"perc V COARSE SILT\": null, \"perc COARSE SILT\": null, \"perc MEDIUM SILT\": null, \"perc FINE SILT\": null, \"perc V FINE SILT\": null, \"perc CLAY\": null, \"OM_D50\": null, \"TOC\": 4.88, \"Hg\": null, \"TIC\": null, \"regio_sep\": \"warnow\", \"Concentration_paint\": 210.0, \"Concentration_PS_Beads\": 0.0, \"Concentration_ord_poly\": 176.0, \"Concentration_irregular\": 274.0, \"pred_ConcentrationA500\": 164.4582337842835}]}}, {\"mode\": \"vega-lite\"});\n</script>",
      "text/plain": "alt.Chart(...)"
     },
     "execution_count": 29,
     "metadata": {},
     "output_type": "execute_result"
    }
   ],
   "source": [
    "mp_added_sed_sdd['pred_ConcentrationA500'] = np.exp(0.505 + 0.0452 * mp_added_sed_sdd['perc MUD'] + 0.0249 * 2.22 * mp_added_sed_sdd['TOC'])\n",
    "\n",
    "alt.Chart(mp_added_sed_sdd).mark_point().encode(x='ConcentrationA500',y='pred_ConcentrationA500',tooltip='Sample')"
   ]
  },
  {
   "cell_type": "code",
   "execution_count": 7,
   "metadata": {},
   "outputs": [],
   "source": [
    "comp = prepare_data.aggregate_SDD(mp_pdd.groupby(['Sample', 'polymer_type'])).merge(mp_added_sed_sdd[['Sample', 'Dist_WWTP', 'regio_sep']], on='Sample')\n",
    "# comp['polymer_type'] = comp.Shape\n",
    "\n",
    "com = comp.pivot(index='Sample', columns=['polymer_type'], values=['Concentration']).droplevel(0,axis=1).fillna(0)"
   ]
  },
  {
   "cell_type": "code",
   "execution_count": 8,
   "metadata": {
    "tags": []
   },
   "outputs": [
    {
     "name": "stdout",
     "output_type": "stream",
     "text": [
      "PCoA: Proportion explained: \n",
      " PC1    0.531227\n",
      "PC2    0.159640\n",
      "dtype: float64    PCoA Total: 0.6908671625699718\n"
     ]
    },
    {
     "name": "stderr",
     "output_type": "stream",
     "text": [
      "/home/my/.local/share/virtualenvs/MPSchleiSediments-EUESJ6vo/lib/python3.9/site-packages/skbio/stats/ordination/_principal_coordinate_analysis.py:143: RuntimeWarning: The result contains negative eigenvalues. Please compare their magnitude with the magnitude of some of the largest positive eigenvalues. If the negative ones are smaller, it's probably safe to ignore them, but if they are large in magnitude, the results won't be useful. See the Notes section for more details. The smallest eigenvalue is -0.04688647208724461 and the largest is 0.8117652951336354.\n",
      "  warn(\n"
     ]
    }
   ],
   "source": [
    "scor, load, expl = PCOA(com, 2)  # call either PCA or PCOA"
   ]
  },
  {
   "cell_type": "code",
   "execution_count": 9,
   "metadata": {
    "tags": []
   },
   "outputs": [
    {
     "data": {
      "text/html": [
       "\n",
       "<div id=\"altair-viz-d3c480092726402b90eaea661cec6478\"></div>\n",
       "<script type=\"text/javascript\">\n",
       "  var VEGA_DEBUG = (typeof VEGA_DEBUG == \"undefined\") ? {} : VEGA_DEBUG;\n",
       "  (function(spec, embedOpt){\n",
       "    let outputDiv = document.currentScript.previousElementSibling;\n",
       "    if (outputDiv.id !== \"altair-viz-d3c480092726402b90eaea661cec6478\") {\n",
       "      outputDiv = document.getElementById(\"altair-viz-d3c480092726402b90eaea661cec6478\");\n",
       "    }\n",
       "    const paths = {\n",
       "      \"vega\": \"https://cdn.jsdelivr.net/npm//vega@5?noext\",\n",
       "      \"vega-lib\": \"https://cdn.jsdelivr.net/npm//vega-lib?noext\",\n",
       "      \"vega-lite\": \"https://cdn.jsdelivr.net/npm//vega-lite@4.17.0?noext\",\n",
       "      \"vega-embed\": \"https://cdn.jsdelivr.net/npm//vega-embed@6?noext\",\n",
       "    };\n",
       "\n",
       "    function maybeLoadScript(lib, version) {\n",
       "      var key = `${lib.replace(\"-\", \"\")}_version`;\n",
       "      return (VEGA_DEBUG[key] == version) ?\n",
       "        Promise.resolve(paths[lib]) :\n",
       "        new Promise(function(resolve, reject) {\n",
       "          var s = document.createElement('script');\n",
       "          document.getElementsByTagName(\"head\")[0].appendChild(s);\n",
       "          s.async = true;\n",
       "          s.onload = () => {\n",
       "            VEGA_DEBUG[key] = version;\n",
       "            return resolve(paths[lib]);\n",
       "          };\n",
       "          s.onerror = () => reject(`Error loading script: ${paths[lib]}`);\n",
       "          s.src = paths[lib];\n",
       "        });\n",
       "    }\n",
       "\n",
       "    function showError(err) {\n",
       "      outputDiv.innerHTML = `<div class=\"error\" style=\"color:red;\">${err}</div>`;\n",
       "      throw err;\n",
       "    }\n",
       "\n",
       "    function displayChart(vegaEmbed) {\n",
       "      vegaEmbed(outputDiv, spec, embedOpt)\n",
       "        .catch(err => showError(`Javascript Error: ${err.message}<br>This usually means there's a typo in your chart specification. See the javascript console for the full traceback.`));\n",
       "    }\n",
       "\n",
       "    if(typeof define === \"function\" && define.amd) {\n",
       "      requirejs.config({paths});\n",
       "      require([\"vega-embed\"], displayChart, err => showError(`Error loading script: ${err.message}`));\n",
       "    } else {\n",
       "      maybeLoadScript(\"vega\", \"5\")\n",
       "        .then(() => maybeLoadScript(\"vega-lite\", \"4.17.0\"))\n",
       "        .then(() => maybeLoadScript(\"vega-embed\", \"6\"))\n",
       "        .catch(showError)\n",
       "        .then(() => displayChart(vegaEmbed));\n",
       "    }\n",
       "  })({\"config\": {\"view\": {\"continuousWidth\": 400, \"continuousHeight\": 300}}, \"layer\": [{\"data\": {\"name\": \"data-b25b9ca724b0f9c962331091155bc5c8\"}, \"mark\": {\"type\": \"line\", \"opacity\": 0.3}, \"encoding\": {\"color\": {\"field\": \"polymer_type\", \"legend\": null, \"type\": \"nominal\"}, \"x\": {\"field\": \"PC1\", \"type\": \"quantitative\"}, \"y\": {\"field\": \"PC2\", \"type\": \"quantitative\"}}, \"selection\": {\"selector001\": {\"type\": \"interval\", \"bind\": \"scales\", \"encodings\": [\"x\", \"y\"]}}}, {\"data\": {\"name\": \"data-92c20bedd2858228ee76422ab7d9f0e2\"}, \"mark\": {\"type\": \"circle\", \"opacity\": 0.5, \"size\": 50}, \"encoding\": {\"color\": {\"field\": \"polymer_type\", \"legend\": null, \"type\": \"nominal\"}, \"x\": {\"field\": \"PC1\", \"type\": \"quantitative\"}, \"y\": {\"field\": \"PC2\", \"type\": \"quantitative\"}}}, {\"data\": {\"name\": \"data-92c20bedd2858228ee76422ab7d9f0e2\"}, \"mark\": {\"type\": \"text\", \"dx\": -25, \"dy\": 19, \"fontSize\": 12}, \"encoding\": {\"color\": {\"field\": \"polymer_type\", \"legend\": null, \"type\": \"nominal\"}, \"text\": {\"field\": \"polymer_type\", \"type\": \"nominal\"}, \"x\": {\"field\": \"PC1\", \"type\": \"quantitative\"}, \"y\": {\"field\": \"PC2\", \"type\": \"quantitative\"}}}, {\"data\": {\"name\": \"data-a18130126a59ad99fbff0bbaf6cd4ba0\"}, \"mark\": {\"type\": \"point\", \"strokeWidth\": 3}, \"encoding\": {\"color\": {\"field\": \"regio_sep\", \"scale\": {\"scheme\": \"dark2\"}, \"type\": \"nominal\"}, \"tooltip\": {\"field\": \"Sample\", \"type\": \"nominal\"}, \"x\": {\"field\": \"PC1\", \"type\": \"quantitative\"}, \"y\": {\"field\": \"PC2\", \"type\": \"quantitative\"}}}], \"height\": 600, \"resolve\": {\"scale\": {\"color\": \"independent\"}}, \"width\": 800, \"$schema\": \"https://vega.github.io/schema/vega-lite/v4.17.0.json\", \"datasets\": {\"data-b25b9ca724b0f9c962331091155bc5c8\": [{\"polymer_type\": \"PET\", \"PC1\": 0.8151606159125891, \"PC2\": 0.2616441819817113}, {\"polymer_type\": \"PP\", \"PC1\": -0.6999419778422031, \"PC2\": -0.14436699019864152}, {\"polymer_type\": \"PS\", \"PC1\": 0.08995613782003883, \"PC2\": -0.5724105492456956}, {\"polymer_type\": \"PE\", \"PC1\": -0.27674531033646615, \"PC2\": 0.4112270593707576}, {\"polymer_type\": \"EPX\", \"PC1\": 0.030582358957155484, \"PC2\": -0.07840838481607455}, {\"polymer_type\": \"PVC\", \"PC1\": 0.044994160289775605, \"PC2\": 0.05350565084878323}, {\"polymer_type\": \"AcrR\", \"PC1\": 0.01348722806433198, \"PC2\": 0.05267461094884868}, {\"polymer_type\": \"PET\", \"PC1\": 0.0, \"PC2\": 0.0}, {\"polymer_type\": \"PP\", \"PC1\": 0.0, \"PC2\": 0.0}, {\"polymer_type\": \"PS\", \"PC1\": 0.0, \"PC2\": 0.0}, {\"polymer_type\": \"PE\", \"PC1\": 0.0, \"PC2\": 0.0}, {\"polymer_type\": \"EPX\", \"PC1\": 0.0, \"PC2\": 0.0}, {\"polymer_type\": \"PVC\", \"PC1\": 0.0, \"PC2\": 0.0}, {\"polymer_type\": \"AcrR\", \"PC1\": 0.0, \"PC2\": 0.0}], \"data-92c20bedd2858228ee76422ab7d9f0e2\": [{\"polymer_type\": \"PET\", \"PC1\": 0.8151606159125891, \"PC2\": 0.2616441819817113}, {\"polymer_type\": \"PP\", \"PC1\": -0.6999419778422031, \"PC2\": -0.14436699019864152}, {\"polymer_type\": \"PS\", \"PC1\": 0.08995613782003883, \"PC2\": -0.5724105492456956}, {\"polymer_type\": \"PE\", \"PC1\": -0.27674531033646615, \"PC2\": 0.4112270593707576}, {\"polymer_type\": \"EPX\", \"PC1\": 0.030582358957155484, \"PC2\": -0.07840838481607455}, {\"polymer_type\": \"PVC\", \"PC1\": 0.044994160289775605, \"PC2\": 0.05350565084878323}, {\"polymer_type\": \"AcrR\", \"PC1\": 0.01348722806433198, \"PC2\": 0.05267461094884868}], \"data-a18130126a59ad99fbff0bbaf6cd4ba0\": [{\"Sample\": \"Schlei_S10\", \"PC1\": 0.37085152237449326, \"PC2\": -0.061493464068715656, \"Dist_WWTP\": 27.5, \"regio_sep\": \"WWTP\"}, {\"Sample\": \"Schlei_S10_15cm\", \"PC1\": -0.21723692393850802, \"PC2\": -0.06555227640369882, \"Dist_WWTP\": 27.5, \"regio_sep\": \"WWTP\"}, {\"Sample\": \"Schlei_S11\", \"PC1\": 0.1519924969942535, \"PC2\": 0.1068969032680912, \"Dist_WWTP\": 750.0, \"regio_sep\": \"WWTP\"}, {\"Sample\": \"Schlei_S13\", \"PC1\": -0.14403533913302585, \"PC2\": -0.08813801942263014, \"Dist_WWTP\": 1605.0, \"regio_sep\": \"inner\"}, {\"Sample\": \"Schlei_S14\", \"PC1\": -0.3087208275191196, \"PC2\": 0.09275137330764376, \"Dist_WWTP\": 2933.0, \"regio_sep\": \"inner\"}, {\"Sample\": \"Schlei_S15\", \"PC1\": -0.20417875513484268, \"PC2\": 0.09602756724523483, \"Dist_WWTP\": 3455.0, \"regio_sep\": \"inner\"}, {\"Sample\": \"Schlei_S16\", \"PC1\": -0.11176198102869074, \"PC2\": -0.128735634534856, \"Dist_WWTP\": 4729.0, \"regio_sep\": \"inner\"}, {\"Sample\": \"Schlei_S17\", \"PC1\": -0.21937333984203433, \"PC2\": -0.06386698468382418, \"Dist_WWTP\": 5643.0, \"regio_sep\": \"inner\"}, {\"Sample\": \"Schlei_S19\", \"PC1\": -0.13916634114955936, \"PC2\": -0.08046366003168086, \"Dist_WWTP\": 6836.0, \"regio_sep\": \"inner\"}, {\"Sample\": \"Schlei_S1_15cm\", \"PC1\": 0.03322948204759939, \"PC2\": -0.04657412321539085, \"Dist_WWTP\": 4490.0, \"regio_sep\": \"inner\"}, {\"Sample\": \"Schlei_S2\", \"PC1\": 0.06268595518559777, \"PC2\": 0.019930448753901715, \"Dist_WWTP\": 2468.0, \"regio_sep\": \"inner\"}, {\"Sample\": \"Schlei_S20\", \"PC1\": 0.13071094246090642, \"PC2\": -0.1462384442438158, \"Dist_WWTP\": 6230.0, \"regio_sep\": \"inner\"}, {\"Sample\": \"Schlei_S21\", \"PC1\": 0.022389877927661204, \"PC2\": -0.06159210873084358, \"Dist_WWTP\": 9723.0, \"regio_sep\": \"middle\"}, {\"Sample\": \"Schlei_S22\", \"PC1\": -0.01636026066576347, \"PC2\": 0.21985788129484174, \"Dist_WWTP\": 14087.0, \"regio_sep\": \"middle\"}, {\"Sample\": \"Schlei_S23\", \"PC1\": -0.05044622943341893, \"PC2\": 0.13843088682145474, \"Dist_WWTP\": 15662.0, \"regio_sep\": \"middle\"}, {\"Sample\": \"Schlei_S25\", \"PC1\": 0.06353390899246972, \"PC2\": 0.11128974029417574, \"Dist_WWTP\": 24017.0, \"regio_sep\": \"middle\"}, {\"Sample\": \"Schlei_S26\", \"PC1\": 0.1335029784095088, \"PC2\": 0.15865370610854349, \"Dist_WWTP\": 26567.0, \"regio_sep\": \"middle\"}, {\"Sample\": \"Schlei_S27\", \"PC1\": 0.3587062589866007, \"PC2\": -0.07954626120754042, \"Dist_WWTP\": 28534.0, \"regio_sep\": \"WWTP\"}, {\"Sample\": \"Schlei_S29\", \"PC1\": 0.07497329932558604, \"PC2\": -0.009857710509616693, \"Dist_WWTP\": 31509.0, \"regio_sep\": \"outer\"}, {\"Sample\": \"Schlei_S2_15cm\", \"PC1\": -0.06374345908993112, \"PC2\": -0.06729865210646857, \"Dist_WWTP\": 2468.0, \"regio_sep\": \"inner\"}, {\"Sample\": \"Schlei_S3\", \"PC1\": 0.008360102227487095, \"PC2\": -0.053377733290941816, \"Dist_WWTP\": 2068.0, \"regio_sep\": \"inner\"}, {\"Sample\": \"Schlei_S30\", \"PC1\": 0.11460870752719418, \"PC2\": 0.11987710521140722, \"Dist_WWTP\": 32502.0, \"regio_sep\": \"outer\"}, {\"Sample\": \"Schlei_S32\", \"PC1\": 0.1519933126257013, \"PC2\": 0.032404788101473854, \"Dist_WWTP\": 36158.0, \"regio_sep\": \"outer\"}, {\"Sample\": \"Schlei_S4\", \"PC1\": -0.08948330097314296, \"PC2\": -0.059272710522756976, \"Dist_WWTP\": 1497.0, \"regio_sep\": \"inner\"}, {\"Sample\": \"Schlei_S4_15cm\", \"PC1\": -0.22334750058241348, \"PC2\": 0.03108845823786624, \"Dist_WWTP\": 1497.0, \"regio_sep\": \"inner\"}, {\"Sample\": \"Schlei_S6\", \"PC1\": -0.09021602846719731, \"PC2\": -0.02788329687168339, \"Dist_WWTP\": 974.0, \"regio_sep\": \"inner\"}, {\"Sample\": \"Schlei_S7\", \"PC1\": -0.07020988282828859, \"PC2\": -0.061350398699147095, \"Dist_WWTP\": 1006.0, \"regio_sep\": \"inner\"}, {\"Sample\": \"Schlei_S8\", \"PC1\": 0.27074132470087686, \"PC2\": -0.025967380101023865, \"Dist_WWTP\": 211.0, \"regio_sep\": \"WWTP\"}]}}, {\"mode\": \"vega-lite\"});\n",
       "</script>"
      ],
      "text/plain": [
       "alt.LayerChart(...)"
      ]
     },
     "execution_count": 9,
     "metadata": {},
     "output_type": "execute_result"
    }
   ],
   "source": [
    "pc_plot = biplot(scor, load, expl, mp_added_sed_sdd, 'PC1', 'PC2', sc='regio_sep', lc='polymer_type', ntf=7, normalise=True)\n",
    "pc_plot"
   ]
  },
  {
   "cell_type": "code",
   "execution_count": 10,
   "metadata": {
    "tags": []
   },
   "outputs": [],
   "source": [
    "# import plotly.express as px\n",
    "# import plotly.io as pio\n",
    "# pio.renderers.default = 'sphinx_gallery'\n",
    "# fig = px.scatter(scor.rename_axis(index='Sample').reset_index().merge(comp[['Sample', 'Dist_WWTP', 'regio_sep']], on='Sample'),\n",
    "#                     x='PC1',\n",
    "#                     y='PC2',\n",
    "#                     #z='PC3',  # when uncommenting: use px.scatter_3d instead of px.scatter\n",
    "#                     color='Dist_WWTP',\n",
    "#                     color_continuous_scale='Greys',\n",
    "#                     hover_name=\"Sample\")\n",
    "\n",
    "# # resize markers\n",
    "# fig.update_traces(marker=dict(size=10,\n",
    "#                               line=dict(width=2,\n",
    "#                                         color='DarkSlateGrey')),\n",
    "#                   selector=dict(mode='markers'))\n",
    "\n",
    "# # change size and move colorbar\n",
    "# fig.update_layout(autosize=False, width=1000, height=800,\n",
    "#                   coloraxis_colorbar=dict(yanchor=\"top\", y=1, x=0, ticks=\"outside\"))\n",
    "# fig.show()"
   ]
  },
  {
   "cell_type": "markdown",
   "metadata": {
    "pycharm": {
     "name": "#%% md\n"
    },
    "tags": []
   },
   "source": [
    "## MP particle size distributions\n",
    "\n",
    "*This calculates probability density distributions for MP sizes. These are used to estimate the abundances of MP of specific size ranges, which can then be investigated for correlations to environmental parameters such as TOC or sediment grain size properties.*\n",
    "**Before running, check the computational parameters in settings.py**"
   ]
  },
  {
   "cell_type": "code",
   "execution_count": 11,
   "metadata": {
    "collapsed": false,
    "jupyter": {
     "outputs_hidden": false
    },
    "pycharm": {
     "name": "#%% calculating probability densities\n"
    }
   },
   "outputs": [
    {
     "name": "stdout",
     "output_type": "stream",
     "text": [
      "Schlei_S8:    bandwidth is 50                        \r"
     ]
    }
   ],
   "source": [
    "# KDEs for probability of finding a MP particle in a specific size bin are calculated.\n",
    "size_pdfs = KDE_utils.per_sample_kde(mp_pdd, sed_lower_boundaries)"
   ]
  },
  {
   "cell_type": "code",
   "execution_count": 12,
   "metadata": {},
   "outputs": [],
   "source": [
    "# Get MP concentrations for each single-step size bin\n",
    "mp_size_conc = KDE_utils.probDens2conc(size_pdfs, mp_sdd)"
   ]
  },
  {
   "cell_type": "code",
   "execution_count": 13,
   "metadata": {},
   "outputs": [],
   "source": [
    "# MP and sediment abundances per size bin are equalised (only samples and bins contained in both of the are kept).\n",
    "# They are then melted and merged into MPsedMelted.\n",
    "mp_size_conc, grainsize_iow, mp_sed_melt = prepare_data.equalise_mp_and_sed(mp_size_conc, grainsize_iow)"
   ]
  },
  {
   "cell_type": "markdown",
   "metadata": {},
   "source": [
    "## Sediment size bin dimension reduction"
   ]
  },
  {
   "cell_type": "code",
   "execution_count": 14,
   "metadata": {
    "pycharm": {
     "name": "#%%\n"
    },
    "tags": []
   },
   "outputs": [],
   "source": [
    "# PCA\n",
    "\n",
    "# SEDpc, SEDexp, SEDload = sed_pca(SEDext.T)\n",
    "# sedpc, sedexp, sedload = sed_pca(grainsize_iow)\n",
    "\n",
    "# To see a loadings plot use:\n",
    "# sedload_df = pd.DataFrame(sedload, columns=['PC1', 'PC2', 'PC3'], index = np.unique(np.concatenate(np.char.split(sed_size_freqs.index.values.astype(str), '_')).ravel().astype(int))[:-1]).T\n",
    "# sedload_df.T.plot()  # x-axis corresponds to lower boundary of size bins"
   ]
  },
  {
   "cell_type": "code",
   "execution_count": 15,
   "metadata": {
    "pycharm": {
     "name": "#%%\n"
    },
    "tags": []
   },
   "outputs": [
    {
     "name": "stdout",
     "output_type": "stream",
     "text": [
      "PCoA: Proportion explained: \n",
      " PC1    0.786809\n",
      "PC2    0.115434\n",
      "dtype: float64    PCoA Total: 0.9022432758660464\n"
     ]
    },
    {
     "name": "stderr",
     "output_type": "stream",
     "text": [
      "/home/my/.local/share/virtualenvs/MPSchleiSediments-EUESJ6vo/lib/python3.9/site-packages/skbio/stats/ordination/_principal_coordinate_analysis.py:143: RuntimeWarning: The result contains negative eigenvalues. Please compare their magnitude with the magnitude of some of the largest positive eigenvalues. If the negative ones are smaller, it's probably safe to ignore them, but if they are large in magnitude, the results won't be useful. See the Notes section for more details. The smallest eigenvalue is -0.02489288420698407 and the largest is 3.18013878352681.\n",
      "  warn(\n"
     ]
    }
   ],
   "source": [
    "# PCoA\n",
    "\n",
    "# sedpco = sed_pcoa(grainsize_iow, num_coords = 2)\n",
    "# sedpco = sed_pcoa(grainsize_iow.append(grainsize_cau), num_coords = 2)\n",
    "sedpco, sedloads, sedexpl = PCOA(grainsize_iow, num=2)\n",
    "\n",
    "# Plot PCo1 and PCo2\n",
    "# alt.Chart(sedpco.merge(mp_added_sed_sdd, left_index=True, right_on='Sample').reset_index()).mark_point().encode(\n",
    "#     x='PC1',\n",
    "#     y='PC2',\n",
    "#     color='D50',\n",
    "#     tooltip='index'\n",
    "# )"
   ]
  },
  {
   "cell_type": "code",
   "execution_count": 16,
   "metadata": {
    "tags": []
   },
   "outputs": [],
   "source": [
    "# import seaborn as sns\n",
    "# import matplotlib.pyplot as plt\n",
    "# sns.set_theme(style=\"white\")\n",
    "\n",
    "# df = sedpco.merge(mp_added_sed_sdd, left_index=True, right_on='Sample')\n",
    "# corrmat = df.corr()\n",
    "\n",
    "# # Generate a mask for the upper triangle\n",
    "# mask = np.triu(np.ones_like(corrmat, dtype=bool))\n",
    "\n",
    "# # Set up the matplotlib figure\n",
    "# f, ax = plt.subplots(figsize=(40, 40))\n",
    "\n",
    "# # Generate a custom diverging colormap\n",
    "# cmap = sns.diverging_palette(230, 10, as_cmap=True)\n",
    "\n",
    "# # Draw the heatmap with the mask and correct aspect ratio\n",
    "# sns.heatmap(corrmat, mask=mask, vmax=.3, center=0,\n",
    "#             square=True, linewidths=.5, cbar_kws={\"shrink\": .5})"
   ]
  },
  {
   "cell_type": "code",
   "execution_count": 17,
   "metadata": {
    "tags": []
   },
   "outputs": [],
   "source": [
    "# alt.Chart(df).mark_circle().encode(\n",
    "#     alt.X(alt.repeat(\"column\"), type='quantitative'),\n",
    "#     alt.Y(alt.repeat(\"row\"), type='quantitative'),\n",
    "#     color='regio_sep:N',\n",
    "#     tooltip=['Sample']\n",
    "# ).properties(\n",
    "#     width=200,\n",
    "#     height=200\n",
    "# ).repeat(\n",
    "#     row=['D50', 'smaller63', 'MoM_ari_MEAN', 'MoM_ari_SORTING', 'MoM_ari_SKEWNESS', 'MoM_ari_KURTOSIS', 'MoM_geo_MEAN', 'MoM_geo_SORTING',\n",
    "#        'MoM_geo_SKEWNESS', 'MoM_geo_KURTOSIS', 'MoM_log_MEAN', 'MoM_log_SORTING', 'MoM_log_SKEWNESS', 'MoM_log_KURTOSIS',\n",
    "#        'FW_geo_MEAN', 'FW_geo_SORTING', 'FW_geo_SKEWNESS', 'FW_geo_KURTOSIS', 'FW_log_MEAN', 'FW_log_SORTING', 'FW_log_SKEWNESS', 'FW_log_KURTOSIS',\n",
    "#        'MODE 1 (µm)', 'MODE 2 (µm)', 'MODE 3 (µm)', 'D10 (µm)', 'D50 (µm)', 'D90 (µm)', '(D90 div D10) (µm)', '(D90 - D10) (µm)', '(D75 div D25) (µm)', '(D75 - D25) (µm)', 'perc GRAVEL', 'perc SAND', 'perc MUD',\n",
    "#        'perc V COARSE SAND', 'perc COARSE SAND', 'perc MEDIUM SAND', 'perc FINE SAND', 'perc V FINE SAND', 'perc V COARSE SILT', 'perc COARSE SILT',\n",
    "#        'perc MEDIUM SILT', 'perc FINE SILT', 'perc V FINE SILT', 'perc CLAY', 'Dx 50', 'TOC', 'Hg'],\n",
    "#     column=['PC1', 'PC2']\n",
    "# ).interactive()"
   ]
  },
  {
   "cell_type": "markdown",
   "metadata": {
    "pycharm": {
     "name": "#%% md\n"
    },
    "tags": []
   },
   "source": [
    "## Modelling"
   ]
  },
  {
   "cell_type": "markdown",
   "metadata": {
    "tags": []
   },
   "source": [
    "### GLM model"
   ]
  },
  {
   "cell_type": "code",
   "execution_count": 29,
   "metadata": {
    "collapsed": false,
    "jupyter": {
     "outputs_hidden": false
    },
    "pycharm": {
     "name": "#%%\n"
    }
   },
   "outputs": [
    {
     "name": "stdout",
     "output_type": "stream",
     "text": [
      "\n",
      "<statsmodels.genmod.families.family.Poisson object at 0x7ff18c8bfe50>\n",
      "                 Generalized Linear Model Regression Results                  \n",
      "==============================================================================\n",
      "Dep. Variable:          Concentration   No. Observations:                   28\n",
      "Model:                            GLM   Df Residuals:                       25\n",
      "Model Family:                 Poisson   Df Model:                            2\n",
      "Link Function:                    Log   Scale:                          1.0000\n",
      "Method:                          IRLS   Log-Likelihood:                -43423.\n",
      "Date:                Mon, 14 Feb 2022   Deviance:                       86582.\n",
      "Time:                        19:58:16   Pearson chi2:                 1.29e+05\n",
      "No. Iterations:                     5   Pseudo R-squ. (CS):              1.000\n",
      "Covariance Type:            nonrobust                                         \n",
      "==============================================================================\n",
      "                 coef    std err          z      P>|z|      [0.025      0.975]\n",
      "------------------------------------------------------------------------------\n",
      "Intercept      7.7647      0.007   1180.201      0.000       7.752       7.778\n",
      "Dist_WWTP  -3.724e-05   3.81e-07    -97.738      0.000    -3.8e-05   -3.65e-05\n",
      "TOC            0.1123      0.001    202.787      0.000       0.111       0.113\n",
      "==============================================================================\n"
     ]
    }
   ],
   "source": [
    "# Create a generalized linear model (GLM) to predict the microplastic concentration from the predictors\n",
    "\n",
    "glm_input = mp_added_sed_sdd.merge(sedpco, left_on='Sample', right_index=True)\n",
    "\n",
    "glm_res = glm.glm(glm_input)\n",
    "print(glm_res.summary())\n",
    "# glm_res.predict(glm_input.iloc[[0]])"
   ]
  },
  {
   "cell_type": "markdown",
   "metadata": {
    "tags": []
   },
   "source": [
    "### XGBoosting Model"
   ]
  },
  {
   "cell_type": "code",
   "execution_count": null,
   "metadata": {},
   "outputs": [],
   "source": [
    "import xgboost as xgb\n",
    "from sklearn.metrics import r2_score\n",
    "from sklearn.metrics import mean_squared_error as mse\n",
    "from sklearn.datasets import load_boston\n",
    "from sklearn.model_selection import train_test_split"
   ]
  },
  {
   "cell_type": "code",
   "execution_count": null,
   "metadata": {},
   "outputs": [],
   "source": [
    "# xgboost model\n",
    "\n",
    "data = mp_added_sed_sdd.merge(sedpco, left_on='Sample', right_index=True).set_index('Sample').copy()\n",
    "\n",
    "y = data.pop('Concentration') # Target vector in pd.Series format\n",
    "X = data.loc[:, ['MoM_ari_MEAN', 'MoM_ari_SORTING',\n",
    "       'MoM_ari_SKEWNESS', 'MoM_ari_KURTOSIS', 'MoM_geo_MEAN',\n",
    "       'MoM_geo_SORTING', 'MoM_geo_SKEWNESS', 'MoM_geo_KURTOSIS',\n",
    "       'MoM_log_MEAN', 'MoM_log_SORTING', 'MoM_log_SKEWNESS',\n",
    "       'MoM_log_KURTOSIS', 'perc GRAVEL', 'perc SAND',\n",
    "       'perc MUD', 'perc V COARSE SAND', 'perc COARSE SAND', 'perc MEDIUM SAND',\n",
    "       'perc FINE SAND', 'perc V FINE SAND', 'perc V COARSE SILT',\n",
    "       'perc COARSE SILT', 'perc MEDIUM SILT', 'perc FINE SILT',\n",
    "       'perc V FINE SILT', 'perc CLAY', 'OM_D50', 'TOC', 'Hg', 'Dist_WWTP',\n",
    "       'PC1', 'PC2']] # Feature matrix in pd.DataFrame format"
   ]
  },
  {
   "cell_type": "code",
   "execution_count": null,
   "metadata": {},
   "outputs": [],
   "source": [
    "# Making train and test sets for both X and y\n",
    "X_train, X_test, y_train, y_test = train_test_split(X, y, test_size=0.2, \n",
    "                                                    random_state=42, shuffle=True)\n",
    "# Instantiate an XGBoost object with hyperparameters\n",
    "xgb_reg = xgb.XGBRegressor(col_sample=10, alpha=0.5, max_depth=2, n_estimators=1000, n_jobs=2,\n",
    "                           objective='reg:squarederror', booster='gbtree',\n",
    "                           random_state=42, learning_rate=0.05)"
   ]
  },
  {
   "cell_type": "code",
   "execution_count": null,
   "metadata": {},
   "outputs": [],
   "source": [
    "# Train the model with train data sets\n",
    "xgb_reg.fit(X_train, y_train)\n",
    "\n",
    "y_pred = xgb_reg.predict(X_test) # Predictions\n",
    "y_true = y_test # True values"
   ]
  },
  {
   "cell_type": "code",
   "execution_count": null,
   "metadata": {},
   "outputs": [],
   "source": [
    "MSE = mse(y_true, y_pred)\n",
    "RMSE = np.sqrt(MSE)\n",
    "\n",
    "R_squared = r2_score(y_true, y_pred)\n",
    "\n",
    "print(\"\\nRMSE: \", np.round(RMSE, 2))\n",
    "print()\n",
    "print(\"R-Squared: \", np.round(R_squared, 2))"
   ]
  },
  {
   "cell_type": "code",
   "execution_count": null,
   "metadata": {},
   "outputs": [],
   "source": [
    "# Visualise results\n",
    "from shapash.explainer.smart_explainer import SmartExplainer\n",
    "\n",
    "y_pred_as_series = pd.Series(y_pred, index=X_test.index, dtype=int)\n",
    "\n",
    "xpl = SmartExplainer() # Creating xpl object\n",
    "xpl.compile(x=X_test, model=xgb_reg, y_pred=y_pred_as_series)\n",
    "app = xpl.run_app() # Launch the app"
   ]
  },
  {
   "cell_type": "markdown",
   "metadata": {
    "tags": []
   },
   "source": [
    "## MP and sediment size range combination correlations"
   ]
  },
  {
   "cell_type": "code",
   "execution_count": null,
   "metadata": {
    "collapsed": false,
    "jupyter": {
     "outputs_hidden": false
    },
    "pycharm": {
     "name": "#%%\n"
    }
   },
   "outputs": [],
   "source": [
    "# Sum abundances in size bins for all possible combinations. Basically create all possible rebinnings and stack them into one DF\n",
    "# MPext = prepare_data.combination_sums(mp_size_conc.copy().T).T  # TODO: using transposed df's here, because combination_sums is not yet turned around: it takes features in rows and samples in columns...\n",
    "SEDext= prepare_data.combination_sums(grainsize_cau.copy().T).T"
   ]
  },
  {
   "cell_type": "markdown",
   "metadata": {
    "tags": []
   },
   "source": [
    "### Altair size range correlation (PC~Sed)"
   ]
  },
  {
   "cell_type": "code",
   "execution_count": null,
   "metadata": {
    "tags": []
   },
   "outputs": [],
   "source": [
    "pc='PC2'\n",
    "\n",
    "pc2gs_corr = pd.DataFrame(SEDext.corrwith(sedpco[pc], method='pearson'), columns=['pearson'])\n",
    "pc2gs_corr['spearman'] = SEDext.corrwith(sedpco[pc], method='spearman')\n",
    "pc2gs_corr['size_low'] = pc2gs_corr.index.str.split('_').str[0].astype(float)\n",
    "pc2gs_corr['size_up'] = pc2gs_corr.index.str.split('_').str[1].astype(float)\n",
    "pc2gs_corr['size_dif'] = pc2gs_corr['size_up'] - pc2gs_corr['size_low']\n",
    "\n",
    "df = sedpco.join(SEDext).melt(id_vars=['PC1','PC2'], ignore_index=False)\n",
    "df['size_low'] = df.variable.str.split('_').str[0].astype(float)\n",
    "df['size_up'] = df.variable.str.split('_').str[1].astype(float)\n",
    "df['size_dif'] = df['size_up'] - df['size_low']\n",
    "\n",
    "x_init = float(SEDext.iloc[:,pc2gs_corr.pearson.argmax()].name.split('_')[0])\n",
    "y_init = float(SEDext.iloc[:,pc2gs_corr.pearson.argmax()].name.split('_')[1])\n",
    "pts = alt.selection(type=\"single\", encodings=['x','y'], init={'x': x_init, 'y': y_init})\n",
    "\n",
    "heatmap = alt.Chart(pc2gs_corr.reset_index()).mark_circle().encode(\n",
    "    x = alt.X('size_low', scale=alt.Scale(type='log')),\n",
    "    y = alt.Y('size_up', scale=alt.Scale(type='log')),\n",
    "    color = alt.condition(alt.datum.pearson == pc2gs_corr.pearson.max(),\n",
    "                          alt.value('orange'),\n",
    "                          alt.Color('pearson', scale=alt.Scale(scheme='redblue', domain=[-1,1]))),\n",
    "    # size = alt.condition(alt.datum.pearson == pc2gs_corr.pearson.max(),\n",
    "    #                       alt.value('10'),\n",
    "    #                       alt.value('5')),\n",
    "    tooltip = ['pearson', 'spearman', 'size_low', 'size_dif', 'size_up']\n",
    ").add_selection(pts\n",
    ").properties(\n",
    "    width=600,\n",
    "    height=600\n",
    ").interactive()\n",
    "\n",
    "\n",
    "scatter = alt.Chart(df.reset_index()).mark_point().encode(\n",
    "    x=pc,\n",
    "    y='value',\n",
    "    tooltip='index'\n",
    ")\n",
    "\n",
    "RegLine = scatter.transform_regression(\n",
    "    pc, 'value', method=\"linear\",\n",
    ").mark_line(\n",
    "    color=\"red\"\n",
    ")\n",
    "\n",
    "RegParams = scatter.transform_regression(\n",
    "    pc, 'value', method=\"linear\", params=True\n",
    ").mark_text(align='left', lineBreak='\\n').encode(\n",
    "    x=alt.value(20),  # pixels from left\n",
    "    y=alt.value(20),  # pixels from top\n",
    "    text='params:N'\n",
    ").transform_calculate(\n",
    "    params='\"R² = \" + round(datum.rSquared * 100)/100 + \\\n",
    "    \"      y = \" + round(datum.coef[1] * 100)/100 + \"x\" + \" + \" + round(datum.coef[0] * 10)/10'\n",
    ")\n",
    "\n",
    "text0 = scatter.mark_text(align='left', lineBreak='\\n').encode(\n",
    "    x=alt.value(20),  # pixels from left\n",
    "    y=alt.value(60),  # pixels from top\n",
    "    text=alt.value('Size bin:')\n",
    ")\n",
    "\n",
    "text1 = scatter.mark_text(align='left', lineBreak='\\n').encode(\n",
    "    x=alt.value(20),  # pixels from left\n",
    "    y=alt.value(80),  # pixels from top\n",
    "    text='variable'\n",
    ")\n",
    "\n",
    "scat_plot = alt.layer(\n",
    "    scatter, RegLine, RegParams, text0, text1\n",
    ").transform_filter(pts\n",
    ").properties(\n",
    "    width=600,\n",
    "    height=600\n",
    ")\n",
    "\n",
    "alt.hconcat(\n",
    "    heatmap,\n",
    "    scat_plot\n",
    ").resolve_legend(\n",
    "    color=\"independent\"\n",
    ")"
   ]
  },
  {
   "cell_type": "markdown",
   "metadata": {
    "tags": []
   },
   "source": [
    "### Altair size range correlation (MP~Sed)"
   ]
  },
  {
   "cell_type": "code",
   "execution_count": null,
   "metadata": {
    "tags": []
   },
   "outputs": [],
   "source": [
    "MPsedExt = prepare_data.merge_size_ranges(MPext, 'MP', SEDext, 'SED', cart_prod=True)"
   ]
  },
  {
   "cell_type": "code",
   "execution_count": null,
   "metadata": {
    "tags": []
   },
   "outputs": [],
   "source": [
    "brush1 = alt.selection_interval(name=\"brush1\", encodings=['y'])\n",
    "brush2 = alt.selection_interval(name=\"brush2\", encodings=['x'])\n",
    "\n",
    "step = sed_lower_boundaries[1] - sed_lower_boundaries[0]\n",
    "\n",
    "scatter = alt.Chart(MPsedExt\n",
    ").transform_calculate(\n",
    "    b1l=f'floor((isDefined(brush1.y) ? (brush1.y[0][0]) : 1) / {step}) * {step}',\n",
    "    b1u=f'ceil((isDefined(brush1.y) ? (brush1.y[0][1]) : 1) / {step}) * {step}',\n",
    "    b2l=f'floor((isDefined(brush2.x) ? (brush2.x[0][0]) : 1) / {step}) * {step}',\n",
    "    b2u=f'ceil((isDefined(brush2.x) ? (brush2.x[0][1]) : 1) / {step}) * {step}',\n",
    ").mark_point().encode(\n",
    "    x = 'SED',\n",
    "    y = 'MP',\n",
    "    tooltip = 'sample:N'\n",
    ").transform_filter(\n",
    "    '(datum.lower_MP >= datum.b1l) &&'\n",
    "    '(datum.upper_MP <= datum.b1u) &&'\n",
    "    '(datum.lower_SED >= datum.b2l) &&'\n",
    "    '(datum.upper_SED <= datum.b2u)'\n",
    ")\n",
    "    \n",
    "\n",
    "RegLine = scatter.transform_regression(\n",
    "    'SED', 'MP', method=\"linear\",\n",
    ").mark_line(\n",
    "    color=\"red\"\n",
    ")\n",
    "\n",
    "\n",
    "RegParams = scatter.transform_regression(\n",
    "    'SED', 'MP', method=\"linear\", params=True\n",
    ").mark_text(align='left', lineBreak='\\n').encode(\n",
    "    x=alt.value(120),  # pixels from left\n",
    "    y=alt.value(20),  # pixels from top\n",
    "    text='params:N'\n",
    ").transform_calculate(\n",
    "    params='\"r² = \" + round(datum.rSquared * 100)/100 + \\\n",
    "    \"      y = \" + round(datum.coef[1] * 100)/100 + \"x\" + \" + \" + round(datum.coef[0] * 10)/10'\n",
    ")\n",
    "\n",
    "\n",
    "MP = alt.Chart(MPsedExt).mark_line().encode(\n",
    "    x = 'mean(MP)',\n",
    "    y = alt.X('lower_MP', scale=alt.Scale(type='linear'))\n",
    ").transform_filter(\n",
    "    '(datum.lower_MP == datum.lower_SED) && \\\n",
    "     (datum.upper_MP == datum.upper_SED)'\n",
    ").add_selection(\n",
    "    brush1\n",
    ").properties(\n",
    "    height = 300,\n",
    "    width = 100\n",
    ")\n",
    "\n",
    "\n",
    "sed = alt.Chart(MPsedExt).mark_line().encode(\n",
    "    x = alt.X('lower_SED', scale=alt.Scale(type='linear')),\n",
    "    y = 'mean(SED)'\n",
    ").transform_filter(\n",
    "    '(datum.lower_MP == datum.lower_SED) &&'\n",
    "    '(datum.upper_MP == datum.upper_SED)'\n",
    ").add_selection(\n",
    "    brush2\n",
    ").properties(\n",
    "    height = 100,\n",
    "    width = 400\n",
    ")\n",
    "\n",
    "\n",
    "MP | (scatter + RegLine + RegParams) & sed\n",
    "\n",
    "# chart = MP | scatter & sed\n",
    "# chart#.save('chart.json')"
   ]
  },
  {
   "cell_type": "markdown",
   "metadata": {
    "tags": []
   },
   "source": [
    "### Size range correlation matrix (MP~Sed)"
   ]
  },
  {
   "cell_type": "code",
   "execution_count": null,
   "metadata": {},
   "outputs": [],
   "source": [
    "# Calculate a correlation matrix containing Pearson correlation coefficients for all combinations of any original or summed bins of MP and sediments.\n",
    "corrMat = np.corrcoef(MPext,SEDext)\n",
    "corrMat = corrMat[:len(MPext), len(SEDext):]  # only take upper right quadrant of correlation matrix\n",
    "\n",
    "corrMatDF = pd.DataFrame(corrMat, index=MPext.index, columns=SEDext.index)  # turn np array into df\n",
    "# corrMatDF.rename('MP_{}'.format, axis=0, inplace=True)  # add a prefix for 'MP' to each row label\n",
    "# corrMatDF.rename('SED_{}'.format, axis=1, inplace=True)  # add a prefix for 'sediment' to each column label\n",
    "corrMatDF.index.name = 'MP'\n",
    "corrMatDF.columns.name = 'SED'"
   ]
  },
  {
   "cell_type": "markdown",
   "metadata": {},
   "source": [
    "### Cross-Correlation"
   ]
  },
  {
   "cell_type": "code",
   "execution_count": null,
   "metadata": {
    "tags": []
   },
   "outputs": [],
   "source": [
    "# Run a cross-correlation for each sample between MP and sediment size distribution curve shapes.\n",
    "crosscorr_results = pd.DataFrame()\n",
    "\n",
    "for label, content in df_range_conc.items():\n",
    "    datax = content\n",
    "    datay = grainsize_iow[label]\n",
    "    #best = correlations.crosscorr(datax, datay)\n",
    "        \n",
    "#     lags = range(-int(len(datax)/2), int(len(datax)/2)+1)\n",
    "    lags = range(-50,0)\n",
    "    df_r = pd.DataFrame(lags, columns = ['shifted'])\n",
    "    \n",
    "#     r_pear = [datax.corr(datay.shift(lag)) for lag in lags]\n",
    "#     df_r['pearson_r'] = r_pear\n",
    "    r_spear = [stats.spearmanr(np.array(datax),np.array(datay.shift(lag)), nan_policy = 'omit') for lag in lags]\n",
    "    df_r['spearman_r'] = r_spear\n",
    "    \n",
    "    \n",
    "    best = df_r.copy().loc[df_r['spearman_r'] == df_r['spearman_r'].max()]\n",
    "    best['Sample'] = label\n",
    "    crosscorr_results = crosscorr_results.append(best)"
   ]
  },
  {
   "cell_type": "markdown",
   "metadata": {
    "tags": []
   },
   "source": [
    "## MP-to-Scalar correlation (e.g. TOC)"
   ]
  },
  {
   "cell_type": "code",
   "execution_count": null,
   "metadata": {},
   "outputs": [],
   "source": [
    "alt.Chart(mp_added_sed_sdd).mark_point().encode(\n",
    "    alt.X(alt.repeat(\"column\"), type='quantitative'),\n",
    "    y = 'Concentration',\n",
    "    color = 'Regio_Sep',\n",
    "    tooltip = 'Sample'\n",
    ").repeat(\n",
    "    column=['D50', 'TOC', 'Dist_WWTP', 'Mass', 'Split']\n",
    ").interactive()"
   ]
  },
  {
   "cell_type": "code",
   "execution_count": null,
   "metadata": {},
   "outputs": [],
   "source": [
    "import plotly.express as px\n",
    "fig = px.scatter_3d(mp_added_sed_sdd, x='Dist_WWTP', y='D50', z='Concentration',\n",
    "                    color='TOC', symbol='regio_sep', hover_name=\"Sample\",\n",
    "                    color_continuous_scale=px.colors.sequential.turbid_r)\n",
    "\n",
    "# resize markers\n",
    "fig.update_traces(marker=dict(size=4,\n",
    "                              line=dict(width=2,\n",
    "                                        color='DarkSlateGrey')),\n",
    "                  selector=dict(mode='markers'))\n",
    "\n",
    "# change size and move colorbar\n",
    "fig.update_layout(autosize=False, width=1000, height=800,\n",
    "                  coloraxis_colorbar=dict(yanchor=\"top\", y=1, x=0, ticks=\"outside\"))\n",
    "fig.show()"
   ]
  },
  {
   "cell_type": "code",
   "execution_count": null,
   "metadata": {
    "pycharm": {
     "name": "#%% size-ranged TOC correlations\n"
    },
    "tags": [
     "TOC"
    ]
   },
   "outputs": [],
   "source": [
    "# Calculate correlation between all size bins (or their summed up combinations) of MP abundances and a scalar predictor.\n",
    "# Possible predictors are: 'TOC', 'Hg', 'Dist_WWTP' or different sediment grain size properties (D50, below 63, etc.). See column labels of sdd_MP_sed for a full list.\n",
    "bestLower, bestUpper, df_r = correlations.predictorcorr(df_range_conc, mp_added_sed_sdd.set_index('Sample'), 'TOC')"
   ]
  },
  {
   "cell_type": "code",
   "execution_count": null,
   "metadata": {
    "tags": [
     "TOC"
    ]
   },
   "outputs": [],
   "source": [
    "# Heatmap correlation coefficients from the single predictor correlation\n",
    "alt.renderers.enable('html')\n",
    "\n",
    "alt.Chart(df_r).mark_point().encode(\n",
    "    x='lower_size',\n",
    "    y='upper_size',\n",
    "    color=alt.Color(\"r\", scale=alt.Scale(domain=[0.5, 0.6])),\n",
    "    tooltip=['r', 'lower_size', 'upper_size']\n",
    ").properties(\n",
    "    width=800,\n",
    "    height=800\n",
    ")"
   ]
  },
  {
   "cell_type": "code",
   "execution_count": null,
   "metadata": {
    "pycharm": {
     "name": "#%% size-ranged TOC correlations\n"
    },
    "tags": [
     "TOC"
    ]
   },
   "outputs": [],
   "source": [
    "#####USED only for testing external function inside NB: #####\n",
    "step = (Config.upper_size_limit - Config.lower_size_limit) / Config.kde_steps\n",
    "df_r = pd.DataFrame(columns=['lower_size', 'upper_size', 'r', 'p'])\n",
    "\n",
    "for i in [10]:\n",
    "    for j in [1000]:\n",
    "        size_sum = size_pdfs.loc[(size_pdfs.x_d >= i) & (size_pdfs.x_d < j)].sum()\n",
    "        size_sum.drop('x_d', inplace=True)\n",
    "        range_prob = size_sum * step\n",
    "        range_conc = range_prob * mp_added_sed_sdd.set_index('Sample').Concentration\n",
    "\n",
    "        r = stats.pearsonr(range_conc, mp_added_sed_sdd.set_index('Sample').TOC)\n",
    "        df_r.loc[len(df_r)] = [i, j, r[0], r[1]]\n",
    "        print(f'Correlating TOC with size range            [{i},        {j}]                ', end=\"\\r\", flush=True)\n",
    "\n",
    "print(df_r.loc[df_r.r == df_r.r.max()])\n",
    "bestLower, bestUpper = df_r.loc[df_r.r == df_r.r.max()].iloc[0, 0:2]"
   ]
  },
  {
   "cell_type": "code",
   "execution_count": null,
   "metadata": {
    "pycharm": {
     "name": "#%%\n"
    },
    "tags": [
     "TOC"
    ]
   },
   "outputs": [],
   "source": [
    "# Property-property-plot with MP against single predictor incl. reg line \n",
    "kd = alt.Chart(pd.DataFrame([range_conc, mp_added_sed_sdd.set_index('Sample').TOC]).T.reset_index()).mark_point().encode(\n",
    "    x='TOC',\n",
    "    y='Unnamed 0',\n",
    "    color='index',\n",
    "    tooltip='index'\n",
    ")\n",
    "\n",
    "Reg_Line = kd.transform_regression('TOC', 'Unnamed 0', method=\"linear\",\n",
    "                                  ).mark_line(color=\"red\")\n",
    "\n",
    "Reg_Params = kd.transform_regression('TOC', 'Unnamed 0', method=\"linear\", params=True\n",
    "                                    ).mark_text(align='left', lineBreak='\\n').encode(\n",
    "        x=alt.value(120),  # pixels from left\n",
    "        y=alt.value(20),  # pixels from top\n",
    "        text='params:N'\n",
    "    ).transform_calculate(\n",
    "        params='\"r² = \" + round(datum.rSquared * 100)/100 + \\\n",
    "    \"      y = \" + round(datum.coef[0] * 10)/10 + \" + e ^ (\" + round(datum.coef[1] * 10000)/10000 + \"x\" + \")\" + \\n + \" \"'\n",
    "    )\n",
    "\n",
    "kd + Reg_Line + Reg_Params"
   ]
  },
  {
   "cell_type": "code",
   "execution_count": null,
   "metadata": {
    "tags": []
   },
   "outputs": [],
   "source": [
    "daf = grainsize_iow.reset_index().melt(id_vars='index', value_name='value')\n",
    "daf['size'] = daf['index'].str.split('_').str[0]\n",
    "daf['category'] = 'sediment'\n",
    "\n",
    "daff = df_range_conc.reset_index().melt(id_vars='index', value_name='value')\n",
    "daff['size'] = daf['index'].str.split('_').str[0]\n",
    "daff['category'] = 'MP'\n",
    "\n",
    "df = pd.concat([daf, daff]).drop(columns=['index'])\n",
    "# df = daf.merge(daff, on =['sample', 'size', 'index']).drop(columns=['index'])"
   ]
  },
  {
   "cell_type": "code",
   "execution_count": null,
   "metadata": {
    "tags": []
   },
   "outputs": [],
   "source": [
    "input_dropdown = alt.binding_select(options=list(df['sample'].unique()), name='select sample ')\n",
    "selection = alt.selection_single(fields=['sample'],\n",
    "                                 bind=input_dropdown,\n",
    "                                 #init={'select_': 'Schlei_S8'}\n",
    "                                )\n",
    "\n",
    "base = alt.Chart(df).mark_line().encode(\n",
    "    x=alt.X('size:Q'),\n",
    "    y=alt.Y('value:Q'),\n",
    "    color='category',\n",
    "#     shape='category',\n",
    "#     detail='category'\n",
    "# ).transform_window(\n",
    "#     cuml='sum(value)',\n",
    "#     groupby=['sample']\n",
    ").transform_filter(\n",
    "    alt.FieldRangePredicate(field='size', range=[50, 990])\n",
    "# ).properties(\n",
    "#     width=180,\n",
    "#     height=180\n",
    "# ).facet(\n",
    "#     facet='sample',\n",
    "#     columns=6\n",
    "# ).resolve_scale(\n",
    "#     y='independent'\n",
    ")\n",
    "\n",
    "\n",
    "mps = base.mark_line(color='blue').transform_filter(\n",
    "    alt.FieldEqualPredicate(field='category', equal='MP')\n",
    ")\n",
    "seds = base.mark_line(color='yellow').transform_filter(\n",
    "    alt.FieldEqualPredicate(field='category', equal='sediment')\n",
    ")\n",
    "\n",
    "alt.layer(mps, seds).resolve_scale(\n",
    "    y = 'independent'\n",
    ").add_selection(\n",
    "    selection\n",
    ").transform_filter(\n",
    "    selection\n",
    ")\n"
   ]
  },
  {
   "cell_type": "code",
   "execution_count": null,
   "metadata": {
    "tags": []
   },
   "outputs": [],
   "source": [
    "base = alt.Chart(df).encode(\n",
    "    alt.X('size:Q', axis=alt.Axis(title=None))\n",
    ").properties(\n",
    "    width=180,\n",
    "    height=180\n",
    ")\n",
    "\n",
    "mps = base.mark_line(stroke='#57A44C', interpolate='monotone').encode(\n",
    "    alt.Y('MP:Q', axis=alt.Axis(title='MP', titleColor='#57A44C'))\n",
    ")\n",
    "\n",
    "seds = base.mark_line(stroke='#5276A7', interpolate='monotone').encode(\n",
    "    alt.Y('sediment:Q', axis=alt.Axis(title='sediment', titleColor='#5276A7'))\n",
    ")\n",
    "\n",
    "alt.layer(mps, seds).resolve_scale(\n",
    "    y = 'independent'\n",
    ").properties(\n",
    "    width=180,\n",
    "    height=180\n",
    ").facet(\n",
    "    facet='sample',\n",
    "    columns=6\n",
    ").resolve_scale(\n",
    "    y='independent'\n",
    ")"
   ]
  },
  {
   "cell_type": "code",
   "execution_count": null,
   "metadata": {
    "tags": []
   },
   "outputs": [],
   "source": [
    "df = daf.shift(100).merge(daff, on =['sample', 'size', 'index']).drop(columns=['index'])\n",
    "alt.Chart(df).mark_point().encode(\n",
    "    x=alt.X('value_x', scale=alt.Scale(type='linear')),\n",
    "    y=alt.X('value_y', scale=alt.Scale(type='linear')),\n",
    "    color=alt.Color('size:Q', scale=alt.Scale(scheme=\"viridis\"))\n",
    ").properties(\n",
    "    width=150,\n",
    "    height=150\n",
    ").facet(\n",
    "    facet='sample',\n",
    "    columns=6\n",
    ").resolve_scale(\n",
    "    y='independent',\n",
    "    x='independent'\n",
    ")"
   ]
  },
  {
   "cell_type": "code",
   "execution_count": null,
   "metadata": {
    "tags": []
   },
   "outputs": [],
   "source": [
    "data = pd.DataFrame({\n",
    "    'x': range(9),\n",
    "    'y': [1, 2, 3, 4, 5, 4, 3, 2, 1]\n",
    "})\n",
    "\n",
    "brush = alt.selection_interval(name=\"brush\", encodings=['x'])\n",
    "alt.Chart(data).mark_line().add_selection(brush).transform_calculate(\n",
    "    scaled_by_brush_width='datum.y * (isDefined(brush.x) ? (brush.x[1] - brush.x[0]) : 1)'\n",
    ").encode(\n",
    "    x='x:Q',\n",
    "    y='scaled_by_brush_width:Q'\n",
    ")"
   ]
  }
 ],
 "metadata": {
  "interpreter": {
   "hash": "f52180fe46b99599fa7a0c38aeb9ade3a59b8665d580284bd71af4d35515bb12"
  },
  "kernelspec": {
   "name": "mpschleisediments-bsfbf4xj",
   "language": "python",
   "display_name": "MPSchleiSediments-bSFBF4Xj"
  },
  "language_info": {
   "codemirror_mode": {
    "name": "ipython",
    "version": 3
   },
   "file_extension": ".py",
   "mimetype": "text/x-python",
   "name": "python",
   "nbconvert_exporter": "python",
   "pygments_lexer": "ipython3",
   "version": "3.9.9"
  },
  "nteract": {
   "version": "0.28.0"
  },
  "toc-autonumbering": true,
  "toc-showcode": true,
  "toc-showmarkdowntxt": false,
  "toc-showtags": false
 },
 "nbformat": 4,
 "nbformat_minor": 4
}