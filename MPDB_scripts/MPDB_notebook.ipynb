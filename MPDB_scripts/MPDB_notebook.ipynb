{
 "cells": [
  {
   "cell_type": "code",
   "execution_count": 1,
   "id": "7e65e90a-b4da-4a2b-a0ae-3f8522d12648",
   "metadata": {},
   "outputs": [],
   "source": [
    "%reload_ext autoreload\n",
    "%autoreload 2\n",
    "\n",
    "import getpass\n",
    "import mysql.connector\n",
    "import pandas as pd\n",
    "import MPDB_utils as ut\n",
    "from MPDB_settings import MPDB_server, particleQuery\n",
    "from MPDB_procedures import blank_procedure, blind_procedure, update_env_and_blind, make_syn_blind"
   ]
  },
  {
   "cell_type": "markdown",
   "id": "77cc3523-4892-4d25-bab3-b2780decfbfe",
   "metadata": {},
   "source": [
    "## Establish a connection to the MPDB\n",
    "Enter your username and password when prompted."
   ]
  },
  {
   "cell_type": "code",
   "execution_count": 2,
   "id": "00a3bd22-9bd3-4984-a963-3c0207732231",
   "metadata": {},
   "outputs": [],
   "source": [
    "connection = mysql.connector.connect(host=MPDB_server,\n",
    "                                     user=input('Username: '),\n",
    "                                     passwd=getpass.getpass(prompt='Password: '),\n",
    "                                     db='micropoll')"
   ]
  },
  {
   "cell_type": "markdown",
   "id": "1176e292-7375-4a03-bbba-5cc7af817d1b",
   "metadata": {},
   "source": [
    "## All data wrangling happens in the modules of the following pipeline\n",
    "\n",
    "- starting with the call of all particles in the MPDB\n",
    "- certain polymers get excluded (i.e. own contamination or unclear dye signatures)\n",
    "- geometric mean sizes are calculated from size 1 and 2 (length and width of the GEPARD-fitted ellipses)\n",
    "- sizes outside the target spectrum are excluded (here only particles >= 50 µm in `Size_1` are targeted)\n",
    "- shape and colour get simplified for later distinct phenotype creation\n",
    "- the particles ID column gets used as the index\n",
    "\n",
    "All the above uses a combined `MP` dataframe as inputs AND outputs. In the last step this dataframe gets filtered to only include the particles relevant in this analysis and splits it in different sub-dataframes\n",
    "- `env_MP`contains the environmental MP particles (i.e. from \"real\" samples)\n",
    "- `IOW_blind_MP` contains the MP particles from procedural IOW blind samples\n",
    "- `samples_MP` is a concatenation of the two above\n",
    "- `IPF_blank_MP` contains the MP particles from IPF lab blanks"
   ]
  },
  {
   "cell_type": "code",
   "execution_count": 3,
   "id": "423e2205-f8ac-49d7-83a9-1e6ea7e699f8",
   "metadata": {},
   "outputs": [
    {
     "name": "stdout",
     "output_type": "stream",
     "text": [
      "Using 8 IOW Blind samples:  \n",
      "['Blank_20.12.2018_w_IS' 'Blank_11.12.2018_w_IS' 'Blank_5.11.19_IS_2'\n",
      " 'Blank_6.11.19_1' 'Blank_6.11.19_2' 'Blank_5.11.19_IS_1' 'Blank_11.02.19'\n",
      " 'Blank_5.5.21']\n"
     ]
    }
   ],
   "source": [
    "env_MP, IOW_blind_MP, samples_MP, IPF_blank_MP = pd.read_sql_query(particleQuery, connection\n",
    ").pipe(ut.poly_exclude\n",
    ").pipe(ut.particle_amplification\n",
    ").pipe(ut.geom_mean\n",
    ").pipe(ut.size_filter\n",
    ").pipe(ut.shape_colour\n",
    ").pipe(ut.set_id_to_index\n",
    ").pipe(ut.separate_MPs)\n",
    "\n",
    "print(f'Using {len(IOW_blind_MP.Sample.unique())} IOW Blind samples:  ')\n",
    "print(IOW_blind_MP.Sample.unique())"
   ]
  },
  {
   "cell_type": "markdown",
   "id": "5a799033-5cdd-4076-8d92-4cfc11a0cb64",
   "metadata": {
    "tags": []
   },
   "source": [
    "## Removing particles due to lab blanks..."
   ]
  },
  {
   "cell_type": "code",
   "execution_count": 4,
   "id": "876b6b5c-1939-4f2a-8b20-19df13f2fca0",
   "metadata": {},
   "outputs": [
    {
     "name": "stdout",
     "output_type": "stream",
     "text": [
      "For blank particle # 26681_0 :  Nothing to clean up.\n",
      "For blank particle # 26684_0 :  Nothing to clean up.\n",
      "For blank particle # 26686_0 :  Nothing to clean up.\n",
      "For blank particle # 26689_0 :  Nothing to clean up.\n",
      "For blank particle # 26690_0 :  Nothing to clean up.\n",
      "For blank particle # 26691_0 :  Nothing to clean up.\n",
      "For blank particle # 26692_0 :  Nothing to clean up.\n",
      "For blank particle # 26694_0 :  Nothing to clean up.\n",
      "For blank particle # 28292_0 :  Nothing to clean up.\n",
      "For blank particle # 42143_0 :  Env. particle # 42107_0 was eliminated.\n",
      "For blank particle # 42158_0 :  Env. particle # 42107_1 was eliminated.\n",
      "For blank particle # 42160_0 :  Env. particle # 42106_0 was eliminated.\n",
      "For blank particle # 42162_0 :  Env. particle # 42097_0 was eliminated.\n",
      "For blank particle # 42728_0 :  Env. particle # 42819_0 was eliminated.\n",
      "For blank particle # 42940_0 :  Env. particle # 26498_0 was eliminated.\n",
      "For blank particle # 42941_0 :  Env. particle # 26579_0 was eliminated.\n",
      "For blank particle # 42946_0 :  Env. particle # 26534_0 was eliminated.\n",
      "For blank particle # 44097_0 :  Nothing to clean up.\n",
      "For blank particle # 44104_0 :  Nothing to clean up.\n",
      "For blank particle # 44105_0 :  Nothing to clean up.\n",
      "For blank particle # 44113_0 :  Env. particle # 43031_0 was eliminated.\n",
      "For blank particle # 44122_0 :  Env. particle # 44768_0 was eliminated.\n",
      "For blank particle # 44127_0 :  Env. particle # 44878_0 was eliminated.\n",
      "For blank particle # 44130_0 :  Env. particle # 53444_0 was eliminated.\n",
      "For blank particle # 44954_0 :  Env. particle # 44999_0 was eliminated.\n",
      "For blank particle # 46267_0 :  Env. particle # 46172_0 was eliminated.\n",
      "For blank particle # 46308_0 :  Env. particle # 45702_0 was eliminated.\n",
      "For blank particle # 46309_0 :  Env. particle # 45746_0 was eliminated.\n",
      "For blank particle # 46310_0 :  Nothing to clean up.\n",
      "For blank particle # 52395_0 :  Env. particle # 52425_0 was eliminated.\n",
      "For blank particle # 52491_0 :  Env. particle # 52552_0 was eliminated.\n",
      "For blank particle # 52493_0 :  Env. particle # 52560_0 was eliminated.\n",
      "For blank particle # 53735_0 :  Env. particle # 53765_0 was eliminated.\n",
      "For blank particle # 53736_0 :  Env. particle # 53888_0 was eliminated.\n",
      "For blank particle # 53742_0 :  Env. particle # 53897_0 was eliminated.\n",
      "For blank particle # 53924_0 :  Env. particle # 54021_0 was eliminated.\n"
     ]
    }
   ],
   "source": [
    "samples_MP_copy, IPF_elimination_list = blank_procedure(samples_MP, IPF_blank_MP)"
   ]
  },
  {
   "cell_type": "markdown",
   "id": "05f5a783-ac8b-44b6-bd15-9a13f17eadca",
   "metadata": {
    "tags": []
   },
   "source": [
    "## Some intermediate steps...\n",
    "- The blank procedure was conducted on the combined `samples_MP` dataframe. The results are now proted to the separate `env_MP` and `IOW_blind_MP` dataframes.\n",
    "- A synthesised blind particle dataframe `syn_blind` is generated for the blind procedure."
   ]
  },
  {
   "cell_type": "code",
   "execution_count": 5,
   "id": "e0c37224-55ec-473e-921e-8707972a22e5",
   "metadata": {},
   "outputs": [],
   "source": [
    "IOW_blind_MP, env_MP = update_env_and_blind(samples_MP_copy, IOW_blind_MP)\n",
    "\n",
    "syn_blind = make_syn_blind(IOW_blind_MP)"
   ]
  },
  {
   "cell_type": "markdown",
   "id": "2ce642a1-62ba-492a-aa5e-fe6b655e7190",
   "metadata": {},
   "source": [
    "## Removing particles due to procedural blinds..."
   ]
  },
  {
   "cell_type": "code",
   "execution_count": 6,
   "id": "3c88715e-c800-483d-9a22-10b606ae97ed",
   "metadata": {},
   "outputs": [
    {
     "name": "stdout",
     "output_type": "stream",
     "text": [
      "6  particles elimnated in:   Schlei_S10\n",
      "9  particles elimnated in:   Schlei_S10_15cm\n",
      "7  particles elimnated in:   Schlei_S11\n",
      "8  particles elimnated in:   Schlei_S13\n",
      "7  particles elimnated in:   Schlei_S14\n",
      "6  particles elimnated in:   Schlei_S15\n",
      "7  particles elimnated in:   Schlei_S16\n",
      "6  particles elimnated in:   Schlei_S17\n",
      "6  particles elimnated in:   Schlei_S19\n",
      "7  particles elimnated in:   Schlei_S1_15cm\n",
      "7  particles elimnated in:   Schlei_S2\n",
      "7  particles elimnated in:   Schlei_S20\n",
      "7  particles elimnated in:   Schlei_S21\n",
      "9  particles elimnated in:   Schlei_S22\n",
      "7  particles elimnated in:   Schlei_S23\n",
      "6  particles elimnated in:   Schlei_S24\n",
      "9  particles elimnated in:   Schlei_S25\n",
      "5  particles elimnated in:   Schlei_S26\n",
      "7  particles elimnated in:   Schlei_S27\n",
      "8  particles elimnated in:   Schlei_S29\n",
      "7  particles elimnated in:   Schlei_S2_15cm\n",
      "7  particles elimnated in:   Schlei_S3\n",
      "7  particles elimnated in:   Schlei_S30\n",
      "6  particles elimnated in:   Schlei_S31\n",
      "7  particles elimnated in:   Schlei_S32\n",
      "7  particles elimnated in:   Schlei_S4\n",
      "6  particles elimnated in:   Schlei_S4_15cm\n",
      "5  particles elimnated in:   Schlei_S5\n",
      "7  particles elimnated in:   Schlei_S6\n",
      "7  particles elimnated in:   Schlei_S7\n",
      "8  particles elimnated in:   Schlei_S8\n",
      "Total number of particles eliminated due to blind particle matches:  215\n"
     ]
    }
   ],
   "source": [
    "env_MP_copy, IOW_elimination_list = blind_procedure(env_MP, syn_blind)"
   ]
  },
  {
   "cell_type": "markdown",
   "id": "85bed408-a2b4-4ce9-ae47-24eb33f069e6",
   "metadata": {},
   "source": [
    "## Export final list of valid MP particles"
   ]
  },
  {
   "cell_type": "code",
   "execution_count": 14,
   "id": "50739c07-355c-4c19-8d8c-b3d73b701636",
   "metadata": {},
   "outputs": [],
   "source": [
    "env_MP_copy.to_csv('../data/env_MP_clean_list_SchleiSediments.csv')"
   ]
  },
  {
   "cell_type": "code",
   "execution_count": null,
   "id": "d5ca08db-9a79-46dd-837e-a380fdb1e74c",
   "metadata": {},
   "outputs": [],
   "source": []
  }
 ],
 "metadata": {
  "kernelspec": {
   "display_name": "MPSchleiSediments-bSFBF4Xj",
   "language": "python",
   "name": "mpschleisediments-bsfbf4xj"
  },
  "language_info": {
   "codemirror_mode": {
    "name": "ipython",
    "version": 3
   },
   "file_extension": ".py",
   "mimetype": "text/x-python",
   "name": "python",
   "nbconvert_exporter": "python",
   "pygments_lexer": "ipython3",
   "version": "3.9.9"
  }
 },
 "nbformat": 4,
 "nbformat_minor": 5
}