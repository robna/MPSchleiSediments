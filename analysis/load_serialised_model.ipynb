{
 "cells": [
  {
   "cell_type": "code",
   "execution_count": null,
   "id": "1f2bcd54-0857-4c1c-877a-35fdf1f6ad33",
   "metadata": {},
   "outputs": [],
   "source": [
    "import joblib\n",
    "import pandas as pd\n",
    "from cv import generate_feature_sets, best_scored, get_median_cv_scores, SelectFeatures"
   ]
  },
  {
   "cell_type": "code",
   "execution_count": null,
   "id": "d1ee7897-dbaa-4fb7-bdaf-064511f1290f",
   "metadata": {},
   "outputs": [],
   "source": [
    "with open(f'../data/exports/models/20221120_182318.pkl', 'rb') as p:\n",
    "    data = joblib.load(p)"
   ]
  },
  {
   "cell_type": "code",
   "execution_count": null,
   "id": "f7c779da-c91c-4e95-8631-501bcb0614ef",
   "metadata": {},
   "outputs": [],
   "source": [
    "data.keys()"
   ]
  }
 ],
 "metadata": {
  "kernelspec": {
   "display_name": "MPSchleiSediments-z4CtktJ9",
   "language": "python",
   "name": "mpschleisediments-z4ctktj9"
  },
  "language_info": {
   "codemirror_mode": {
    "name": "ipython",
    "version": 3
   },
   "file_extension": ".py",
   "mimetype": "text/x-python",
   "name": "python",
   "nbconvert_exporter": "python",
   "pygments_lexer": "ipython3",
   "version": "3.9.13"
  }
 },
 "nbformat": 4,
 "nbformat_minor": 5
}
