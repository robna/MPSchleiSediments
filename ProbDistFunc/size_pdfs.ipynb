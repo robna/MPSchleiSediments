{
 "cells": [
  {
   "cell_type": "code",
   "execution_count": 1,
   "metadata": {
    "collapsed": true
   },
   "outputs": [],
   "source": [
    "import pandas as pd\n",
    "import altair as alt\n",
    "alt.renderers.enable('altair_viewer')\n",
    "alt.data_transformers.disable_max_rows()\n",
    "import KDE_prepare_data\n",
    "import KDE_utils"
   ]
  },
  {
   "cell_type": "markdown",
   "source": [
    "## MP particle size correlations\n",
    "\n",
    "*This calculates probability density distributions for MP sizes. These are used to estimate the abundances of MP of specific size ranges, wich can then be investigated for correlations to environmental paramteres such as TOC or sediment grain size properties.*\n",
    "**Before running, check the computational parameters in KDE_settings.py**"
   ],
   "metadata": {
    "collapsed": false,
    "pycharm": {
     "name": "#%% md\n"
    }
   }
  },
  {
   "cell_type": "code",
   "execution_count": 2,
   "outputs": [],
   "source": [
    "pdd_MP = pd.read_csv('../csv/env_MP_clean_list_SchleiSediments.csv', index_col=0)\n"
   ],
   "metadata": {
    "collapsed": false,
    "pycharm": {
     "name": "#%% loading data\n"
    }
   }
  },
  {
   "cell_type": "code",
   "execution_count": 3,
   "outputs": [],
   "source": [
    "sdd_MP = KDE_prepare_data.aggregate_SDD(pdd_MP)\n",
    "sdd_MP_sed = KDE_prepare_data.add_sediment(sdd_MP)\n",
    "pdd_sdd_MP = KDE_prepare_data.sdd2pdd(sdd_MP_sed, pdd_MP)"
   ],
   "metadata": {
    "collapsed": false,
    "pycharm": {
     "name": "#%% data wrangling\n"
    }
   }
  },
  {
   "cell_type": "code",
   "execution_count": 4,
   "outputs": [
    {
     "name": "stdout",
     "output_type": "stream",
     "text": [
      "Schlei_S10:    bandwidth is 50\n",
      "Schlei_S10_15cm:    bandwidth is 50\n",
      "Schlei_S11:    bandwidth is 50\n",
      "Schlei_S13:    bandwidth is 50\n",
      "Schlei_S14:    bandwidth is 50\n",
      "Schlei_S15:    bandwidth is 50\n",
      "Schlei_S17:    bandwidth is 50\n",
      "Schlei_S19:    bandwidth is 50\n",
      "Schlei_S1_15cm:    bandwidth is 50\n",
      "Schlei_S2:    bandwidth is 50\n",
      "Schlei_S22:    bandwidth is 50\n",
      "Schlei_S23:    bandwidth is 50\n",
      "Schlei_S24:    bandwidth is 50\n",
      "Schlei_S25:    bandwidth is 50\n",
      "Schlei_S26:    bandwidth is 50\n",
      "Schlei_S27:    bandwidth is 50\n",
      "Schlei_S3:    bandwidth is 50\n",
      "Schlei_S30:    bandwidth is 50\n",
      "Schlei_S31:    bandwidth is 50\n",
      "Schlei_S5:    bandwidth is 50\n",
      "Schlei_S8:    bandwidth is 50\n"
     ]
    }
   ],
   "source": [
    "size_pdfs = KDE_utils.per_sample_kde(pdd_sdd_MP)"
   ],
   "metadata": {
    "collapsed": false,
    "pycharm": {
     "name": "#%% calculating probability densities\n"
    }
   }
  },
  {
   "cell_type": "code",
   "execution_count": 5,
   "outputs": [
    {
     "data": {
      "text/plain": "Displaying chart at http://localhost:23590/",
      "text/html": "Displaying chart at <a href='http://localhost:23590/' target='_blank'>http://localhost:23590/</a>"
     },
     "execution_count": 5,
     "metadata": {},
     "output_type": "execute_result"
    }
   ],
   "source": [
    "alt.Chart(size_pdfs.melt(id_vars=['x_d'])).mark_line().encode(\n",
    "    x='x_d',\n",
    "    y='value',\n",
    "    color='variable',\n",
    "    tooltip='variable'\n",
    ").interactive()"
   ],
   "metadata": {
    "collapsed": false,
    "pycharm": {
     "name": "#%%\n"
    }
   }
  },
  {
   "cell_type": "code",
   "execution_count": 5,
   "outputs": [],
   "source": [
    "def optimise(df):\n",
    "    df_r = pd.DataFrame(columns=['alpha', 'beta',\n",
    "                                 'r_BDI', 'p_BDI',\n",
    "                                 'r_IQI', 'p_IQI'])\n",
    "\n",
    "    p = np.arange(Config.minParameterForBDI, Config.maxParameterForBDI, Config.stepParameterForBDI)\n",
    "    for alpha in p:\n",
    "        for beta in p:\n",
    "            if alpha == 0 and beta ==0:\n",
    "                pass\n",
    "            else:\n",
    "                df = make_BDI(df, alpha, beta)\n",
    "                r_BDI = stats.pearsonr(df.particle_loss, df.BDI)\n",
    "                r_IQI = stats.pearsonr(df.particle_loss, df.IQI)\n",
    "                df_r.loc[len(df_r)] = [alpha, beta,\n",
    "                                       r_BDI[0], r_BDI[1],\n",
    "                                       r_IQI[0], r_IQI[1]]\n",
    "                print(f'Running BDI optimisation with alpha =     {round(alpha, 2)}                        ', end=\"\\r\", flush=True)\n",
    "\n",
    "    # print(df_r.loc[df_r.r_IQI == df_r.r_IQI.max()])\n",
    "    print(df_r.loc[df_r.r_BDI == df_r.r_BDI.max()])\n",
    "    bestAlpha, bestBeta = df_r.loc[df_r.r_BDI == df_r.r_BDI.max()].iloc[0, 0:2]\n",
    "\n",
    "    return bestAlpha, bestBeta\n"
   ],
   "metadata": {
    "collapsed": false,
    "pycharm": {
     "name": "#%%\n"
    }
   }
  }
 ],
 "metadata": {
  "kernelspec": {
   "display_name": "Python 3",
   "language": "python",
   "name": "python3"
  },
  "language_info": {
   "codemirror_mode": {
    "name": "ipython",
    "version": 2
   },
   "file_extension": ".py",
   "mimetype": "text/x-python",
   "name": "python",
   "nbconvert_exporter": "python",
   "pygments_lexer": "ipython2",
   "version": "2.7.6"
  }
 },
 "nbformat": 4,
 "nbformat_minor": 0
}