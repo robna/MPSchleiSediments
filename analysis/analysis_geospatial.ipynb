{
 "cells": [
  {
   "cell_type": "code",
   "execution_count": null,
   "metadata": {},
   "outputs": [],
   "source": [
    "%reload_ext autoreload\n",
    "%autoreload 2\n",
    "\n",
    "import numpy as np\n",
    "from scipy.interpolate import griddata\n",
    "import geopandas as gpd\n",
    "import pandas as pd\n",
    "import holoviews as hv\n",
    "hv.extension('bokeh')\n",
    "\n",
    "import prepare_data\n",
    "from settings import Config, target"
   ]
  },
  {
   "cell_type": "code",
   "execution_count": null,
   "metadata": {
    "collapsed": false,
    "jupyter": {
     "outputs_hidden": false
    },
    "pycharm": {
     "name": "#%% loading data\n"
    }
   },
   "outputs": [],
   "source": [
    "# What happened so far: DB extract and blank procedure. Now import resulting MP data from csv\n",
    "mp_pdd = prepare_data.get_pdd()\n",
    "\n",
    "# Also import sediment data (sediment frequencies per size bin from master sizer export)\n",
    "grainsize_iow, grainsize_cau, sed_lower_boundaries = prepare_data.get_grainsizes()\n",
    "\n",
    "# ...some data wrangling to prepare particle domain data and sample domain data for MP and combine with certain sediment aggregates.\n",
    "mp_sdd = prepare_data.aggregate_SDD(mp_pdd)\n",
    "sdd_iow = prepare_data.additional_sdd_merging(mp_sdd)\n",
    "sdd_cau = pd.read_csv('../data/Metadata_CAU_sampling_log.csv', index_col=0)"
   ]
  },
  {
   "cell_type": "code",
   "execution_count": null,
   "metadata": {},
   "outputs": [],
   "source": [
    "all_stations = pd.concat([sdd_iow[['Sample', 'LON', 'LAT', 'Depth']],sdd_cau.reset_index().drop('Date', axis=1)])\n",
    "# gdf = gpd.GeoDataFrame(all_stations, geometry=gpd.points_from_xy(all_stations['LON'], all_stations['LAT'], crs='EPSG:4326')).to_crs(\"EPSG:3857\")"
   ]
  },
  {
   "cell_type": "code",
   "execution_count": null,
   "metadata": {},
   "outputs": [],
   "source": [
    "\n",
    "gdf = gpd.GeoDataFrame(sdd_iow, geometry=gpd.points_from_xy(sdd_iow['LON'], sdd_iow['LAT'], crs='EPSG:4326')).to_crs(\"EPSG:3857\")"
   ]
  },
  {
   "cell_type": "code",
   "execution_count": null,
   "metadata": {},
   "outputs": [],
   "source": [
    "# create geodataframe from geojson file\n",
    "poly = gpd.read_file('../data/SchleiCoastline_from_OSM.geojson')"
   ]
  },
  {
   "cell_type": "code",
   "execution_count": null,
   "metadata": {},
   "outputs": [],
   "source": [
    "poly.plot()"
   ]
  },
  {
   "cell_type": "code",
   "execution_count": null,
   "metadata": {},
   "outputs": [],
   "source": [
    "gdf.to_crs(Config.baw_epsg, inplace=True)\n",
    "poly.to_crs(Config.baw_epsg, inplace=True)\n",
    "\n",
    "xres = yres = Config.interpolation_resolution\n",
    "xmin, ymin, xmax, ymax = poly.total_bounds\n",
    "xgrid, ygrid = np.meshgrid(np.arange(xmin, xmax + xres, xres), \n",
    "                           np.arange(ymin, ymax + yres, yres),\n",
    "                          )\n",
    "\n",
    "points = np.vstack((gdf.geometry.x, gdf.geometry.y)).T\n",
    "values = griddata(\n",
    "    points, gdf[target],\n",
    "    (xgrid, ygrid),\n",
    "    method=Config.interpolation_method,  # 'linear' and 'cubic' will result in nan outside of the convex hull of data points\n",
    ")\n",
    "\n",
    "# if nonan:\n",
    "nan_mask = np.isnan(values)  # if there are any nan points re-interpolate them using method 'nearest'\n",
    "if np.any(nan_mask):\n",
    "    values2 = griddata(\n",
    "        points, gdf[target],\n",
    "        (xgrid, ygrid), method='nearest',\n",
    "    )\n",
    "    values[nan_mask] = values2[nan_mask]\n",
    "\n",
    "clipped = gpd.GeoDataFrame({'value': values.ravel()}, \n",
    "                            geometry=gpd.points_from_xy(xgrid.ravel(), ygrid.ravel()),\n",
    "                            crs=Config.baw_epsg,\n",
    "                            )\n",
    "clipped = gpd.overlay(clipped, poly, how='intersection')\n",
    "clipped = clipped.loc[clipped.intersects(poly.geometry[0])]\n",
    "\n",
    "cell_areas = xres * yres\n",
    "total = (clipped['value'] * cell_areas).sum()"
   ]
  },
  {
   "cell_type": "code",
   "execution_count": null,
   "metadata": {},
   "outputs": [],
   "source": [
    "total"
   ]
  },
  {
   "cell_type": "code",
   "execution_count": null,
   "metadata": {},
   "outputs": [],
   "source": [
    "total / poly.area / 5"
   ]
  },
  {
   "cell_type": "code",
   "execution_count": null,
   "metadata": {},
   "outputs": [],
   "source": [
    "hv.Image(values, bounds=(xmin, ymin, xmax, ymax))"
   ]
  }
 ],
 "metadata": {
  "kernelspec": {
   "display_name": "Python 3.10.5 ('MPSchleiSediments-z4CtktJ9')",
   "language": "python",
   "name": "python3"
  },
  "language_info": {
   "codemirror_mode": {
    "name": "ipython",
    "version": 3
   },
   "file_extension": ".py",
   "mimetype": "text/x-python",
   "name": "python",
   "nbconvert_exporter": "python",
   "pygments_lexer": "ipython3",
   "version": "3.9.13"
  },
  "orig_nbformat": 4,
  "vscode": {
   "interpreter": {
    "hash": "82a31816b63c673b7463547b8d8376fc489f1e362f1a21f244a13819d6095661"
   }
  }
 },
 "nbformat": 4,
 "nbformat_minor": 2
}
